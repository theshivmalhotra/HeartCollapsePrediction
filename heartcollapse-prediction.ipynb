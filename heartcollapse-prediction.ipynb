{
 "cells": [
  {
   "cell_type": "markdown",
   "metadata": {
    "papermill": {
     "duration": 0.058823,
     "end_time": "2021-01-30T12:06:45.531860",
     "exception": false,
     "start_time": "2021-01-30T12:06:45.473037",
     "status": "completed"
    },
    "tags": []
   },
   "source": [
    "### Columns description\n",
    "\n",
    "1. anaemia:Decrease of red blood cells or hemoglobin (boolean)\n",
    "2. creatinine_phosphokinase:Level of the CPK enzyme in the blood (mcg/L)\n",
    "3. diabetes:If the patient has diabetes (boolean)\n",
    "4. ejection_fraction:Ejection fraction (EF) is a measurement, expressed as a percentage, of how much blood the left ventricle pumps out with each contraction\n",
    "5. high_blood_pressure:blood hypertension\n",
    "6. platelets:are a component of blood whose function (along with the coagulation factors)\n",
    "7. serum_creatinine:Serum creatinine is widely interpreted as a measure only of renal function\n",
    "8. serum_sodium: to see how much sodium is in your blood it is particularly important for nerve and muscle function.\n",
    "\n",
    "![](https://miro.medium.com/max/4420/1*HDphOMQdTsRUM-O4hudIWA.png)"
   ]
  },
  {
   "cell_type": "markdown",
   "metadata": {
    "papermill": {
     "duration": 0.056318,
     "end_time": "2021-01-30T12:06:45.644431",
     "exception": false,
     "start_time": "2021-01-30T12:06:45.588113",
     "status": "completed"
    },
    "tags": []
   },
   "source": [
    "# 1. import library"
   ]
  },
  {
   "cell_type": "code",
   "execution_count": 1,
   "metadata": {
    "_cell_guid": "b1076dfc-b9ad-4769-8c92-a6c4dae69d19",
    "_uuid": "8f2839f25d086af736a60e9eeb907d3b93b6e0e5",
    "execution": {
     "iopub.execute_input": "2021-01-30T12:06:45.766355Z",
     "iopub.status.busy": "2021-01-30T12:06:45.765420Z",
     "iopub.status.idle": "2021-01-30T12:06:47.997534Z",
     "shell.execute_reply": "2021-01-30T12:06:47.996787Z"
    },
    "papermill": {
     "duration": 2.296426,
     "end_time": "2021-01-30T12:06:47.997659",
     "exception": false,
     "start_time": "2021-01-30T12:06:45.701233",
     "status": "completed"
    },
    "tags": []
   },
   "outputs": [],
   "source": [
    "# manipulation data\n",
    "import pandas as pd\n",
    "import numpy as np\n",
    "\n",
    "#visualiation data\n",
    "import matplotlib.pyplot as plt\n",
    "import seaborn as sns \n",
    "import matplotlib\n",
    "import plotly.graph_objects as go\n",
    "import plotly.express as px\n",
    "\n",
    "#default theme\n",
    "sns.set(context='notebook', style='darkgrid', palette='colorblind', font='sans-serif', font_scale=1, rc=None)\n",
    "matplotlib.rcParams['figure.figsize'] =[8,8]\n",
    "matplotlib.rcParams.update({'font.size': 15})\n",
    "matplotlib.rcParams['font.family'] = 'sans-serif'"
   ]
  },
  {
   "cell_type": "markdown",
   "metadata": {
    "papermill": {
     "duration": 0.056359,
     "end_time": "2021-01-30T12:06:48.112283",
     "exception": false,
     "start_time": "2021-01-30T12:06:48.055924",
     "status": "completed"
    },
    "tags": []
   },
   "source": [
    "# 2. data analysis"
   ]
  },
  {
   "cell_type": "code",
   "execution_count": 2,
   "metadata": {
    "execution": {
     "iopub.execute_input": "2021-01-30T12:06:48.236617Z",
     "iopub.status.busy": "2021-01-30T12:06:48.235874Z",
     "iopub.status.idle": "2021-01-30T12:06:48.274544Z",
     "shell.execute_reply": "2021-01-30T12:06:48.273894Z"
    },
    "papermill": {
     "duration": 0.105077,
     "end_time": "2021-01-30T12:06:48.274667",
     "exception": false,
     "start_time": "2021-01-30T12:06:48.169590",
     "status": "completed"
    },
    "tags": []
   },
   "outputs": [
    {
     "data": {
      "text/html": [
       "<div>\n",
       "<style scoped>\n",
       "    .dataframe tbody tr th:only-of-type {\n",
       "        vertical-align: middle;\n",
       "    }\n",
       "\n",
       "    .dataframe tbody tr th {\n",
       "        vertical-align: top;\n",
       "    }\n",
       "\n",
       "    .dataframe thead th {\n",
       "        text-align: right;\n",
       "    }\n",
       "</style>\n",
       "<table border=\"1\" class=\"dataframe\">\n",
       "  <thead>\n",
       "    <tr style=\"text-align: right;\">\n",
       "      <th></th>\n",
       "      <th>age</th>\n",
       "      <th>anaemia</th>\n",
       "      <th>creatinine_phosphokinase</th>\n",
       "      <th>diabetes</th>\n",
       "      <th>ejection_fraction</th>\n",
       "      <th>high_blood_pressure</th>\n",
       "      <th>platelets</th>\n",
       "      <th>serum_creatinine</th>\n",
       "      <th>serum_sodium</th>\n",
       "      <th>sex</th>\n",
       "      <th>smoking</th>\n",
       "      <th>time</th>\n",
       "      <th>DEATH_EVENT</th>\n",
       "    </tr>\n",
       "  </thead>\n",
       "  <tbody>\n",
       "    <tr>\n",
       "      <th>0</th>\n",
       "      <td>75.0</td>\n",
       "      <td>0</td>\n",
       "      <td>582</td>\n",
       "      <td>0</td>\n",
       "      <td>20</td>\n",
       "      <td>1</td>\n",
       "      <td>265000.00</td>\n",
       "      <td>1.9</td>\n",
       "      <td>130</td>\n",
       "      <td>1</td>\n",
       "      <td>0</td>\n",
       "      <td>4</td>\n",
       "      <td>1</td>\n",
       "    </tr>\n",
       "    <tr>\n",
       "      <th>1</th>\n",
       "      <td>55.0</td>\n",
       "      <td>0</td>\n",
       "      <td>7861</td>\n",
       "      <td>0</td>\n",
       "      <td>38</td>\n",
       "      <td>0</td>\n",
       "      <td>263358.03</td>\n",
       "      <td>1.1</td>\n",
       "      <td>136</td>\n",
       "      <td>1</td>\n",
       "      <td>0</td>\n",
       "      <td>6</td>\n",
       "      <td>1</td>\n",
       "    </tr>\n",
       "    <tr>\n",
       "      <th>2</th>\n",
       "      <td>65.0</td>\n",
       "      <td>0</td>\n",
       "      <td>146</td>\n",
       "      <td>0</td>\n",
       "      <td>20</td>\n",
       "      <td>0</td>\n",
       "      <td>162000.00</td>\n",
       "      <td>1.3</td>\n",
       "      <td>129</td>\n",
       "      <td>1</td>\n",
       "      <td>1</td>\n",
       "      <td>7</td>\n",
       "      <td>1</td>\n",
       "    </tr>\n",
       "    <tr>\n",
       "      <th>3</th>\n",
       "      <td>50.0</td>\n",
       "      <td>1</td>\n",
       "      <td>111</td>\n",
       "      <td>0</td>\n",
       "      <td>20</td>\n",
       "      <td>0</td>\n",
       "      <td>210000.00</td>\n",
       "      <td>1.9</td>\n",
       "      <td>137</td>\n",
       "      <td>1</td>\n",
       "      <td>0</td>\n",
       "      <td>7</td>\n",
       "      <td>1</td>\n",
       "    </tr>\n",
       "    <tr>\n",
       "      <th>4</th>\n",
       "      <td>65.0</td>\n",
       "      <td>1</td>\n",
       "      <td>160</td>\n",
       "      <td>1</td>\n",
       "      <td>20</td>\n",
       "      <td>0</td>\n",
       "      <td>327000.00</td>\n",
       "      <td>2.7</td>\n",
       "      <td>116</td>\n",
       "      <td>0</td>\n",
       "      <td>0</td>\n",
       "      <td>8</td>\n",
       "      <td>1</td>\n",
       "    </tr>\n",
       "    <tr>\n",
       "      <th>5</th>\n",
       "      <td>90.0</td>\n",
       "      <td>1</td>\n",
       "      <td>47</td>\n",
       "      <td>0</td>\n",
       "      <td>40</td>\n",
       "      <td>1</td>\n",
       "      <td>204000.00</td>\n",
       "      <td>2.1</td>\n",
       "      <td>132</td>\n",
       "      <td>1</td>\n",
       "      <td>1</td>\n",
       "      <td>8</td>\n",
       "      <td>1</td>\n",
       "    </tr>\n",
       "  </tbody>\n",
       "</table>\n",
       "</div>"
      ],
      "text/plain": [
       "    age  anaemia  creatinine_phosphokinase  diabetes  ejection_fraction  \\\n",
       "0  75.0        0                       582         0                 20   \n",
       "1  55.0        0                      7861         0                 38   \n",
       "2  65.0        0                       146         0                 20   \n",
       "3  50.0        1                       111         0                 20   \n",
       "4  65.0        1                       160         1                 20   \n",
       "5  90.0        1                        47         0                 40   \n",
       "\n",
       "   high_blood_pressure  platelets  serum_creatinine  serum_sodium  sex  \\\n",
       "0                    1  265000.00               1.9           130    1   \n",
       "1                    0  263358.03               1.1           136    1   \n",
       "2                    0  162000.00               1.3           129    1   \n",
       "3                    0  210000.00               1.9           137    1   \n",
       "4                    0  327000.00               2.7           116    0   \n",
       "5                    1  204000.00               2.1           132    1   \n",
       "\n",
       "   smoking  time  DEATH_EVENT  \n",
       "0        0     4            1  \n",
       "1        0     6            1  \n",
       "2        1     7            1  \n",
       "3        0     7            1  \n",
       "4        0     8            1  \n",
       "5        1     8            1  "
      ]
     },
     "execution_count": 2,
     "metadata": {},
     "output_type": "execute_result"
    }
   ],
   "source": [
    "train = pd.read_csv('heart_collapse_dataset.csv')\n",
    "train.head(6)"
   ]
  },
  {
   "cell_type": "code",
   "execution_count": 3,
   "metadata": {
    "execution": {
     "iopub.execute_input": "2021-01-30T12:06:48.405529Z",
     "iopub.status.busy": "2021-01-30T12:06:48.404715Z",
     "iopub.status.idle": "2021-01-30T12:06:48.408761Z",
     "shell.execute_reply": "2021-01-30T12:06:48.409284Z"
    },
    "papermill": {
     "duration": 0.077081,
     "end_time": "2021-01-30T12:06:48.409443",
     "exception": false,
     "start_time": "2021-01-30T12:06:48.332362",
     "status": "completed"
    },
    "tags": []
   },
   "outputs": [
    {
     "name": "stdout",
     "output_type": "stream",
     "text": [
      "<class 'pandas.core.frame.DataFrame'>\n",
      "RangeIndex: 299 entries, 0 to 298\n",
      "Data columns (total 13 columns):\n",
      " #   Column                    Non-Null Count  Dtype  \n",
      "---  ------                    --------------  -----  \n",
      " 0   age                       299 non-null    float64\n",
      " 1   anaemia                   299 non-null    int64  \n",
      " 2   creatinine_phosphokinase  299 non-null    int64  \n",
      " 3   diabetes                  299 non-null    int64  \n",
      " 4   ejection_fraction         299 non-null    int64  \n",
      " 5   high_blood_pressure       299 non-null    int64  \n",
      " 6   platelets                 299 non-null    float64\n",
      " 7   serum_creatinine          299 non-null    float64\n",
      " 8   serum_sodium              299 non-null    int64  \n",
      " 9   sex                       299 non-null    int64  \n",
      " 10  smoking                   299 non-null    int64  \n",
      " 11  time                      299 non-null    int64  \n",
      " 12  DEATH_EVENT               299 non-null    int64  \n",
      "dtypes: float64(3), int64(10)\n",
      "memory usage: 30.5 KB\n"
     ]
    }
   ],
   "source": [
    "train.info()"
   ]
  },
  {
   "cell_type": "code",
   "execution_count": 4,
   "metadata": {
    "execution": {
     "iopub.execute_input": "2021-01-30T12:06:48.537503Z",
     "iopub.status.busy": "2021-01-30T12:06:48.536854Z",
     "iopub.status.idle": "2021-01-30T12:06:48.708995Z",
     "shell.execute_reply": "2021-01-30T12:06:48.708453Z"
    },
    "papermill": {
     "duration": 0.240229,
     "end_time": "2021-01-30T12:06:48.709112",
     "exception": false,
     "start_time": "2021-01-30T12:06:48.468883",
     "status": "completed"
    },
    "tags": []
   },
   "outputs": [
    {
     "data": {
      "image/png": "[encoded data removed]",
      "text/plain": [
       "<Figure size 576x576 with 1 Axes>"
      ]
     },
     "metadata": {},
     "output_type": "display_data"
    }
   ],
   "source": [
    "\n",
    "train.dtypes.value_counts().plot.pie(explode=[0.1,0.1],autopct='%1.1f%%',shadow=True)\n",
    "plt.title('type of our data');"
   ]
  },
  {
   "cell_type": "code",
   "execution_count": 5,
   "metadata": {
    "execution": {
     "iopub.execute_input": "2021-01-30T12:06:48.835832Z",
     "iopub.status.busy": "2021-01-30T12:06:48.834794Z",
     "iopub.status.idle": "2021-01-30T12:06:48.839259Z",
     "shell.execute_reply": "2021-01-30T12:06:48.838785Z"
    },
    "papermill": {
     "duration": 0.070222,
     "end_time": "2021-01-30T12:06:48.839387",
     "exception": false,
     "start_time": "2021-01-30T12:06:48.769165",
     "status": "completed"
    },
    "tags": []
   },
   "outputs": [
    {
     "data": {
      "text/plain": [
       "Index(['age', 'anaemia', 'creatinine_phosphokinase', 'diabetes',\n",
       "       'ejection_fraction', 'high_blood_pressure', 'platelets',\n",
       "       'serum_creatinine', 'serum_sodium', 'sex', 'smoking', 'time',\n",
       "       'DEATH_EVENT'],\n",
       "      dtype='object')"
      ]
     },
     "execution_count": 5,
     "metadata": {},
     "output_type": "execute_result"
    }
   ],
   "source": [
    "train.columns"
   ]
  },
  {
   "cell_type": "code",
   "execution_count": 6,
   "metadata": {
    "execution": {
     "iopub.execute_input": "2021-01-30T12:06:48.969630Z",
     "iopub.status.busy": "2021-01-30T12:06:48.968570Z",
     "iopub.status.idle": "2021-01-30T12:06:49.025525Z",
     "shell.execute_reply": "2021-01-30T12:06:49.026015Z"
    },
    "papermill": {
     "duration": 0.126544,
     "end_time": "2021-01-30T12:06:49.026172",
     "exception": false,
     "start_time": "2021-01-30T12:06:48.899628",
     "status": "completed"
    },
    "tags": []
   },
   "outputs": [
    {
     "data": {
      "text/html": [
       "<div>\n",
       "<style scoped>\n",
       "    .dataframe tbody tr th:only-of-type {\n",
       "        vertical-align: middle;\n",
       "    }\n",
       "\n",
       "    .dataframe tbody tr th {\n",
       "        vertical-align: top;\n",
       "    }\n",
       "\n",
       "    .dataframe thead th {\n",
       "        text-align: right;\n",
       "    }\n",
       "</style>\n",
       "<table border=\"1\" class=\"dataframe\">\n",
       "  <thead>\n",
       "    <tr style=\"text-align: right;\">\n",
       "      <th></th>\n",
       "      <th>age</th>\n",
       "      <th>anaemia</th>\n",
       "      <th>creatinine_phosphokinase</th>\n",
       "      <th>diabetes</th>\n",
       "      <th>ejection_fraction</th>\n",
       "      <th>high_blood_pressure</th>\n",
       "      <th>platelets</th>\n",
       "      <th>serum_creatinine</th>\n",
       "      <th>serum_sodium</th>\n",
       "      <th>sex</th>\n",
       "      <th>smoking</th>\n",
       "      <th>time</th>\n",
       "      <th>DEATH_EVENT</th>\n",
       "    </tr>\n",
       "  </thead>\n",
       "  <tbody>\n",
       "    <tr>\n",
       "      <th>count</th>\n",
       "      <td>299.000000</td>\n",
       "      <td>299.000000</td>\n",
       "      <td>299.000000</td>\n",
       "      <td>299.000000</td>\n",
       "      <td>299.000000</td>\n",
       "      <td>299.000000</td>\n",
       "      <td>299.000000</td>\n",
       "      <td>299.00000</td>\n",
       "      <td>299.000000</td>\n",
       "      <td>299.000000</td>\n",
       "      <td>299.00000</td>\n",
       "      <td>299.000000</td>\n",
       "      <td>299.00000</td>\n",
       "    </tr>\n",
       "    <tr>\n",
       "      <th>mean</th>\n",
       "      <td>60.833893</td>\n",
       "      <td>0.431438</td>\n",
       "      <td>581.839465</td>\n",
       "      <td>0.418060</td>\n",
       "      <td>38.083612</td>\n",
       "      <td>0.351171</td>\n",
       "      <td>263358.029264</td>\n",
       "      <td>1.39388</td>\n",
       "      <td>136.625418</td>\n",
       "      <td>0.648829</td>\n",
       "      <td>0.32107</td>\n",
       "      <td>130.260870</td>\n",
       "      <td>0.32107</td>\n",
       "    </tr>\n",
       "    <tr>\n",
       "      <th>std</th>\n",
       "      <td>11.894809</td>\n",
       "      <td>0.496107</td>\n",
       "      <td>970.287881</td>\n",
       "      <td>0.494067</td>\n",
       "      <td>11.834841</td>\n",
       "      <td>0.478136</td>\n",
       "      <td>97804.236869</td>\n",
       "      <td>1.03451</td>\n",
       "      <td>4.412477</td>\n",
       "      <td>0.478136</td>\n",
       "      <td>0.46767</td>\n",
       "      <td>77.614208</td>\n",
       "      <td>0.46767</td>\n",
       "    </tr>\n",
       "    <tr>\n",
       "      <th>min</th>\n",
       "      <td>40.000000</td>\n",
       "      <td>0.000000</td>\n",
       "      <td>23.000000</td>\n",
       "      <td>0.000000</td>\n",
       "      <td>14.000000</td>\n",
       "      <td>0.000000</td>\n",
       "      <td>25100.000000</td>\n",
       "      <td>0.50000</td>\n",
       "      <td>113.000000</td>\n",
       "      <td>0.000000</td>\n",
       "      <td>0.00000</td>\n",
       "      <td>4.000000</td>\n",
       "      <td>0.00000</td>\n",
       "    </tr>\n",
       "    <tr>\n",
       "      <th>25%</th>\n",
       "      <td>51.000000</td>\n",
       "      <td>0.000000</td>\n",
       "      <td>116.500000</td>\n",
       "      <td>0.000000</td>\n",
       "      <td>30.000000</td>\n",
       "      <td>0.000000</td>\n",
       "      <td>212500.000000</td>\n",
       "      <td>0.90000</td>\n",
       "      <td>134.000000</td>\n",
       "      <td>0.000000</td>\n",
       "      <td>0.00000</td>\n",
       "      <td>73.000000</td>\n",
       "      <td>0.00000</td>\n",
       "    </tr>\n",
       "    <tr>\n",
       "      <th>50%</th>\n",
       "      <td>60.000000</td>\n",
       "      <td>0.000000</td>\n",
       "      <td>250.000000</td>\n",
       "      <td>0.000000</td>\n",
       "      <td>38.000000</td>\n",
       "      <td>0.000000</td>\n",
       "      <td>262000.000000</td>\n",
       "      <td>1.10000</td>\n",
       "      <td>137.000000</td>\n",
       "      <td>1.000000</td>\n",
       "      <td>0.00000</td>\n",
       "      <td>115.000000</td>\n",
       "      <td>0.00000</td>\n",
       "    </tr>\n",
       "    <tr>\n",
       "      <th>75%</th>\n",
       "      <td>70.000000</td>\n",
       "      <td>1.000000</td>\n",
       "      <td>582.000000</td>\n",
       "      <td>1.000000</td>\n",
       "      <td>45.000000</td>\n",
       "      <td>1.000000</td>\n",
       "      <td>303500.000000</td>\n",
       "      <td>1.40000</td>\n",
       "      <td>140.000000</td>\n",
       "      <td>1.000000</td>\n",
       "      <td>1.00000</td>\n",
       "      <td>203.000000</td>\n",
       "      <td>1.00000</td>\n",
       "    </tr>\n",
       "    <tr>\n",
       "      <th>max</th>\n",
       "      <td>95.000000</td>\n",
       "      <td>1.000000</td>\n",
       "      <td>7861.000000</td>\n",
       "      <td>1.000000</td>\n",
       "      <td>80.000000</td>\n",
       "      <td>1.000000</td>\n",
       "      <td>850000.000000</td>\n",
       "      <td>9.40000</td>\n",
       "      <td>148.000000</td>\n",
       "      <td>1.000000</td>\n",
       "      <td>1.00000</td>\n",
       "      <td>285.000000</td>\n",
       "      <td>1.00000</td>\n",
       "    </tr>\n",
       "  </tbody>\n",
       "</table>\n",
       "</div>"
      ],
      "text/plain": [
       "              age     anaemia  creatinine_phosphokinase    diabetes  \\\n",
       "count  299.000000  299.000000                299.000000  299.000000   \n",
       "mean    60.833893    0.431438                581.839465    0.418060   \n",
       "std     11.894809    0.496107                970.287881    0.494067   \n",
       "min     40.000000    0.000000                 23.000000    0.000000   \n",
       "25%     51.000000    0.000000                116.500000    0.000000   \n",
       "50%     60.000000    0.000000                250.000000    0.000000   \n",
       "75%     70.000000    1.000000                582.000000    1.000000   \n",
       "max     95.000000    1.000000               7861.000000    1.000000   \n",
       "\n",
       "       ejection_fraction  high_blood_pressure      platelets  \\\n",
       "count         299.000000           299.000000     299.000000   \n",
       "mean           38.083612             0.351171  263358.029264   \n",
       "std            11.834841             0.478136   97804.236869   \n",
       "min            14.000000             0.000000   25100.000000   \n",
       "25%            30.000000             0.000000  212500.000000   \n",
       "50%            38.000000             0.000000  262000.000000   \n",
       "75%            45.000000             1.000000  303500.000000   \n",
       "max            80.000000             1.000000  850000.000000   \n",
       "\n",
       "       serum_creatinine  serum_sodium         sex    smoking        time  \\\n",
       "count         299.00000    299.000000  299.000000  299.00000  299.000000   \n",
       "mean            1.39388    136.625418    0.648829    0.32107  130.260870   \n",
       "std             1.03451      4.412477    0.478136    0.46767   77.614208   \n",
       "min             0.50000    113.000000    0.000000    0.00000    4.000000   \n",
       "25%             0.90000    134.000000    0.000000    0.00000   73.000000   \n",
       "50%             1.10000    137.000000    1.000000    0.00000  115.000000   \n",
       "75%             1.40000    140.000000    1.000000    1.00000  203.000000   \n",
       "max             9.40000    148.000000    1.000000    1.00000  285.000000   \n",
       "\n",
       "       DEATH_EVENT  \n",
       "count    299.00000  \n",
       "mean       0.32107  \n",
       "std        0.46767  \n",
       "min        0.00000  \n",
       "25%        0.00000  \n",
       "50%        0.00000  \n",
       "75%        1.00000  \n",
       "max        1.00000  "
      ]
     },
     "execution_count": 6,
     "metadata": {},
     "output_type": "execute_result"
    }
   ],
   "source": [
    "train.describe()"
   ]
  },
  {
   "cell_type": "markdown",
   "metadata": {
    "papermill": {
     "duration": 0.064015,
     "end_time": "2021-01-30T12:06:49.165155",
     "exception": false,
     "start_time": "2021-01-30T12:06:49.101140",
     "status": "completed"
    },
    "tags": []
   },
   "source": [
    "# 3. finding missing values"
   ]
  },
  {
   "cell_type": "code",
   "execution_count": 7,
   "metadata": {
    "execution": {
     "iopub.execute_input": "2021-01-30T12:06:49.291957Z",
     "iopub.status.busy": "2021-01-30T12:06:49.291167Z",
     "iopub.status.idle": "2021-01-30T12:06:49.296614Z",
     "shell.execute_reply": "2021-01-30T12:06:49.297097Z"
    },
    "papermill": {
     "duration": 0.071384,
     "end_time": "2021-01-30T12:06:49.297259",
     "exception": false,
     "start_time": "2021-01-30T12:06:49.225875",
     "status": "completed"
    },
    "tags": []
   },
   "outputs": [
    {
     "data": {
      "text/plain": [
       "age                         0\n",
       "anaemia                     0\n",
       "creatinine_phosphokinase    0\n",
       "diabetes                    0\n",
       "ejection_fraction           0\n",
       "high_blood_pressure         0\n",
       "platelets                   0\n",
       "serum_creatinine            0\n",
       "serum_sodium                0\n",
       "sex                         0\n",
       "smoking                     0\n",
       "time                        0\n",
       "DEATH_EVENT                 0\n",
       "dtype: int64"
      ]
     },
     "execution_count": 7,
     "metadata": {},
     "output_type": "execute_result"
    }
   ],
   "source": [
    "train.isnull().sum()"
   ]
  },
  {
   "cell_type": "markdown",
   "metadata": {
    "papermill": {
     "duration": 0.061255,
     "end_time": "2021-01-30T12:06:49.420181",
     "exception": false,
     "start_time": "2021-01-30T12:06:49.358926",
     "status": "completed"
    },
    "tags": []
   },
   "source": [
    "# 4. visualization"
   ]
  },
  {
   "cell_type": "code",
   "execution_count": 8,
   "metadata": {
    "execution": {
     "iopub.execute_input": "2021-01-30T12:06:49.547349Z",
     "iopub.status.busy": "2021-01-30T12:06:49.546732Z",
     "iopub.status.idle": "2021-01-30T12:06:53.003408Z",
     "shell.execute_reply": "2021-01-30T12:06:53.004146Z"
    },
    "papermill": {
     "duration": 3.522841,
     "end_time": "2021-01-30T12:06:53.004320",
     "exception": false,
     "start_time": "2021-01-30T12:06:49.481479",
     "status": "completed"
    },
    "tags": []
   },
   "outputs": [
    {
     "data": {
      "image/png": "[encoded data removed]",
      "text/plain": [
       "<Figure size 1080x1080 with 16 Axes>"
      ]
     },
     "metadata": {},
     "output_type": "display_data"
    }
   ],
   "source": [
    "train.hist(figsize=(15,15),edgecolor='black');"
   ]
  },
  {
   "cell_type": "markdown",
   "metadata": {
    "papermill": {
     "duration": 0.06491,
     "end_time": "2021-01-30T12:06:53.135346",
     "exception": false,
     "start_time": "2021-01-30T12:06:53.070436",
     "status": "completed"
    },
    "tags": []
   },
   "source": [
    "### death events"
   ]
  },
  {
   "cell_type": "code",
   "execution_count": 9,
   "metadata": {
    "execution": {
     "iopub.execute_input": "2021-01-30T12:06:53.271610Z",
     "iopub.status.busy": "2021-01-30T12:06:53.270513Z",
     "iopub.status.idle": "2021-01-30T12:06:53.356917Z",
     "shell.execute_reply": "2021-01-30T12:06:53.357393Z"
    },
    "papermill": {
     "duration": 0.15708,
     "end_time": "2021-01-30T12:06:53.357549",
     "exception": false,
     "start_time": "2021-01-30T12:06:53.200469",
     "status": "completed"
    },
    "tags": []
   },
   "outputs": [
    {
     "data": {
      "text/plain": [
       "Text(0.5, 1.0, 'the % of deaths')"
      ]
     },
     "execution_count": 9,
     "metadata": {},
     "output_type": "execute_result"
    },
    {
     "data": {
      "image/png": "[encoded data removed]",
      "text/plain": [
       "<Figure size 576x576 with 1 Axes>"
      ]
     },
     "metadata": {},
     "output_type": "display_data"
    }
   ],
   "source": [
    "train.DEATH_EVENT.value_counts().plot.pie(explode=[0.1,0.1],autopct='%1.1f%%',shadow=True)\n",
    "plt.title('the % of deaths')"
   ]
  },
  {
   "cell_type": "markdown",
   "metadata": {
    "papermill": {
     "duration": 0.066103,
     "end_time": "2021-01-30T12:06:53.492488",
     "exception": false,
     "start_time": "2021-01-30T12:06:53.426385",
     "status": "completed"
    },
    "tags": []
   },
   "source": [
    "### Age"
   ]
  },
  {
   "cell_type": "code",
   "execution_count": 10,
   "metadata": {
    "execution": {
     "iopub.execute_input": "2021-01-30T12:06:53.632687Z",
     "iopub.status.busy": "2021-01-30T12:06:53.631647Z",
     "iopub.status.idle": "2021-01-30T12:06:54.351108Z",
     "shell.execute_reply": "2021-01-30T12:06:54.351599Z"
    },
    "papermill": {
     "duration": 0.788711,
     "end_time": "2021-01-30T12:06:54.351754",
     "exception": false,
     "start_time": "2021-01-30T12:06:53.563043",
     "status": "completed"
    },
    "tags": []
   },
   "outputs": [
    {
     "data": {
      "text/plain": [
       "Text(0.5, 1.0, 'the ages of our persone')"
      ]
     },
     "execution_count": 10,
     "metadata": {},
     "output_type": "execute_result"
    },
    {
     "data": {
      "image/png": "[encoded data removed]",
      "text/plain": [
       "<Figure size 1440x432 with 1 Axes>"
      ]
     },
     "metadata": {},
     "output_type": "display_data"
    }
   ],
   "source": [
    "plt.figure(figsize=(20,6))\n",
    "sns.countplot(x='age',data=train)\n",
    "plt.xticks(rotation=90)\n",
    "plt.title('the ages of our persone')"
   ]
  },
  {
   "cell_type": "code",
   "execution_count": 11,
   "metadata": {
    "execution": {
     "iopub.execute_input": "2021-01-30T12:06:54.488245Z",
     "iopub.status.busy": "2021-01-30T12:06:54.487231Z",
     "iopub.status.idle": "2021-01-30T12:06:54.954249Z",
     "shell.execute_reply": "2021-01-30T12:06:54.954790Z"
    },
    "papermill": {
     "duration": 0.537275,
     "end_time": "2021-01-30T12:06:54.954942",
     "exception": false,
     "start_time": "2021-01-30T12:06:54.417667",
     "status": "completed"
    },
    "tags": []
   },
   "outputs": [
    {
     "data": {
      "text/html": [
       "        <script type=\"text/javascript\">\n",
       "        window.PlotlyConfig = {MathJaxConfig: 'local'};\n",
       "        if (window.MathJax) {MathJax.Hub.Config({SVG: {font: \"STIX-Web\"}});}\n",
       "        if (typeof require !== 'undefined') {\n",
       "        require.undef(\"plotly\");\n",
       "        requirejs.config({\n",
       "            paths: {\n",
       "                'plotly': ['https://cdn.plot.ly/plotly-latest.min']\n",
       "            }\n",
       "        });\n",
       "        require(['plotly'], function(Plotly) {\n",
       "            window._Plotly = Plotly;\n",
       "        });\n",
       "        }\n",
       "        </script>\n",
       "        "
      ]
     },
     "metadata": {},
     "output_type": "display_data"
    },
    {
     "data": {
      "text/html": [
       "<div>                            <div id=\"f38fdb76-29a3-4eb4-be6a-ca9aa83a2a83\" class=\"plotly-graph-div\" style=\"height:525px; width:100%;\"></div>            <script type=\"text/javascript\">                require([\"plotly\"], function(Plotly) {                    window.PLOTLYENV=window.PLOTLYENV || {};                                    if (document.getElementById(\"f38fdb76-29a3-4eb4-be6a-ca9aa83a2a83\")) {                    Plotly.newPlot(                        \"f38fdb76-29a3-4eb4-be6a-ca9aa83a2a83\",                        [{\"marker\": {\"color\": \"#e8ab60\"}, \"opacity\": 1, \"type\": \"histogram\", \"x\": [75.0, 55.0, 65.0, 50.0, 65.0, 90.0, 75.0, 60.0, 65.0, 80.0, 75.0, 62.0, 45.0, 50.0, 49.0, 82.0, 87.0, 45.0, 70.0, 48.0, 65.0, 65.0, 68.0, 53.0, 75.0, 80.0, 95.0, 70.0, 58.0, 82.0, 94.0, 85.0, 50.0, 50.0, 65.0, 69.0, 90.0, 82.0, 60.0, 60.0, 70.0, 50.0, 70.0, 72.0, 60.0, 50.0, 51.0, 60.0, 80.0, 57.0, 68.0, 53.0, 60.0, 70.0, 60.0, 95.0, 70.0, 60.0, 49.0, 72.0, 45.0, 50.0, 55.0, 45.0, 45.0, 60.0, 42.0, 72.0, 70.0, 65.0, 41.0, 58.0, 85.0, 65.0, 69.0, 60.0, 70.0, 42.0, 75.0, 55.0, 70.0, 67.0, 60.0, 79.0, 59.0, 51.0, 55.0, 65.0, 44.0, 57.0, 70.0, 60.0, 42.0, 60.0, 58.0, 58.0, 63.0, 70.0, 60.0, 63.0, 65.0, 75.0, 80.0, 42.0, 60.0, 72.0, 55.0, 45.0, 63.0, 45.0, 85.0, 55.0, 50.0, 70.0, 60.0, 58.0, 60.0, 85.0, 65.0, 86.0, 60.0, 66.0, 60.0, 60.0, 60.0, 43.0, 46.0, 58.0, 61.0, 53.0, 53.0, 60.0, 46.0, 63.0, 81.0, 75.0, 65.0, 68.0, 62.0, 50.0, 80.0, 46.0, 50.0, 61.0, 72.0, 50.0, 52.0, 64.0, 75.0, 60.0, 72.0, 62.0, 50.0, 50.0, 65.0, 60.0, 52.0, 50.0, 85.0, 59.0, 66.0, 45.0, 63.0, 50.0, 45.0, 80.0, 53.0, 59.0, 65.0, 70.0, 51.0, 52.0, 70.0, 50.0, 65.0, 60.0, 69.0, 49.0, 63.0, 55.0, 40.0, 59.0, 65.0, 75.0, 58.0, 60.667, 50.0, 60.0, 60.667, 40.0, 80.0, 64.0, 50.0, 73.0, 45.0, 77.0, 45.0, 65.0, 50.0, 60.0, 63.0, 45.0, 70.0, 60.0, 78.0, 50.0, 40.0, 85.0, 60.0, 49.0, 70.0, 50.0, 78.0, 48.0, 65.0, 73.0, 70.0, 54.0, 68.0, 55.0, 73.0, 65.0, 42.0, 47.0, 58.0, 75.0, 58.0, 55.0, 65.0, 72.0, 60.0, 70.0, 40.0, 53.0, 53.0, 77.0, 75.0, 70.0, 65.0, 55.0, 70.0, 65.0, 40.0, 73.0, 54.0, 61.0, 55.0, 64.0, 40.0, 53.0, 50.0, 55.0, 50.0, 70.0, 53.0, 52.0, 65.0, 58.0, 45.0, 53.0, 55.0, 62.0, 65.0, 68.0, 61.0, 50.0, 55.0, 56.0, 45.0, 40.0, 44.0, 51.0, 67.0, 42.0, 60.0, 45.0, 70.0, 70.0, 50.0, 55.0, 70.0, 70.0, 42.0, 65.0, 50.0, 55.0, 60.0, 45.0, 65.0, 90.0, 45.0, 60.0, 52.0, 63.0, 62.0, 55.0, 45.0, 45.0, 50.0], \"xbins\": {\"end\": 95, \"size\": 2, \"start\": 40}}],                        {\"bargap\": 0.05, \"template\": {\"data\": {\"pie\": [{\"automargin\": true, \"type\": \"pie\"}], \"scatter\": [{\"line\": {\"width\": 3}, \"marker\": {\"size\": 9}, \"type\": \"scatter\"}], \"scatter3d\": [{\"line\": {\"width\": 3}, \"marker\": {\"size\": 9}, \"type\": \"scatter3d\"}], \"scattergeo\": [{\"line\": {\"width\": 3}, \"marker\": {\"size\": 9}, \"type\": \"scattergeo\"}], \"scattergl\": [{\"line\": {\"width\": 3}, \"marker\": {\"size\": 9}, \"type\": \"scattergl\"}], \"scatterpolar\": [{\"line\": {\"width\": 3}, \"marker\": {\"size\": 9}, \"type\": \"scatterpolar\"}], \"scatterpolargl\": [{\"line\": {\"width\": 3}, \"marker\": {\"size\": 9}, \"type\": \"scatterpolargl\"}], \"scatterternary\": [{\"line\": {\"width\": 3}, \"marker\": {\"size\": 9}, \"type\": \"scatterternary\"}], \"table\": [{\"cells\": {\"height\": 30}, \"header\": {\"height\": 36}, \"type\": \"table\"}]}, \"layout\": {\"font\": {\"size\": 18}, \"xaxis\": {\"title\": {\"standoff\": 15}}, \"yaxis\": {\"title\": {\"standoff\": 15}}}}, \"title\": {\"text\": \"Distribution of Age\"}, \"xaxis\": {\"showgrid\": false, \"title\": {\"text\": \"AGE\"}}, \"yaxis\": {\"showgrid\": false, \"title\": {\"text\": \"COUNT\"}}},                        {\"responsive\": true}                    ).then(function(){\n",
       "                            \n",
       "var gd = document.getElementById('f38fdb76-29a3-4eb4-be6a-ca9aa83a2a83');\n",
       "var x = new MutationObserver(function (mutations, observer) {{\n",
       "        var display = window.getComputedStyle(gd).display;\n",
       "        if (!display || display === 'none') {{\n",
       "            console.log([gd, 'removed!']);\n",
       "            Plotly.purge(gd);\n",
       "            observer.disconnect();\n",
       "        }}\n",
       "}});\n",
       "\n",
       "// Listen for the removal of the full notebook cells\n",
       "var notebookContainer = gd.closest('#notebook-container');\n",
       "if (notebookContainer) {{\n",
       "    x.observe(notebookContainer, {childList: true});\n",
       "}}\n",
       "\n",
       "// Listen for the clearing of the current output cell\n",
       "var outputEl = gd.closest('.output');\n",
       "if (outputEl) {{\n",
       "    x.observe(outputEl, {childList: true});\n",
       "}}\n",
       "\n",
       "                        })                };                });            </script>        </div>"
      ]
     },
     "metadata": {},
     "output_type": "display_data"
    }
   ],
   "source": [
    "# Distribution of Age\n",
    "\n",
    "\n",
    "fig = go.Figure()\n",
    "fig.add_trace(go.Histogram(\n",
    "    x = train['age'],\n",
    "    xbins=dict( # bins used for histogram\n",
    "        start=40,\n",
    "        end=95,\n",
    "        size=2\n",
    "    ),\n",
    "    marker_color='#e8ab60',\n",
    "    opacity=1\n",
    "))\n",
    "\n",
    "fig.update_layout(\n",
    "    title_text='Distribution of Age',\n",
    "    xaxis_title_text='AGE',\n",
    "    yaxis_title_text='COUNT', \n",
    "    bargap=0.05, # gap between bars of adjacent location coordinates\n",
    "    xaxis =  {'showgrid': False },\n",
    "    yaxis = {'showgrid': False },\n",
    "    template = 'presentation'\n",
    ")\n",
    "\n",
    "fig.show()"
   ]
  },
  {
   "cell_type": "code",
   "execution_count": 12,
   "metadata": {
    "execution": {
     "iopub.execute_input": "2021-01-30T12:06:55.099103Z",
     "iopub.status.busy": "2021-01-30T12:06:55.098430Z",
     "iopub.status.idle": "2021-01-30T12:06:56.126641Z",
     "shell.execute_reply": "2021-01-30T12:06:56.127256Z"
    },
    "papermill": {
     "duration": 1.104281,
     "end_time": "2021-01-30T12:06:56.127453",
     "exception": false,
     "start_time": "2021-01-30T12:06:55.023172",
     "status": "completed"
    },
    "tags": []
   },
   "outputs": [
    {
     "data": {
      "text/html": [
       "<div>                            <div id=\"b0c53201-3a0d-4881-acfc-d256c292168e\" class=\"plotly-graph-div\" style=\"height:525px; width:100%;\"></div>            <script type=\"text/javascript\">                require([\"plotly\"], function(Plotly) {                    window.PLOTLYENV=window.PLOTLYENV || {};                                    if (document.getElementById(\"b0c53201-3a0d-4881-acfc-d256c292168e\")) {                    Plotly.newPlot(                        \"b0c53201-3a0d-4881-acfc-d256c292168e\",                        [{\"alignmentgroup\": \"True\", \"bingroup\": \"x\", \"hovertemplate\": \"DEATH_EVENT=1<br>AGE=%{x}<br>count=%{y}<extra></extra>\", \"legendgroup\": \"1\", \"marker\": {\"color\": \"#636efa\"}, \"name\": \"1\", \"offsetgroup\": \"1\", \"orientation\": \"v\", \"showlegend\": true, \"type\": \"histogram\", \"x\": [75.0, 55.0, 65.0, 50.0, 65.0, 90.0, 75.0, 60.0, 65.0, 80.0, 75.0, 62.0, 45.0, 50.0, 82.0, 87.0, 45.0, 70.0, 48.0, 65.0, 68.0, 75.0, 80.0, 95.0, 70.0, 58.0, 82.0, 94.0, 85.0, 50.0, 65.0, 69.0, 90.0, 82.0, 60.0, 70.0, 50.0, 70.0, 60.0, 50.0, 51.0, 60.0, 80.0, 57.0, 68.0, 53.0, 60.0, 70.0, 60.0, 95.0, 49.0, 72.0, 45.0, 50.0, 45.0, 60.0, 42.0, 72.0, 70.0, 65.0, 85.0, 69.0, 60.0, 60.0, 59.0, 60.0, 72.0, 85.0, 70.0, 86.0, 60.0, 46.0, 80.0, 72.0, 75.0, 72.0, 50.0, 45.0, 80.0, 59.0, 59.0, 65.0, 75.0, 58.0, 60.667, 50.0, 60.0, 45.0, 77.0, 48.0, 54.0, 73.0, 60.0, 55.0, 65.0, 55.0], \"xaxis\": \"x\", \"yaxis\": \"y\"}, {\"alignmentgroup\": \"True\", \"customdata\": [[75.0, 0.0, 582.0, 0.0, 20.0, 1.0, 265000.0, 1.9, 130.0, 1.0, 0.0, 4.0, 1.0], [55.0, 0.0, 7861.0, 0.0, 38.0, 0.0, 263358.03, 1.1, 136.0, 1.0, 0.0, 6.0, 1.0], [65.0, 0.0, 146.0, 0.0, 20.0, 0.0, 162000.0, 1.3, 129.0, 1.0, 1.0, 7.0, 1.0], [50.0, 1.0, 111.0, 0.0, 20.0, 0.0, 210000.0, 1.9, 137.0, 1.0, 0.0, 7.0, 1.0], [65.0, 1.0, 160.0, 1.0, 20.0, 0.0, 327000.0, 2.7, 116.0, 0.0, 0.0, 8.0, 1.0], [90.0, 1.0, 47.0, 0.0, 40.0, 1.0, 204000.0, 2.1, 132.0, 1.0, 1.0, 8.0, 1.0], [75.0, 1.0, 246.0, 0.0, 15.0, 0.0, 127000.0, 1.2, 137.0, 1.0, 0.0, 10.0, 1.0], [60.0, 1.0, 315.0, 1.0, 60.0, 0.0, 454000.0, 1.1, 131.0, 1.0, 1.0, 10.0, 1.0], [65.0, 0.0, 157.0, 0.0, 65.0, 0.0, 263358.03, 1.5, 138.0, 0.0, 0.0, 10.0, 1.0], [80.0, 1.0, 123.0, 0.0, 35.0, 1.0, 388000.0, 9.4, 133.0, 1.0, 1.0, 10.0, 1.0], [75.0, 1.0, 81.0, 0.0, 38.0, 1.0, 368000.0, 4.0, 131.0, 1.0, 1.0, 10.0, 1.0], [62.0, 0.0, 231.0, 0.0, 25.0, 1.0, 253000.0, 0.9, 140.0, 1.0, 1.0, 10.0, 1.0], [45.0, 1.0, 981.0, 0.0, 30.0, 0.0, 136000.0, 1.1, 137.0, 1.0, 0.0, 11.0, 1.0], [50.0, 1.0, 168.0, 0.0, 38.0, 1.0, 276000.0, 1.1, 137.0, 1.0, 0.0, 11.0, 1.0], [82.0, 1.0, 379.0, 0.0, 50.0, 0.0, 47000.0, 1.3, 136.0, 1.0, 0.0, 13.0, 1.0], [87.0, 1.0, 149.0, 0.0, 38.0, 0.0, 262000.0, 0.9, 140.0, 1.0, 0.0, 14.0, 1.0], [45.0, 0.0, 582.0, 0.0, 14.0, 0.0, 166000.0, 0.8, 127.0, 1.0, 0.0, 14.0, 1.0], [70.0, 1.0, 125.0, 0.0, 25.0, 1.0, 237000.0, 1.0, 140.0, 0.0, 0.0, 15.0, 1.0], [48.0, 1.0, 582.0, 1.0, 55.0, 0.0, 87000.0, 1.9, 121.0, 0.0, 0.0, 15.0, 1.0], [65.0, 1.0, 128.0, 1.0, 30.0, 1.0, 297000.0, 1.6, 136.0, 0.0, 0.0, 20.0, 1.0], [68.0, 1.0, 220.0, 0.0, 35.0, 1.0, 289000.0, 0.9, 140.0, 1.0, 1.0, 20.0, 1.0], [75.0, 0.0, 582.0, 1.0, 30.0, 1.0, 263358.03, 1.83, 134.0, 0.0, 0.0, 23.0, 1.0], [80.0, 0.0, 148.0, 1.0, 38.0, 0.0, 149000.0, 1.9, 144.0, 1.0, 1.0, 23.0, 1.0], [95.0, 1.0, 112.0, 0.0, 40.0, 1.0, 196000.0, 1.0, 138.0, 0.0, 0.0, 24.0, 1.0], [70.0, 0.0, 122.0, 1.0, 45.0, 1.0, 284000.0, 1.3, 136.0, 1.0, 1.0, 26.0, 1.0], [58.0, 1.0, 60.0, 0.0, 38.0, 0.0, 153000.0, 5.8, 134.0, 1.0, 0.0, 26.0, 1.0], [82.0, 0.0, 70.0, 1.0, 30.0, 0.0, 200000.0, 1.2, 132.0, 1.0, 1.0, 26.0, 1.0], [94.0, 0.0, 582.0, 1.0, 38.0, 1.0, 263358.03, 1.83, 134.0, 1.0, 0.0, 27.0, 1.0], [85.0, 0.0, 23.0, 0.0, 45.0, 0.0, 360000.0, 3.0, 132.0, 1.0, 0.0, 28.0, 1.0], [50.0, 1.0, 249.0, 1.0, 35.0, 1.0, 319000.0, 1.0, 128.0, 0.0, 0.0, 28.0, 1.0], [65.0, 0.0, 94.0, 1.0, 50.0, 1.0, 188000.0, 1.0, 140.0, 1.0, 0.0, 29.0, 1.0], [69.0, 0.0, 582.0, 1.0, 35.0, 0.0, 228000.0, 3.5, 134.0, 1.0, 0.0, 30.0, 1.0], [90.0, 1.0, 60.0, 1.0, 50.0, 0.0, 226000.0, 1.0, 134.0, 1.0, 0.0, 30.0, 1.0], [82.0, 1.0, 855.0, 1.0, 50.0, 1.0, 321000.0, 1.0, 145.0, 0.0, 0.0, 30.0, 1.0], [60.0, 0.0, 235.0, 1.0, 38.0, 0.0, 329000.0, 3.0, 142.0, 0.0, 0.0, 30.0, 1.0], [70.0, 0.0, 582.0, 0.0, 20.0, 1.0, 263358.03, 1.83, 134.0, 1.0, 1.0, 31.0, 1.0], [50.0, 0.0, 124.0, 1.0, 30.0, 1.0, 153000.0, 1.2, 136.0, 0.0, 1.0, 32.0, 1.0], [70.0, 0.0, 571.0, 1.0, 45.0, 1.0, 185000.0, 1.2, 139.0, 1.0, 1.0, 33.0, 1.0], [60.0, 1.0, 588.0, 1.0, 60.0, 0.0, 194000.0, 1.1, 142.0, 0.0, 0.0, 33.0, 1.0], [50.0, 0.0, 582.0, 1.0, 38.0, 0.0, 310000.0, 1.9, 135.0, 1.0, 1.0, 35.0, 1.0], [51.0, 0.0, 1380.0, 0.0, 25.0, 1.0, 271000.0, 0.9, 130.0, 1.0, 0.0, 38.0, 1.0], [60.0, 0.0, 582.0, 1.0, 38.0, 1.0, 451000.0, 0.6, 138.0, 1.0, 1.0, 40.0, 1.0], [80.0, 1.0, 553.0, 0.0, 20.0, 1.0, 140000.0, 4.4, 133.0, 1.0, 0.0, 41.0, 1.0], [57.0, 1.0, 129.0, 0.0, 30.0, 0.0, 395000.0, 1.0, 140.0, 0.0, 0.0, 42.0, 1.0], [68.0, 1.0, 577.0, 0.0, 25.0, 1.0, 166000.0, 1.0, 138.0, 1.0, 0.0, 43.0, 1.0], [53.0, 1.0, 91.0, 0.0, 20.0, 1.0, 418000.0, 1.4, 139.0, 0.0, 0.0, 43.0, 1.0], [60.0, 0.0, 3964.0, 1.0, 62.0, 0.0, 263358.03, 6.8, 146.0, 0.0, 0.0, 43.0, 1.0], [70.0, 1.0, 69.0, 1.0, 50.0, 1.0, 351000.0, 1.0, 134.0, 0.0, 0.0, 44.0, 1.0], [60.0, 1.0, 260.0, 1.0, 38.0, 0.0, 255000.0, 2.2, 132.0, 0.0, 1.0, 45.0, 1.0], [95.0, 1.0, 371.0, 0.0, 30.0, 0.0, 461000.0, 2.0, 132.0, 1.0, 0.0, 50.0, 1.0], [49.0, 0.0, 789.0, 0.0, 20.0, 1.0, 319000.0, 1.1, 136.0, 1.0, 1.0, 55.0, 1.0], [72.0, 0.0, 364.0, 1.0, 20.0, 1.0, 254000.0, 1.3, 136.0, 1.0, 1.0, 59.0, 1.0], [45.0, 0.0, 7702.0, 1.0, 25.0, 1.0, 390000.0, 1.0, 139.0, 1.0, 0.0, 60.0, 1.0], [50.0, 0.0, 318.0, 0.0, 40.0, 1.0, 216000.0, 2.3, 131.0, 0.0, 0.0, 60.0, 1.0], [45.0, 0.0, 582.0, 0.0, 35.0, 0.0, 385000.0, 1.0, 145.0, 1.0, 0.0, 61.0, 1.0], [60.0, 0.0, 68.0, 0.0, 20.0, 0.0, 119000.0, 2.9, 127.0, 1.0, 1.0, 64.0, 1.0], [42.0, 1.0, 250.0, 1.0, 15.0, 0.0, 213000.0, 1.3, 136.0, 0.0, 0.0, 65.0, 1.0], [72.0, 1.0, 110.0, 0.0, 25.0, 0.0, 274000.0, 1.0, 140.0, 1.0, 1.0, 65.0, 1.0], [70.0, 0.0, 161.0, 0.0, 25.0, 0.0, 244000.0, 1.2, 142.0, 0.0, 0.0, 66.0, 1.0], [65.0, 0.0, 113.0, 1.0, 25.0, 0.0, 497000.0, 1.83, 135.0, 1.0, 0.0, 67.0, 1.0], [85.0, 0.0, 5882.0, 0.0, 35.0, 0.0, 243000.0, 1.0, 132.0, 1.0, 1.0, 72.0, 1.0], [69.0, 0.0, 582.0, 0.0, 20.0, 0.0, 266000.0, 1.2, 134.0, 1.0, 1.0, 73.0, 1.0], [60.0, 1.0, 47.0, 0.0, 20.0, 0.0, 204000.0, 0.7, 139.0, 1.0, 1.0, 73.0, 1.0], [60.0, 1.0, 76.0, 1.0, 25.0, 0.0, 196000.0, 2.5, 132.0, 0.0, 0.0, 77.0, 1.0], [59.0, 1.0, 280.0, 1.0, 25.0, 1.0, 302000.0, 1.0, 141.0, 0.0, 0.0, 78.0, 1.0], [60.0, 1.0, 154.0, 0.0, 25.0, 0.0, 210000.0, 1.7, 135.0, 1.0, 0.0, 82.0, 1.0], [72.0, 1.0, 328.0, 0.0, 30.0, 1.0, 621000.0, 1.7, 138.0, 0.0, 1.0, 88.0, 1.0], [85.0, 0.0, 129.0, 0.0, 60.0, 0.0, 306000.0, 1.2, 132.0, 1.0, 1.0, 90.0, 1.0], [70.0, 1.0, 143.0, 0.0, 60.0, 0.0, 351000.0, 1.3, 137.0, 0.0, 0.0, 90.0, 1.0], [86.0, 0.0, 582.0, 0.0, 38.0, 0.0, 263358.03, 1.83, 134.0, 0.0, 0.0, 95.0, 1.0], [60.0, 0.0, 582.0, 0.0, 40.0, 0.0, 217000.0, 3.7, 134.0, 1.0, 0.0, 96.0, 1.0], [46.0, 0.0, 168.0, 1.0, 17.0, 1.0, 271000.0, 2.1, 124.0, 0.0, 0.0, 100.0, 1.0], [80.0, 0.0, 805.0, 0.0, 38.0, 0.0, 263358.03, 1.1, 134.0, 1.0, 0.0, 109.0, 1.0], [72.0, 1.0, 943.0, 0.0, 25.0, 1.0, 338000.0, 1.7, 139.0, 1.0, 1.0, 111.0, 1.0], [75.0, 1.0, 582.0, 0.0, 30.0, 0.0, 225000.0, 1.83, 134.0, 1.0, 0.0, 113.0, 1.0], [72.0, 0.0, 233.0, 0.0, 45.0, 1.0, 235000.0, 2.5, 135.0, 0.0, 0.0, 115.0, 1.0], [50.0, 1.0, 2334.0, 1.0, 35.0, 0.0, 75000.0, 0.9, 142.0, 0.0, 0.0, 126.0, 1.0], [45.0, 0.0, 2442.0, 1.0, 30.0, 0.0, 334000.0, 1.1, 139.0, 1.0, 0.0, 129.0, 1.0], [80.0, 0.0, 776.0, 1.0, 38.0, 1.0, 192000.0, 1.3, 135.0, 0.0, 0.0, 130.0, 1.0], [59.0, 0.0, 66.0, 1.0, 20.0, 0.0, 70000.0, 2.4, 134.0, 1.0, 0.0, 135.0, 1.0], [59.0, 1.0, 176.0, 1.0, 25.0, 0.0, 221000.0, 1.0, 136.0, 1.0, 1.0, 150.0, 1.0], [65.0, 0.0, 395.0, 1.0, 25.0, 0.0, 265000.0, 1.2, 136.0, 1.0, 1.0, 154.0, 1.0], [75.0, 0.0, 99.0, 0.0, 38.0, 1.0, 224000.0, 2.5, 134.0, 1.0, 0.0, 162.0, 1.0], [58.0, 1.0, 145.0, 0.0, 25.0, 0.0, 219000.0, 1.2, 137.0, 1.0, 1.0, 170.0, 1.0], [60.667, 1.0, 104.0, 1.0, 30.0, 0.0, 389000.0, 1.5, 136.0, 1.0, 0.0, 171.0, 1.0], [50.0, 0.0, 582.0, 0.0, 50.0, 0.0, 153000.0, 0.6, 134.0, 0.0, 0.0, 172.0, 1.0], [60.0, 0.0, 1896.0, 1.0, 25.0, 0.0, 365000.0, 2.1, 144.0, 0.0, 0.0, 172.0, 1.0], [45.0, 0.0, 582.0, 0.0, 20.0, 1.0, 126000.0, 1.6, 135.0, 1.0, 0.0, 180.0, 1.0], [77.0, 1.0, 418.0, 0.0, 45.0, 0.0, 223000.0, 1.8, 145.0, 1.0, 0.0, 180.0, 1.0], [48.0, 1.0, 131.0, 1.0, 30.0, 1.0, 244000.0, 1.6, 130.0, 0.0, 0.0, 193.0, 1.0], [54.0, 1.0, 427.0, 0.0, 70.0, 1.0, 151000.0, 9.0, 137.0, 0.0, 0.0, 196.0, 1.0], [73.0, 0.0, 582.0, 0.0, 20.0, 0.0, 263358.03, 1.83, 134.0, 1.0, 0.0, 198.0, 1.0], [60.0, 0.0, 166.0, 0.0, 30.0, 0.0, 62000.0, 1.7, 127.0, 0.0, 0.0, 207.0, 1.0], [55.0, 0.0, 2017.0, 0.0, 25.0, 0.0, 314000.0, 1.1, 138.0, 1.0, 0.0, 214.0, 1.0], [65.0, 1.0, 258.0, 1.0, 25.0, 0.0, 198000.0, 1.4, 129.0, 1.0, 0.0, 235.0, 1.0], [55.0, 0.0, 1199.0, 0.0, 20.0, 0.0, 263358.03, 1.83, 134.0, 1.0, 1.0, 241.0, 1.0]], \"hovertemplate\": \"DEATH_EVENT=%{customdata[12]}<br>AGE=%{customdata[0]}<br>anaemia=%{customdata[1]}<br>creatinine_phosphokinase=%{customdata[2]}<br>diabetes=%{customdata[3]}<br>ejection_fraction=%{customdata[4]}<br>high_blood_pressure=%{customdata[5]}<br>platelets=%{customdata[6]}<br>serum_creatinine=%{customdata[7]}<br>serum_sodium=%{customdata[8]}<br>sex=%{customdata[9]}<br>smoking=%{customdata[10]}<br>time=%{customdata[11]}<extra></extra>\", \"legendgroup\": \"1\", \"marker\": {\"color\": \"#636efa\"}, \"name\": \"1\", \"offsetgroup\": \"1\", \"scalegroup\": \"x\", \"showlegend\": false, \"type\": \"violin\", \"x\": [75.0, 55.0, 65.0, 50.0, 65.0, 90.0, 75.0, 60.0, 65.0, 80.0, 75.0, 62.0, 45.0, 50.0, 82.0, 87.0, 45.0, 70.0, 48.0, 65.0, 68.0, 75.0, 80.0, 95.0, 70.0, 58.0, 82.0, 94.0, 85.0, 50.0, 65.0, 69.0, 90.0, 82.0, 60.0, 70.0, 50.0, 70.0, 60.0, 50.0, 51.0, 60.0, 80.0, 57.0, 68.0, 53.0, 60.0, 70.0, 60.0, 95.0, 49.0, 72.0, 45.0, 50.0, 45.0, 60.0, 42.0, 72.0, 70.0, 65.0, 85.0, 69.0, 60.0, 60.0, 59.0, 60.0, 72.0, 85.0, 70.0, 86.0, 60.0, 46.0, 80.0, 72.0, 75.0, 72.0, 50.0, 45.0, 80.0, 59.0, 59.0, 65.0, 75.0, 58.0, 60.667, 50.0, 60.0, 45.0, 77.0, 48.0, 54.0, 73.0, 60.0, 55.0, 65.0, 55.0], \"xaxis\": \"x2\", \"yaxis\": \"y2\"}, {\"alignmentgroup\": \"True\", \"bingroup\": \"x\", \"hovertemplate\": \"DEATH_EVENT=0<br>AGE=%{x}<br>count=%{y}<extra></extra>\", \"legendgroup\": \"0\", \"marker\": {\"color\": \"#EF553B\"}, \"name\": \"0\", \"offsetgroup\": \"0\", \"orientation\": \"v\", \"showlegend\": true, \"type\": \"histogram\", \"x\": [49.0, 65.0, 53.0, 50.0, 60.0, 72.0, 70.0, 60.0, 55.0, 45.0, 41.0, 58.0, 65.0, 70.0, 42.0, 75.0, 55.0, 70.0, 67.0, 79.0, 51.0, 55.0, 65.0, 44.0, 57.0, 70.0, 60.0, 42.0, 58.0, 58.0, 63.0, 70.0, 60.0, 63.0, 65.0, 75.0, 80.0, 42.0, 60.0, 55.0, 45.0, 63.0, 45.0, 55.0, 50.0, 60.0, 58.0, 60.0, 85.0, 65.0, 60.0, 66.0, 60.0, 60.0, 43.0, 58.0, 61.0, 53.0, 53.0, 60.0, 46.0, 63.0, 81.0, 75.0, 65.0, 68.0, 62.0, 50.0, 46.0, 50.0, 61.0, 50.0, 52.0, 64.0, 60.0, 62.0, 50.0, 50.0, 65.0, 60.0, 52.0, 50.0, 85.0, 59.0, 66.0, 45.0, 63.0, 53.0, 65.0, 70.0, 51.0, 52.0, 70.0, 50.0, 65.0, 60.0, 69.0, 49.0, 63.0, 55.0, 40.0, 60.667, 40.0, 80.0, 64.0, 50.0, 73.0, 45.0, 65.0, 50.0, 60.0, 63.0, 45.0, 70.0, 60.0, 78.0, 50.0, 40.0, 85.0, 60.0, 49.0, 70.0, 50.0, 78.0, 65.0, 73.0, 70.0, 68.0, 55.0, 65.0, 42.0, 47.0, 58.0, 75.0, 58.0, 55.0, 65.0, 72.0, 70.0, 40.0, 53.0, 53.0, 77.0, 75.0, 70.0, 65.0, 55.0, 70.0, 65.0, 40.0, 73.0, 54.0, 61.0, 64.0, 40.0, 53.0, 50.0, 55.0, 50.0, 70.0, 53.0, 52.0, 65.0, 58.0, 45.0, 53.0, 55.0, 62.0, 68.0, 61.0, 50.0, 56.0, 45.0, 40.0, 44.0, 51.0, 67.0, 42.0, 60.0, 45.0, 70.0, 70.0, 50.0, 55.0, 70.0, 70.0, 42.0, 65.0, 50.0, 55.0, 60.0, 45.0, 65.0, 90.0, 45.0, 60.0, 52.0, 63.0, 62.0, 55.0, 45.0, 45.0, 50.0], \"xaxis\": \"x\", \"yaxis\": \"y\"}, {\"alignmentgroup\": \"True\", \"customdata\": [[49.0, 1.0, 80.0, 0.0, 30.0, 1.0, 427000.0, 1.0, 138.0, 0.0, 0.0, 12.0, 0.0], [65.0, 1.0, 52.0, 0.0, 25.0, 1.0, 276000.0, 1.3, 137.0, 0.0, 0.0, 16.0, 0.0], [53.0, 0.0, 63.0, 1.0, 60.0, 0.0, 368000.0, 0.8, 135.0, 1.0, 0.0, 22.0, 0.0], [50.0, 1.0, 159.0, 1.0, 30.0, 0.0, 302000.0, 1.2, 138.0, 0.0, 0.0, 29.0, 0.0], [60.0, 0.0, 2656.0, 1.0, 30.0, 0.0, 305000.0, 2.3, 137.0, 1.0, 0.0, 30.0, 0.0], [72.0, 0.0, 127.0, 1.0, 50.0, 1.0, 218000.0, 1.0, 134.0, 1.0, 0.0, 33.0, 0.0], [70.0, 1.0, 75.0, 0.0, 35.0, 0.0, 223000.0, 2.7, 138.0, 1.0, 1.0, 54.0, 0.0], [60.0, 1.0, 607.0, 0.0, 40.0, 0.0, 216000.0, 0.6, 138.0, 1.0, 1.0, 54.0, 0.0], [55.0, 0.0, 109.0, 0.0, 35.0, 0.0, 254000.0, 1.1, 139.0, 1.0, 1.0, 60.0, 0.0], [45.0, 0.0, 582.0, 0.0, 80.0, 0.0, 263358.03, 1.18, 137.0, 0.0, 0.0, 63.0, 0.0], [41.0, 0.0, 148.0, 0.0, 40.0, 0.0, 374000.0, 0.8, 140.0, 1.0, 1.0, 68.0, 0.0], [58.0, 0.0, 582.0, 1.0, 35.0, 0.0, 122000.0, 0.9, 139.0, 1.0, 1.0, 71.0, 0.0], [65.0, 0.0, 224.0, 1.0, 50.0, 0.0, 149000.0, 1.3, 137.0, 1.0, 1.0, 72.0, 0.0], [70.0, 0.0, 92.0, 0.0, 60.0, 1.0, 317000.0, 0.8, 140.0, 0.0, 1.0, 74.0, 0.0], [42.0, 0.0, 102.0, 1.0, 40.0, 0.0, 237000.0, 1.2, 140.0, 1.0, 0.0, 74.0, 0.0], [75.0, 1.0, 203.0, 1.0, 38.0, 1.0, 283000.0, 0.6, 131.0, 1.0, 1.0, 74.0, 0.0], [55.0, 0.0, 336.0, 0.0, 45.0, 1.0, 324000.0, 0.9, 140.0, 0.0, 0.0, 74.0, 0.0], [70.0, 0.0, 69.0, 0.0, 40.0, 0.0, 293000.0, 1.7, 136.0, 0.0, 0.0, 75.0, 0.0], [67.0, 0.0, 582.0, 0.0, 50.0, 0.0, 263358.03, 1.18, 137.0, 1.0, 1.0, 76.0, 0.0], [79.0, 1.0, 55.0, 0.0, 50.0, 1.0, 172000.0, 1.8, 133.0, 1.0, 0.0, 78.0, 0.0], [51.0, 0.0, 78.0, 0.0, 50.0, 0.0, 406000.0, 0.7, 140.0, 1.0, 0.0, 79.0, 0.0], [55.0, 0.0, 47.0, 0.0, 35.0, 1.0, 173000.0, 1.1, 137.0, 1.0, 0.0, 79.0, 0.0], [65.0, 1.0, 68.0, 1.0, 60.0, 1.0, 304000.0, 0.8, 140.0, 1.0, 0.0, 79.0, 0.0], [44.0, 0.0, 84.0, 1.0, 40.0, 1.0, 235000.0, 0.7, 139.0, 1.0, 0.0, 79.0, 0.0], [57.0, 1.0, 115.0, 0.0, 25.0, 1.0, 181000.0, 1.1, 144.0, 1.0, 0.0, 79.0, 0.0], [70.0, 0.0, 66.0, 1.0, 45.0, 0.0, 249000.0, 0.8, 136.0, 1.0, 1.0, 80.0, 0.0], [60.0, 0.0, 897.0, 1.0, 45.0, 0.0, 297000.0, 1.0, 133.0, 1.0, 0.0, 80.0, 0.0], [42.0, 0.0, 582.0, 0.0, 60.0, 0.0, 263358.03, 1.18, 137.0, 0.0, 0.0, 82.0, 0.0], [58.0, 0.0, 144.0, 1.0, 38.0, 1.0, 327000.0, 0.7, 142.0, 0.0, 0.0, 83.0, 0.0], [58.0, 1.0, 133.0, 0.0, 60.0, 1.0, 219000.0, 1.0, 141.0, 1.0, 0.0, 83.0, 0.0], [63.0, 1.0, 514.0, 1.0, 25.0, 1.0, 254000.0, 1.3, 134.0, 1.0, 0.0, 83.0, 0.0], [70.0, 1.0, 59.0, 0.0, 60.0, 0.0, 255000.0, 1.1, 136.0, 0.0, 0.0, 85.0, 0.0], [60.0, 1.0, 156.0, 1.0, 25.0, 1.0, 318000.0, 1.2, 137.0, 0.0, 0.0, 85.0, 0.0], [63.0, 1.0, 61.0, 1.0, 40.0, 0.0, 221000.0, 1.1, 140.0, 0.0, 0.0, 86.0, 0.0], [65.0, 1.0, 305.0, 0.0, 25.0, 0.0, 298000.0, 1.1, 141.0, 1.0, 0.0, 87.0, 0.0], [75.0, 0.0, 582.0, 0.0, 45.0, 1.0, 263358.03, 1.18, 137.0, 1.0, 0.0, 87.0, 0.0], [80.0, 0.0, 898.0, 0.0, 25.0, 0.0, 149000.0, 1.1, 144.0, 1.0, 1.0, 87.0, 0.0], [42.0, 0.0, 5209.0, 0.0, 30.0, 0.0, 226000.0, 1.0, 140.0, 1.0, 1.0, 87.0, 0.0], [60.0, 0.0, 53.0, 0.0, 50.0, 1.0, 286000.0, 2.3, 143.0, 0.0, 0.0, 87.0, 0.0], [55.0, 0.0, 748.0, 0.0, 45.0, 0.0, 263000.0, 1.3, 137.0, 1.0, 0.0, 88.0, 0.0], [45.0, 1.0, 1876.0, 1.0, 35.0, 0.0, 226000.0, 0.9, 138.0, 1.0, 0.0, 88.0, 0.0], [63.0, 0.0, 936.0, 0.0, 38.0, 0.0, 304000.0, 1.1, 133.0, 1.0, 1.0, 88.0, 0.0], [45.0, 0.0, 292.0, 1.0, 35.0, 0.0, 850000.0, 1.3, 142.0, 1.0, 1.0, 88.0, 0.0], [55.0, 0.0, 60.0, 0.0, 35.0, 0.0, 228000.0, 1.2, 135.0, 1.0, 1.0, 90.0, 0.0], [50.0, 0.0, 369.0, 1.0, 25.0, 0.0, 252000.0, 1.6, 136.0, 1.0, 0.0, 90.0, 0.0], [60.0, 1.0, 754.0, 1.0, 40.0, 1.0, 328000.0, 1.2, 126.0, 1.0, 0.0, 91.0, 0.0], [58.0, 1.0, 400.0, 0.0, 40.0, 0.0, 164000.0, 1.0, 139.0, 0.0, 0.0, 91.0, 0.0], [60.0, 1.0, 96.0, 1.0, 60.0, 1.0, 271000.0, 0.7, 136.0, 0.0, 0.0, 94.0, 0.0], [85.0, 1.0, 102.0, 0.0, 60.0, 0.0, 507000.0, 3.2, 138.0, 0.0, 0.0, 94.0, 0.0], [65.0, 1.0, 113.0, 1.0, 60.0, 1.0, 203000.0, 0.9, 140.0, 0.0, 0.0, 94.0, 0.0], [60.0, 1.0, 737.0, 0.0, 60.0, 1.0, 210000.0, 1.5, 135.0, 1.0, 1.0, 95.0, 0.0], [66.0, 1.0, 68.0, 1.0, 38.0, 1.0, 162000.0, 1.0, 136.0, 0.0, 0.0, 95.0, 0.0], [60.0, 0.0, 96.0, 1.0, 38.0, 0.0, 228000.0, 0.75, 140.0, 0.0, 0.0, 95.0, 0.0], [60.0, 1.0, 582.0, 0.0, 30.0, 1.0, 127000.0, 0.9, 145.0, 0.0, 0.0, 95.0, 0.0], [43.0, 1.0, 358.0, 0.0, 50.0, 0.0, 237000.0, 1.3, 135.0, 0.0, 0.0, 97.0, 0.0], [58.0, 1.0, 200.0, 1.0, 60.0, 0.0, 300000.0, 0.8, 137.0, 0.0, 0.0, 104.0, 0.0], [61.0, 0.0, 248.0, 0.0, 30.0, 1.0, 267000.0, 0.7, 136.0, 1.0, 1.0, 104.0, 0.0], [53.0, 1.0, 270.0, 1.0, 35.0, 0.0, 227000.0, 3.4, 145.0, 1.0, 0.0, 105.0, 0.0], [53.0, 1.0, 1808.0, 0.0, 60.0, 1.0, 249000.0, 0.7, 138.0, 1.0, 1.0, 106.0, 0.0], [60.0, 1.0, 1082.0, 1.0, 45.0, 0.0, 250000.0, 6.1, 131.0, 1.0, 0.0, 107.0, 0.0], [46.0, 0.0, 719.0, 0.0, 40.0, 1.0, 263358.03, 1.18, 137.0, 0.0, 0.0, 107.0, 0.0], [63.0, 0.0, 193.0, 0.0, 60.0, 1.0, 295000.0, 1.3, 145.0, 1.0, 1.0, 107.0, 0.0], [81.0, 0.0, 4540.0, 0.0, 35.0, 0.0, 231000.0, 1.18, 137.0, 1.0, 1.0, 107.0, 0.0], [75.0, 0.0, 582.0, 0.0, 40.0, 0.0, 263358.03, 1.18, 137.0, 1.0, 0.0, 107.0, 0.0], [65.0, 1.0, 59.0, 1.0, 60.0, 0.0, 172000.0, 0.9, 137.0, 0.0, 0.0, 107.0, 0.0], [68.0, 1.0, 646.0, 0.0, 25.0, 0.0, 305000.0, 2.1, 130.0, 1.0, 0.0, 108.0, 0.0], [62.0, 0.0, 281.0, 1.0, 35.0, 0.0, 221000.0, 1.0, 136.0, 0.0, 0.0, 108.0, 0.0], [50.0, 0.0, 1548.0, 0.0, 30.0, 1.0, 211000.0, 0.8, 138.0, 1.0, 0.0, 108.0, 0.0], [46.0, 1.0, 291.0, 0.0, 35.0, 0.0, 348000.0, 0.9, 140.0, 0.0, 0.0, 109.0, 0.0], [50.0, 0.0, 482.0, 1.0, 30.0, 0.0, 329000.0, 0.9, 132.0, 0.0, 0.0, 109.0, 0.0], [61.0, 1.0, 84.0, 0.0, 40.0, 1.0, 229000.0, 0.9, 141.0, 0.0, 0.0, 110.0, 0.0], [50.0, 0.0, 185.0, 0.0, 30.0, 0.0, 266000.0, 0.7, 141.0, 1.0, 1.0, 112.0, 0.0], [52.0, 0.0, 132.0, 0.0, 30.0, 0.0, 218000.0, 0.7, 136.0, 1.0, 1.0, 112.0, 0.0], [64.0, 0.0, 1610.0, 0.0, 60.0, 0.0, 242000.0, 1.0, 137.0, 1.0, 0.0, 113.0, 0.0], [60.0, 0.0, 2261.0, 0.0, 35.0, 1.0, 228000.0, 0.9, 136.0, 1.0, 0.0, 115.0, 0.0], [62.0, 0.0, 30.0, 1.0, 60.0, 1.0, 244000.0, 0.9, 139.0, 1.0, 0.0, 117.0, 0.0], [50.0, 0.0, 115.0, 0.0, 45.0, 1.0, 184000.0, 0.9, 134.0, 1.0, 1.0, 118.0, 0.0], [50.0, 0.0, 1846.0, 1.0, 35.0, 0.0, 263358.03, 1.18, 137.0, 1.0, 1.0, 119.0, 0.0], [65.0, 1.0, 335.0, 0.0, 35.0, 1.0, 235000.0, 0.8, 136.0, 0.0, 0.0, 120.0, 0.0], [60.0, 1.0, 231.0, 1.0, 25.0, 0.0, 194000.0, 1.7, 140.0, 1.0, 0.0, 120.0, 0.0], [52.0, 1.0, 58.0, 0.0, 35.0, 0.0, 277000.0, 1.4, 136.0, 0.0, 0.0, 120.0, 0.0], [50.0, 0.0, 250.0, 0.0, 25.0, 0.0, 262000.0, 1.0, 136.0, 1.0, 1.0, 120.0, 0.0], [85.0, 1.0, 910.0, 0.0, 50.0, 0.0, 235000.0, 1.3, 134.0, 1.0, 0.0, 121.0, 0.0], [59.0, 1.0, 129.0, 0.0, 45.0, 1.0, 362000.0, 1.1, 139.0, 1.0, 1.0, 121.0, 0.0], [66.0, 1.0, 72.0, 0.0, 40.0, 1.0, 242000.0, 1.2, 134.0, 1.0, 0.0, 121.0, 0.0], [45.0, 1.0, 130.0, 0.0, 35.0, 0.0, 174000.0, 0.8, 139.0, 1.0, 1.0, 121.0, 0.0], [63.0, 1.0, 582.0, 0.0, 40.0, 0.0, 448000.0, 0.9, 137.0, 1.0, 1.0, 123.0, 0.0], [53.0, 0.0, 196.0, 0.0, 60.0, 0.0, 220000.0, 0.7, 133.0, 1.0, 1.0, 134.0, 0.0], [65.0, 0.0, 582.0, 1.0, 40.0, 0.0, 270000.0, 1.0, 138.0, 0.0, 0.0, 140.0, 0.0], [70.0, 0.0, 835.0, 0.0, 35.0, 1.0, 305000.0, 0.8, 133.0, 0.0, 0.0, 145.0, 0.0], [51.0, 1.0, 582.0, 1.0, 35.0, 0.0, 263358.03, 1.5, 136.0, 1.0, 1.0, 145.0, 0.0], [52.0, 0.0, 3966.0, 0.0, 40.0, 0.0, 325000.0, 0.9, 140.0, 1.0, 1.0, 146.0, 0.0], [70.0, 1.0, 171.0, 0.0, 60.0, 1.0, 176000.0, 1.1, 145.0, 1.0, 1.0, 146.0, 0.0], [50.0, 1.0, 115.0, 0.0, 20.0, 0.0, 189000.0, 0.8, 139.0, 1.0, 0.0, 146.0, 0.0], [65.0, 0.0, 198.0, 1.0, 35.0, 1.0, 281000.0, 0.9, 137.0, 1.0, 1.0, 146.0, 0.0], [60.0, 1.0, 95.0, 0.0, 60.0, 0.0, 337000.0, 1.0, 138.0, 1.0, 1.0, 146.0, 0.0], [69.0, 0.0, 1419.0, 0.0, 40.0, 0.0, 105000.0, 1.0, 135.0, 1.0, 1.0, 147.0, 0.0], [49.0, 1.0, 69.0, 0.0, 50.0, 0.0, 132000.0, 1.0, 140.0, 0.0, 0.0, 147.0, 0.0], [63.0, 1.0, 122.0, 1.0, 60.0, 0.0, 267000.0, 1.2, 145.0, 1.0, 0.0, 147.0, 0.0], [55.0, 0.0, 835.0, 0.0, 40.0, 0.0, 279000.0, 0.7, 140.0, 1.0, 1.0, 147.0, 0.0], [40.0, 0.0, 478.0, 1.0, 30.0, 0.0, 303000.0, 0.9, 136.0, 1.0, 0.0, 148.0, 0.0], [60.667, 1.0, 151.0, 1.0, 40.0, 1.0, 201000.0, 1.0, 136.0, 0.0, 0.0, 172.0, 0.0], [40.0, 0.0, 244.0, 0.0, 45.0, 1.0, 275000.0, 0.9, 140.0, 0.0, 0.0, 174.0, 0.0], [80.0, 0.0, 582.0, 1.0, 35.0, 0.0, 350000.0, 2.1, 134.0, 1.0, 0.0, 174.0, 0.0], [64.0, 1.0, 62.0, 0.0, 60.0, 0.0, 309000.0, 1.5, 135.0, 0.0, 0.0, 174.0, 0.0], [50.0, 1.0, 121.0, 1.0, 40.0, 0.0, 260000.0, 0.7, 130.0, 1.0, 0.0, 175.0, 0.0], [73.0, 1.0, 231.0, 1.0, 30.0, 0.0, 160000.0, 1.18, 142.0, 1.0, 1.0, 180.0, 0.0], [45.0, 0.0, 582.0, 1.0, 38.0, 1.0, 263358.03, 1.18, 137.0, 0.0, 0.0, 185.0, 0.0], [65.0, 0.0, 167.0, 0.0, 30.0, 0.0, 259000.0, 0.8, 138.0, 0.0, 0.0, 186.0, 0.0], [50.0, 1.0, 582.0, 1.0, 20.0, 1.0, 279000.0, 1.0, 134.0, 0.0, 0.0, 186.0, 0.0], [60.0, 0.0, 1211.0, 1.0, 35.0, 0.0, 263358.03, 1.8, 113.0, 1.0, 1.0, 186.0, 0.0], [63.0, 1.0, 1767.0, 0.0, 45.0, 0.0, 73000.0, 0.7, 137.0, 1.0, 0.0, 186.0, 0.0], [45.0, 0.0, 308.0, 1.0, 60.0, 1.0, 377000.0, 1.0, 136.0, 1.0, 0.0, 186.0, 0.0], [70.0, 0.0, 97.0, 0.0, 60.0, 1.0, 220000.0, 0.9, 138.0, 1.0, 0.0, 186.0, 0.0], [60.0, 0.0, 59.0, 0.0, 25.0, 1.0, 212000.0, 3.5, 136.0, 1.0, 1.0, 187.0, 0.0], [78.0, 1.0, 64.0, 0.0, 40.0, 0.0, 277000.0, 0.7, 137.0, 1.0, 1.0, 187.0, 0.0], [50.0, 1.0, 167.0, 1.0, 45.0, 0.0, 362000.0, 1.0, 136.0, 0.0, 0.0, 187.0, 0.0], [40.0, 1.0, 101.0, 0.0, 40.0, 0.0, 226000.0, 0.8, 141.0, 0.0, 0.0, 187.0, 0.0], [85.0, 0.0, 212.0, 0.0, 38.0, 0.0, 186000.0, 0.9, 136.0, 1.0, 0.0, 187.0, 0.0], [60.0, 1.0, 2281.0, 1.0, 40.0, 0.0, 283000.0, 1.0, 141.0, 0.0, 0.0, 187.0, 0.0], [49.0, 0.0, 972.0, 1.0, 35.0, 1.0, 268000.0, 0.8, 130.0, 0.0, 0.0, 187.0, 0.0], [70.0, 0.0, 212.0, 1.0, 17.0, 1.0, 389000.0, 1.0, 136.0, 1.0, 1.0, 188.0, 0.0], [50.0, 0.0, 582.0, 0.0, 62.0, 1.0, 147000.0, 0.8, 140.0, 1.0, 1.0, 192.0, 0.0], [78.0, 0.0, 224.0, 0.0, 50.0, 0.0, 481000.0, 1.4, 138.0, 1.0, 1.0, 192.0, 0.0], [65.0, 1.0, 135.0, 0.0, 35.0, 1.0, 290000.0, 0.8, 134.0, 1.0, 0.0, 194.0, 0.0], [73.0, 0.0, 582.0, 0.0, 35.0, 1.0, 203000.0, 1.3, 134.0, 1.0, 0.0, 195.0, 0.0], [70.0, 0.0, 1202.0, 0.0, 50.0, 1.0, 358000.0, 0.9, 141.0, 0.0, 0.0, 196.0, 0.0], [68.0, 1.0, 1021.0, 1.0, 35.0, 0.0, 271000.0, 1.1, 134.0, 1.0, 0.0, 197.0, 0.0], [55.0, 0.0, 582.0, 1.0, 35.0, 1.0, 371000.0, 0.7, 140.0, 0.0, 0.0, 197.0, 0.0], [65.0, 0.0, 118.0, 0.0, 50.0, 0.0, 194000.0, 1.1, 145.0, 1.0, 1.0, 200.0, 0.0], [42.0, 1.0, 86.0, 0.0, 35.0, 0.0, 365000.0, 1.1, 139.0, 1.0, 1.0, 201.0, 0.0], [47.0, 0.0, 582.0, 0.0, 25.0, 0.0, 130000.0, 0.8, 134.0, 1.0, 0.0, 201.0, 0.0], [58.0, 0.0, 582.0, 1.0, 25.0, 0.0, 504000.0, 1.0, 138.0, 1.0, 0.0, 205.0, 0.0], [75.0, 0.0, 675.0, 1.0, 60.0, 0.0, 265000.0, 1.4, 125.0, 0.0, 0.0, 205.0, 0.0], [58.0, 1.0, 57.0, 0.0, 25.0, 0.0, 189000.0, 1.3, 132.0, 1.0, 1.0, 205.0, 0.0], [55.0, 1.0, 2794.0, 0.0, 35.0, 1.0, 141000.0, 1.0, 140.0, 1.0, 0.0, 206.0, 0.0], [65.0, 0.0, 56.0, 0.0, 25.0, 0.0, 237000.0, 5.0, 130.0, 0.0, 0.0, 207.0, 0.0], [72.0, 0.0, 211.0, 0.0, 25.0, 0.0, 274000.0, 1.2, 134.0, 0.0, 0.0, 207.0, 0.0], [70.0, 0.0, 93.0, 0.0, 35.0, 0.0, 185000.0, 1.1, 134.0, 1.0, 1.0, 208.0, 0.0], [40.0, 1.0, 129.0, 0.0, 35.0, 0.0, 255000.0, 0.9, 137.0, 1.0, 0.0, 209.0, 0.0], [53.0, 1.0, 707.0, 0.0, 38.0, 0.0, 330000.0, 1.4, 137.0, 1.0, 1.0, 209.0, 0.0], [53.0, 1.0, 582.0, 0.0, 45.0, 0.0, 305000.0, 1.1, 137.0, 1.0, 1.0, 209.0, 0.0], [77.0, 1.0, 109.0, 0.0, 50.0, 1.0, 406000.0, 1.1, 137.0, 1.0, 0.0, 209.0, 0.0], [75.0, 0.0, 119.0, 0.0, 50.0, 1.0, 248000.0, 1.1, 148.0, 1.0, 0.0, 209.0, 0.0], [70.0, 0.0, 232.0, 0.0, 30.0, 0.0, 173000.0, 1.2, 132.0, 1.0, 0.0, 210.0, 0.0], [65.0, 1.0, 720.0, 1.0, 40.0, 0.0, 257000.0, 1.0, 136.0, 0.0, 0.0, 210.0, 0.0], [55.0, 1.0, 180.0, 0.0, 45.0, 0.0, 263358.03, 1.18, 137.0, 1.0, 1.0, 211.0, 0.0], [70.0, 0.0, 81.0, 1.0, 35.0, 1.0, 533000.0, 1.3, 139.0, 0.0, 0.0, 212.0, 0.0], [65.0, 0.0, 582.0, 1.0, 30.0, 0.0, 249000.0, 1.3, 136.0, 1.0, 1.0, 212.0, 0.0], [40.0, 0.0, 90.0, 0.0, 35.0, 0.0, 255000.0, 1.1, 136.0, 1.0, 1.0, 212.0, 0.0], [73.0, 1.0, 1185.0, 0.0, 40.0, 1.0, 220000.0, 0.9, 141.0, 0.0, 0.0, 213.0, 0.0], [54.0, 0.0, 582.0, 1.0, 38.0, 0.0, 264000.0, 1.8, 134.0, 1.0, 0.0, 213.0, 0.0], [61.0, 1.0, 80.0, 1.0, 38.0, 0.0, 282000.0, 1.4, 137.0, 1.0, 0.0, 213.0, 0.0], [64.0, 0.0, 143.0, 0.0, 25.0, 0.0, 246000.0, 2.4, 135.0, 1.0, 0.0, 214.0, 0.0], [40.0, 0.0, 624.0, 0.0, 35.0, 0.0, 301000.0, 1.0, 142.0, 1.0, 1.0, 214.0, 0.0], [53.0, 0.0, 207.0, 1.0, 40.0, 0.0, 223000.0, 1.2, 130.0, 0.0, 0.0, 214.0, 0.0], [50.0, 0.0, 2522.0, 0.0, 30.0, 1.0, 404000.0, 0.5, 139.0, 0.0, 0.0, 214.0, 0.0], [55.0, 0.0, 572.0, 1.0, 35.0, 0.0, 231000.0, 0.8, 143.0, 0.0, 0.0, 215.0, 0.0], [50.0, 0.0, 245.0, 0.0, 45.0, 1.0, 274000.0, 1.0, 133.0, 1.0, 0.0, 215.0, 0.0], [70.0, 0.0, 88.0, 1.0, 35.0, 1.0, 236000.0, 1.2, 132.0, 0.0, 0.0, 215.0, 0.0], [53.0, 1.0, 446.0, 0.0, 60.0, 1.0, 263358.03, 1.0, 139.0, 1.0, 0.0, 215.0, 0.0], [52.0, 1.0, 191.0, 1.0, 30.0, 1.0, 334000.0, 1.0, 142.0, 1.0, 1.0, 216.0, 0.0], [65.0, 0.0, 326.0, 0.0, 38.0, 0.0, 294000.0, 1.7, 139.0, 0.0, 0.0, 220.0, 0.0], [58.0, 0.0, 132.0, 1.0, 38.0, 1.0, 253000.0, 1.0, 139.0, 1.0, 0.0, 230.0, 0.0], [45.0, 1.0, 66.0, 1.0, 25.0, 0.0, 233000.0, 0.8, 135.0, 1.0, 0.0, 230.0, 0.0], [53.0, 0.0, 56.0, 0.0, 50.0, 0.0, 308000.0, 0.7, 135.0, 1.0, 1.0, 231.0, 0.0], [55.0, 0.0, 66.0, 0.0, 40.0, 0.0, 203000.0, 1.0, 138.0, 1.0, 0.0, 233.0, 0.0], [62.0, 1.0, 655.0, 0.0, 40.0, 0.0, 283000.0, 0.7, 133.0, 0.0, 0.0, 233.0, 0.0], [68.0, 1.0, 157.0, 1.0, 60.0, 0.0, 208000.0, 1.0, 140.0, 0.0, 0.0, 237.0, 0.0], [61.0, 0.0, 582.0, 1.0, 38.0, 0.0, 147000.0, 1.2, 141.0, 1.0, 0.0, 237.0, 0.0], [50.0, 1.0, 298.0, 0.0, 35.0, 0.0, 362000.0, 0.9, 140.0, 1.0, 1.0, 240.0, 0.0], [56.0, 1.0, 135.0, 1.0, 38.0, 0.0, 133000.0, 1.7, 140.0, 1.0, 0.0, 244.0, 0.0], [45.0, 0.0, 582.0, 1.0, 38.0, 0.0, 302000.0, 0.9, 140.0, 0.0, 0.0, 244.0, 0.0], [40.0, 0.0, 582.0, 1.0, 35.0, 0.0, 222000.0, 1.0, 132.0, 1.0, 0.0, 244.0, 0.0], [44.0, 0.0, 582.0, 1.0, 30.0, 1.0, 263358.03, 1.6, 130.0, 1.0, 1.0, 244.0, 0.0], [51.0, 0.0, 582.0, 1.0, 40.0, 0.0, 221000.0, 0.9, 134.0, 0.0, 0.0, 244.0, 0.0], [67.0, 0.0, 213.0, 0.0, 38.0, 0.0, 215000.0, 1.2, 133.0, 0.0, 0.0, 245.0, 0.0], [42.0, 0.0, 64.0, 0.0, 40.0, 0.0, 189000.0, 0.7, 140.0, 1.0, 0.0, 245.0, 0.0], [60.0, 1.0, 257.0, 1.0, 30.0, 0.0, 150000.0, 1.0, 137.0, 1.0, 1.0, 245.0, 0.0], [45.0, 0.0, 582.0, 0.0, 38.0, 1.0, 422000.0, 0.8, 137.0, 0.0, 0.0, 245.0, 0.0], [70.0, 0.0, 618.0, 0.0, 35.0, 0.0, 327000.0, 1.1, 142.0, 0.0, 0.0, 245.0, 0.0], [70.0, 0.0, 582.0, 1.0, 38.0, 0.0, 25100.0, 1.1, 140.0, 1.0, 0.0, 246.0, 0.0], [50.0, 1.0, 1051.0, 1.0, 30.0, 0.0, 232000.0, 0.7, 136.0, 0.0, 0.0, 246.0, 0.0], [55.0, 0.0, 84.0, 1.0, 38.0, 0.0, 451000.0, 1.3, 136.0, 0.0, 0.0, 246.0, 0.0], [70.0, 0.0, 2695.0, 1.0, 40.0, 0.0, 241000.0, 1.0, 137.0, 1.0, 0.0, 247.0, 0.0], [70.0, 0.0, 582.0, 0.0, 40.0, 0.0, 51000.0, 2.7, 136.0, 1.0, 1.0, 250.0, 0.0], [42.0, 0.0, 64.0, 0.0, 30.0, 0.0, 215000.0, 3.8, 128.0, 1.0, 1.0, 250.0, 0.0], [65.0, 0.0, 1688.0, 0.0, 38.0, 0.0, 263358.03, 1.1, 138.0, 1.0, 1.0, 250.0, 0.0], [50.0, 1.0, 54.0, 0.0, 40.0, 0.0, 279000.0, 0.8, 141.0, 1.0, 0.0, 250.0, 0.0], [55.0, 1.0, 170.0, 1.0, 40.0, 0.0, 336000.0, 1.2, 135.0, 1.0, 0.0, 250.0, 0.0], [60.0, 0.0, 253.0, 0.0, 35.0, 0.0, 279000.0, 1.7, 140.0, 1.0, 0.0, 250.0, 0.0], [45.0, 0.0, 582.0, 1.0, 55.0, 0.0, 543000.0, 1.0, 132.0, 0.0, 0.0, 250.0, 0.0], [65.0, 0.0, 892.0, 1.0, 35.0, 0.0, 263358.03, 1.1, 142.0, 0.0, 0.0, 256.0, 0.0], [90.0, 1.0, 337.0, 0.0, 38.0, 0.0, 390000.0, 0.9, 144.0, 0.0, 0.0, 256.0, 0.0], [45.0, 0.0, 615.0, 1.0, 55.0, 0.0, 222000.0, 0.8, 141.0, 0.0, 0.0, 257.0, 0.0], [60.0, 0.0, 320.0, 0.0, 35.0, 0.0, 133000.0, 1.4, 139.0, 1.0, 0.0, 258.0, 0.0], [52.0, 0.0, 190.0, 1.0, 38.0, 0.0, 382000.0, 1.0, 140.0, 1.0, 1.0, 258.0, 0.0], [63.0, 1.0, 103.0, 1.0, 35.0, 0.0, 179000.0, 0.9, 136.0, 1.0, 1.0, 270.0, 0.0], [62.0, 0.0, 61.0, 1.0, 38.0, 1.0, 155000.0, 1.1, 143.0, 1.0, 1.0, 270.0, 0.0], [55.0, 0.0, 1820.0, 0.0, 38.0, 0.0, 270000.0, 1.2, 139.0, 0.0, 0.0, 271.0, 0.0], [45.0, 0.0, 2060.0, 1.0, 60.0, 0.0, 742000.0, 0.8, 138.0, 0.0, 0.0, 278.0, 0.0], [45.0, 0.0, 2413.0, 0.0, 38.0, 0.0, 140000.0, 1.4, 140.0, 1.0, 1.0, 280.0, 0.0], [50.0, 0.0, 196.0, 0.0, 45.0, 0.0, 395000.0, 1.6, 136.0, 1.0, 1.0, 285.0, 0.0]], \"hovertemplate\": \"DEATH_EVENT=%{customdata[12]}<br>AGE=%{customdata[0]}<br>anaemia=%{customdata[1]}<br>creatinine_phosphokinase=%{customdata[2]}<br>diabetes=%{customdata[3]}<br>ejection_fraction=%{customdata[4]}<br>high_blood_pressure=%{customdata[5]}<br>platelets=%{customdata[6]}<br>serum_creatinine=%{customdata[7]}<br>serum_sodium=%{customdata[8]}<br>sex=%{customdata[9]}<br>smoking=%{customdata[10]}<br>time=%{customdata[11]}<extra></extra>\", \"legendgroup\": \"0\", \"marker\": {\"color\": \"#EF553B\"}, \"name\": \"0\", \"offsetgroup\": \"0\", \"scalegroup\": \"x\", \"showlegend\": false, \"type\": \"violin\", \"x\": [49.0, 65.0, 53.0, 50.0, 60.0, 72.0, 70.0, 60.0, 55.0, 45.0, 41.0, 58.0, 65.0, 70.0, 42.0, 75.0, 55.0, 70.0, 67.0, 79.0, 51.0, 55.0, 65.0, 44.0, 57.0, 70.0, 60.0, 42.0, 58.0, 58.0, 63.0, 70.0, 60.0, 63.0, 65.0, 75.0, 80.0, 42.0, 60.0, 55.0, 45.0, 63.0, 45.0, 55.0, 50.0, 60.0, 58.0, 60.0, 85.0, 65.0, 60.0, 66.0, 60.0, 60.0, 43.0, 58.0, 61.0, 53.0, 53.0, 60.0, 46.0, 63.0, 81.0, 75.0, 65.0, 68.0, 62.0, 50.0, 46.0, 50.0, 61.0, 50.0, 52.0, 64.0, 60.0, 62.0, 50.0, 50.0, 65.0, 60.0, 52.0, 50.0, 85.0, 59.0, 66.0, 45.0, 63.0, 53.0, 65.0, 70.0, 51.0, 52.0, 70.0, 50.0, 65.0, 60.0, 69.0, 49.0, 63.0, 55.0, 40.0, 60.667, 40.0, 80.0, 64.0, 50.0, 73.0, 45.0, 65.0, 50.0, 60.0, 63.0, 45.0, 70.0, 60.0, 78.0, 50.0, 40.0, 85.0, 60.0, 49.0, 70.0, 50.0, 78.0, 65.0, 73.0, 70.0, 68.0, 55.0, 65.0, 42.0, 47.0, 58.0, 75.0, 58.0, 55.0, 65.0, 72.0, 70.0, 40.0, 53.0, 53.0, 77.0, 75.0, 70.0, 65.0, 55.0, 70.0, 65.0, 40.0, 73.0, 54.0, 61.0, 64.0, 40.0, 53.0, 50.0, 55.0, 50.0, 70.0, 53.0, 52.0, 65.0, 58.0, 45.0, 53.0, 55.0, 62.0, 68.0, 61.0, 50.0, 56.0, 45.0, 40.0, 44.0, 51.0, 67.0, 42.0, 60.0, 45.0, 70.0, 70.0, 50.0, 55.0, 70.0, 70.0, 42.0, 65.0, 50.0, 55.0, 60.0, 45.0, 65.0, 90.0, 45.0, 60.0, 52.0, 63.0, 62.0, 55.0, 45.0, 45.0, 50.0], \"xaxis\": \"x2\", \"yaxis\": \"y2\"}],                        {\"barmode\": \"relative\", \"legend\": {\"title\": {\"text\": \"DEATH_EVENT\"}, \"tracegroupgap\": 0}, \"template\": {\"data\": {\"bar\": [{\"error_x\": {\"color\": \"#2a3f5f\"}, \"error_y\": {\"color\": \"#2a3f5f\"}, \"marker\": {\"line\": {\"color\": \"#E5ECF6\", \"width\": 0.5}}, \"type\": \"bar\"}], \"barpolar\": [{\"marker\": {\"line\": {\"color\": \"#E5ECF6\", \"width\": 0.5}}, \"type\": \"barpolar\"}], \"carpet\": [{\"aaxis\": {\"endlinecolor\": \"#2a3f5f\", \"gridcolor\": \"white\", \"linecolor\": \"white\", \"minorgridcolor\": \"white\", \"startlinecolor\": \"#2a3f5f\"}, \"baxis\": {\"endlinecolor\": \"#2a3f5f\", \"gridcolor\": \"white\", \"linecolor\": \"white\", \"minorgridcolor\": \"white\", \"startlinecolor\": \"#2a3f5f\"}, \"type\": \"carpet\"}], \"choropleth\": [{\"colorbar\": {\"outlinewidth\": 0, \"ticks\": \"\"}, \"type\": \"choropleth\"}], \"contour\": [{\"colorbar\": {\"outlinewidth\": 0, \"ticks\": \"\"}, \"colorscale\": [[0.0, \"#0d0887\"], [0.1111111111111111, \"#46039f\"], [0.2222222222222222, \"#7201a8\"], [0.3333333333333333, \"#9c179e\"], [0.4444444444444444, \"#bd3786\"], [0.5555555555555556, \"#d8576b\"], [0.6666666666666666, \"#ed7953\"], [0.7777777777777778, \"#fb9f3a\"], [0.8888888888888888, \"#fdca26\"], [1.0, \"#f0f921\"]], \"type\": \"contour\"}], \"contourcarpet\": [{\"colorbar\": {\"outlinewidth\": 0, \"ticks\": \"\"}, \"type\": \"contourcarpet\"}], \"heatmap\": [{\"colorbar\": {\"outlinewidth\": 0, \"ticks\": \"\"}, \"colorscale\": [[0.0, \"#0d0887\"], [0.1111111111111111, \"#46039f\"], [0.2222222222222222, \"#7201a8\"], [0.3333333333333333, \"#9c179e\"], [0.4444444444444444, \"#bd3786\"], [0.5555555555555556, \"#d8576b\"], [0.6666666666666666, \"#ed7953\"], [0.7777777777777778, \"#fb9f3a\"], [0.8888888888888888, \"#fdca26\"], [1.0, \"#f0f921\"]], \"type\": \"heatmap\"}], \"heatmapgl\": [{\"colorbar\": {\"outlinewidth\": 0, \"ticks\": \"\"}, \"colorscale\": [[0.0, \"#0d0887\"], [0.1111111111111111, \"#46039f\"], [0.2222222222222222, \"#7201a8\"], [0.3333333333333333, \"#9c179e\"], [0.4444444444444444, \"#bd3786\"], [0.5555555555555556, \"#d8576b\"], [0.6666666666666666, \"#ed7953\"], [0.7777777777777778, \"#fb9f3a\"], [0.8888888888888888, \"#fdca26\"], [1.0, \"#f0f921\"]], \"type\": \"heatmapgl\"}], \"histogram\": [{\"marker\": {\"colorbar\": {\"outlinewidth\": 0, \"ticks\": \"\"}}, \"type\": \"histogram\"}], \"histogram2d\": [{\"colorbar\": {\"outlinewidth\": 0, \"ticks\": \"\"}, \"colorscale\": [[0.0, \"#0d0887\"], [0.1111111111111111, \"#46039f\"], [0.2222222222222222, \"#7201a8\"], [0.3333333333333333, \"#9c179e\"], [0.4444444444444444, \"#bd3786\"], [0.5555555555555556, \"#d8576b\"], [0.6666666666666666, \"#ed7953\"], [0.7777777777777778, \"#fb9f3a\"], [0.8888888888888888, \"#fdca26\"], [1.0, \"#f0f921\"]], \"type\": \"histogram2d\"}], \"histogram2dcontour\": [{\"colorbar\": {\"outlinewidth\": 0, \"ticks\": \"\"}, \"colorscale\": [[0.0, \"#0d0887\"], [0.1111111111111111, \"#46039f\"], [0.2222222222222222, \"#7201a8\"], [0.3333333333333333, \"#9c179e\"], [0.4444444444444444, \"#bd3786\"], [0.5555555555555556, \"#d8576b\"], [0.6666666666666666, \"#ed7953\"], [0.7777777777777778, \"#fb9f3a\"], [0.8888888888888888, \"#fdca26\"], [1.0, \"#f0f921\"]], \"type\": \"histogram2dcontour\"}], \"mesh3d\": [{\"colorbar\": {\"outlinewidth\": 0, \"ticks\": \"\"}, \"type\": \"mesh3d\"}], \"parcoords\": [{\"line\": {\"colorbar\": {\"outlinewidth\": 0, \"ticks\": \"\"}}, \"type\": \"parcoords\"}], \"pie\": [{\"automargin\": true, \"type\": \"pie\"}], \"scatter\": [{\"marker\": {\"colorbar\": {\"outlinewidth\": 0, \"ticks\": \"\"}}, \"type\": \"scatter\"}], \"scatter3d\": [{\"line\": {\"colorbar\": {\"outlinewidth\": 0, \"ticks\": \"\"}}, \"marker\": {\"colorbar\": {\"outlinewidth\": 0, \"ticks\": \"\"}}, \"type\": \"scatter3d\"}], \"scattercarpet\": [{\"marker\": {\"colorbar\": {\"outlinewidth\": 0, \"ticks\": \"\"}}, \"type\": \"scattercarpet\"}], \"scattergeo\": [{\"marker\": {\"colorbar\": {\"outlinewidth\": 0, \"ticks\": \"\"}}, \"type\": \"scattergeo\"}], \"scattergl\": [{\"marker\": {\"colorbar\": {\"outlinewidth\": 0, \"ticks\": \"\"}}, \"type\": \"scattergl\"}], \"scattermapbox\": [{\"marker\": {\"colorbar\": {\"outlinewidth\": 0, \"ticks\": \"\"}}, \"type\": \"scattermapbox\"}], \"scatterpolar\": [{\"marker\": {\"colorbar\": {\"outlinewidth\": 0, \"ticks\": \"\"}}, \"type\": \"scatterpolar\"}], \"scatterpolargl\": [{\"marker\": {\"colorbar\": {\"outlinewidth\": 0, \"ticks\": \"\"}}, \"type\": \"scatterpolargl\"}], \"scatterternary\": [{\"marker\": {\"colorbar\": {\"outlinewidth\": 0, \"ticks\": \"\"}}, \"type\": \"scatterternary\"}], \"surface\": [{\"colorbar\": {\"outlinewidth\": 0, \"ticks\": \"\"}, \"colorscale\": [[0.0, \"#0d0887\"], [0.1111111111111111, \"#46039f\"], [0.2222222222222222, \"#7201a8\"], [0.3333333333333333, \"#9c179e\"], [0.4444444444444444, \"#bd3786\"], [0.5555555555555556, \"#d8576b\"], [0.6666666666666666, \"#ed7953\"], [0.7777777777777778, \"#fb9f3a\"], [0.8888888888888888, \"#fdca26\"], [1.0, \"#f0f921\"]], \"type\": \"surface\"}], \"table\": [{\"cells\": {\"fill\": {\"color\": \"#EBF0F8\"}, \"line\": {\"color\": \"white\"}}, \"header\": {\"fill\": {\"color\": \"#C8D4E3\"}, \"line\": {\"color\": \"white\"}}, \"type\": \"table\"}]}, \"layout\": {\"annotationdefaults\": {\"arrowcolor\": \"#2a3f5f\", \"arrowhead\": 0, \"arrowwidth\": 1}, \"autotypenumbers\": \"strict\", \"coloraxis\": {\"colorbar\": {\"outlinewidth\": 0, \"ticks\": \"\"}}, \"colorscale\": {\"diverging\": [[0, \"#8e0152\"], [0.1, \"#c51b7d\"], [0.2, \"#de77ae\"], [0.3, \"#f1b6da\"], [0.4, \"#fde0ef\"], [0.5, \"#f7f7f7\"], [0.6, \"#e6f5d0\"], [0.7, \"#b8e186\"], [0.8, \"#7fbc41\"], [0.9, \"#4d9221\"], [1, \"#276419\"]], \"sequential\": [[0.0, \"#0d0887\"], [0.1111111111111111, \"#46039f\"], [0.2222222222222222, \"#7201a8\"], [0.3333333333333333, \"#9c179e\"], [0.4444444444444444, \"#bd3786\"], [0.5555555555555556, \"#d8576b\"], [0.6666666666666666, \"#ed7953\"], [0.7777777777777778, \"#fb9f3a\"], [0.8888888888888888, \"#fdca26\"], [1.0, \"#f0f921\"]], \"sequentialminus\": [[0.0, \"#0d0887\"], [0.1111111111111111, \"#46039f\"], [0.2222222222222222, \"#7201a8\"], [0.3333333333333333, \"#9c179e\"], [0.4444444444444444, \"#bd3786\"], [0.5555555555555556, \"#d8576b\"], [0.6666666666666666, \"#ed7953\"], [0.7777777777777778, \"#fb9f3a\"], [0.8888888888888888, \"#fdca26\"], [1.0, \"#f0f921\"]]}, \"colorway\": [\"#636efa\", \"#EF553B\", \"#00cc96\", \"#ab63fa\", \"#FFA15A\", \"#19d3f3\", \"#FF6692\", \"#B6E880\", \"#FF97FF\", \"#FECB52\"], \"font\": {\"color\": \"#2a3f5f\"}, \"geo\": {\"bgcolor\": \"white\", \"lakecolor\": \"white\", \"landcolor\": \"#E5ECF6\", \"showlakes\": true, \"showland\": true, \"subunitcolor\": \"white\"}, \"hoverlabel\": {\"align\": \"left\"}, \"hovermode\": \"closest\", \"mapbox\": {\"style\": \"light\"}, \"paper_bgcolor\": \"white\", \"plot_bgcolor\": \"#E5ECF6\", \"polar\": {\"angularaxis\": {\"gridcolor\": \"white\", \"linecolor\": \"white\", \"ticks\": \"\"}, \"bgcolor\": \"#E5ECF6\", \"radialaxis\": {\"gridcolor\": \"white\", \"linecolor\": \"white\", \"ticks\": \"\"}}, \"scene\": {\"xaxis\": {\"backgroundcolor\": \"#E5ECF6\", \"gridcolor\": \"white\", \"gridwidth\": 2, \"linecolor\": \"white\", \"showbackground\": true, \"ticks\": \"\", \"zerolinecolor\": \"white\"}, \"yaxis\": {\"backgroundcolor\": \"#E5ECF6\", \"gridcolor\": \"white\", \"gridwidth\": 2, \"linecolor\": \"white\", \"showbackground\": true, \"ticks\": \"\", \"zerolinecolor\": \"white\"}, \"zaxis\": {\"backgroundcolor\": \"#E5ECF6\", \"gridcolor\": \"white\", \"gridwidth\": 2, \"linecolor\": \"white\", \"showbackground\": true, \"ticks\": \"\", \"zerolinecolor\": \"white\"}}, \"shapedefaults\": {\"line\": {\"color\": \"#2a3f5f\"}}, \"ternary\": {\"aaxis\": {\"gridcolor\": \"white\", \"linecolor\": \"white\", \"ticks\": \"\"}, \"baxis\": {\"gridcolor\": \"white\", \"linecolor\": \"white\", \"ticks\": \"\"}, \"bgcolor\": \"#E5ECF6\", \"caxis\": {\"gridcolor\": \"white\", \"linecolor\": \"white\", \"ticks\": \"\"}}, \"title\": {\"x\": 0.05}, \"xaxis\": {\"automargin\": true, \"gridcolor\": \"white\", \"linecolor\": \"white\", \"ticks\": \"\", \"title\": {\"standoff\": 15}, \"zerolinecolor\": \"white\", \"zerolinewidth\": 2}, \"yaxis\": {\"automargin\": true, \"gridcolor\": \"white\", \"linecolor\": \"white\", \"ticks\": \"\", \"title\": {\"standoff\": 15}, \"zerolinecolor\": \"white\", \"zerolinewidth\": 2}}}, \"title\": {\"text\": \"Distribution of AGE Vs DEATH_EVENT\"}, \"xaxis\": {\"anchor\": \"y\", \"domain\": [0.0, 1.0], \"title\": {\"text\": \"AGE\"}}, \"xaxis2\": {\"anchor\": \"y2\", \"domain\": [0.0, 1.0], \"matches\": \"x\", \"showgrid\": true, \"showticklabels\": false}, \"yaxis\": {\"anchor\": \"x\", \"domain\": [0.0, 0.7326], \"title\": {\"text\": \"count\"}}, \"yaxis2\": {\"anchor\": \"x2\", \"domain\": [0.7426, 1.0], \"matches\": \"y2\", \"showgrid\": false, \"showline\": false, \"showticklabels\": false, \"ticks\": \"\"}},                        {\"responsive\": true}                    ).then(function(){\n",
       "                            \n",
       "var gd = document.getElementById('b0c53201-3a0d-4881-acfc-d256c292168e');\n",
       "var x = new MutationObserver(function (mutations, observer) {{\n",
       "        var display = window.getComputedStyle(gd).display;\n",
       "        if (!display || display === 'none') {{\n",
       "            console.log([gd, 'removed!']);\n",
       "            Plotly.purge(gd);\n",
       "            observer.disconnect();\n",
       "        }}\n",
       "}});\n",
       "\n",
       "// Listen for the removal of the full notebook cells\n",
       "var notebookContainer = gd.closest('#notebook-container');\n",
       "if (notebookContainer) {{\n",
       "    x.observe(notebookContainer, {childList: true});\n",
       "}}\n",
       "\n",
       "// Listen for the clearing of the current output cell\n",
       "var outputEl = gd.closest('.output');\n",
       "if (outputEl) {{\n",
       "    x.observe(outputEl, {childList: true});\n",
       "}}\n",
       "\n",
       "                        })                };                });            </script>        </div>"
      ]
     },
     "metadata": {},
     "output_type": "display_data"
    }
   ],
   "source": [
    "# Distribution of AGE Vs DEATH_EVENT\n",
    "\n",
    "fig = px.histogram(train, x=\"age\", color=\"DEATH_EVENT\", marginal=\"violin\", hover_data=train.columns, \n",
    "                   title =\"Distribution of AGE Vs DEATH_EVENT\", \n",
    "                   labels={\"age\": \"AGE\"},\n",
    "                   template=\"plotly\",\n",
    "                   \n",
    "                   \n",
    "                  )\n",
    "fig.show()"
   ]
  },
  {
   "cell_type": "markdown",
   "metadata": {
    "papermill": {
     "duration": 0.068823,
     "end_time": "2021-01-30T12:06:56.265521",
     "exception": false,
     "start_time": "2021-01-30T12:06:56.196698",
     "status": "completed"
    },
    "tags": []
   },
   "source": [
    "### sex"
   ]
  },
  {
   "cell_type": "code",
   "execution_count": 13,
   "metadata": {
    "execution": {
     "iopub.execute_input": "2021-01-30T12:06:56.407068Z",
     "iopub.status.busy": "2021-01-30T12:06:56.406384Z",
     "iopub.status.idle": "2021-01-30T12:06:56.486786Z",
     "shell.execute_reply": "2021-01-30T12:06:56.487399Z"
    },
    "papermill": {
     "duration": 0.152778,
     "end_time": "2021-01-30T12:06:56.487550",
     "exception": false,
     "start_time": "2021-01-30T12:06:56.334772",
     "status": "completed"
    },
    "tags": []
   },
   "outputs": [
    {
     "data": {
      "text/plain": [
       "<matplotlib.axes._subplots.AxesSubplot at 0x7fb7a7f801d0>"
      ]
     },
     "execution_count": 13,
     "metadata": {},
     "output_type": "execute_result"
    },
    {
     "data": {
      "image/png": "[encoded data removed]",
      "text/plain": [
       "<Figure size 576x576 with 1 Axes>"
      ]
     },
     "metadata": {},
     "output_type": "display_data"
    }
   ],
   "source": [
    "train.sex.value_counts().plot.pie(explode=[0.1,0.1],autopct='%1.1f%%',shadow=True)"
   ]
  },
  {
   "cell_type": "code",
   "execution_count": 14,
   "metadata": {
    "execution": {
     "iopub.execute_input": "2021-01-30T12:06:56.632660Z",
     "iopub.status.busy": "2021-01-30T12:06:56.631989Z",
     "iopub.status.idle": "2021-01-30T12:06:56.797943Z",
     "shell.execute_reply": "2021-01-30T12:06:56.798471Z"
    },
    "papermill": {
     "duration": 0.239876,
     "end_time": "2021-01-30T12:06:56.798624",
     "exception": false,
     "start_time": "2021-01-30T12:06:56.558748",
     "status": "completed"
    },
    "tags": []
   },
   "outputs": [
    {
     "data": {
      "text/plain": [
       "<matplotlib.legend.Legend at 0x7fb7a8a77590>"
      ]
     },
     "execution_count": 14,
     "metadata": {},
     "output_type": "execute_result"
    },
    {
     "data": {
      "image/png": "[encoded data removed]",
      "text/plain": [
       "<Figure size 576x576 with 1 Axes>"
      ]
     },
     "metadata": {},
     "output_type": "display_data"
    }
   ],
   "source": [
    "sns.countplot(x='sex',hue='DEATH_EVENT',data=train)\n",
    "plt.legend(['yes','no'])"
   ]
  },
  {
   "cell_type": "code",
   "execution_count": 15,
   "metadata": {
    "execution": {
     "iopub.execute_input": "2021-01-30T12:06:56.947451Z",
     "iopub.status.busy": "2021-01-30T12:06:56.946746Z",
     "iopub.status.idle": "2021-01-30T12:06:57.022223Z",
     "shell.execute_reply": "2021-01-30T12:06:57.022726Z"
    },
    "papermill": {
     "duration": 0.15225,
     "end_time": "2021-01-30T12:06:57.022879",
     "exception": false,
     "start_time": "2021-01-30T12:06:56.870629",
     "status": "completed"
    },
    "tags": []
   },
   "outputs": [
    {
     "data": {
      "text/html": [
       "<div>                            <div id=\"327e56de-66f8-480e-9962-2e293939d7cd\" class=\"plotly-graph-div\" style=\"height:500px; width:1200px;\"></div>            <script type=\"text/javascript\">                require([\"plotly\"], function(Plotly) {                    window.PLOTLYENV=window.PLOTLYENV || {};                                    if (document.getElementById(\"327e56de-66f8-480e-9962-2e293939d7cd\")) {                    Plotly.newPlot(                        \"327e56de-66f8-480e-9962-2e293939d7cd\",                        [{\"domain\": {\"x\": [0.0, 0.45], \"y\": [0.0, 1.0]}, \"hole\": 0.4, \"hoverinfo\": \"label+percent\", \"labels\": [\"Male\", \"Female\"], \"name\": \"GENDER\", \"type\": \"pie\", \"values\": [194, 105]}, {\"domain\": {\"x\": [0.55, 1.0], \"y\": [0.0, 1.0]}, \"hole\": 0.4, \"hoverinfo\": \"label+percent\", \"labels\": [\"Male - Survived\", \"Male - Died\", \"Female -  Survived\", \"Female - Died\"], \"name\": \"GENDER VS DEATH_EVENT\", \"type\": \"pie\", \"values\": [132, 62, 71, 34]}],                        {\"annotations\": [{\"font\": {\"size\": 10}, \"showarrow\": false, \"text\": \"GENDER\", \"x\": 0.19, \"y\": 0.5}, {\"font\": {\"size\": 9}, \"showarrow\": false, \"text\": \"GENDER VS DEATH_EVENT\", \"x\": 0.84, \"y\": 0.5}], \"autosize\": false, \"height\": 500, \"paper_bgcolor\": \"white\", \"template\": {\"data\": {\"bar\": [{\"error_x\": {\"color\": \"#2a3f5f\"}, \"error_y\": {\"color\": \"#2a3f5f\"}, \"marker\": {\"line\": {\"color\": \"#E5ECF6\", \"width\": 0.5}}, \"type\": \"bar\"}], \"barpolar\": [{\"marker\": {\"line\": {\"color\": \"#E5ECF6\", \"width\": 0.5}}, \"type\": \"barpolar\"}], \"carpet\": [{\"aaxis\": {\"endlinecolor\": \"#2a3f5f\", \"gridcolor\": \"white\", \"linecolor\": \"white\", \"minorgridcolor\": \"white\", \"startlinecolor\": \"#2a3f5f\"}, \"baxis\": {\"endlinecolor\": \"#2a3f5f\", \"gridcolor\": \"white\", \"linecolor\": \"white\", \"minorgridcolor\": \"white\", \"startlinecolor\": \"#2a3f5f\"}, \"type\": \"carpet\"}], \"choropleth\": [{\"colorbar\": {\"outlinewidth\": 0, \"ticks\": \"\"}, \"type\": \"choropleth\"}], \"contour\": [{\"colorbar\": {\"outlinewidth\": 0, \"ticks\": \"\"}, \"colorscale\": [[0.0, \"#0d0887\"], [0.1111111111111111, \"#46039f\"], [0.2222222222222222, \"#7201a8\"], [0.3333333333333333, \"#9c179e\"], [0.4444444444444444, \"#bd3786\"], [0.5555555555555556, \"#d8576b\"], [0.6666666666666666, \"#ed7953\"], [0.7777777777777778, \"#fb9f3a\"], [0.8888888888888888, \"#fdca26\"], [1.0, \"#f0f921\"]], \"type\": \"contour\"}], \"contourcarpet\": [{\"colorbar\": {\"outlinewidth\": 0, \"ticks\": \"\"}, \"type\": \"contourcarpet\"}], \"heatmap\": [{\"colorbar\": {\"outlinewidth\": 0, \"ticks\": \"\"}, \"colorscale\": [[0.0, \"#0d0887\"], [0.1111111111111111, \"#46039f\"], [0.2222222222222222, \"#7201a8\"], [0.3333333333333333, \"#9c179e\"], [0.4444444444444444, \"#bd3786\"], [0.5555555555555556, \"#d8576b\"], [0.6666666666666666, \"#ed7953\"], [0.7777777777777778, \"#fb9f3a\"], [0.8888888888888888, \"#fdca26\"], [1.0, \"#f0f921\"]], \"type\": \"heatmap\"}], \"heatmapgl\": [{\"colorbar\": {\"outlinewidth\": 0, \"ticks\": \"\"}, \"colorscale\": [[0.0, \"#0d0887\"], [0.1111111111111111, \"#46039f\"], [0.2222222222222222, \"#7201a8\"], [0.3333333333333333, \"#9c179e\"], [0.4444444444444444, \"#bd3786\"], [0.5555555555555556, \"#d8576b\"], [0.6666666666666666, \"#ed7953\"], [0.7777777777777778, \"#fb9f3a\"], [0.8888888888888888, \"#fdca26\"], [1.0, \"#f0f921\"]], \"type\": \"heatmapgl\"}], \"histogram\": [{\"marker\": {\"colorbar\": {\"outlinewidth\": 0, \"ticks\": \"\"}}, \"type\": \"histogram\"}], \"histogram2d\": [{\"colorbar\": {\"outlinewidth\": 0, \"ticks\": \"\"}, \"colorscale\": [[0.0, \"#0d0887\"], [0.1111111111111111, \"#46039f\"], [0.2222222222222222, \"#7201a8\"], [0.3333333333333333, \"#9c179e\"], [0.4444444444444444, \"#bd3786\"], [0.5555555555555556, \"#d8576b\"], [0.6666666666666666, \"#ed7953\"], [0.7777777777777778, \"#fb9f3a\"], [0.8888888888888888, \"#fdca26\"], [1.0, \"#f0f921\"]], \"type\": \"histogram2d\"}], \"histogram2dcontour\": [{\"colorbar\": {\"outlinewidth\": 0, \"ticks\": \"\"}, \"colorscale\": [[0.0, \"#0d0887\"], [0.1111111111111111, \"#46039f\"], [0.2222222222222222, \"#7201a8\"], [0.3333333333333333, \"#9c179e\"], [0.4444444444444444, \"#bd3786\"], [0.5555555555555556, \"#d8576b\"], [0.6666666666666666, \"#ed7953\"], [0.7777777777777778, \"#fb9f3a\"], [0.8888888888888888, \"#fdca26\"], [1.0, \"#f0f921\"]], \"type\": \"histogram2dcontour\"}], \"mesh3d\": [{\"colorbar\": {\"outlinewidth\": 0, \"ticks\": \"\"}, \"type\": \"mesh3d\"}], \"parcoords\": [{\"line\": {\"colorbar\": {\"outlinewidth\": 0, \"ticks\": \"\"}}, \"type\": \"parcoords\"}], \"pie\": [{\"automargin\": true, \"type\": \"pie\"}], \"scatter\": [{\"marker\": {\"colorbar\": {\"outlinewidth\": 0, \"ticks\": \"\"}}, \"type\": \"scatter\"}], \"scatter3d\": [{\"line\": {\"colorbar\": {\"outlinewidth\": 0, \"ticks\": \"\"}}, \"marker\": {\"colorbar\": {\"outlinewidth\": 0, \"ticks\": \"\"}}, \"type\": \"scatter3d\"}], \"scattercarpet\": [{\"marker\": {\"colorbar\": {\"outlinewidth\": 0, \"ticks\": \"\"}}, \"type\": \"scattercarpet\"}], \"scattergeo\": [{\"marker\": {\"colorbar\": {\"outlinewidth\": 0, \"ticks\": \"\"}}, \"type\": \"scattergeo\"}], \"scattergl\": [{\"marker\": {\"colorbar\": {\"outlinewidth\": 0, \"ticks\": \"\"}}, \"type\": \"scattergl\"}], \"scattermapbox\": [{\"marker\": {\"colorbar\": {\"outlinewidth\": 0, \"ticks\": \"\"}}, \"type\": \"scattermapbox\"}], \"scatterpolar\": [{\"marker\": {\"colorbar\": {\"outlinewidth\": 0, \"ticks\": \"\"}}, \"type\": \"scatterpolar\"}], \"scatterpolargl\": [{\"marker\": {\"colorbar\": {\"outlinewidth\": 0, \"ticks\": \"\"}}, \"type\": \"scatterpolargl\"}], \"scatterternary\": [{\"marker\": {\"colorbar\": {\"outlinewidth\": 0, \"ticks\": \"\"}}, \"type\": \"scatterternary\"}], \"surface\": [{\"colorbar\": {\"outlinewidth\": 0, \"ticks\": \"\"}, \"colorscale\": [[0.0, \"#0d0887\"], [0.1111111111111111, \"#46039f\"], [0.2222222222222222, \"#7201a8\"], [0.3333333333333333, \"#9c179e\"], [0.4444444444444444, \"#bd3786\"], [0.5555555555555556, \"#d8576b\"], [0.6666666666666666, \"#ed7953\"], [0.7777777777777778, \"#fb9f3a\"], [0.8888888888888888, \"#fdca26\"], [1.0, \"#f0f921\"]], \"type\": \"surface\"}], \"table\": [{\"cells\": {\"fill\": {\"color\": \"#EBF0F8\"}, \"line\": {\"color\": \"white\"}}, \"header\": {\"fill\": {\"color\": \"#C8D4E3\"}, \"line\": {\"color\": \"white\"}}, \"type\": \"table\"}]}, \"layout\": {\"annotationdefaults\": {\"arrowcolor\": \"#2a3f5f\", \"arrowhead\": 0, \"arrowwidth\": 1}, \"autotypenumbers\": \"strict\", \"coloraxis\": {\"colorbar\": {\"outlinewidth\": 0, \"ticks\": \"\"}}, \"colorscale\": {\"diverging\": [[0, \"#8e0152\"], [0.1, \"#c51b7d\"], [0.2, \"#de77ae\"], [0.3, \"#f1b6da\"], [0.4, \"#fde0ef\"], [0.5, \"#f7f7f7\"], [0.6, \"#e6f5d0\"], [0.7, \"#b8e186\"], [0.8, \"#7fbc41\"], [0.9, \"#4d9221\"], [1, \"#276419\"]], \"sequential\": [[0.0, \"#0d0887\"], [0.1111111111111111, \"#46039f\"], [0.2222222222222222, \"#7201a8\"], [0.3333333333333333, \"#9c179e\"], [0.4444444444444444, \"#bd3786\"], [0.5555555555555556, \"#d8576b\"], [0.6666666666666666, \"#ed7953\"], [0.7777777777777778, \"#fb9f3a\"], [0.8888888888888888, \"#fdca26\"], [1.0, \"#f0f921\"]], \"sequentialminus\": [[0.0, \"#0d0887\"], [0.1111111111111111, \"#46039f\"], [0.2222222222222222, \"#7201a8\"], [0.3333333333333333, \"#9c179e\"], [0.4444444444444444, \"#bd3786\"], [0.5555555555555556, \"#d8576b\"], [0.6666666666666666, \"#ed7953\"], [0.7777777777777778, \"#fb9f3a\"], [0.8888888888888888, \"#fdca26\"], [1.0, \"#f0f921\"]]}, \"colorway\": [\"#636efa\", \"#EF553B\", \"#00cc96\", \"#ab63fa\", \"#FFA15A\", \"#19d3f3\", \"#FF6692\", \"#B6E880\", \"#FF97FF\", \"#FECB52\"], \"font\": {\"color\": \"#2a3f5f\"}, \"geo\": {\"bgcolor\": \"white\", \"lakecolor\": \"white\", \"landcolor\": \"#E5ECF6\", \"showlakes\": true, \"showland\": true, \"subunitcolor\": \"white\"}, \"hoverlabel\": {\"align\": \"left\"}, \"hovermode\": \"closest\", \"mapbox\": {\"style\": \"light\"}, \"paper_bgcolor\": \"white\", \"plot_bgcolor\": \"#E5ECF6\", \"polar\": {\"angularaxis\": {\"gridcolor\": \"white\", \"linecolor\": \"white\", \"ticks\": \"\"}, \"bgcolor\": \"#E5ECF6\", \"radialaxis\": {\"gridcolor\": \"white\", \"linecolor\": \"white\", \"ticks\": \"\"}}, \"scene\": {\"xaxis\": {\"backgroundcolor\": \"#E5ECF6\", \"gridcolor\": \"white\", \"gridwidth\": 2, \"linecolor\": \"white\", \"showbackground\": true, \"ticks\": \"\", \"zerolinecolor\": \"white\"}, \"yaxis\": {\"backgroundcolor\": \"#E5ECF6\", \"gridcolor\": \"white\", \"gridwidth\": 2, \"linecolor\": \"white\", \"showbackground\": true, \"ticks\": \"\", \"zerolinecolor\": \"white\"}, \"zaxis\": {\"backgroundcolor\": \"#E5ECF6\", \"gridcolor\": \"white\", \"gridwidth\": 2, \"linecolor\": \"white\", \"showbackground\": true, \"ticks\": \"\", \"zerolinecolor\": \"white\"}}, \"shapedefaults\": {\"line\": {\"color\": \"#2a3f5f\"}}, \"ternary\": {\"aaxis\": {\"gridcolor\": \"white\", \"linecolor\": \"white\", \"ticks\": \"\"}, \"baxis\": {\"gridcolor\": \"white\", \"linecolor\": \"white\", \"ticks\": \"\"}, \"bgcolor\": \"#E5ECF6\", \"caxis\": {\"gridcolor\": \"white\", \"linecolor\": \"white\", \"ticks\": \"\"}}, \"title\": {\"x\": 0.05}, \"xaxis\": {\"automargin\": true, \"gridcolor\": \"white\", \"linecolor\": \"white\", \"ticks\": \"\", \"title\": {\"standoff\": 15}, \"zerolinecolor\": \"white\", \"zerolinewidth\": 2}, \"yaxis\": {\"automargin\": true, \"gridcolor\": \"white\", \"linecolor\": \"white\", \"ticks\": \"\", \"title\": {\"standoff\": 15}, \"zerolinecolor\": \"white\", \"zerolinewidth\": 2}}}, \"title\": {\"text\": \"GENDER DISTRIBUTION IN THE DATASET                     GENDER VS DEATH_EVENT\"}, \"width\": 1200},                        {\"responsive\": true}                    ).then(function(){\n",
       "                            \n",
       "var gd = document.getElementById('327e56de-66f8-480e-9962-2e293939d7cd');\n",
       "var x = new MutationObserver(function (mutations, observer) {{\n",
       "        var display = window.getComputedStyle(gd).display;\n",
       "        if (!display || display === 'none') {{\n",
       "            console.log([gd, 'removed!']);\n",
       "            Plotly.purge(gd);\n",
       "            observer.disconnect();\n",
       "        }}\n",
       "}});\n",
       "\n",
       "// Listen for the removal of the full notebook cells\n",
       "var notebookContainer = gd.closest('#notebook-container');\n",
       "if (notebookContainer) {{\n",
       "    x.observe(notebookContainer, {childList: true});\n",
       "}}\n",
       "\n",
       "// Listen for the clearing of the current output cell\n",
       "var outputEl = gd.closest('.output');\n",
       "if (outputEl) {{\n",
       "    x.observe(outputEl, {childList: true});\n",
       "}}\n",
       "\n",
       "                        })                };                });            </script>        </div>"
      ]
     },
     "metadata": {},
     "output_type": "display_data"
    }
   ],
   "source": [
    "import plotly.graph_objects as go\n",
    "from plotly.subplots import make_subplots\n",
    "\n",
    "d1 = train[(train[\"DEATH_EVENT\"]==0) & (train[\"sex\"]==1)]\n",
    "d2 = train[(train[\"DEATH_EVENT\"]==1) & (train[\"sex\"]==1)]\n",
    "d3 = train[(train[\"DEATH_EVENT\"]==0) & (train[\"sex\"]==0)]\n",
    "d4 = train[(train[\"DEATH_EVENT\"]==1) & (train[\"sex\"]==0)]\n",
    "\n",
    "label1 = [\"Male\",\"Female\"]\n",
    "label2 = ['Male - Survived','Male - Died', \"Female -  Survived\", \"Female - Died\"]\n",
    "\n",
    "values1 = [(len(d1)+len(d2)), (len(d3)+len(d4))]\n",
    "values2 = [len(d1),len(d2),len(d3),len(d4)]\n",
    "\n",
    "# Create subplots: use 'domain' type for Pie subplot\n",
    "fig = make_subplots(rows=1, cols=2, specs=[[{'type':'domain'}, {'type':'domain'}]])\n",
    "fig.add_trace(go.Pie(labels=label1, values=values1, name=\"GENDER\"),\n",
    "              1, 1)\n",
    "fig.add_trace(go.Pie(labels=label2, values=values2, name=\"GENDER VS DEATH_EVENT\"),\n",
    "              1, 2)\n",
    "\n",
    "# Use `hole` to create a donut-like pie chart\n",
    "fig.update_traces(hole=.4, hoverinfo=\"label+percent\")\n",
    "\n",
    "fig.update_layout(\n",
    "    title_text=\"GENDER DISTRIBUTION IN THE DATASET  \\\n",
    "                   GENDER VS DEATH_EVENT\",\n",
    "    # Add annotations in the center of the donut pies.\n",
    "    annotations=[dict(text='GENDER', x=0.19, y=0.5, font_size=10, showarrow=False),\n",
    "                 dict(text='GENDER VS DEATH_EVENT', x=0.84, y=0.5, font_size=9, showarrow=False)],\n",
    "    autosize=False,width=1200, height=500, paper_bgcolor=\"white\")\n",
    "\n",
    "fig.show()"
   ]
  },
  {
   "cell_type": "code",
   "execution_count": 16,
   "metadata": {
    "execution": {
     "iopub.execute_input": "2021-01-30T12:06:57.172803Z",
     "iopub.status.busy": "2021-01-30T12:06:57.171781Z",
     "iopub.status.idle": "2021-01-30T12:06:57.486174Z",
     "shell.execute_reply": "2021-01-30T12:06:57.486672Z"
    },
    "papermill": {
     "duration": 0.390936,
     "end_time": "2021-01-30T12:06:57.486837",
     "exception": false,
     "start_time": "2021-01-30T12:06:57.095901",
     "status": "completed"
    },
    "tags": []
   },
   "outputs": [
    {
     "data": {
      "image/png": "[encoded data removed]",
      "text/plain": [
       "<Figure size 576x576 with 1 Axes>"
      ]
     },
     "metadata": {},
     "output_type": "display_data"
    }
   ],
   "source": [
    "sns.barplot(x='sex',y='smoking',hue='DEATH_EVENT',data=train);"
   ]
  },
  {
   "cell_type": "code",
   "execution_count": 17,
   "metadata": {
    "execution": {
     "iopub.execute_input": "2021-01-30T12:06:57.639153Z",
     "iopub.status.busy": "2021-01-30T12:06:57.638103Z",
     "iopub.status.idle": "2021-01-30T12:06:57.949293Z",
     "shell.execute_reply": "2021-01-30T12:06:57.949783Z"
    },
    "papermill": {
     "duration": 0.388161,
     "end_time": "2021-01-30T12:06:57.949930",
     "exception": false,
     "start_time": "2021-01-30T12:06:57.561769",
     "status": "completed"
    },
    "tags": []
   },
   "outputs": [
    {
     "data": {
      "image/png": "[encoded data removed]",
      "text/plain": [
       "<Figure size 576x576 with 1 Axes>"
      ]
     },
     "metadata": {},
     "output_type": "display_data"
    }
   ],
   "source": [
    "sns.countplot(x='sex',hue='smoking',data=train)\n",
    "plt.legend(['yes','no']);"
   ]
  },
  {
   "cell_type": "code",
   "execution_count": 18,
   "metadata": {
    "execution": {
     "iopub.execute_input": "2021-01-30T12:06:58.102882Z",
     "iopub.status.busy": "2021-01-30T12:06:58.102011Z",
     "iopub.status.idle": "2021-01-30T12:06:58.269990Z",
     "shell.execute_reply": "2021-01-30T12:06:58.270570Z"
    },
    "papermill": {
     "duration": 0.246654,
     "end_time": "2021-01-30T12:06:58.270730",
     "exception": false,
     "start_time": "2021-01-30T12:06:58.024076",
     "status": "completed"
    },
    "tags": []
   },
   "outputs": [
    {
     "data": {
      "image/png": "[encoded data removed]",
      "text/plain": [
       "<Figure size 576x576 with 1 Axes>"
      ]
     },
     "metadata": {},
     "output_type": "display_data"
    }
   ],
   "source": [
    "sns.countplot(x='sex',hue='diabetes',data=train)\n",
    "plt.legend(['yes','no']);"
   ]
  },
  {
   "cell_type": "markdown",
   "metadata": {
    "papermill": {
     "duration": 0.075615,
     "end_time": "2021-01-30T12:06:58.422119",
     "exception": false,
     "start_time": "2021-01-30T12:06:58.346504",
     "status": "completed"
    },
    "tags": []
   },
   "source": [
    "### diabet"
   ]
  },
  {
   "cell_type": "code",
   "execution_count": 19,
   "metadata": {
    "execution": {
     "iopub.execute_input": "2021-01-30T12:06:58.578221Z",
     "iopub.status.busy": "2021-01-30T12:06:58.577510Z",
     "iopub.status.idle": "2021-01-30T12:06:58.658166Z",
     "shell.execute_reply": "2021-01-30T12:06:58.657465Z"
    },
    "papermill": {
     "duration": 0.160553,
     "end_time": "2021-01-30T12:06:58.658294",
     "exception": false,
     "start_time": "2021-01-30T12:06:58.497741",
     "status": "completed"
    },
    "tags": []
   },
   "outputs": [
    {
     "data": {
      "text/plain": [
       "<matplotlib.axes._subplots.AxesSubplot at 0x7fb7a77521d0>"
      ]
     },
     "execution_count": 19,
     "metadata": {},
     "output_type": "execute_result"
    },
    {
     "data": {
      "image/png": "[encoded data removed]",
      "text/plain": [
       "<Figure size 576x576 with 1 Axes>"
      ]
     },
     "metadata": {},
     "output_type": "display_data"
    }
   ],
   "source": [
    "train.diabetes.value_counts().plot.pie(explode=[0.1,0.1],autopct='%2.2f%%',shadow=True)"
   ]
  },
  {
   "cell_type": "code",
   "execution_count": 20,
   "metadata": {
    "execution": {
     "iopub.execute_input": "2021-01-30T12:06:58.818708Z",
     "iopub.status.busy": "2021-01-30T12:06:58.818016Z",
     "iopub.status.idle": "2021-01-30T12:06:58.989101Z",
     "shell.execute_reply": "2021-01-30T12:06:58.989647Z"
    },
    "papermill": {
     "duration": 0.253631,
     "end_time": "2021-01-30T12:06:58.989787",
     "exception": false,
     "start_time": "2021-01-30T12:06:58.736156",
     "status": "completed"
    },
    "tags": []
   },
   "outputs": [
    {
     "data": {
      "image/png": "[encoded data removed]",
      "text/plain": [
       "<Figure size 576x576 with 1 Axes>"
      ]
     },
     "metadata": {},
     "output_type": "display_data"
    }
   ],
   "source": [
    "sns.countplot(x='diabetes',hue='DEATH_EVENT',data=train)\n",
    "plt.legend(['yes','no']);"
   ]
  },
  {
   "cell_type": "markdown",
   "metadata": {
    "papermill": {
     "duration": 0.078833,
     "end_time": "2021-01-30T12:06:59.147380",
     "exception": false,
     "start_time": "2021-01-30T12:06:59.068547",
     "status": "completed"
    },
    "tags": []
   },
   "source": [
    "### ejection_fraction\n"
   ]
  },
  {
   "cell_type": "code",
   "execution_count": 21,
   "metadata": {
    "execution": {
     "iopub.execute_input": "2021-01-30T12:06:59.309749Z",
     "iopub.status.busy": "2021-01-30T12:06:59.308722Z",
     "iopub.status.idle": "2021-01-30T12:06:59.556788Z",
     "shell.execute_reply": "2021-01-30T12:06:59.557356Z"
    },
    "papermill": {
     "duration": 0.330691,
     "end_time": "2021-01-30T12:06:59.557505",
     "exception": false,
     "start_time": "2021-01-30T12:06:59.226814",
     "status": "completed"
    },
    "tags": []
   },
   "outputs": [
    {
     "data": {
      "image/png": "[encoded data removed]",
      "text/plain": [
       "<Figure size 576x576 with 1 Axes>"
      ]
     },
     "metadata": {},
     "output_type": "display_data"
    }
   ],
   "source": [
    "sns.boxplot(x = train.ejection_fraction, color = 'green')\n",
    "plt.show()"
   ]
  },
  {
   "cell_type": "markdown",
   "metadata": {
    "papermill": {
     "duration": 0.077474,
     "end_time": "2021-01-30T12:06:59.713081",
     "exception": false,
     "start_time": "2021-01-30T12:06:59.635607",
     "status": "completed"
    },
    "tags": []
   },
   "source": [
    "We can see there are two outliers. Lets remove them (70 and 80) "
   ]
  },
  {
   "cell_type": "code",
   "execution_count": 22,
   "metadata": {
    "execution": {
     "iopub.execute_input": "2021-01-30T12:06:59.873795Z",
     "iopub.status.busy": "2021-01-30T12:06:59.872761Z",
     "iopub.status.idle": "2021-01-30T12:06:59.887664Z",
     "shell.execute_reply": "2021-01-30T12:06:59.888117Z"
    },
    "papermill": {
     "duration": 0.096545,
     "end_time": "2021-01-30T12:06:59.888265",
     "exception": false,
     "start_time": "2021-01-30T12:06:59.791720",
     "status": "completed"
    },
    "tags": []
   },
   "outputs": [
    {
     "data": {
      "text/html": [
       "<div>\n",
       "<style scoped>\n",
       "    .dataframe tbody tr th:only-of-type {\n",
       "        vertical-align: middle;\n",
       "    }\n",
       "\n",
       "    .dataframe tbody tr th {\n",
       "        vertical-align: top;\n",
       "    }\n",
       "\n",
       "    .dataframe thead th {\n",
       "        text-align: right;\n",
       "    }\n",
       "</style>\n",
       "<table border=\"1\" class=\"dataframe\">\n",
       "  <thead>\n",
       "    <tr style=\"text-align: right;\">\n",
       "      <th></th>\n",
       "      <th>age</th>\n",
       "      <th>anaemia</th>\n",
       "      <th>creatinine_phosphokinase</th>\n",
       "      <th>diabetes</th>\n",
       "      <th>ejection_fraction</th>\n",
       "      <th>high_blood_pressure</th>\n",
       "      <th>platelets</th>\n",
       "      <th>serum_creatinine</th>\n",
       "      <th>serum_sodium</th>\n",
       "      <th>sex</th>\n",
       "      <th>smoking</th>\n",
       "      <th>time</th>\n",
       "      <th>DEATH_EVENT</th>\n",
       "    </tr>\n",
       "  </thead>\n",
       "  <tbody>\n",
       "    <tr>\n",
       "      <th>64</th>\n",
       "      <td>45.0</td>\n",
       "      <td>0</td>\n",
       "      <td>582</td>\n",
       "      <td>0</td>\n",
       "      <td>80</td>\n",
       "      <td>0</td>\n",
       "      <td>263358.03</td>\n",
       "      <td>1.18</td>\n",
       "      <td>137</td>\n",
       "      <td>0</td>\n",
       "      <td>0</td>\n",
       "      <td>63</td>\n",
       "      <td>0</td>\n",
       "    </tr>\n",
       "    <tr>\n",
       "      <th>217</th>\n",
       "      <td>54.0</td>\n",
       "      <td>1</td>\n",
       "      <td>427</td>\n",
       "      <td>0</td>\n",
       "      <td>70</td>\n",
       "      <td>1</td>\n",
       "      <td>151000.00</td>\n",
       "      <td>9.00</td>\n",
       "      <td>137</td>\n",
       "      <td>0</td>\n",
       "      <td>0</td>\n",
       "      <td>196</td>\n",
       "      <td>1</td>\n",
       "    </tr>\n",
       "  </tbody>\n",
       "</table>\n",
       "</div>"
      ],
      "text/plain": [
       "      age  anaemia  creatinine_phosphokinase  diabetes  ejection_fraction  \\\n",
       "64   45.0        0                       582         0                 80   \n",
       "217  54.0        1                       427         0                 70   \n",
       "\n",
       "     high_blood_pressure  platelets  serum_creatinine  serum_sodium  sex  \\\n",
       "64                     0  263358.03              1.18           137    0   \n",
       "217                    1  151000.00              9.00           137    0   \n",
       "\n",
       "     smoking  time  DEATH_EVENT  \n",
       "64         0    63            0  \n",
       "217        0   196            1  "
      ]
     },
     "execution_count": 22,
     "metadata": {},
     "output_type": "execute_result"
    }
   ],
   "source": [
    "train[train['ejection_fraction']>=70]"
   ]
  },
  {
   "cell_type": "code",
   "execution_count": 23,
   "metadata": {
    "execution": {
     "iopub.execute_input": "2021-01-30T12:07:00.066398Z",
     "iopub.status.busy": "2021-01-30T12:07:00.065277Z",
     "iopub.status.idle": "2021-01-30T12:07:00.072918Z",
     "shell.execute_reply": "2021-01-30T12:07:00.072205Z"
    },
    "papermill": {
     "duration": 0.104551,
     "end_time": "2021-01-30T12:07:00.073032",
     "exception": false,
     "start_time": "2021-01-30T12:06:59.968481",
     "status": "completed"
    },
    "tags": []
   },
   "outputs": [],
   "source": [
    "train = train[train['ejection_fraction']<70]"
   ]
  },
  {
   "cell_type": "code",
   "execution_count": 24,
   "metadata": {
    "execution": {
     "iopub.execute_input": "2021-01-30T12:07:00.248499Z",
     "iopub.status.busy": "2021-01-30T12:07:00.247788Z",
     "iopub.status.idle": "2021-01-30T12:07:00.319437Z",
     "shell.execute_reply": "2021-01-30T12:07:00.318727Z"
    },
    "papermill": {
     "duration": 0.154041,
     "end_time": "2021-01-30T12:07:00.319557",
     "exception": false,
     "start_time": "2021-01-30T12:07:00.165516",
     "status": "completed"
    },
    "tags": []
   },
   "outputs": [
    {
     "data": {
      "text/html": [
       "<div>                            <div id=\"eb9302e9-5b87-4a86-ac5e-dfa0263337ab\" class=\"plotly-graph-div\" style=\"height:525px; width:100%;\"></div>            <script type=\"text/javascript\">                require([\"plotly\"], function(Plotly) {                    window.PLOTLYENV=window.PLOTLYENV || {};                                    if (document.getElementById(\"eb9302e9-5b87-4a86-ac5e-dfa0263337ab\")) {                    Plotly.newPlot(                        \"eb9302e9-5b87-4a86-ac5e-dfa0263337ab\",                        [{\"marker\": {\"color\": \"#A7F432\"}, \"opacity\": 1, \"type\": \"histogram\", \"x\": [20, 38, 20, 20, 20, 40, 15, 60, 65, 35, 38, 25, 30, 38, 30, 50, 38, 14, 25, 55, 25, 30, 35, 60, 30, 38, 40, 45, 38, 30, 38, 45, 35, 30, 50, 35, 50, 50, 30, 38, 20, 30, 45, 50, 60, 38, 25, 38, 20, 30, 25, 20, 62, 50, 38, 30, 35, 40, 20, 20, 25, 40, 35, 35, 20, 15, 25, 25, 25, 40, 35, 35, 50, 20, 20, 60, 40, 38, 45, 40, 50, 25, 50, 25, 50, 35, 60, 40, 25, 45, 45, 60, 25, 38, 60, 25, 60, 25, 40, 25, 45, 25, 30, 50, 30, 45, 35, 38, 35, 60, 35, 25, 60, 40, 40, 60, 60, 60, 38, 60, 38, 38, 30, 40, 50, 17, 60, 30, 35, 60, 45, 40, 60, 35, 40, 60, 25, 35, 30, 38, 35, 30, 40, 25, 30, 30, 60, 30, 35, 45, 60, 45, 35, 35, 25, 35, 25, 50, 45, 40, 35, 40, 35, 30, 38, 60, 20, 40, 35, 35, 40, 60, 20, 35, 60, 40, 50, 60, 40, 30, 25, 25, 38, 25, 30, 50, 25, 40, 45, 35, 60, 40, 30, 20, 45, 38, 30, 20, 35, 45, 60, 60, 25, 40, 45, 40, 38, 40, 35, 17, 62, 50, 30, 35, 35, 50, 35, 35, 20, 50, 35, 25, 25, 60, 25, 35, 25, 25, 30, 35, 35, 38, 45, 50, 50, 30, 40, 45, 35, 30, 35, 40, 38, 38, 25, 25, 35, 40, 30, 35, 45, 35, 60, 30, 38, 38, 25, 50, 40, 40, 25, 60, 38, 35, 20, 38, 38, 35, 30, 40, 38, 40, 30, 38, 35, 38, 30, 38, 40, 40, 30, 38, 40, 40, 35, 55, 35, 38, 55, 35, 38, 35, 38, 38, 60, 38, 45], \"xbins\": {\"end\": 80, \"size\": 2, \"start\": 14}}],                        {\"bargap\": 0.05, \"template\": {\"data\": {\"bar\": [{\"error_x\": {\"color\": \"#f2f5fa\"}, \"error_y\": {\"color\": \"#f2f5fa\"}, \"marker\": {\"line\": {\"color\": \"rgb(17,17,17)\", \"width\": 0.5}}, \"type\": \"bar\"}], \"barpolar\": [{\"marker\": {\"line\": {\"color\": \"rgb(17,17,17)\", \"width\": 0.5}}, \"type\": \"barpolar\"}], \"carpet\": [{\"aaxis\": {\"endlinecolor\": \"#A2B1C6\", \"gridcolor\": \"#506784\", \"linecolor\": \"#506784\", \"minorgridcolor\": \"#506784\", \"startlinecolor\": \"#A2B1C6\"}, \"baxis\": {\"endlinecolor\": \"#A2B1C6\", \"gridcolor\": \"#506784\", \"linecolor\": \"#506784\", \"minorgridcolor\": \"#506784\", \"startlinecolor\": \"#A2B1C6\"}, \"type\": \"carpet\"}], \"choropleth\": [{\"colorbar\": {\"outlinewidth\": 0, \"ticks\": \"\"}, \"type\": \"choropleth\"}], \"contour\": [{\"colorbar\": {\"outlinewidth\": 0, \"ticks\": \"\"}, \"colorscale\": [[0.0, \"#0d0887\"], [0.1111111111111111, \"#46039f\"], [0.2222222222222222, \"#7201a8\"], [0.3333333333333333, \"#9c179e\"], [0.4444444444444444, \"#bd3786\"], [0.5555555555555556, \"#d8576b\"], [0.6666666666666666, \"#ed7953\"], [0.7777777777777778, \"#fb9f3a\"], [0.8888888888888888, \"#fdca26\"], [1.0, \"#f0f921\"]], \"type\": \"contour\"}], \"contourcarpet\": [{\"colorbar\": {\"outlinewidth\": 0, \"ticks\": \"\"}, \"type\": \"contourcarpet\"}], \"heatmap\": [{\"colorbar\": {\"outlinewidth\": 0, \"ticks\": \"\"}, \"colorscale\": [[0.0, \"#0d0887\"], [0.1111111111111111, \"#46039f\"], [0.2222222222222222, \"#7201a8\"], [0.3333333333333333, \"#9c179e\"], [0.4444444444444444, \"#bd3786\"], [0.5555555555555556, \"#d8576b\"], [0.6666666666666666, \"#ed7953\"], [0.7777777777777778, \"#fb9f3a\"], [0.8888888888888888, \"#fdca26\"], [1.0, \"#f0f921\"]], \"type\": \"heatmap\"}], \"heatmapgl\": [{\"colorbar\": {\"outlinewidth\": 0, \"ticks\": \"\"}, \"colorscale\": [[0.0, \"#0d0887\"], [0.1111111111111111, \"#46039f\"], [0.2222222222222222, \"#7201a8\"], [0.3333333333333333, \"#9c179e\"], [0.4444444444444444, \"#bd3786\"], [0.5555555555555556, \"#d8576b\"], [0.6666666666666666, \"#ed7953\"], [0.7777777777777778, \"#fb9f3a\"], [0.8888888888888888, \"#fdca26\"], [1.0, \"#f0f921\"]], \"type\": \"heatmapgl\"}], \"histogram\": [{\"marker\": {\"colorbar\": {\"outlinewidth\": 0, \"ticks\": \"\"}}, \"type\": \"histogram\"}], \"histogram2d\": [{\"colorbar\": {\"outlinewidth\": 0, \"ticks\": \"\"}, \"colorscale\": [[0.0, \"#0d0887\"], [0.1111111111111111, \"#46039f\"], [0.2222222222222222, \"#7201a8\"], [0.3333333333333333, \"#9c179e\"], [0.4444444444444444, \"#bd3786\"], [0.5555555555555556, \"#d8576b\"], [0.6666666666666666, \"#ed7953\"], [0.7777777777777778, \"#fb9f3a\"], [0.8888888888888888, \"#fdca26\"], [1.0, \"#f0f921\"]], \"type\": \"histogram2d\"}], \"histogram2dcontour\": [{\"colorbar\": {\"outlinewidth\": 0, \"ticks\": \"\"}, \"colorscale\": [[0.0, \"#0d0887\"], [0.1111111111111111, \"#46039f\"], [0.2222222222222222, \"#7201a8\"], [0.3333333333333333, \"#9c179e\"], [0.4444444444444444, \"#bd3786\"], [0.5555555555555556, \"#d8576b\"], [0.6666666666666666, \"#ed7953\"], [0.7777777777777778, \"#fb9f3a\"], [0.8888888888888888, \"#fdca26\"], [1.0, \"#f0f921\"]], \"type\": \"histogram2dcontour\"}], \"mesh3d\": [{\"colorbar\": {\"outlinewidth\": 0, \"ticks\": \"\"}, \"type\": \"mesh3d\"}], \"parcoords\": [{\"line\": {\"colorbar\": {\"outlinewidth\": 0, \"ticks\": \"\"}}, \"type\": \"parcoords\"}], \"pie\": [{\"automargin\": true, \"type\": \"pie\"}], \"scatter\": [{\"marker\": {\"line\": {\"color\": \"#283442\"}}, \"type\": \"scatter\"}], \"scatter3d\": [{\"line\": {\"colorbar\": {\"outlinewidth\": 0, \"ticks\": \"\"}}, \"marker\": {\"colorbar\": {\"outlinewidth\": 0, \"ticks\": \"\"}}, \"type\": \"scatter3d\"}], \"scattercarpet\": [{\"marker\": {\"colorbar\": {\"outlinewidth\": 0, \"ticks\": \"\"}}, \"type\": \"scattercarpet\"}], \"scattergeo\": [{\"marker\": {\"colorbar\": {\"outlinewidth\": 0, \"ticks\": \"\"}}, \"type\": \"scattergeo\"}], \"scattergl\": [{\"marker\": {\"line\": {\"color\": \"#283442\"}}, \"type\": \"scattergl\"}], \"scattermapbox\": [{\"marker\": {\"colorbar\": {\"outlinewidth\": 0, \"ticks\": \"\"}}, \"type\": \"scattermapbox\"}], \"scatterpolar\": [{\"marker\": {\"colorbar\": {\"outlinewidth\": 0, \"ticks\": \"\"}}, \"type\": \"scatterpolar\"}], \"scatterpolargl\": [{\"marker\": {\"colorbar\": {\"outlinewidth\": 0, \"ticks\": \"\"}}, \"type\": \"scatterpolargl\"}], \"scatterternary\": [{\"marker\": {\"colorbar\": {\"outlinewidth\": 0, \"ticks\": \"\"}}, \"type\": \"scatterternary\"}], \"surface\": [{\"colorbar\": {\"outlinewidth\": 0, \"ticks\": \"\"}, \"colorscale\": [[0.0, \"#0d0887\"], [0.1111111111111111, \"#46039f\"], [0.2222222222222222, \"#7201a8\"], [0.3333333333333333, \"#9c179e\"], [0.4444444444444444, \"#bd3786\"], [0.5555555555555556, \"#d8576b\"], [0.6666666666666666, \"#ed7953\"], [0.7777777777777778, \"#fb9f3a\"], [0.8888888888888888, \"#fdca26\"], [1.0, \"#f0f921\"]], \"type\": \"surface\"}], \"table\": [{\"cells\": {\"fill\": {\"color\": \"#506784\"}, \"line\": {\"color\": \"rgb(17,17,17)\"}}, \"header\": {\"fill\": {\"color\": \"#2a3f5f\"}, \"line\": {\"color\": \"rgb(17,17,17)\"}}, \"type\": \"table\"}]}, \"layout\": {\"annotationdefaults\": {\"arrowcolor\": \"#f2f5fa\", \"arrowhead\": 0, \"arrowwidth\": 1}, \"autotypenumbers\": \"strict\", \"coloraxis\": {\"colorbar\": {\"outlinewidth\": 0, \"ticks\": \"\"}}, \"colorscale\": {\"diverging\": [[0, \"#8e0152\"], [0.1, \"#c51b7d\"], [0.2, \"#de77ae\"], [0.3, \"#f1b6da\"], [0.4, \"#fde0ef\"], [0.5, \"#f7f7f7\"], [0.6, \"#e6f5d0\"], [0.7, \"#b8e186\"], [0.8, \"#7fbc41\"], [0.9, \"#4d9221\"], [1, \"#276419\"]], \"sequential\": [[0.0, \"#0d0887\"], [0.1111111111111111, \"#46039f\"], [0.2222222222222222, \"#7201a8\"], [0.3333333333333333, \"#9c179e\"], [0.4444444444444444, \"#bd3786\"], [0.5555555555555556, \"#d8576b\"], [0.6666666666666666, \"#ed7953\"], [0.7777777777777778, \"#fb9f3a\"], [0.8888888888888888, \"#fdca26\"], [1.0, \"#f0f921\"]], \"sequentialminus\": [[0.0, \"#0d0887\"], [0.1111111111111111, \"#46039f\"], [0.2222222222222222, \"#7201a8\"], [0.3333333333333333, \"#9c179e\"], [0.4444444444444444, \"#bd3786\"], [0.5555555555555556, \"#d8576b\"], [0.6666666666666666, \"#ed7953\"], [0.7777777777777778, \"#fb9f3a\"], [0.8888888888888888, \"#fdca26\"], [1.0, \"#f0f921\"]]}, \"colorway\": [\"#636efa\", \"#EF553B\", \"#00cc96\", \"#ab63fa\", \"#FFA15A\", \"#19d3f3\", \"#FF6692\", \"#B6E880\", \"#FF97FF\", \"#FECB52\"], \"font\": {\"color\": \"#f2f5fa\"}, \"geo\": {\"bgcolor\": \"rgb(17,17,17)\", \"lakecolor\": \"rgb(17,17,17)\", \"landcolor\": \"rgb(17,17,17)\", \"showlakes\": true, \"showland\": true, \"subunitcolor\": \"#506784\"}, \"hoverlabel\": {\"align\": \"left\"}, \"hovermode\": \"closest\", \"mapbox\": {\"style\": \"dark\"}, \"paper_bgcolor\": \"rgb(17,17,17)\", \"plot_bgcolor\": \"rgb(17,17,17)\", \"polar\": {\"angularaxis\": {\"gridcolor\": \"#506784\", \"linecolor\": \"#506784\", \"ticks\": \"\"}, \"bgcolor\": \"rgb(17,17,17)\", \"radialaxis\": {\"gridcolor\": \"#506784\", \"linecolor\": \"#506784\", \"ticks\": \"\"}}, \"scene\": {\"xaxis\": {\"backgroundcolor\": \"rgb(17,17,17)\", \"gridcolor\": \"#506784\", \"gridwidth\": 2, \"linecolor\": \"#506784\", \"showbackground\": true, \"ticks\": \"\", \"zerolinecolor\": \"#C8D4E3\"}, \"yaxis\": {\"backgroundcolor\": \"rgb(17,17,17)\", \"gridcolor\": \"#506784\", \"gridwidth\": 2, \"linecolor\": \"#506784\", \"showbackground\": true, \"ticks\": \"\", \"zerolinecolor\": \"#C8D4E3\"}, \"zaxis\": {\"backgroundcolor\": \"rgb(17,17,17)\", \"gridcolor\": \"#506784\", \"gridwidth\": 2, \"linecolor\": \"#506784\", \"showbackground\": true, \"ticks\": \"\", \"zerolinecolor\": \"#C8D4E3\"}}, \"shapedefaults\": {\"line\": {\"color\": \"#f2f5fa\"}}, \"sliderdefaults\": {\"bgcolor\": \"#C8D4E3\", \"bordercolor\": \"rgb(17,17,17)\", \"borderwidth\": 1, \"tickwidth\": 0}, \"ternary\": {\"aaxis\": {\"gridcolor\": \"#506784\", \"linecolor\": \"#506784\", \"ticks\": \"\"}, \"baxis\": {\"gridcolor\": \"#506784\", \"linecolor\": \"#506784\", \"ticks\": \"\"}, \"bgcolor\": \"rgb(17,17,17)\", \"caxis\": {\"gridcolor\": \"#506784\", \"linecolor\": \"#506784\", \"ticks\": \"\"}}, \"title\": {\"x\": 0.05}, \"updatemenudefaults\": {\"bgcolor\": \"#506784\", \"borderwidth\": 0}, \"xaxis\": {\"automargin\": true, \"gridcolor\": \"#283442\", \"linecolor\": \"#506784\", \"ticks\": \"\", \"title\": {\"standoff\": 15}, \"zerolinecolor\": \"#283442\", \"zerolinewidth\": 2}, \"yaxis\": {\"automargin\": true, \"gridcolor\": \"#283442\", \"linecolor\": \"#506784\", \"ticks\": \"\", \"title\": {\"standoff\": 15}, \"zerolinecolor\": \"#283442\", \"zerolinewidth\": 2}}}, \"title\": {\"text\": \"EJECTION FRACTION DISTRIBUTION\"}, \"xaxis\": {\"title\": {\"text\": \"EJECTION FRACTION\"}}, \"yaxis\": {\"title\": {\"text\": \"COUNT\"}}},                        {\"responsive\": true}                    ).then(function(){\n",
       "                            \n",
       "var gd = document.getElementById('eb9302e9-5b87-4a86-ac5e-dfa0263337ab');\n",
       "var x = new MutationObserver(function (mutations, observer) {{\n",
       "        var display = window.getComputedStyle(gd).display;\n",
       "        if (!display || display === 'none') {{\n",
       "            console.log([gd, 'removed!']);\n",
       "            Plotly.purge(gd);\n",
       "            observer.disconnect();\n",
       "        }}\n",
       "}});\n",
       "\n",
       "// Listen for the removal of the full notebook cells\n",
       "var notebookContainer = gd.closest('#notebook-container');\n",
       "if (notebookContainer) {{\n",
       "    x.observe(notebookContainer, {childList: true});\n",
       "}}\n",
       "\n",
       "// Listen for the clearing of the current output cell\n",
       "var outputEl = gd.closest('.output');\n",
       "if (outputEl) {{\n",
       "    x.observe(outputEl, {childList: true});\n",
       "}}\n",
       "\n",
       "                        })                };                });            </script>        </div>"
      ]
     },
     "metadata": {},
     "output_type": "display_data"
    }
   ],
   "source": [
    "import plotly.graph_objects as go\n",
    "\n",
    "fig = go.Figure()\n",
    "fig.add_trace(go.Histogram(\n",
    "    x = train['ejection_fraction'],\n",
    "    xbins=dict( # bins used for histogram\n",
    "        start=14,\n",
    "        end=80,\n",
    "        size=2\n",
    "    ),\n",
    "    marker_color='#A7F432',\n",
    "    opacity=1\n",
    "))\n",
    "\n",
    "fig.update_layout(\n",
    "    title_text='EJECTION FRACTION DISTRIBUTION',\n",
    "    xaxis_title_text='EJECTION FRACTION',\n",
    "    yaxis_title_text='COUNT', \n",
    "    bargap=0.05, # gap between bars of adjacent location coordinates\n",
    "\n",
    "    template = 'plotly_dark'\n",
    ")\n",
    "\n",
    "fig.show()"
   ]
  },
  {
   "cell_type": "markdown",
   "metadata": {
    "papermill": {
     "duration": 0.079695,
     "end_time": "2021-01-30T12:07:00.479293",
     "exception": false,
     "start_time": "2021-01-30T12:07:00.399598",
     "status": "completed"
    },
    "tags": []
   },
   "source": [
    "### Time"
   ]
  },
  {
   "cell_type": "markdown",
   "metadata": {
    "papermill": {
     "duration": 0.07979,
     "end_time": "2021-01-30T12:07:00.639628",
     "exception": false,
     "start_time": "2021-01-30T12:07:00.559838",
     "status": "completed"
    },
    "tags": []
   },
   "source": [
    "## features selection "
   ]
  },
  {
   "cell_type": "code",
   "execution_count": 25,
   "metadata": {
    "execution": {
     "iopub.execute_input": "2021-01-30T12:07:00.806483Z",
     "iopub.status.busy": "2021-01-30T12:07:00.805778Z",
     "iopub.status.idle": "2021-01-30T12:07:01.041146Z",
     "shell.execute_reply": "2021-01-30T12:07:01.041691Z"
    },
    "papermill": {
     "duration": 0.322622,
     "end_time": "2021-01-30T12:07:01.041834",
     "exception": false,
     "start_time": "2021-01-30T12:07:00.719212",
     "status": "completed"
    },
    "tags": []
   },
   "outputs": [
    {
     "data": {
      "image/png": "[encoded data removed]",
      "text/plain": [
       "<Figure size 576x576 with 1 Axes>"
      ]
     },
     "metadata": {},
     "output_type": "display_data"
    }
   ],
   "source": [
    "sns.boxplot(x=train.time, color = 'yellow')\n",
    "plt.show()"
   ]
  },
  {
   "cell_type": "markdown",
   "metadata": {
    "papermill": {
     "duration": 0.081008,
     "end_time": "2021-01-30T12:07:01.204722",
     "exception": false,
     "start_time": "2021-01-30T12:07:01.123714",
     "status": "completed"
    },
    "tags": []
   },
   "source": [
    "No outliers in time "
   ]
  },
  {
   "cell_type": "markdown",
   "metadata": {
    "papermill": {
     "duration": 0.081077,
     "end_time": "2021-01-30T12:07:01.367632",
     "exception": false,
     "start_time": "2021-01-30T12:07:01.286555",
     "status": "completed"
    },
    "tags": []
   },
   "source": [
    "### ejection_fraction"
   ]
  },
  {
   "cell_type": "code",
   "execution_count": 26,
   "metadata": {
    "execution": {
     "iopub.execute_input": "2021-01-30T12:07:01.534340Z",
     "iopub.status.busy": "2021-01-30T12:07:01.533650Z",
     "iopub.status.idle": "2021-01-30T12:07:01.755043Z",
     "shell.execute_reply": "2021-01-30T12:07:01.755586Z"
    },
    "papermill": {
     "duration": 0.306998,
     "end_time": "2021-01-30T12:07:01.755732",
     "exception": false,
     "start_time": "2021-01-30T12:07:01.448734",
     "status": "completed"
    },
    "tags": []
   },
   "outputs": [
    {
     "data": {
      "image/png": "[encoded data removed]",
      "text/plain": [
       "<Figure size 576x576 with 1 Axes>"
      ]
     },
     "metadata": {},
     "output_type": "display_data"
    }
   ],
   "source": [
    "sns.boxplot(x=train.serum_creatinine, color = 'red')\n",
    "plt.show()"
   ]
  },
  {
   "cell_type": "code",
   "execution_count": 27,
   "metadata": {
    "execution": {
     "iopub.execute_input": "2021-01-30T12:07:01.925758Z",
     "iopub.status.busy": "2021-01-30T12:07:01.925018Z",
     "iopub.status.idle": "2021-01-30T12:07:01.929579Z",
     "shell.execute_reply": "2021-01-30T12:07:01.929040Z"
    },
    "papermill": {
     "duration": 0.090505,
     "end_time": "2021-01-30T12:07:01.929704",
     "exception": false,
     "start_time": "2021-01-30T12:07:01.839199",
     "status": "completed"
    },
    "tags": []
   },
   "outputs": [],
   "source": [
    "# Before dealing with outliers we require knowledge about the outlier, the dataset and possibly some domain knowledge.\n",
    "\n",
    "# Removing outliers without a good reason will not always increase accuracy. Without a deep understanding of what are the possible ranges that\n",
    "# exist within each feature, removing outliers becomes tricky.\n",
    "\n",
    "# When I researched a bit I found that all the values in serum_creatinine falls in possible range of values. So they are not outliers. \n",
    "# They are actual data points that helps in predicting DEATH_EVENT."
   ]
  },
  {
   "cell_type": "markdown",
   "metadata": {
    "papermill": {
     "duration": 0.081665,
     "end_time": "2021-01-30T12:07:02.093888",
     "exception": false,
     "start_time": "2021-01-30T12:07:02.012223",
     "status": "completed"
    },
    "tags": []
   },
   "source": [
    "## feature selection"
   ]
  },
  {
   "cell_type": "code",
   "execution_count": 28,
   "metadata": {
    "execution": {
     "iopub.execute_input": "2021-01-30T12:07:02.267858Z",
     "iopub.status.busy": "2021-01-30T12:07:02.267089Z",
     "iopub.status.idle": "2021-01-30T12:07:02.475356Z",
     "shell.execute_reply": "2021-01-30T12:07:02.475979Z"
    },
    "papermill": {
     "duration": 0.299428,
     "end_time": "2021-01-30T12:07:02.476124",
     "exception": false,
     "start_time": "2021-01-30T12:07:02.176696",
     "status": "completed"
    },
    "tags": []
   },
   "outputs": [
    {
     "data": {
      "text/html": [
       "<style  type=\"text/css\" >\n",
       "#T_a9750728_62f3_11eb_a644_0242ac130202row0_col0,#T_a9750728_62f3_11eb_a644_0242ac130202row1_col1,#T_a9750728_62f3_11eb_a644_0242ac130202row2_col2,#T_a9750728_62f3_11eb_a644_0242ac130202row3_col3,#T_a9750728_62f3_11eb_a644_0242ac130202row4_col4,#T_a9750728_62f3_11eb_a644_0242ac130202row5_col5,#T_a9750728_62f3_11eb_a644_0242ac130202row6_col6,#T_a9750728_62f3_11eb_a644_0242ac130202row7_col7,#T_a9750728_62f3_11eb_a644_0242ac130202row8_col8,#T_a9750728_62f3_11eb_a644_0242ac130202row9_col9,#T_a9750728_62f3_11eb_a644_0242ac130202row10_col10,#T_a9750728_62f3_11eb_a644_0242ac130202row11_col11,#T_a9750728_62f3_11eb_a644_0242ac130202row12_col12{\n",
       "            background-color:  #b40426;\n",
       "            color:  #f1f1f1;\n",
       "        }#T_a9750728_62f3_11eb_a644_0242ac130202row0_col1,#T_a9750728_62f3_11eb_a644_0242ac130202row3_col4,#T_a9750728_62f3_11eb_a644_0242ac130202row9_col0{\n",
       "            background-color:  #86a9fc;\n",
       "            color:  #000000;\n",
       "        }#T_a9750728_62f3_11eb_a644_0242ac130202row0_col2{\n",
       "            background-color:  #5673e0;\n",
       "            color:  #000000;\n",
       "        }#T_a9750728_62f3_11eb_a644_0242ac130202row0_col3{\n",
       "            background-color:  #4a63d3;\n",
       "            color:  #f1f1f1;\n",
       "        }#T_a9750728_62f3_11eb_a644_0242ac130202row0_col4,#T_a9750728_62f3_11eb_a644_0242ac130202row6_col4{\n",
       "            background-color:  #9abbff;\n",
       "            color:  #000000;\n",
       "        }#T_a9750728_62f3_11eb_a644_0242ac130202row0_col5,#T_a9750728_62f3_11eb_a644_0242ac130202row1_col4,#T_a9750728_62f3_11eb_a644_0242ac130202row11_col8{\n",
       "            background-color:  #8caffe;\n",
       "            color:  #000000;\n",
       "        }#T_a9750728_62f3_11eb_a644_0242ac130202row0_col6,#T_a9750728_62f3_11eb_a644_0242ac130202row8_col3,#T_a9750728_62f3_11eb_a644_0242ac130202row10_col1{\n",
       "            background-color:  #4f69d9;\n",
       "            color:  #000000;\n",
       "        }#T_a9750728_62f3_11eb_a644_0242ac130202row0_col7,#T_a9750728_62f3_11eb_a644_0242ac130202row10_col11{\n",
       "            background-color:  #aac7fd;\n",
       "            color:  #000000;\n",
       "        }#T_a9750728_62f3_11eb_a644_0242ac130202row0_col8,#T_a9750728_62f3_11eb_a644_0242ac130202row2_col6,#T_a9750728_62f3_11eb_a644_0242ac130202row5_col7,#T_a9750728_62f3_11eb_a644_0242ac130202row10_col6{\n",
       "            background-color:  #6687ed;\n",
       "            color:  #000000;\n",
       "        }#T_a9750728_62f3_11eb_a644_0242ac130202row0_col9,#T_a9750728_62f3_11eb_a644_0242ac130202row1_col5,#T_a9750728_62f3_11eb_a644_0242ac130202row3_col6,#T_a9750728_62f3_11eb_a644_0242ac130202row4_col6{\n",
       "            background-color:  #799cf8;\n",
       "            color:  #000000;\n",
       "        }#T_a9750728_62f3_11eb_a644_0242ac130202row0_col10,#T_a9750728_62f3_11eb_a644_0242ac130202row6_col0,#T_a9750728_62f3_11eb_a644_0242ac130202row12_col3,#T_a9750728_62f3_11eb_a644_0242ac130202row12_col9{\n",
       "            background-color:  #6788ee;\n",
       "            color:  #000000;\n",
       "        }#T_a9750728_62f3_11eb_a644_0242ac130202row0_col11,#T_a9750728_62f3_11eb_a644_0242ac130202row8_col5{\n",
       "            background-color:  #7b9ff9;\n",
       "            color:  #000000;\n",
       "        }#T_a9750728_62f3_11eb_a644_0242ac130202row0_col12{\n",
       "            background-color:  #e0dbd8;\n",
       "            color:  #000000;\n",
       "        }#T_a9750728_62f3_11eb_a644_0242ac130202row1_col0,#T_a9750728_62f3_11eb_a644_0242ac130202row4_col0,#T_a9750728_62f3_11eb_a644_0242ac130202row11_col4{\n",
       "            background-color:  #8fb1fe;\n",
       "            color:  #000000;\n",
       "        }#T_a9750728_62f3_11eb_a644_0242ac130202row1_col2,#T_a9750728_62f3_11eb_a644_0242ac130202row2_col1,#T_a9750728_62f3_11eb_a644_0242ac130202row3_col9,#T_a9750728_62f3_11eb_a644_0242ac130202row3_col10,#T_a9750728_62f3_11eb_a644_0242ac130202row7_col8,#T_a9750728_62f3_11eb_a644_0242ac130202row8_col7,#T_a9750728_62f3_11eb_a644_0242ac130202row9_col3,#T_a9750728_62f3_11eb_a644_0242ac130202row9_col6,#T_a9750728_62f3_11eb_a644_0242ac130202row11_col0,#T_a9750728_62f3_11eb_a644_0242ac130202row11_col5,#T_a9750728_62f3_11eb_a644_0242ac130202row11_col12,#T_a9750728_62f3_11eb_a644_0242ac130202row12_col4,#T_a9750728_62f3_11eb_a644_0242ac130202row12_col11{\n",
       "            background-color:  #3b4cc0;\n",
       "            color:  #f1f1f1;\n",
       "        }#T_a9750728_62f3_11eb_a644_0242ac130202row1_col3,#T_a9750728_62f3_11eb_a644_0242ac130202row11_col9{\n",
       "            background-color:  #6384eb;\n",
       "            color:  #000000;\n",
       "        }#T_a9750728_62f3_11eb_a644_0242ac130202row1_col6,#T_a9750728_62f3_11eb_a644_0242ac130202row9_col1{\n",
       "            background-color:  #536edd;\n",
       "            color:  #000000;\n",
       "        }#T_a9750728_62f3_11eb_a644_0242ac130202row1_col7,#T_a9750728_62f3_11eb_a644_0242ac130202row8_col1,#T_a9750728_62f3_11eb_a644_0242ac130202row10_col0{\n",
       "            background-color:  #7a9df8;\n",
       "            color:  #000000;\n",
       "        }#T_a9750728_62f3_11eb_a644_0242ac130202row1_col8,#T_a9750728_62f3_11eb_a644_0242ac130202row8_col2,#T_a9750728_62f3_11eb_a644_0242ac130202row12_col1{\n",
       "            background-color:  #7ea1fa;\n",
       "            color:  #000000;\n",
       "        }#T_a9750728_62f3_11eb_a644_0242ac130202row1_col9{\n",
       "            background-color:  #4c66d6;\n",
       "            color:  #000000;\n",
       "        }#T_a9750728_62f3_11eb_a644_0242ac130202row1_col10,#T_a9750728_62f3_11eb_a644_0242ac130202row4_col9,#T_a9750728_62f3_11eb_a644_0242ac130202row11_col1{\n",
       "            background-color:  #455cce;\n",
       "            color:  #f1f1f1;\n",
       "        }#T_a9750728_62f3_11eb_a644_0242ac130202row1_col11{\n",
       "            background-color:  #8db0fe;\n",
       "            color:  #000000;\n",
       "        }#T_a9750728_62f3_11eb_a644_0242ac130202row1_col12{\n",
       "            background-color:  #bcd2f7;\n",
       "            color:  #000000;\n",
       "        }#T_a9750728_62f3_11eb_a644_0242ac130202row2_col0,#T_a9750728_62f3_11eb_a644_0242ac130202row7_col3,#T_a9750728_62f3_11eb_a644_0242ac130202row8_col9{\n",
       "            background-color:  #5f7fe8;\n",
       "            color:  #000000;\n",
       "        }#T_a9750728_62f3_11eb_a644_0242ac130202row2_col3,#T_a9750728_62f3_11eb_a644_0242ac130202row2_col10,#T_a9750728_62f3_11eb_a644_0242ac130202row5_col3,#T_a9750728_62f3_11eb_a644_0242ac130202row7_col5,#T_a9750728_62f3_11eb_a644_0242ac130202row8_col10{\n",
       "            background-color:  #6485ec;\n",
       "            color:  #000000;\n",
       "        }#T_a9750728_62f3_11eb_a644_0242ac130202row2_col4,#T_a9750728_62f3_11eb_a644_0242ac130202row4_col5,#T_a9750728_62f3_11eb_a644_0242ac130202row5_col1{\n",
       "            background-color:  #7699f6;\n",
       "            color:  #000000;\n",
       "        }#T_a9750728_62f3_11eb_a644_0242ac130202row2_col5,#T_a9750728_62f3_11eb_a644_0242ac130202row11_col10{\n",
       "            background-color:  #5d7ce6;\n",
       "            color:  #000000;\n",
       "        }#T_a9750728_62f3_11eb_a644_0242ac130202row2_col7,#T_a9750728_62f3_11eb_a644_0242ac130202row6_col7,#T_a9750728_62f3_11eb_a644_0242ac130202row10_col2{\n",
       "            background-color:  #6e90f2;\n",
       "            color:  #000000;\n",
       "        }#T_a9750728_62f3_11eb_a644_0242ac130202row2_col8,#T_a9750728_62f3_11eb_a644_0242ac130202row6_col8,#T_a9750728_62f3_11eb_a644_0242ac130202row7_col11{\n",
       "            background-color:  #84a7fc;\n",
       "            color:  #000000;\n",
       "        }#T_a9750728_62f3_11eb_a644_0242ac130202row2_col9,#T_a9750728_62f3_11eb_a644_0242ac130202row9_col7,#T_a9750728_62f3_11eb_a644_0242ac130202row12_col2{\n",
       "            background-color:  #80a3fa;\n",
       "            color:  #000000;\n",
       "        }#T_a9750728_62f3_11eb_a644_0242ac130202row2_col11,#T_a9750728_62f3_11eb_a644_0242ac130202row7_col0,#T_a9750728_62f3_11eb_a644_0242ac130202row10_col12{\n",
       "            background-color:  #adc9fd;\n",
       "            color:  #000000;\n",
       "        }#T_a9750728_62f3_11eb_a644_0242ac130202row2_col12,#T_a9750728_62f3_11eb_a644_0242ac130202row12_col0{\n",
       "            background-color:  #bed2f6;\n",
       "            color:  #000000;\n",
       "        }#T_a9750728_62f3_11eb_a644_0242ac130202row3_col0,#T_a9750728_62f3_11eb_a644_0242ac130202row3_col8,#T_a9750728_62f3_11eb_a644_0242ac130202row5_col2{\n",
       "            background-color:  #5977e3;\n",
       "            color:  #000000;\n",
       "        }#T_a9750728_62f3_11eb_a644_0242ac130202row3_col1,#T_a9750728_62f3_11eb_a644_0242ac130202row3_col2,#T_a9750728_62f3_11eb_a644_0242ac130202row3_col7,#T_a9750728_62f3_11eb_a644_0242ac130202row7_col2,#T_a9750728_62f3_11eb_a644_0242ac130202row9_col8{\n",
       "            background-color:  #6a8bef;\n",
       "            color:  #000000;\n",
       "        }#T_a9750728_62f3_11eb_a644_0242ac130202row3_col5{\n",
       "            background-color:  #6c8ff1;\n",
       "            color:  #000000;\n",
       "        }#T_a9750728_62f3_11eb_a644_0242ac130202row3_col11{\n",
       "            background-color:  #b7cff9;\n",
       "            color:  #000000;\n",
       "        }#T_a9750728_62f3_11eb_a644_0242ac130202row3_col12,#T_a9750728_62f3_11eb_a644_0242ac130202row9_col12{\n",
       "            background-color:  #afcafc;\n",
       "            color:  #000000;\n",
       "        }#T_a9750728_62f3_11eb_a644_0242ac130202row4_col1{\n",
       "            background-color:  #779af7;\n",
       "            color:  #000000;\n",
       "        }#T_a9750728_62f3_11eb_a644_0242ac130202row4_col2,#T_a9750728_62f3_11eb_a644_0242ac130202row7_col10,#T_a9750728_62f3_11eb_a644_0242ac130202row9_col4,#T_a9750728_62f3_11eb_a644_0242ac130202row10_col5,#T_a9750728_62f3_11eb_a644_0242ac130202row12_col10{\n",
       "            background-color:  #6180e9;\n",
       "            color:  #000000;\n",
       "        }#T_a9750728_62f3_11eb_a644_0242ac130202row4_col3,#T_a9750728_62f3_11eb_a644_0242ac130202row6_col10,#T_a9750728_62f3_11eb_a644_0242ac130202row7_col4,#T_a9750728_62f3_11eb_a644_0242ac130202row11_col2{\n",
       "            background-color:  #6b8df0;\n",
       "            color:  #000000;\n",
       "        }#T_a9750728_62f3_11eb_a644_0242ac130202row4_col7,#T_a9750728_62f3_11eb_a644_0242ac130202row7_col6{\n",
       "            background-color:  #5a78e4;\n",
       "            color:  #000000;\n",
       "        }#T_a9750728_62f3_11eb_a644_0242ac130202row4_col8,#T_a9750728_62f3_11eb_a644_0242ac130202row6_col12{\n",
       "            background-color:  #a6c4fe;\n",
       "            color:  #000000;\n",
       "        }#T_a9750728_62f3_11eb_a644_0242ac130202row4_col10,#T_a9750728_62f3_11eb_a644_0242ac130202row5_col10,#T_a9750728_62f3_11eb_a644_0242ac130202row9_col5{\n",
       "            background-color:  #5470de;\n",
       "            color:  #000000;\n",
       "        }#T_a9750728_62f3_11eb_a644_0242ac130202row4_col11{\n",
       "            background-color:  #bad0f8;\n",
       "            color:  #000000;\n",
       "        }#T_a9750728_62f3_11eb_a644_0242ac130202row4_col12,#T_a9750728_62f3_11eb_a644_0242ac130202row5_col6,#T_a9750728_62f3_11eb_a644_0242ac130202row10_col7{\n",
       "            background-color:  #6f92f3;\n",
       "            color:  #000000;\n",
       "        }#T_a9750728_62f3_11eb_a644_0242ac130202row5_col0{\n",
       "            background-color:  #90b2fe;\n",
       "            color:  #000000;\n",
       "        }#T_a9750728_62f3_11eb_a644_0242ac130202row5_col4{\n",
       "            background-color:  #89acfd;\n",
       "            color:  #000000;\n",
       "        }#T_a9750728_62f3_11eb_a644_0242ac130202row5_col8{\n",
       "            background-color:  #7da0f9;\n",
       "            color:  #000000;\n",
       "        }#T_a9750728_62f3_11eb_a644_0242ac130202row5_col9{\n",
       "            background-color:  #4b64d5;\n",
       "            color:  #f1f1f1;\n",
       "        }#T_a9750728_62f3_11eb_a644_0242ac130202row5_col11,#T_a9750728_62f3_11eb_a644_0242ac130202row6_col5{\n",
       "            background-color:  #81a4fb;\n",
       "            color:  #000000;\n",
       "        }#T_a9750728_62f3_11eb_a644_0242ac130202row5_col12{\n",
       "            background-color:  #bfd3f6;\n",
       "            color:  #000000;\n",
       "        }#T_a9750728_62f3_11eb_a644_0242ac130202row6_col1,#T_a9750728_62f3_11eb_a644_0242ac130202row11_col6{\n",
       "            background-color:  #6282ea;\n",
       "            color:  #000000;\n",
       "        }#T_a9750728_62f3_11eb_a644_0242ac130202row6_col2,#T_a9750728_62f3_11eb_a644_0242ac130202row7_col1,#T_a9750728_62f3_11eb_a644_0242ac130202row7_col9{\n",
       "            background-color:  #7597f6;\n",
       "            color:  #000000;\n",
       "        }#T_a9750728_62f3_11eb_a644_0242ac130202row6_col3,#T_a9750728_62f3_11eb_a644_0242ac130202row8_col12{\n",
       "            background-color:  #82a6fb;\n",
       "            color:  #000000;\n",
       "        }#T_a9750728_62f3_11eb_a644_0242ac130202row6_col9{\n",
       "            background-color:  #4358cb;\n",
       "            color:  #f1f1f1;\n",
       "        }#T_a9750728_62f3_11eb_a644_0242ac130202row6_col11{\n",
       "            background-color:  #b2ccfb;\n",
       "            color:  #000000;\n",
       "        }#T_a9750728_62f3_11eb_a644_0242ac130202row7_col12{\n",
       "            background-color:  #e6d7cf;\n",
       "            color:  #000000;\n",
       "        }#T_a9750728_62f3_11eb_a644_0242ac130202row8_col0{\n",
       "            background-color:  #688aef;\n",
       "            color:  #000000;\n",
       "        }#T_a9750728_62f3_11eb_a644_0242ac130202row8_col4{\n",
       "            background-color:  #b3cdfb;\n",
       "            color:  #000000;\n",
       "        }#T_a9750728_62f3_11eb_a644_0242ac130202row8_col6{\n",
       "            background-color:  #7093f3;\n",
       "            color:  #000000;\n",
       "        }#T_a9750728_62f3_11eb_a644_0242ac130202row8_col11{\n",
       "            background-color:  #c3d5f4;\n",
       "            color:  #000000;\n",
       "        }#T_a9750728_62f3_11eb_a644_0242ac130202row9_col2,#T_a9750728_62f3_11eb_a644_0242ac130202row12_col5{\n",
       "            background-color:  #85a8fc;\n",
       "            color:  #000000;\n",
       "        }#T_a9750728_62f3_11eb_a644_0242ac130202row9_col10{\n",
       "            background-color:  #e1dad6;\n",
       "            color:  #000000;\n",
       "        }#T_a9750728_62f3_11eb_a644_0242ac130202row9_col11{\n",
       "            background-color:  #abc8fd;\n",
       "            color:  #000000;\n",
       "        }#T_a9750728_62f3_11eb_a644_0242ac130202row10_col3,#T_a9750728_62f3_11eb_a644_0242ac130202row12_col8{\n",
       "            background-color:  #3e51c5;\n",
       "            color:  #f1f1f1;\n",
       "        }#T_a9750728_62f3_11eb_a644_0242ac130202row10_col4,#T_a9750728_62f3_11eb_a644_0242ac130202row10_col8{\n",
       "            background-color:  #7396f5;\n",
       "            color:  #000000;\n",
       "        }#T_a9750728_62f3_11eb_a644_0242ac130202row10_col9{\n",
       "            background-color:  #e2dad5;\n",
       "            color:  #000000;\n",
       "        }#T_a9750728_62f3_11eb_a644_0242ac130202row11_col3{\n",
       "            background-color:  #7295f4;\n",
       "            color:  #000000;\n",
       "        }#T_a9750728_62f3_11eb_a644_0242ac130202row11_col7{\n",
       "            background-color:  #3f53c6;\n",
       "            color:  #f1f1f1;\n",
       "        }#T_a9750728_62f3_11eb_a644_0242ac130202row12_col6{\n",
       "            background-color:  #516ddb;\n",
       "            color:  #000000;\n",
       "        }#T_a9750728_62f3_11eb_a644_0242ac130202row12_col7{\n",
       "            background-color:  #c4d5f3;\n",
       "            color:  #000000;\n",
       "        }</style><table id=\"T_a9750728_62f3_11eb_a644_0242ac130202\" ><thead>    <tr>        <th class=\"blank level0\" ></th>        <th class=\"col_heading level0 col0\" >age</th>        <th class=\"col_heading level0 col1\" >anaemia</th>        <th class=\"col_heading level0 col2\" >creatinine_phosphokinase</th>        <th class=\"col_heading level0 col3\" >diabetes</th>        <th class=\"col_heading level0 col4\" >ejection_fraction</th>        <th class=\"col_heading level0 col5\" >high_blood_pressure</th>        <th class=\"col_heading level0 col6\" >platelets</th>        <th class=\"col_heading level0 col7\" >serum_creatinine</th>        <th class=\"col_heading level0 col8\" >serum_sodium</th>        <th class=\"col_heading level0 col9\" >sex</th>        <th class=\"col_heading level0 col10\" >smoking</th>        <th class=\"col_heading level0 col11\" >time</th>        <th class=\"col_heading level0 col12\" >DEATH_EVENT</th>    </tr></thead><tbody>\n",
       "                <tr>\n",
       "                        <th id=\"T_a9750728_62f3_11eb_a644_0242ac130202level0_row0\" class=\"row_heading level0 row0\" >age</th>\n",
       "                        <td id=\"T_a9750728_62f3_11eb_a644_0242ac130202row0_col0\" class=\"data row0 col0\" >1.00</td>\n",
       "                        <td id=\"T_a9750728_62f3_11eb_a644_0242ac130202row0_col1\" class=\"data row0 col1\" >0.09</td>\n",
       "                        <td id=\"T_a9750728_62f3_11eb_a644_0242ac130202row0_col2\" class=\"data row0 col2\" >-0.08</td>\n",
       "                        <td id=\"T_a9750728_62f3_11eb_a644_0242ac130202row0_col3\" class=\"data row0 col3\" >-0.11</td>\n",
       "                        <td id=\"T_a9750728_62f3_11eb_a644_0242ac130202row0_col4\" class=\"data row0 col4\" >0.08</td>\n",
       "                        <td id=\"T_a9750728_62f3_11eb_a644_0242ac130202row0_col5\" class=\"data row0 col5\" >0.09</td>\n",
       "                        <td id=\"T_a9750728_62f3_11eb_a644_0242ac130202row0_col6\" class=\"data row0 col6\" >-0.05</td>\n",
       "                        <td id=\"T_a9750728_62f3_11eb_a644_0242ac130202row0_col7\" class=\"data row0 col7\" >0.19</td>\n",
       "                        <td id=\"T_a9750728_62f3_11eb_a644_0242ac130202row0_col8\" class=\"data row0 col8\" >-0.05</td>\n",
       "                        <td id=\"T_a9750728_62f3_11eb_a644_0242ac130202row0_col9\" class=\"data row0 col9\" >0.06</td>\n",
       "                        <td id=\"T_a9750728_62f3_11eb_a644_0242ac130202row0_col10\" class=\"data row0 col10\" >0.01</td>\n",
       "                        <td id=\"T_a9750728_62f3_11eb_a644_0242ac130202row0_col11\" class=\"data row0 col11\" >-0.23</td>\n",
       "                        <td id=\"T_a9750728_62f3_11eb_a644_0242ac130202row0_col12\" class=\"data row0 col12\" >0.26</td>\n",
       "            </tr>\n",
       "            <tr>\n",
       "                        <th id=\"T_a9750728_62f3_11eb_a644_0242ac130202level0_row1\" class=\"row_heading level0 row1\" >anaemia</th>\n",
       "                        <td id=\"T_a9750728_62f3_11eb_a644_0242ac130202row1_col0\" class=\"data row1 col0\" >0.09</td>\n",
       "                        <td id=\"T_a9750728_62f3_11eb_a644_0242ac130202row1_col1\" class=\"data row1 col1\" >1.00</td>\n",
       "                        <td id=\"T_a9750728_62f3_11eb_a644_0242ac130202row1_col2\" class=\"data row1 col2\" >-0.19</td>\n",
       "                        <td id=\"T_a9750728_62f3_11eb_a644_0242ac130202row1_col3\" class=\"data row1 col3\" >-0.01</td>\n",
       "                        <td id=\"T_a9750728_62f3_11eb_a644_0242ac130202row1_col4\" class=\"data row1 col4\" >0.03</td>\n",
       "                        <td id=\"T_a9750728_62f3_11eb_a644_0242ac130202row1_col5\" class=\"data row1 col5\" >0.03</td>\n",
       "                        <td id=\"T_a9750728_62f3_11eb_a644_0242ac130202row1_col6\" class=\"data row1 col6\" >-0.04</td>\n",
       "                        <td id=\"T_a9750728_62f3_11eb_a644_0242ac130202row1_col7\" class=\"data row1 col7\" >0.03</td>\n",
       "                        <td id=\"T_a9750728_62f3_11eb_a644_0242ac130202row1_col8\" class=\"data row1 col8\" >0.04</td>\n",
       "                        <td id=\"T_a9750728_62f3_11eb_a644_0242ac130202row1_col9\" class=\"data row1 col9\" >-0.09</td>\n",
       "                        <td id=\"T_a9750728_62f3_11eb_a644_0242ac130202row1_col10\" class=\"data row1 col10\" >-0.11</td>\n",
       "                        <td id=\"T_a9750728_62f3_11eb_a644_0242ac130202row1_col11\" class=\"data row1 col11\" >-0.15</td>\n",
       "                        <td id=\"T_a9750728_62f3_11eb_a644_0242ac130202row1_col12\" class=\"data row1 col12\" >0.06</td>\n",
       "            </tr>\n",
       "            <tr>\n",
       "                        <th id=\"T_a9750728_62f3_11eb_a644_0242ac130202level0_row2\" class=\"row_heading level0 row2\" >creatinine_phosphokinase</th>\n",
       "                        <td id=\"T_a9750728_62f3_11eb_a644_0242ac130202row2_col0\" class=\"data row2 col0\" >-0.08</td>\n",
       "                        <td id=\"T_a9750728_62f3_11eb_a644_0242ac130202row2_col1\" class=\"data row2 col1\" >-0.19</td>\n",
       "                        <td id=\"T_a9750728_62f3_11eb_a644_0242ac130202row2_col2\" class=\"data row2 col2\" >1.00</td>\n",
       "                        <td id=\"T_a9750728_62f3_11eb_a644_0242ac130202row2_col3\" class=\"data row2 col3\" >-0.01</td>\n",
       "                        <td id=\"T_a9750728_62f3_11eb_a644_0242ac130202row2_col4\" class=\"data row2 col4\" >-0.04</td>\n",
       "                        <td id=\"T_a9750728_62f3_11eb_a644_0242ac130202row2_col5\" class=\"data row2 col5\" >-0.07</td>\n",
       "                        <td id=\"T_a9750728_62f3_11eb_a644_0242ac130202row2_col6\" class=\"data row2 col6\" >0.02</td>\n",
       "                        <td id=\"T_a9750728_62f3_11eb_a644_0242ac130202row2_col7\" class=\"data row2 col7\" >-0.01</td>\n",
       "                        <td id=\"T_a9750728_62f3_11eb_a644_0242ac130202row2_col8\" class=\"data row2 col8\" >0.06</td>\n",
       "                        <td id=\"T_a9750728_62f3_11eb_a644_0242ac130202row2_col9\" class=\"data row2 col9\" >0.08</td>\n",
       "                        <td id=\"T_a9750728_62f3_11eb_a644_0242ac130202row2_col10\" class=\"data row2 col10\" >0.00</td>\n",
       "                        <td id=\"T_a9750728_62f3_11eb_a644_0242ac130202row2_col11\" class=\"data row2 col11\" >-0.01</td>\n",
       "                        <td id=\"T_a9750728_62f3_11eb_a644_0242ac130202row2_col12\" class=\"data row2 col12\" >0.06</td>\n",
       "            </tr>\n",
       "            <tr>\n",
       "                        <th id=\"T_a9750728_62f3_11eb_a644_0242ac130202level0_row3\" class=\"row_heading level0 row3\" >diabetes</th>\n",
       "                        <td id=\"T_a9750728_62f3_11eb_a644_0242ac130202row3_col0\" class=\"data row3 col0\" >-0.11</td>\n",
       "                        <td id=\"T_a9750728_62f3_11eb_a644_0242ac130202row3_col1\" class=\"data row3 col1\" >-0.01</td>\n",
       "                        <td id=\"T_a9750728_62f3_11eb_a644_0242ac130202row3_col2\" class=\"data row3 col2\" >-0.01</td>\n",
       "                        <td id=\"T_a9750728_62f3_11eb_a644_0242ac130202row3_col3\" class=\"data row3 col3\" >1.00</td>\n",
       "                        <td id=\"T_a9750728_62f3_11eb_a644_0242ac130202row3_col4\" class=\"data row3 col4\" >0.01</td>\n",
       "                        <td id=\"T_a9750728_62f3_11eb_a644_0242ac130202row3_col5\" class=\"data row3 col5\" >-0.01</td>\n",
       "                        <td id=\"T_a9750728_62f3_11eb_a644_0242ac130202row3_col6\" class=\"data row3 col6\" >0.09</td>\n",
       "                        <td id=\"T_a9750728_62f3_11eb_a644_0242ac130202row3_col7\" class=\"data row3 col7\" >-0.03</td>\n",
       "                        <td id=\"T_a9750728_62f3_11eb_a644_0242ac130202row3_col8\" class=\"data row3 col8\" >-0.09</td>\n",
       "                        <td id=\"T_a9750728_62f3_11eb_a644_0242ac130202row3_col9\" class=\"data row3 col9\" >-0.17</td>\n",
       "                        <td id=\"T_a9750728_62f3_11eb_a644_0242ac130202row3_col10\" class=\"data row3 col10\" >-0.15</td>\n",
       "                        <td id=\"T_a9750728_62f3_11eb_a644_0242ac130202row3_col11\" class=\"data row3 col11\" >0.03</td>\n",
       "                        <td id=\"T_a9750728_62f3_11eb_a644_0242ac130202row3_col12\" class=\"data row3 col12\" >0.00</td>\n",
       "            </tr>\n",
       "            <tr>\n",
       "                        <th id=\"T_a9750728_62f3_11eb_a644_0242ac130202level0_row4\" class=\"row_heading level0 row4\" >ejection_fraction</th>\n",
       "                        <td id=\"T_a9750728_62f3_11eb_a644_0242ac130202row4_col0\" class=\"data row4 col0\" >0.08</td>\n",
       "                        <td id=\"T_a9750728_62f3_11eb_a644_0242ac130202row4_col1\" class=\"data row4 col1\" >0.03</td>\n",
       "                        <td id=\"T_a9750728_62f3_11eb_a644_0242ac130202row4_col2\" class=\"data row4 col2\" >-0.04</td>\n",
       "                        <td id=\"T_a9750728_62f3_11eb_a644_0242ac130202row4_col3\" class=\"data row4 col3\" >0.01</td>\n",
       "                        <td id=\"T_a9750728_62f3_11eb_a644_0242ac130202row4_col4\" class=\"data row4 col4\" >1.00</td>\n",
       "                        <td id=\"T_a9750728_62f3_11eb_a644_0242ac130202row4_col5\" class=\"data row4 col5\" >0.02</td>\n",
       "                        <td id=\"T_a9750728_62f3_11eb_a644_0242ac130202row4_col6\" class=\"data row4 col6\" >0.09</td>\n",
       "                        <td id=\"T_a9750728_62f3_11eb_a644_0242ac130202row4_col7\" class=\"data row4 col7\" >-0.09</td>\n",
       "                        <td id=\"T_a9750728_62f3_11eb_a644_0242ac130202row4_col8\" class=\"data row4 col8\" >0.18</td>\n",
       "                        <td id=\"T_a9750728_62f3_11eb_a644_0242ac130202row4_col9\" class=\"data row4 col9\" >-0.12</td>\n",
       "                        <td id=\"T_a9750728_62f3_11eb_a644_0242ac130202row4_col10\" class=\"data row4 col10\" >-0.05</td>\n",
       "                        <td id=\"T_a9750728_62f3_11eb_a644_0242ac130202row4_col11\" class=\"data row4 col11\" >0.05</td>\n",
       "                        <td id=\"T_a9750728_62f3_11eb_a644_0242ac130202row4_col12\" class=\"data row4 col12\" >-0.28</td>\n",
       "            </tr>\n",
       "            <tr>\n",
       "                        <th id=\"T_a9750728_62f3_11eb_a644_0242ac130202level0_row5\" class=\"row_heading level0 row5\" >high_blood_pressure</th>\n",
       "                        <td id=\"T_a9750728_62f3_11eb_a644_0242ac130202row5_col0\" class=\"data row5 col0\" >0.09</td>\n",
       "                        <td id=\"T_a9750728_62f3_11eb_a644_0242ac130202row5_col1\" class=\"data row5 col1\" >0.03</td>\n",
       "                        <td id=\"T_a9750728_62f3_11eb_a644_0242ac130202row5_col2\" class=\"data row5 col2\" >-0.07</td>\n",
       "                        <td id=\"T_a9750728_62f3_11eb_a644_0242ac130202row5_col3\" class=\"data row5 col3\" >-0.01</td>\n",
       "                        <td id=\"T_a9750728_62f3_11eb_a644_0242ac130202row5_col4\" class=\"data row5 col4\" >0.02</td>\n",
       "                        <td id=\"T_a9750728_62f3_11eb_a644_0242ac130202row5_col5\" class=\"data row5 col5\" >1.00</td>\n",
       "                        <td id=\"T_a9750728_62f3_11eb_a644_0242ac130202row5_col6\" class=\"data row5 col6\" >0.06</td>\n",
       "                        <td id=\"T_a9750728_62f3_11eb_a644_0242ac130202row5_col7\" class=\"data row5 col7\" >-0.04</td>\n",
       "                        <td id=\"T_a9750728_62f3_11eb_a644_0242ac130202row5_col8\" class=\"data row5 col8\" >0.04</td>\n",
       "                        <td id=\"T_a9750728_62f3_11eb_a644_0242ac130202row5_col9\" class=\"data row5 col9\" >-0.10</td>\n",
       "                        <td id=\"T_a9750728_62f3_11eb_a644_0242ac130202row5_col10\" class=\"data row5 col10\" >-0.05</td>\n",
       "                        <td id=\"T_a9750728_62f3_11eb_a644_0242ac130202row5_col11\" class=\"data row5 col11\" >-0.20</td>\n",
       "                        <td id=\"T_a9750728_62f3_11eb_a644_0242ac130202row5_col12\" class=\"data row5 col12\" >0.07</td>\n",
       "            </tr>\n",
       "            <tr>\n",
       "                        <th id=\"T_a9750728_62f3_11eb_a644_0242ac130202level0_row6\" class=\"row_heading level0 row6\" >platelets</th>\n",
       "                        <td id=\"T_a9750728_62f3_11eb_a644_0242ac130202row6_col0\" class=\"data row6 col0\" >-0.05</td>\n",
       "                        <td id=\"T_a9750728_62f3_11eb_a644_0242ac130202row6_col1\" class=\"data row6 col1\" >-0.04</td>\n",
       "                        <td id=\"T_a9750728_62f3_11eb_a644_0242ac130202row6_col2\" class=\"data row6 col2\" >0.02</td>\n",
       "                        <td id=\"T_a9750728_62f3_11eb_a644_0242ac130202row6_col3\" class=\"data row6 col3\" >0.09</td>\n",
       "                        <td id=\"T_a9750728_62f3_11eb_a644_0242ac130202row6_col4\" class=\"data row6 col4\" >0.09</td>\n",
       "                        <td id=\"T_a9750728_62f3_11eb_a644_0242ac130202row6_col5\" class=\"data row6 col5\" >0.06</td>\n",
       "                        <td id=\"T_a9750728_62f3_11eb_a644_0242ac130202row6_col6\" class=\"data row6 col6\" >1.00</td>\n",
       "                        <td id=\"T_a9750728_62f3_11eb_a644_0242ac130202row6_col7\" class=\"data row6 col7\" >-0.01</td>\n",
       "                        <td id=\"T_a9750728_62f3_11eb_a644_0242ac130202row6_col8\" class=\"data row6 col8\" >0.06</td>\n",
       "                        <td id=\"T_a9750728_62f3_11eb_a644_0242ac130202row6_col9\" class=\"data row6 col9\" >-0.13</td>\n",
       "                        <td id=\"T_a9750728_62f3_11eb_a644_0242ac130202row6_col10\" class=\"data row6 col10\" >0.03</td>\n",
       "                        <td id=\"T_a9750728_62f3_11eb_a644_0242ac130202row6_col11\" class=\"data row6 col11\" >0.01</td>\n",
       "                        <td id=\"T_a9750728_62f3_11eb_a644_0242ac130202row6_col12\" class=\"data row6 col12\" >-0.04</td>\n",
       "            </tr>\n",
       "            <tr>\n",
       "                        <th id=\"T_a9750728_62f3_11eb_a644_0242ac130202level0_row7\" class=\"row_heading level0 row7\" >serum_creatinine</th>\n",
       "                        <td id=\"T_a9750728_62f3_11eb_a644_0242ac130202row7_col0\" class=\"data row7 col0\" >0.19</td>\n",
       "                        <td id=\"T_a9750728_62f3_11eb_a644_0242ac130202row7_col1\" class=\"data row7 col1\" >0.03</td>\n",
       "                        <td id=\"T_a9750728_62f3_11eb_a644_0242ac130202row7_col2\" class=\"data row7 col2\" >-0.01</td>\n",
       "                        <td id=\"T_a9750728_62f3_11eb_a644_0242ac130202row7_col3\" class=\"data row7 col3\" >-0.03</td>\n",
       "                        <td id=\"T_a9750728_62f3_11eb_a644_0242ac130202row7_col4\" class=\"data row7 col4\" >-0.09</td>\n",
       "                        <td id=\"T_a9750728_62f3_11eb_a644_0242ac130202row7_col5\" class=\"data row7 col5\" >-0.04</td>\n",
       "                        <td id=\"T_a9750728_62f3_11eb_a644_0242ac130202row7_col6\" class=\"data row7 col6\" >-0.01</td>\n",
       "                        <td id=\"T_a9750728_62f3_11eb_a644_0242ac130202row7_col7\" class=\"data row7 col7\" >1.00</td>\n",
       "                        <td id=\"T_a9750728_62f3_11eb_a644_0242ac130202row7_col8\" class=\"data row7 col8\" >-0.21</td>\n",
       "                        <td id=\"T_a9750728_62f3_11eb_a644_0242ac130202row7_col9\" class=\"data row7 col9\" >0.04</td>\n",
       "                        <td id=\"T_a9750728_62f3_11eb_a644_0242ac130202row7_col10\" class=\"data row7 col10\" >-0.01</td>\n",
       "                        <td id=\"T_a9750728_62f3_11eb_a644_0242ac130202row7_col11\" class=\"data row7 col11\" >-0.19</td>\n",
       "                        <td id=\"T_a9750728_62f3_11eb_a644_0242ac130202row7_col12\" class=\"data row7 col12\" >0.29</td>\n",
       "            </tr>\n",
       "            <tr>\n",
       "                        <th id=\"T_a9750728_62f3_11eb_a644_0242ac130202level0_row8\" class=\"row_heading level0 row8\" >serum_sodium</th>\n",
       "                        <td id=\"T_a9750728_62f3_11eb_a644_0242ac130202row8_col0\" class=\"data row8 col0\" >-0.05</td>\n",
       "                        <td id=\"T_a9750728_62f3_11eb_a644_0242ac130202row8_col1\" class=\"data row8 col1\" >0.04</td>\n",
       "                        <td id=\"T_a9750728_62f3_11eb_a644_0242ac130202row8_col2\" class=\"data row8 col2\" >0.06</td>\n",
       "                        <td id=\"T_a9750728_62f3_11eb_a644_0242ac130202row8_col3\" class=\"data row8 col3\" >-0.09</td>\n",
       "                        <td id=\"T_a9750728_62f3_11eb_a644_0242ac130202row8_col4\" class=\"data row8 col4\" >0.18</td>\n",
       "                        <td id=\"T_a9750728_62f3_11eb_a644_0242ac130202row8_col5\" class=\"data row8 col5\" >0.04</td>\n",
       "                        <td id=\"T_a9750728_62f3_11eb_a644_0242ac130202row8_col6\" class=\"data row8 col6\" >0.06</td>\n",
       "                        <td id=\"T_a9750728_62f3_11eb_a644_0242ac130202row8_col7\" class=\"data row8 col7\" >-0.21</td>\n",
       "                        <td id=\"T_a9750728_62f3_11eb_a644_0242ac130202row8_col8\" class=\"data row8 col8\" >1.00</td>\n",
       "                        <td id=\"T_a9750728_62f3_11eb_a644_0242ac130202row8_col9\" class=\"data row8 col9\" >-0.03</td>\n",
       "                        <td id=\"T_a9750728_62f3_11eb_a644_0242ac130202row8_col10\" class=\"data row8 col10\" >0.01</td>\n",
       "                        <td id=\"T_a9750728_62f3_11eb_a644_0242ac130202row8_col11\" class=\"data row8 col11\" >0.09</td>\n",
       "                        <td id=\"T_a9750728_62f3_11eb_a644_0242ac130202row8_col12\" class=\"data row8 col12\" >-0.20</td>\n",
       "            </tr>\n",
       "            <tr>\n",
       "                        <th id=\"T_a9750728_62f3_11eb_a644_0242ac130202level0_row9\" class=\"row_heading level0 row9\" >sex</th>\n",
       "                        <td id=\"T_a9750728_62f3_11eb_a644_0242ac130202row9_col0\" class=\"data row9 col0\" >0.06</td>\n",
       "                        <td id=\"T_a9750728_62f3_11eb_a644_0242ac130202row9_col1\" class=\"data row9 col1\" >-0.09</td>\n",
       "                        <td id=\"T_a9750728_62f3_11eb_a644_0242ac130202row9_col2\" class=\"data row9 col2\" >0.08</td>\n",
       "                        <td id=\"T_a9750728_62f3_11eb_a644_0242ac130202row9_col3\" class=\"data row9 col3\" >-0.17</td>\n",
       "                        <td id=\"T_a9750728_62f3_11eb_a644_0242ac130202row9_col4\" class=\"data row9 col4\" >-0.12</td>\n",
       "                        <td id=\"T_a9750728_62f3_11eb_a644_0242ac130202row9_col5\" class=\"data row9 col5\" >-0.10</td>\n",
       "                        <td id=\"T_a9750728_62f3_11eb_a644_0242ac130202row9_col6\" class=\"data row9 col6\" >-0.13</td>\n",
       "                        <td id=\"T_a9750728_62f3_11eb_a644_0242ac130202row9_col7\" class=\"data row9 col7\" >0.04</td>\n",
       "                        <td id=\"T_a9750728_62f3_11eb_a644_0242ac130202row9_col8\" class=\"data row9 col8\" >-0.03</td>\n",
       "                        <td id=\"T_a9750728_62f3_11eb_a644_0242ac130202row9_col9\" class=\"data row9 col9\" >1.00</td>\n",
       "                        <td id=\"T_a9750728_62f3_11eb_a644_0242ac130202row9_col10\" class=\"data row9 col10\" >0.44</td>\n",
       "                        <td id=\"T_a9750728_62f3_11eb_a644_0242ac130202row9_col11\" class=\"data row9 col11\" >-0.02</td>\n",
       "                        <td id=\"T_a9750728_62f3_11eb_a644_0242ac130202row9_col12\" class=\"data row9 col12\" >-0.00</td>\n",
       "            </tr>\n",
       "            <tr>\n",
       "                        <th id=\"T_a9750728_62f3_11eb_a644_0242ac130202level0_row10\" class=\"row_heading level0 row10\" >smoking</th>\n",
       "                        <td id=\"T_a9750728_62f3_11eb_a644_0242ac130202row10_col0\" class=\"data row10 col0\" >0.01</td>\n",
       "                        <td id=\"T_a9750728_62f3_11eb_a644_0242ac130202row10_col1\" class=\"data row10 col1\" >-0.11</td>\n",
       "                        <td id=\"T_a9750728_62f3_11eb_a644_0242ac130202row10_col2\" class=\"data row10 col2\" >0.00</td>\n",
       "                        <td id=\"T_a9750728_62f3_11eb_a644_0242ac130202row10_col3\" class=\"data row10 col3\" >-0.15</td>\n",
       "                        <td id=\"T_a9750728_62f3_11eb_a644_0242ac130202row10_col4\" class=\"data row10 col4\" >-0.05</td>\n",
       "                        <td id=\"T_a9750728_62f3_11eb_a644_0242ac130202row10_col5\" class=\"data row10 col5\" >-0.05</td>\n",
       "                        <td id=\"T_a9750728_62f3_11eb_a644_0242ac130202row10_col6\" class=\"data row10 col6\" >0.03</td>\n",
       "                        <td id=\"T_a9750728_62f3_11eb_a644_0242ac130202row10_col7\" class=\"data row10 col7\" >-0.01</td>\n",
       "                        <td id=\"T_a9750728_62f3_11eb_a644_0242ac130202row10_col8\" class=\"data row10 col8\" >0.01</td>\n",
       "                        <td id=\"T_a9750728_62f3_11eb_a644_0242ac130202row10_col9\" class=\"data row10 col9\" >0.44</td>\n",
       "                        <td id=\"T_a9750728_62f3_11eb_a644_0242ac130202row10_col10\" class=\"data row10 col10\" >1.00</td>\n",
       "                        <td id=\"T_a9750728_62f3_11eb_a644_0242ac130202row10_col11\" class=\"data row10 col11\" >-0.02</td>\n",
       "                        <td id=\"T_a9750728_62f3_11eb_a644_0242ac130202row10_col12\" class=\"data row10 col12\" >-0.01</td>\n",
       "            </tr>\n",
       "            <tr>\n",
       "                        <th id=\"T_a9750728_62f3_11eb_a644_0242ac130202level0_row11\" class=\"row_heading level0 row11\" >time</th>\n",
       "                        <td id=\"T_a9750728_62f3_11eb_a644_0242ac130202row11_col0\" class=\"data row11 col0\" >-0.23</td>\n",
       "                        <td id=\"T_a9750728_62f3_11eb_a644_0242ac130202row11_col1\" class=\"data row11 col1\" >-0.15</td>\n",
       "                        <td id=\"T_a9750728_62f3_11eb_a644_0242ac130202row11_col2\" class=\"data row11 col2\" >-0.01</td>\n",
       "                        <td id=\"T_a9750728_62f3_11eb_a644_0242ac130202row11_col3\" class=\"data row11 col3\" >0.03</td>\n",
       "                        <td id=\"T_a9750728_62f3_11eb_a644_0242ac130202row11_col4\" class=\"data row11 col4\" >0.05</td>\n",
       "                        <td id=\"T_a9750728_62f3_11eb_a644_0242ac130202row11_col5\" class=\"data row11 col5\" >-0.20</td>\n",
       "                        <td id=\"T_a9750728_62f3_11eb_a644_0242ac130202row11_col6\" class=\"data row11 col6\" >0.01</td>\n",
       "                        <td id=\"T_a9750728_62f3_11eb_a644_0242ac130202row11_col7\" class=\"data row11 col7\" >-0.19</td>\n",
       "                        <td id=\"T_a9750728_62f3_11eb_a644_0242ac130202row11_col8\" class=\"data row11 col8\" >0.09</td>\n",
       "                        <td id=\"T_a9750728_62f3_11eb_a644_0242ac130202row11_col9\" class=\"data row11 col9\" >-0.02</td>\n",
       "                        <td id=\"T_a9750728_62f3_11eb_a644_0242ac130202row11_col10\" class=\"data row11 col10\" >-0.02</td>\n",
       "                        <td id=\"T_a9750728_62f3_11eb_a644_0242ac130202row11_col11\" class=\"data row11 col11\" >1.00</td>\n",
       "                        <td id=\"T_a9750728_62f3_11eb_a644_0242ac130202row11_col12\" class=\"data row11 col12\" >-0.54</td>\n",
       "            </tr>\n",
       "            <tr>\n",
       "                        <th id=\"T_a9750728_62f3_11eb_a644_0242ac130202level0_row12\" class=\"row_heading level0 row12\" >DEATH_EVENT</th>\n",
       "                        <td id=\"T_a9750728_62f3_11eb_a644_0242ac130202row12_col0\" class=\"data row12 col0\" >0.26</td>\n",
       "                        <td id=\"T_a9750728_62f3_11eb_a644_0242ac130202row12_col1\" class=\"data row12 col1\" >0.06</td>\n",
       "                        <td id=\"T_a9750728_62f3_11eb_a644_0242ac130202row12_col2\" class=\"data row12 col2\" >0.06</td>\n",
       "                        <td id=\"T_a9750728_62f3_11eb_a644_0242ac130202row12_col3\" class=\"data row12 col3\" >0.00</td>\n",
       "                        <td id=\"T_a9750728_62f3_11eb_a644_0242ac130202row12_col4\" class=\"data row12 col4\" >-0.28</td>\n",
       "                        <td id=\"T_a9750728_62f3_11eb_a644_0242ac130202row12_col5\" class=\"data row12 col5\" >0.07</td>\n",
       "                        <td id=\"T_a9750728_62f3_11eb_a644_0242ac130202row12_col6\" class=\"data row12 col6\" >-0.04</td>\n",
       "                        <td id=\"T_a9750728_62f3_11eb_a644_0242ac130202row12_col7\" class=\"data row12 col7\" >0.29</td>\n",
       "                        <td id=\"T_a9750728_62f3_11eb_a644_0242ac130202row12_col8\" class=\"data row12 col8\" >-0.20</td>\n",
       "                        <td id=\"T_a9750728_62f3_11eb_a644_0242ac130202row12_col9\" class=\"data row12 col9\" >-0.00</td>\n",
       "                        <td id=\"T_a9750728_62f3_11eb_a644_0242ac130202row12_col10\" class=\"data row12 col10\" >-0.01</td>\n",
       "                        <td id=\"T_a9750728_62f3_11eb_a644_0242ac130202row12_col11\" class=\"data row12 col11\" >-0.54</td>\n",
       "                        <td id=\"T_a9750728_62f3_11eb_a644_0242ac130202row12_col12\" class=\"data row12 col12\" >1.00</td>\n",
       "            </tr>\n",
       "    </tbody></table>"
      ],
      "text/plain": [
       "<pandas.io.formats.style.Styler at 0x7fb7a84aa090>"
      ]
     },
     "execution_count": 28,
     "metadata": {},
     "output_type": "execute_result"
    }
   ],
   "source": [
    "train.corr().style.background_gradient(cmap='coolwarm').set_precision(2)"
   ]
  },
  {
   "cell_type": "code",
   "execution_count": 29,
   "metadata": {
    "execution": {
     "iopub.execute_input": "2021-01-30T12:07:02.648420Z",
     "iopub.status.busy": "2021-01-30T12:07:02.647720Z",
     "iopub.status.idle": "2021-01-30T12:07:03.517874Z",
     "shell.execute_reply": "2021-01-30T12:07:03.518379Z"
    },
    "papermill": {
     "duration": 0.958305,
     "end_time": "2021-01-30T12:07:03.518546",
     "exception": false,
     "start_time": "2021-01-30T12:07:02.560241",
     "status": "completed"
    },
    "tags": []
   },
   "outputs": [
    {
     "name": "stdout",
     "output_type": "stream",
     "text": [
      "[0.09328306 0.02477702 0.07689617 0.03474422 0.14265831 0.02496977\n",
      " 0.07661443 0.11698232 0.07524874 0.02520927 0.02606574 0.28255097]\n"
     ]
    },
    {
     "data": {
      "image/png": "[encoded data removed]",
      "text/plain": [
       "<Figure size 1080x432 with 1 Axes>"
      ]
     },
     "metadata": {},
     "output_type": "display_data"
    }
   ],
   "source": [
    "# Feature Selection\n",
    "\n",
    "plt.rcParams['figure.figsize']=15,6 \n",
    "sns.set_style(\"darkgrid\")\n",
    "\n",
    "x = train.iloc[:, :-1]\n",
    "y = train.iloc[:,-1]\n",
    "\n",
    "from sklearn.ensemble import ExtraTreesClassifier\n",
    "\n",
    "model = ExtraTreesClassifier()\n",
    "model.fit(x,y)\n",
    "print(model.feature_importances_) \n",
    "feat_importances = pd.Series(model.feature_importances_, index=x.columns)\n",
    "feat_importances.nlargest(12).plot(kind='barh')\n",
    "plt.show()"
   ]
  },
  {
   "cell_type": "markdown",
   "metadata": {
    "papermill": {
     "duration": 0.08798,
     "end_time": "2021-01-30T12:07:03.694543",
     "exception": false,
     "start_time": "2021-01-30T12:07:03.606563",
     "status": "completed"
    },
    "tags": []
   },
   "source": [
    "### like we can c that some of our feature had a corrolation almost aqual to 0 so we gonna drop them like :\n",
    "* anaemia\n",
    "* creatinine_phosphokinase\n",
    "* diabetes\n",
    "* high_blood_pressure\n",
    "* platelets\n",
    "* sex\n",
    "* smoking\n",
    "\n",
    "\n",
    "We will select only 3 features : time, ejection_fraction, serum_creatinine "
   ]
  },
  {
   "cell_type": "code",
   "execution_count": 30,
   "metadata": {
    "execution": {
     "iopub.execute_input": "2021-01-30T12:07:03.870078Z",
     "iopub.status.busy": "2021-01-30T12:07:03.869430Z",
     "iopub.status.idle": "2021-01-30T12:07:03.875137Z",
     "shell.execute_reply": "2021-01-30T12:07:03.875756Z"
    },
    "papermill": {
     "duration": 0.095529,
     "end_time": "2021-01-30T12:07:03.875904",
     "exception": false,
     "start_time": "2021-01-30T12:07:03.780375",
     "status": "completed"
    },
    "tags": []
   },
   "outputs": [],
   "source": [
    "train=train.drop(['anaemia','creatinine_phosphokinase','diabetes','high_blood_pressure','platelets','sex','smoking','age'],axis=1)"
   ]
  },
  {
   "cell_type": "code",
   "execution_count": 31,
   "metadata": {
    "execution": {
     "iopub.execute_input": "2021-01-30T12:07:04.064106Z",
     "iopub.status.busy": "2021-01-30T12:07:04.051010Z",
     "iopub.status.idle": "2021-01-30T12:07:04.069024Z",
     "shell.execute_reply": "2021-01-30T12:07:04.068456Z"
    },
    "papermill": {
     "duration": 0.106612,
     "end_time": "2021-01-30T12:07:04.069136",
     "exception": false,
     "start_time": "2021-01-30T12:07:03.962524",
     "status": "completed"
    },
    "tags": []
   },
   "outputs": [
    {
     "data": {
      "text/html": [
       "<div>\n",
       "<style scoped>\n",
       "    .dataframe tbody tr th:only-of-type {\n",
       "        vertical-align: middle;\n",
       "    }\n",
       "\n",
       "    .dataframe tbody tr th {\n",
       "        vertical-align: top;\n",
       "    }\n",
       "\n",
       "    .dataframe thead th {\n",
       "        text-align: right;\n",
       "    }\n",
       "</style>\n",
       "<table border=\"1\" class=\"dataframe\">\n",
       "  <thead>\n",
       "    <tr style=\"text-align: right;\">\n",
       "      <th></th>\n",
       "      <th>ejection_fraction</th>\n",
       "      <th>serum_creatinine</th>\n",
       "      <th>serum_sodium</th>\n",
       "      <th>time</th>\n",
       "      <th>DEATH_EVENT</th>\n",
       "    </tr>\n",
       "  </thead>\n",
       "  <tbody>\n",
       "    <tr>\n",
       "      <th>0</th>\n",
       "      <td>20</td>\n",
       "      <td>1.9</td>\n",
       "      <td>130</td>\n",
       "      <td>4</td>\n",
       "      <td>1</td>\n",
       "    </tr>\n",
       "    <tr>\n",
       "      <th>1</th>\n",
       "      <td>38</td>\n",
       "      <td>1.1</td>\n",
       "      <td>136</td>\n",
       "      <td>6</td>\n",
       "      <td>1</td>\n",
       "    </tr>\n",
       "    <tr>\n",
       "      <th>2</th>\n",
       "      <td>20</td>\n",
       "      <td>1.3</td>\n",
       "      <td>129</td>\n",
       "      <td>7</td>\n",
       "      <td>1</td>\n",
       "    </tr>\n",
       "    <tr>\n",
       "      <th>3</th>\n",
       "      <td>20</td>\n",
       "      <td>1.9</td>\n",
       "      <td>137</td>\n",
       "      <td>7</td>\n",
       "      <td>1</td>\n",
       "    </tr>\n",
       "    <tr>\n",
       "      <th>4</th>\n",
       "      <td>20</td>\n",
       "      <td>2.7</td>\n",
       "      <td>116</td>\n",
       "      <td>8</td>\n",
       "      <td>1</td>\n",
       "    </tr>\n",
       "    <tr>\n",
       "      <th>...</th>\n",
       "      <td>...</td>\n",
       "      <td>...</td>\n",
       "      <td>...</td>\n",
       "      <td>...</td>\n",
       "      <td>...</td>\n",
       "    </tr>\n",
       "    <tr>\n",
       "      <th>294</th>\n",
       "      <td>38</td>\n",
       "      <td>1.1</td>\n",
       "      <td>143</td>\n",
       "      <td>270</td>\n",
       "      <td>0</td>\n",
       "    </tr>\n",
       "    <tr>\n",
       "      <th>295</th>\n",
       "      <td>38</td>\n",
       "      <td>1.2</td>\n",
       "      <td>139</td>\n",
       "      <td>271</td>\n",
       "      <td>0</td>\n",
       "    </tr>\n",
       "    <tr>\n",
       "      <th>296</th>\n",
       "      <td>60</td>\n",
       "      <td>0.8</td>\n",
       "      <td>138</td>\n",
       "      <td>278</td>\n",
       "      <td>0</td>\n",
       "    </tr>\n",
       "    <tr>\n",
       "      <th>297</th>\n",
       "      <td>38</td>\n",
       "      <td>1.4</td>\n",
       "      <td>140</td>\n",
       "      <td>280</td>\n",
       "      <td>0</td>\n",
       "    </tr>\n",
       "    <tr>\n",
       "      <th>298</th>\n",
       "      <td>45</td>\n",
       "      <td>1.6</td>\n",
       "      <td>136</td>\n",
       "      <td>285</td>\n",
       "      <td>0</td>\n",
       "    </tr>\n",
       "  </tbody>\n",
       "</table>\n",
       "<p>297 rows × 5 columns</p>\n",
       "</div>"
      ],
      "text/plain": [
       "     ejection_fraction  serum_creatinine  serum_sodium  time  DEATH_EVENT\n",
       "0                   20               1.9           130     4            1\n",
       "1                   38               1.1           136     6            1\n",
       "2                   20               1.3           129     7            1\n",
       "3                   20               1.9           137     7            1\n",
       "4                   20               2.7           116     8            1\n",
       "..                 ...               ...           ...   ...          ...\n",
       "294                 38               1.1           143   270            0\n",
       "295                 38               1.2           139   271            0\n",
       "296                 60               0.8           138   278            0\n",
       "297                 38               1.4           140   280            0\n",
       "298                 45               1.6           136   285            0\n",
       "\n",
       "[297 rows x 5 columns]"
      ]
     },
     "execution_count": 31,
     "metadata": {},
     "output_type": "execute_result"
    }
   ],
   "source": [
    "train"
   ]
  },
  {
   "cell_type": "code",
   "execution_count": 32,
   "metadata": {
    "execution": {
     "iopub.execute_input": "2021-01-30T12:07:04.253177Z",
     "iopub.status.busy": "2021-01-30T12:07:04.252428Z",
     "iopub.status.idle": "2021-01-30T12:07:04.267876Z",
     "shell.execute_reply": "2021-01-30T12:07:04.268592Z"
    },
    "papermill": {
     "duration": 0.113107,
     "end_time": "2021-01-30T12:07:04.268741",
     "exception": false,
     "start_time": "2021-01-30T12:07:04.155634",
     "status": "completed"
    },
    "tags": []
   },
   "outputs": [
    {
     "data": {
      "text/html": [
       "<style  type=\"text/css\" >\n",
       "#T_aa88c53c_62f3_11eb_a644_0242ac130202row0_col0,#T_aa88c53c_62f3_11eb_a644_0242ac130202row1_col1,#T_aa88c53c_62f3_11eb_a644_0242ac130202row2_col2,#T_aa88c53c_62f3_11eb_a644_0242ac130202row3_col3,#T_aa88c53c_62f3_11eb_a644_0242ac130202row4_col4{\n",
       "            background-color:  #b40426;\n",
       "            color:  #f1f1f1;\n",
       "        }#T_aa88c53c_62f3_11eb_a644_0242ac130202row0_col1{\n",
       "            background-color:  #5a78e4;\n",
       "            color:  #000000;\n",
       "        }#T_aa88c53c_62f3_11eb_a644_0242ac130202row0_col2{\n",
       "            background-color:  #a6c4fe;\n",
       "            color:  #000000;\n",
       "        }#T_aa88c53c_62f3_11eb_a644_0242ac130202row0_col3{\n",
       "            background-color:  #bad0f8;\n",
       "            color:  #000000;\n",
       "        }#T_aa88c53c_62f3_11eb_a644_0242ac130202row0_col4{\n",
       "            background-color:  #6f92f3;\n",
       "            color:  #000000;\n",
       "        }#T_aa88c53c_62f3_11eb_a644_0242ac130202row1_col0{\n",
       "            background-color:  #6b8df0;\n",
       "            color:  #000000;\n",
       "        }#T_aa88c53c_62f3_11eb_a644_0242ac130202row1_col2,#T_aa88c53c_62f3_11eb_a644_0242ac130202row2_col1,#T_aa88c53c_62f3_11eb_a644_0242ac130202row3_col4,#T_aa88c53c_62f3_11eb_a644_0242ac130202row4_col0,#T_aa88c53c_62f3_11eb_a644_0242ac130202row4_col3{\n",
       "            background-color:  #3b4cc0;\n",
       "            color:  #f1f1f1;\n",
       "        }#T_aa88c53c_62f3_11eb_a644_0242ac130202row1_col3{\n",
       "            background-color:  #84a7fc;\n",
       "            color:  #000000;\n",
       "        }#T_aa88c53c_62f3_11eb_a644_0242ac130202row1_col4{\n",
       "            background-color:  #e6d7cf;\n",
       "            color:  #000000;\n",
       "        }#T_aa88c53c_62f3_11eb_a644_0242ac130202row2_col0{\n",
       "            background-color:  #b3cdfb;\n",
       "            color:  #000000;\n",
       "        }#T_aa88c53c_62f3_11eb_a644_0242ac130202row2_col3{\n",
       "            background-color:  #c3d5f4;\n",
       "            color:  #000000;\n",
       "        }#T_aa88c53c_62f3_11eb_a644_0242ac130202row2_col4{\n",
       "            background-color:  #82a6fb;\n",
       "            color:  #000000;\n",
       "        }#T_aa88c53c_62f3_11eb_a644_0242ac130202row3_col0{\n",
       "            background-color:  #8fb1fe;\n",
       "            color:  #000000;\n",
       "        }#T_aa88c53c_62f3_11eb_a644_0242ac130202row3_col1{\n",
       "            background-color:  #3f53c6;\n",
       "            color:  #f1f1f1;\n",
       "        }#T_aa88c53c_62f3_11eb_a644_0242ac130202row3_col2{\n",
       "            background-color:  #8caffe;\n",
       "            color:  #000000;\n",
       "        }#T_aa88c53c_62f3_11eb_a644_0242ac130202row4_col1{\n",
       "            background-color:  #c4d5f3;\n",
       "            color:  #000000;\n",
       "        }#T_aa88c53c_62f3_11eb_a644_0242ac130202row4_col2{\n",
       "            background-color:  #3e51c5;\n",
       "            color:  #f1f1f1;\n",
       "        }</style><table id=\"T_aa88c53c_62f3_11eb_a644_0242ac130202\" ><thead>    <tr>        <th class=\"blank level0\" ></th>        <th class=\"col_heading level0 col0\" >ejection_fraction</th>        <th class=\"col_heading level0 col1\" >serum_creatinine</th>        <th class=\"col_heading level0 col2\" >serum_sodium</th>        <th class=\"col_heading level0 col3\" >time</th>        <th class=\"col_heading level0 col4\" >DEATH_EVENT</th>    </tr></thead><tbody>\n",
       "                <tr>\n",
       "                        <th id=\"T_aa88c53c_62f3_11eb_a644_0242ac130202level0_row0\" class=\"row_heading level0 row0\" >ejection_fraction</th>\n",
       "                        <td id=\"T_aa88c53c_62f3_11eb_a644_0242ac130202row0_col0\" class=\"data row0 col0\" >1.000</td>\n",
       "                        <td id=\"T_aa88c53c_62f3_11eb_a644_0242ac130202row0_col1\" class=\"data row0 col1\" >-0.087</td>\n",
       "                        <td id=\"T_aa88c53c_62f3_11eb_a644_0242ac130202row0_col2\" class=\"data row0 col2\" >0.180</td>\n",
       "                        <td id=\"T_aa88c53c_62f3_11eb_a644_0242ac130202row0_col3\" class=\"data row0 col3\" >0.046</td>\n",
       "                        <td id=\"T_aa88c53c_62f3_11eb_a644_0242ac130202row0_col4\" class=\"data row0 col4\" >-0.285</td>\n",
       "            </tr>\n",
       "            <tr>\n",
       "                        <th id=\"T_aa88c53c_62f3_11eb_a644_0242ac130202level0_row1\" class=\"row_heading level0 row1\" >serum_creatinine</th>\n",
       "                        <td id=\"T_aa88c53c_62f3_11eb_a644_0242ac130202row1_col0\" class=\"data row1 col0\" >-0.087</td>\n",
       "                        <td id=\"T_aa88c53c_62f3_11eb_a644_0242ac130202row1_col1\" class=\"data row1 col1\" >1.000</td>\n",
       "                        <td id=\"T_aa88c53c_62f3_11eb_a644_0242ac130202row1_col2\" class=\"data row1 col2\" >-0.211</td>\n",
       "                        <td id=\"T_aa88c53c_62f3_11eb_a644_0242ac130202row1_col3\" class=\"data row1 col3\" >-0.189</td>\n",
       "                        <td id=\"T_aa88c53c_62f3_11eb_a644_0242ac130202row1_col4\" class=\"data row1 col4\" >0.286</td>\n",
       "            </tr>\n",
       "            <tr>\n",
       "                        <th id=\"T_aa88c53c_62f3_11eb_a644_0242ac130202level0_row2\" class=\"row_heading level0 row2\" >serum_sodium</th>\n",
       "                        <td id=\"T_aa88c53c_62f3_11eb_a644_0242ac130202row2_col0\" class=\"data row2 col0\" >0.180</td>\n",
       "                        <td id=\"T_aa88c53c_62f3_11eb_a644_0242ac130202row2_col1\" class=\"data row2 col1\" >-0.211</td>\n",
       "                        <td id=\"T_aa88c53c_62f3_11eb_a644_0242ac130202row2_col2\" class=\"data row2 col2\" >1.000</td>\n",
       "                        <td id=\"T_aa88c53c_62f3_11eb_a644_0242ac130202row2_col3\" class=\"data row2 col3\" >0.088</td>\n",
       "                        <td id=\"T_aa88c53c_62f3_11eb_a644_0242ac130202row2_col4\" class=\"data row2 col4\" >-0.196</td>\n",
       "            </tr>\n",
       "            <tr>\n",
       "                        <th id=\"T_aa88c53c_62f3_11eb_a644_0242ac130202level0_row3\" class=\"row_heading level0 row3\" >time</th>\n",
       "                        <td id=\"T_aa88c53c_62f3_11eb_a644_0242ac130202row3_col0\" class=\"data row3 col0\" >0.046</td>\n",
       "                        <td id=\"T_aa88c53c_62f3_11eb_a644_0242ac130202row3_col1\" class=\"data row3 col1\" >-0.189</td>\n",
       "                        <td id=\"T_aa88c53c_62f3_11eb_a644_0242ac130202row3_col2\" class=\"data row3 col2\" >0.088</td>\n",
       "                        <td id=\"T_aa88c53c_62f3_11eb_a644_0242ac130202row3_col3\" class=\"data row3 col3\" >1.000</td>\n",
       "                        <td id=\"T_aa88c53c_62f3_11eb_a644_0242ac130202row3_col4\" class=\"data row3 col4\" >-0.537</td>\n",
       "            </tr>\n",
       "            <tr>\n",
       "                        <th id=\"T_aa88c53c_62f3_11eb_a644_0242ac130202level0_row4\" class=\"row_heading level0 row4\" >DEATH_EVENT</th>\n",
       "                        <td id=\"T_aa88c53c_62f3_11eb_a644_0242ac130202row4_col0\" class=\"data row4 col0\" >-0.285</td>\n",
       "                        <td id=\"T_aa88c53c_62f3_11eb_a644_0242ac130202row4_col1\" class=\"data row4 col1\" >0.286</td>\n",
       "                        <td id=\"T_aa88c53c_62f3_11eb_a644_0242ac130202row4_col2\" class=\"data row4 col2\" >-0.196</td>\n",
       "                        <td id=\"T_aa88c53c_62f3_11eb_a644_0242ac130202row4_col3\" class=\"data row4 col3\" >-0.537</td>\n",
       "                        <td id=\"T_aa88c53c_62f3_11eb_a644_0242ac130202row4_col4\" class=\"data row4 col4\" >1.000</td>\n",
       "            </tr>\n",
       "    </tbody></table>"
      ],
      "text/plain": [
       "<pandas.io.formats.style.Styler at 0x7fb7a314b190>"
      ]
     },
     "execution_count": 32,
     "metadata": {},
     "output_type": "execute_result"
    }
   ],
   "source": [
    "train.corr().style.background_gradient(cmap='coolwarm').set_precision(3)"
   ]
  },
  {
   "cell_type": "markdown",
   "metadata": {
    "papermill": {
     "duration": 0.087662,
     "end_time": "2021-01-30T12:07:04.444128",
     "exception": false,
     "start_time": "2021-01-30T12:07:04.356466",
     "status": "completed"
    },
    "tags": []
   },
   "source": [
    "##  split data"
   ]
  },
  {
   "cell_type": "code",
   "execution_count": 33,
   "metadata": {
    "execution": {
     "iopub.execute_input": "2021-01-30T12:07:04.628024Z",
     "iopub.status.busy": "2021-01-30T12:07:04.627210Z",
     "iopub.status.idle": "2021-01-30T12:07:04.632727Z",
     "shell.execute_reply": "2021-01-30T12:07:04.632172Z"
    },
    "papermill": {
     "duration": 0.099238,
     "end_time": "2021-01-30T12:07:04.632844",
     "exception": false,
     "start_time": "2021-01-30T12:07:04.533606",
     "status": "completed"
    },
    "tags": []
   },
   "outputs": [],
   "source": [
    "from sklearn.model_selection import train_test_split\n",
    "from sklearn import metrics\n",
    "from sklearn.metrics import accuracy_score"
   ]
  },
  {
   "cell_type": "code",
   "execution_count": 34,
   "metadata": {
    "execution": {
     "iopub.execute_input": "2021-01-30T12:07:04.818924Z",
     "iopub.status.busy": "2021-01-30T12:07:04.818118Z",
     "iopub.status.idle": "2021-01-30T12:07:04.821515Z",
     "shell.execute_reply": "2021-01-30T12:07:04.820967Z"
    },
    "papermill": {
     "duration": 0.09913,
     "end_time": "2021-01-30T12:07:04.821633",
     "exception": false,
     "start_time": "2021-01-30T12:07:04.722503",
     "status": "completed"
    },
    "tags": []
   },
   "outputs": [],
   "source": [
    "x=train.drop('DEATH_EVENT',axis=1)\n",
    "y=train.DEATH_EVENT"
   ]
  },
  {
   "cell_type": "code",
   "execution_count": 35,
   "metadata": {
    "execution": {
     "iopub.execute_input": "2021-01-30T12:07:05.007578Z",
     "iopub.status.busy": "2021-01-30T12:07:05.006858Z",
     "iopub.status.idle": "2021-01-30T12:07:05.011691Z",
     "shell.execute_reply": "2021-01-30T12:07:05.012406Z"
    },
    "papermill": {
     "duration": 0.098457,
     "end_time": "2021-01-30T12:07:05.012616",
     "exception": false,
     "start_time": "2021-01-30T12:07:04.914159",
     "status": "completed"
    },
    "tags": []
   },
   "outputs": [
    {
     "name": "stdout",
     "output_type": "stream",
     "text": [
      "(297, 4)\n",
      "(297,)\n"
     ]
    }
   ],
   "source": [
    "print(x.shape)\n",
    "print(y.shape)"
   ]
  },
  {
   "cell_type": "code",
   "execution_count": 36,
   "metadata": {
    "execution": {
     "iopub.execute_input": "2021-01-30T12:07:05.198811Z",
     "iopub.status.busy": "2021-01-30T12:07:05.198003Z",
     "iopub.status.idle": "2021-01-30T12:07:05.201358Z",
     "shell.execute_reply": "2021-01-30T12:07:05.200707Z"
    },
    "papermill": {
     "duration": 0.098754,
     "end_time": "2021-01-30T12:07:05.201471",
     "exception": false,
     "start_time": "2021-01-30T12:07:05.102717",
     "status": "completed"
    },
    "tags": []
   },
   "outputs": [],
   "source": [
    "x_train,x_test,y_train,y_test = train_test_split(x,y,test_size=0.3)"
   ]
  },
  {
   "cell_type": "code",
   "execution_count": 37,
   "metadata": {
    "execution": {
     "iopub.execute_input": "2021-01-30T12:07:05.391962Z",
     "iopub.status.busy": "2021-01-30T12:07:05.390988Z",
     "iopub.status.idle": "2021-01-30T12:07:05.395269Z",
     "shell.execute_reply": "2021-01-30T12:07:05.394178Z"
    },
    "papermill": {
     "duration": 0.105166,
     "end_time": "2021-01-30T12:07:05.395602",
     "exception": false,
     "start_time": "2021-01-30T12:07:05.290436",
     "status": "completed"
    },
    "tags": []
   },
   "outputs": [
    {
     "name": "stdout",
     "output_type": "stream",
     "text": [
      "     ejection_fraction  serum_creatinine  serum_sodium  time\n",
      "132                 40              1.18           137   107\n",
      "81                  50              1.18           137    76\n",
      "200                 45              0.70           137   186\n",
      "235                 50              1.10           137   209\n",
      "14                  30              1.00           138    12\n",
      "..                 ...               ...           ...   ...\n",
      "45                  38              1.90           135    35\n",
      "154                 35              0.80           136   120\n",
      "176                 40              1.00           135   147\n",
      "189                 45              0.90           140   174\n",
      "101                 45              1.18           137    87\n",
      "\n",
      "[207 rows x 4 columns]\n",
      "188    0\n",
      "41     1\n",
      "51     1\n",
      "240    0\n",
      "229    0\n",
      "      ..\n",
      "128    0\n",
      "183    1\n",
      "181    1\n",
      "75     1\n",
      "6      1\n",
      "Name: DEATH_EVENT, Length: 90, dtype: int64\n"
     ]
    }
   ],
   "source": [
    "print(x_train)\n",
    "print(y_test)"
   ]
  },
  {
   "cell_type": "markdown",
   "metadata": {
    "papermill": {
     "duration": 0.088735,
     "end_time": "2021-01-30T12:07:05.573688",
     "exception": false,
     "start_time": "2021-01-30T12:07:05.484953",
     "status": "completed"
    },
    "tags": []
   },
   "source": [
    "## Feature Scaling"
   ]
  },
  {
   "cell_type": "code",
   "execution_count": 38,
   "metadata": {
    "execution": {
     "iopub.execute_input": "2021-01-30T12:07:05.766552Z",
     "iopub.status.busy": "2021-01-30T12:07:05.761300Z",
     "iopub.status.idle": "2021-01-30T12:07:05.770309Z",
     "shell.execute_reply": "2021-01-30T12:07:05.769613Z"
    },
    "papermill": {
     "duration": 0.107436,
     "end_time": "2021-01-30T12:07:05.770442",
     "exception": false,
     "start_time": "2021-01-30T12:07:05.663006",
     "status": "completed"
    },
    "tags": []
   },
   "outputs": [],
   "source": [
    "from sklearn.preprocessing import StandardScaler\n",
    "sc = StandardScaler()\n",
    "x_train = sc.fit_transform(x_train)\n",
    "x_test = sc.transform(x_test)"
   ]
  },
  {
   "cell_type": "markdown",
   "metadata": {
    "papermill": {
     "duration": 0.088495,
     "end_time": "2021-01-30T12:07:05.947613",
     "exception": false,
     "start_time": "2021-01-30T12:07:05.859118",
     "status": "completed"
    },
    "tags": []
   },
   "source": [
    "### Logistic Regression"
   ]
  },
  {
   "cell_type": "code",
   "execution_count": 39,
   "metadata": {
    "execution": {
     "iopub.execute_input": "2021-01-30T12:07:06.140652Z",
     "iopub.status.busy": "2021-01-30T12:07:06.139750Z",
     "iopub.status.idle": "2021-01-30T12:07:06.151112Z",
     "shell.execute_reply": "2021-01-30T12:07:06.152244Z"
    },
    "papermill": {
     "duration": 0.116949,
     "end_time": "2021-01-30T12:07:06.152415",
     "exception": false,
     "start_time": "2021-01-30T12:07:06.035466",
     "status": "completed"
    },
    "tags": []
   },
   "outputs": [
    {
     "name": "stdout",
     "output_type": "stream",
     "text": [
      "[[50  8]\n",
      " [12 20]]\n",
      "0.7777777777777778\n"
     ]
    }
   ],
   "source": [
    "# Making Confusion Matrix and calculating accuracy score\n",
    "from sklearn.linear_model import LogisticRegression\n",
    "from sklearn.metrics import confusion_matrix, accuracy_score\n",
    "\n",
    "model = LogisticRegression()\n",
    "\n",
    "#Fit the model\n",
    "model.fit(x_train, y_train)\n",
    "y_pred = model.predict(x_test)\n",
    "\n",
    "mylist = []\n",
    "# Confusion Matrix\n",
    "cm = confusion_matrix(y_test, y_pred)\n",
    "# accuracy score\n",
    "acc_logreg = accuracy_score(y_test, y_pred)\n",
    "\n",
    "mylist.append(acc_logreg)\n",
    "print(cm)\n",
    "print(acc_logreg)"
   ]
  },
  {
   "cell_type": "markdown",
   "metadata": {
    "papermill": {
     "duration": 0.090001,
     "end_time": "2021-01-30T12:07:06.330995",
     "exception": false,
     "start_time": "2021-01-30T12:07:06.240994",
     "status": "completed"
    },
    "tags": []
   },
   "source": [
    "## KNN"
   ]
  },
  {
   "cell_type": "code",
   "execution_count": 40,
   "metadata": {
    "execution": {
     "iopub.execute_input": "2021-01-30T12:07:06.522107Z",
     "iopub.status.busy": "2021-01-30T12:07:06.521429Z",
     "iopub.status.idle": "2021-01-30T12:07:06.840078Z",
     "shell.execute_reply": "2021-01-30T12:07:06.839551Z"
    },
    "papermill": {
     "duration": 0.419799,
     "end_time": "2021-01-30T12:07:06.840193",
     "exception": false,
     "start_time": "2021-01-30T12:07:06.420394",
     "status": "completed"
    },
    "tags": []
   },
   "outputs": [
    {
     "data": {
      "image/png": "[encoded data removed]",
      "text/plain": [
       "<Figure size 1080x432 with 1 Axes>"
      ]
     },
     "metadata": {},
     "output_type": "display_data"
    }
   ],
   "source": [
    "# Finding the optimum number of neighbors \n",
    "\n",
    "from sklearn.neighbors import KNeighborsClassifier\n",
    "from sklearn.metrics import confusion_matrix, accuracy_score\n",
    "\n",
    "list1 = []\n",
    "for neighbors in range(3,10):\n",
    "    classifier = KNeighborsClassifier(n_neighbors=neighbors, metric='minkowski')\n",
    "    classifier.fit(x_train, y_train)\n",
    "    y_pred = classifier.predict(x_test)\n",
    "    list1.append(accuracy_score(y_test,y_pred))\n",
    "plt.plot(list(range(3,10)), list1)\n",
    "plt.show()"
   ]
  },
  {
   "cell_type": "code",
   "execution_count": 41,
   "metadata": {
    "execution": {
     "iopub.execute_input": "2021-01-30T12:07:07.029915Z",
     "iopub.status.busy": "2021-01-30T12:07:07.029203Z",
     "iopub.status.idle": "2021-01-30T12:07:07.037542Z",
     "shell.execute_reply": "2021-01-30T12:07:07.036833Z"
    },
    "papermill": {
     "duration": 0.106555,
     "end_time": "2021-01-30T12:07:07.037674",
     "exception": false,
     "start_time": "2021-01-30T12:07:06.931119",
     "status": "completed"
    },
    "tags": []
   },
   "outputs": [
    {
     "data": {
      "text/plain": [
       "KNeighborsClassifier()"
      ]
     },
     "execution_count": 41,
     "metadata": {},
     "output_type": "execute_result"
    }
   ],
   "source": [
    "# Training the K Nearest Neighbor Classifier on the Training set\n",
    "\n",
    "classifier = KNeighborsClassifier(n_neighbors=5)\n",
    "classifier.fit(x_train, y_train)"
   ]
  },
  {
   "cell_type": "code",
   "execution_count": 42,
   "metadata": {
    "execution": {
     "iopub.execute_input": "2021-01-30T12:07:07.224621Z",
     "iopub.status.busy": "2021-01-30T12:07:07.223931Z",
     "iopub.status.idle": "2021-01-30T12:07:07.235298Z",
     "shell.execute_reply": "2021-01-30T12:07:07.235822Z"
    },
    "papermill": {
     "duration": 0.107735,
     "end_time": "2021-01-30T12:07:07.235978",
     "exception": false,
     "start_time": "2021-01-30T12:07:07.128243",
     "status": "completed"
    },
    "tags": []
   },
   "outputs": [
    {
     "name": "stdout",
     "output_type": "stream",
     "text": [
      "[0 1 1 0 0 0 0 0 0 0 1 0 1 0 0 0 0 0 0 0 0 1 0 0 1 0 1 0 0 0 1 0 0 0 0 1 0\n",
      " 0 1 0 0 0 0 0 0 1 0 1 0 0 1 0 0 1 1 0 1 0 0 0 0 0 0 1 0 1 1 0 1 0 1 0 0 1\n",
      " 0 1 0 1 1 0 0 0 0 1 0 0 0 0 1 1]\n"
     ]
    }
   ],
   "source": [
    "# Predicting the Test set results\n",
    "\n",
    "y_pred = classifier.predict(x_test)\n",
    "print(y_pred)"
   ]
  },
  {
   "cell_type": "code",
   "execution_count": 43,
   "metadata": {
    "execution": {
     "iopub.execute_input": "2021-01-30T12:07:07.426702Z",
     "iopub.status.busy": "2021-01-30T12:07:07.425102Z",
     "iopub.status.idle": "2021-01-30T12:07:07.432400Z",
     "shell.execute_reply": "2021-01-30T12:07:07.431861Z"
    },
    "papermill": {
     "duration": 0.10516,
     "end_time": "2021-01-30T12:07:07.432516",
     "exception": false,
     "start_time": "2021-01-30T12:07:07.327356",
     "status": "completed"
    },
    "tags": []
   },
   "outputs": [
    {
     "name": "stdout",
     "output_type": "stream",
     "text": [
      "[[50  8]\n",
      " [12 20]]\n",
      "0.7777777777777778\n"
     ]
    }
   ],
   "source": [
    "# Making the confusion matrix and calculating accuracy score\n",
    "\n",
    "from sklearn.metrics import confusion_matrix, accuracy_score\n",
    "cm = confusion_matrix(y_test, y_pred)\n",
    "acc_knn = accuracy_score(y_test, y_pred)\n",
    "mylist.append(acc_knn)\n",
    "print(cm)\n",
    "print(acc_knn)"
   ]
  },
  {
   "cell_type": "markdown",
   "metadata": {
    "papermill": {
     "duration": 0.091986,
     "end_time": "2021-01-30T12:07:07.616516",
     "exception": false,
     "start_time": "2021-01-30T12:07:07.524530",
     "status": "completed"
    },
    "tags": []
   },
   "source": [
    "## Support Vector Machines"
   ]
  },
  {
   "cell_type": "code",
   "execution_count": 44,
   "metadata": {
    "execution": {
     "iopub.execute_input": "2021-01-30T12:07:07.811166Z",
     "iopub.status.busy": "2021-01-30T12:07:07.810470Z",
     "iopub.status.idle": "2021-01-30T12:07:08.143757Z",
     "shell.execute_reply": "2021-01-30T12:07:08.143059Z"
    },
    "papermill": {
     "duration": 0.436067,
     "end_time": "2021-01-30T12:07:08.143872",
     "exception": false,
     "start_time": "2021-01-30T12:07:07.707805",
     "status": "completed"
    },
    "tags": []
   },
   "outputs": [
    {
     "data": {
      "image/png": "[encoded data removed]",
      "text/plain": [
       "<Figure size 1080x432 with 1 Axes>"
      ]
     },
     "metadata": {},
     "output_type": "display_data"
    }
   ],
   "source": [
    "from sklearn.svm import SVC\n",
    "from sklearn.metrics import confusion_matrix, accuracy_score\n",
    "list1 = []\n",
    "for c in [0.5,0.6,0.7,0.8,0.9,1.0]:\n",
    "    classifier = SVC(C = c, random_state=0, kernel = 'rbf')\n",
    "    classifier.fit(x_train, y_train)\n",
    "    y_pred = classifier.predict(x_test)\n",
    "    list1.append(accuracy_score(y_test,y_pred))\n",
    "plt.plot([0.5,0.6,0.7,0.8,0.9,1.0], list1)\n",
    "plt.show()"
   ]
  },
  {
   "cell_type": "code",
   "execution_count": 45,
   "metadata": {
    "execution": {
     "iopub.execute_input": "2021-01-30T12:07:08.340630Z",
     "iopub.status.busy": "2021-01-30T12:07:08.339932Z",
     "iopub.status.idle": "2021-01-30T12:07:08.352007Z",
     "shell.execute_reply": "2021-01-30T12:07:08.352635Z"
    },
    "papermill": {
     "duration": 0.110083,
     "end_time": "2021-01-30T12:07:08.352795",
     "exception": false,
     "start_time": "2021-01-30T12:07:08.242712",
     "status": "completed"
    },
    "tags": []
   },
   "outputs": [
    {
     "data": {
      "text/plain": [
       "SVC(C=0.7, random_state=0)"
      ]
     },
     "execution_count": 45,
     "metadata": {},
     "output_type": "execute_result"
    }
   ],
   "source": [
    "# Training the Support Vector Classifier on the Training set\n",
    "\n",
    "from sklearn.svm import SVC\n",
    "classifier = SVC(C = 0.7, random_state=0, kernel = 'rbf')\n",
    "classifier.fit(x_train, y_train)"
   ]
  },
  {
   "cell_type": "code",
   "execution_count": 46,
   "metadata": {
    "execution": {
     "iopub.execute_input": "2021-01-30T12:07:08.544018Z",
     "iopub.status.busy": "2021-01-30T12:07:08.543311Z",
     "iopub.status.idle": "2021-01-30T12:07:08.553586Z",
     "shell.execute_reply": "2021-01-30T12:07:08.552821Z"
    },
    "papermill": {
     "duration": 0.107161,
     "end_time": "2021-01-30T12:07:08.553745",
     "exception": false,
     "start_time": "2021-01-30T12:07:08.446584",
     "status": "completed"
    },
    "tags": []
   },
   "outputs": [
    {
     "name": "stdout",
     "output_type": "stream",
     "text": [
      "[0 1 1 0 0 0 0 0 0 0 1 0 1 0 0 0 0 1 0 0 0 0 0 0 1 0 1 0 0 0 1 0 0 0 0 1 0\n",
      " 0 1 0 0 0 0 0 1 1 0 1 0 0 1 0 0 1 1 0 1 0 0 0 0 0 0 1 0 1 0 0 1 0 1 0 0 1\n",
      " 0 1 0 1 1 0 0 0 0 1 0 0 0 0 1 1]\n"
     ]
    }
   ],
   "source": [
    "# Predicting the test set results\n",
    "\n",
    "y_pred = classifier.predict(x_test)\n",
    "print(y_pred)"
   ]
  },
  {
   "cell_type": "code",
   "execution_count": 47,
   "metadata": {
    "execution": {
     "iopub.execute_input": "2021-01-30T12:07:08.756039Z",
     "iopub.status.busy": "2021-01-30T12:07:08.755378Z",
     "iopub.status.idle": "2021-01-30T12:07:08.762733Z",
     "shell.execute_reply": "2021-01-30T12:07:08.762048Z"
    },
    "papermill": {
     "duration": 0.110852,
     "end_time": "2021-01-30T12:07:08.762848",
     "exception": false,
     "start_time": "2021-01-30T12:07:08.651996",
     "status": "completed"
    },
    "tags": []
   },
   "outputs": [
    {
     "name": "stdout",
     "output_type": "stream",
     "text": [
      "[[51  7]\n",
      " [11 21]]\n",
      "0.8\n"
     ]
    }
   ],
   "source": [
    "# Making the confusion matrix and calculating accuracy score\n",
    "\n",
    "from sklearn.metrics import confusion_matrix, accuracy_score\n",
    "cm = confusion_matrix(y_test, y_pred)\n",
    "acc_svc = accuracy_score(y_test, y_pred)\n",
    "print(cm)\n",
    "print(acc_svc)\n",
    "mylist.append(acc_svc)"
   ]
  },
  {
   "cell_type": "markdown",
   "metadata": {
    "papermill": {
     "duration": 0.095974,
     "end_time": "2021-01-30T12:07:08.953864",
     "exception": false,
     "start_time": "2021-01-30T12:07:08.857890",
     "status": "completed"
    },
    "tags": []
   },
   "source": [
    "## DecisionTreeClassifier"
   ]
  },
  {
   "cell_type": "code",
   "execution_count": 48,
   "metadata": {
    "execution": {
     "iopub.execute_input": "2021-01-30T12:07:09.145043Z",
     "iopub.status.busy": "2021-01-30T12:07:09.144251Z",
     "iopub.status.idle": "2021-01-30T12:07:09.450472Z",
     "shell.execute_reply": "2021-01-30T12:07:09.451040Z"
    },
    "papermill": {
     "duration": 0.403657,
     "end_time": "2021-01-30T12:07:09.451185",
     "exception": false,
     "start_time": "2021-01-30T12:07:09.047528",
     "status": "completed"
    },
    "tags": []
   },
   "outputs": [
    {
     "data": {
      "image/png": "[encoded data removed]",
      "text/plain": [
       "<Figure size 1080x432 with 1 Axes>"
      ]
     },
     "metadata": {},
     "output_type": "display_data"
    }
   ],
   "source": [
    "# Finding the optimum number of max_leaf_nodes\n",
    "\n",
    "from sklearn.tree import DecisionTreeClassifier\n",
    "from sklearn.metrics import confusion_matrix, accuracy_score\n",
    "list1 = []\n",
    "for leaves in range(2,15):\n",
    "    classifier = DecisionTreeClassifier(max_leaf_nodes = leaves, random_state=0, criterion='entropy')\n",
    "    classifier.fit(x_train, y_train)\n",
    "    y_pred = classifier.predict(x_test)\n",
    "    list1.append(accuracy_score(y_test,y_pred))\n",
    "#print(mylist)\n",
    "plt.plot(list(range(2,15)), list1)\n",
    "plt.show()"
   ]
  },
  {
   "cell_type": "code",
   "execution_count": 49,
   "metadata": {
    "execution": {
     "iopub.execute_input": "2021-01-30T12:07:09.648005Z",
     "iopub.status.busy": "2021-01-30T12:07:09.647350Z",
     "iopub.status.idle": "2021-01-30T12:07:09.655114Z",
     "shell.execute_reply": "2021-01-30T12:07:09.655658Z"
    },
    "papermill": {
     "duration": 0.107371,
     "end_time": "2021-01-30T12:07:09.655808",
     "exception": false,
     "start_time": "2021-01-30T12:07:09.548437",
     "status": "completed"
    },
    "tags": []
   },
   "outputs": [
    {
     "data": {
      "text/plain": [
       "DecisionTreeClassifier(criterion='entropy', max_leaf_nodes=10, random_state=0)"
      ]
     },
     "execution_count": 49,
     "metadata": {},
     "output_type": "execute_result"
    }
   ],
   "source": [
    "# Training the Decision Tree Classifier on the Training set\n",
    "\n",
    "classifier = DecisionTreeClassifier(max_leaf_nodes = 10, random_state=0, criterion='entropy')\n",
    "classifier.fit(x_train, y_train)"
   ]
  },
  {
   "cell_type": "code",
   "execution_count": 50,
   "metadata": {
    "execution": {
     "iopub.execute_input": "2021-01-30T12:07:09.850471Z",
     "iopub.status.busy": "2021-01-30T12:07:09.849710Z",
     "iopub.status.idle": "2021-01-30T12:07:09.856314Z",
     "shell.execute_reply": "2021-01-30T12:07:09.855759Z"
    },
    "papermill": {
     "duration": 0.105432,
     "end_time": "2021-01-30T12:07:09.856453",
     "exception": false,
     "start_time": "2021-01-30T12:07:09.751021",
     "status": "completed"
    },
    "tags": []
   },
   "outputs": [
    {
     "name": "stdout",
     "output_type": "stream",
     "text": [
      "[0 1 1 0 0 0 0 0 0 0 1 0 1 0 0 0 0 1 0 0 1 0 1 0 1 0 0 0 0 0 1 0 0 0 0 1 0\n",
      " 0 1 1 0 1 0 0 0 1 0 0 0 0 0 0 0 1 1 0 1 0 1 1 0 0 0 1 1 1 0 0 0 0 1 0 0 1\n",
      " 0 1 0 1 0 0 1 0 0 1 0 0 0 0 0 1]\n"
     ]
    }
   ],
   "source": [
    "# Predicting the test set results\n",
    "\n",
    "y_pred = classifier.predict(x_test)\n",
    "print(y_pred)"
   ]
  },
  {
   "cell_type": "code",
   "execution_count": 51,
   "metadata": {
    "execution": {
     "iopub.execute_input": "2021-01-30T12:07:10.057963Z",
     "iopub.status.busy": "2021-01-30T12:07:10.057060Z",
     "iopub.status.idle": "2021-01-30T12:07:10.063204Z",
     "shell.execute_reply": "2021-01-30T12:07:10.063878Z"
    },
    "papermill": {
     "duration": 0.111095,
     "end_time": "2021-01-30T12:07:10.064035",
     "exception": false,
     "start_time": "2021-01-30T12:07:09.952940",
     "status": "completed"
    },
    "tags": []
   },
   "outputs": [
    {
     "name": "stdout",
     "output_type": "stream",
     "text": [
      "[[50  8]\n",
      " [11 21]]\n",
      "0.7888888888888889\n"
     ]
    }
   ],
   "source": [
    "# Making the confusion matrix and calculating accuracy score\n",
    "\n",
    "from sklearn.metrics import confusion_matrix, accuracy_score\n",
    "cm = confusion_matrix(y_test, y_pred)\n",
    "acc_decisiontree = accuracy_score(y_test, y_pred)\n",
    "print(cm)\n",
    "print(acc_decisiontree)\n",
    "mylist.append(acc_decisiontree)"
   ]
  },
  {
   "cell_type": "markdown",
   "metadata": {
    "papermill": {
     "duration": 0.097138,
     "end_time": "2021-01-30T12:07:10.259916",
     "exception": false,
     "start_time": "2021-01-30T12:07:10.162778",
     "status": "completed"
    },
    "tags": []
   },
   "source": [
    "## RANDOM FOREST CLASSIFCATION"
   ]
  },
  {
   "cell_type": "code",
   "execution_count": 52,
   "metadata": {
    "execution": {
     "iopub.execute_input": "2021-01-30T12:07:10.472679Z",
     "iopub.status.busy": "2021-01-30T12:07:10.471948Z",
     "iopub.status.idle": "2021-01-30T12:07:11.667176Z",
     "shell.execute_reply": "2021-01-30T12:07:11.667717Z"
    },
    "papermill": {
     "duration": 1.309452,
     "end_time": "2021-01-30T12:07:11.667860",
     "exception": false,
     "start_time": "2021-01-30T12:07:10.358408",
     "status": "completed"
    },
    "tags": []
   },
   "outputs": [
    {
     "data": {
      "image/png": "[encoded data removed]",
      "text/plain": [
       "<Figure size 1080x432 with 1 Axes>"
      ]
     },
     "metadata": {},
     "output_type": "display_data"
    }
   ],
   "source": [
    "#Finding the optimum number of n_estimators\n",
    "\n",
    "from sklearn.ensemble import RandomForestClassifier\n",
    "from sklearn.metrics import confusion_matrix, accuracy_score\n",
    "list1 = []\n",
    "for estimators in range(10,30):\n",
    "    classifier = RandomForestClassifier(n_estimators = estimators, random_state=0, criterion='entropy')\n",
    "    classifier.fit(x_train, y_train)\n",
    "    y_pred = classifier.predict(x_test)\n",
    "    list1.append(accuracy_score(y_test,y_pred))\n",
    "#print(mylist)\n",
    "plt.plot(list(range(10,30)), list1)\n",
    "plt.show()"
   ]
  },
  {
   "cell_type": "code",
   "execution_count": 53,
   "metadata": {
    "execution": {
     "iopub.execute_input": "2021-01-30T12:07:11.868748Z",
     "iopub.status.busy": "2021-01-30T12:07:11.867707Z",
     "iopub.status.idle": "2021-01-30T12:07:11.909036Z",
     "shell.execute_reply": "2021-01-30T12:07:11.908348Z"
    },
    "papermill": {
     "duration": 0.142,
     "end_time": "2021-01-30T12:07:11.909152",
     "exception": false,
     "start_time": "2021-01-30T12:07:11.767152",
     "status": "completed"
    },
    "tags": []
   },
   "outputs": [
    {
     "data": {
      "text/plain": [
       "RandomForestClassifier(criterion='entropy', n_estimators=15, random_state=0)"
      ]
     },
     "execution_count": 53,
     "metadata": {},
     "output_type": "execute_result"
    }
   ],
   "source": [
    "# Training the RandomForest Classifier on the Training set\n",
    "\n",
    "from sklearn.ensemble import RandomForestClassifier\n",
    "classifier = RandomForestClassifier(n_estimators = 15, criterion='entropy', random_state=0)\n",
    "classifier.fit(x_train,y_train)"
   ]
  },
  {
   "cell_type": "code",
   "execution_count": 54,
   "metadata": {
    "execution": {
     "iopub.execute_input": "2021-01-30T12:07:12.113901Z",
     "iopub.status.busy": "2021-01-30T12:07:12.113113Z",
     "iopub.status.idle": "2021-01-30T12:07:12.119107Z",
     "shell.execute_reply": "2021-01-30T12:07:12.119628Z"
    },
    "papermill": {
     "duration": 0.111308,
     "end_time": "2021-01-30T12:07:12.119772",
     "exception": false,
     "start_time": "2021-01-30T12:07:12.008464",
     "status": "completed"
    },
    "tags": []
   },
   "outputs": [
    {
     "name": "stdout",
     "output_type": "stream",
     "text": [
      "[0 1 1 0 0 0 0 0 0 0 1 0 1 1 0 0 0 1 0 0 1 0 0 0 1 0 1 0 0 0 1 0 0 0 0 1 0\n",
      " 0 1 1 0 1 0 0 0 1 0 0 0 0 1 0 0 1 1 0 1 0 0 1 0 0 0 1 0 1 0 0 1 0 1 0 0 1\n",
      " 0 1 0 1 1 1 1 0 0 1 0 0 1 0 1 1]\n"
     ]
    }
   ],
   "source": [
    "# Predicting the test set results\n",
    "\n",
    "y_pred = classifier.predict(x_test)\n",
    "print(y_pred)"
   ]
  },
  {
   "cell_type": "code",
   "execution_count": 55,
   "metadata": {
    "execution": {
     "iopub.execute_input": "2021-01-30T12:07:12.326416Z",
     "iopub.status.busy": "2021-01-30T12:07:12.325615Z",
     "iopub.status.idle": "2021-01-30T12:07:12.331397Z",
     "shell.execute_reply": "2021-01-30T12:07:12.330609Z"
    },
    "papermill": {
     "duration": 0.112684,
     "end_time": "2021-01-30T12:07:12.331551",
     "exception": false,
     "start_time": "2021-01-30T12:07:12.218867",
     "status": "completed"
    },
    "tags": []
   },
   "outputs": [
    {
     "name": "stdout",
     "output_type": "stream",
     "text": [
      "[[50  8]\n",
      " [ 6 26]]\n",
      "0.8444444444444444\n"
     ]
    }
   ],
   "source": [
    "# Making the confusion matrix and calculating the accuracy score\n",
    "\n",
    "from sklearn.metrics import confusion_matrix, accuracy_score\n",
    "cm = confusion_matrix(y_test, y_pred)\n",
    "acc_randomforest = accuracy_score(y_test, y_pred)\n",
    "mylist.append(acc_randomforest)\n",
    "print(cm)\n",
    "print(acc_randomforest)"
   ]
  },
  {
   "cell_type": "markdown",
   "metadata": {
    "papermill": {
     "duration": 0.09958,
     "end_time": "2021-01-30T12:07:12.531943",
     "exception": false,
     "start_time": "2021-01-30T12:07:12.432363",
     "status": "completed"
    },
    "tags": []
   },
   "source": [
    "## ANN (neural network )"
   ]
  },
  {
   "cell_type": "code",
   "execution_count": 56,
   "metadata": {
    "execution": {
     "iopub.execute_input": "2021-01-30T12:07:12.740804Z",
     "iopub.status.busy": "2021-01-30T12:07:12.739921Z",
     "iopub.status.idle": "2021-01-30T12:07:18.946612Z",
     "shell.execute_reply": "2021-01-30T12:07:18.947099Z"
    },
    "papermill": {
     "duration": 6.314216,
     "end_time": "2021-01-30T12:07:18.947265",
     "exception": false,
     "start_time": "2021-01-30T12:07:12.633049",
     "status": "completed"
    },
    "tags": []
   },
   "outputs": [],
   "source": [
    "np.random.seed(0)\n",
    "import tensorflow as tf\n",
    "\n",
    "# Initialising the ANN\n",
    "\n",
    "ann = tf.keras.models.Sequential()"
   ]
  },
  {
   "cell_type": "code",
   "execution_count": 57,
   "metadata": {
    "execution": {
     "iopub.execute_input": "2021-01-30T12:07:19.162479Z",
     "iopub.status.busy": "2021-01-30T12:07:19.161535Z",
     "iopub.status.idle": "2021-01-30T12:07:19.164678Z",
     "shell.execute_reply": "2021-01-30T12:07:19.164043Z"
    },
    "papermill": {
     "duration": 0.118254,
     "end_time": "2021-01-30T12:07:19.164807",
     "exception": false,
     "start_time": "2021-01-30T12:07:19.046553",
     "status": "completed"
    },
    "tags": []
   },
   "outputs": [],
   "source": [
    "# Adding the input layer and the first hidden layer\n",
    "\n",
    "ann.add(tf.keras.layers.Dense(units = 7, activation = 'relu'))"
   ]
  },
  {
   "cell_type": "code",
   "execution_count": 58,
   "metadata": {
    "execution": {
     "iopub.execute_input": "2021-01-30T12:07:19.373679Z",
     "iopub.status.busy": "2021-01-30T12:07:19.372939Z",
     "iopub.status.idle": "2021-01-30T12:07:19.376418Z",
     "shell.execute_reply": "2021-01-30T12:07:19.375842Z"
    },
    "papermill": {
     "duration": 0.11188,
     "end_time": "2021-01-30T12:07:19.376529",
     "exception": false,
     "start_time": "2021-01-30T12:07:19.264649",
     "status": "completed"
    },
    "tags": []
   },
   "outputs": [],
   "source": [
    "# Adding the second hidden layer\n",
    "\n",
    "ann.add(tf.keras.layers.Dense(units = 7, activation = 'relu'))"
   ]
  },
  {
   "cell_type": "code",
   "execution_count": 59,
   "metadata": {
    "execution": {
     "iopub.execute_input": "2021-01-30T12:07:19.580133Z",
     "iopub.status.busy": "2021-01-30T12:07:19.579069Z",
     "iopub.status.idle": "2021-01-30T12:07:19.585151Z",
     "shell.execute_reply": "2021-01-30T12:07:19.585836Z"
    },
    "papermill": {
     "duration": 0.10949,
     "end_time": "2021-01-30T12:07:19.585973",
     "exception": false,
     "start_time": "2021-01-30T12:07:19.476483",
     "status": "completed"
    },
    "tags": []
   },
   "outputs": [],
   "source": [
    "# Adding the third hidden layer\n",
    "\n",
    "ann.add(tf.keras.layers.Dense(units = 7, activation = 'relu'))"
   ]
  },
  {
   "cell_type": "code",
   "execution_count": 60,
   "metadata": {
    "execution": {
     "iopub.execute_input": "2021-01-30T12:07:19.791557Z",
     "iopub.status.busy": "2021-01-30T12:07:19.790449Z",
     "iopub.status.idle": "2021-01-30T12:07:19.796583Z",
     "shell.execute_reply": "2021-01-30T12:07:19.797061Z"
    },
    "papermill": {
     "duration": 0.110307,
     "end_time": "2021-01-30T12:07:19.797221",
     "exception": false,
     "start_time": "2021-01-30T12:07:19.686914",
     "status": "completed"
    },
    "tags": []
   },
   "outputs": [],
   "source": [
    "# Adding the fourth hidden layer\n",
    "\n",
    "ann.add(tf.keras.layers.Dense(units = 7, activation = 'relu'))"
   ]
  },
  {
   "cell_type": "code",
   "execution_count": 61,
   "metadata": {
    "execution": {
     "iopub.execute_input": "2021-01-30T12:07:20.004040Z",
     "iopub.status.busy": "2021-01-30T12:07:20.002785Z",
     "iopub.status.idle": "2021-01-30T12:07:20.009638Z",
     "shell.execute_reply": "2021-01-30T12:07:20.010166Z"
    },
    "papermill": {
     "duration": 0.11175,
     "end_time": "2021-01-30T12:07:20.010364",
     "exception": false,
     "start_time": "2021-01-30T12:07:19.898614",
     "status": "completed"
    },
    "tags": []
   },
   "outputs": [],
   "source": [
    "# Adding the output layer\n",
    "\n",
    "ann.add(tf.keras.layers.Dense(units = 1, activation = 'sigmoid'))"
   ]
  },
  {
   "cell_type": "code",
   "execution_count": 62,
   "metadata": {
    "execution": {
     "iopub.execute_input": "2021-01-30T12:07:20.226962Z",
     "iopub.status.busy": "2021-01-30T12:07:20.226166Z",
     "iopub.status.idle": "2021-01-30T12:07:20.237396Z",
     "shell.execute_reply": "2021-01-30T12:07:20.236838Z"
    },
    "papermill": {
     "duration": 0.125506,
     "end_time": "2021-01-30T12:07:20.237519",
     "exception": false,
     "start_time": "2021-01-30T12:07:20.112013",
     "status": "completed"
    },
    "tags": []
   },
   "outputs": [],
   "source": [
    "# Compiling the ANN\n",
    "\n",
    "ann.compile(optimizer = 'adam', loss = 'binary_crossentropy' , metrics = ['accuracy'] )"
   ]
  },
  {
   "cell_type": "code",
   "execution_count": 63,
   "metadata": {
    "execution": {
     "iopub.execute_input": "2021-01-30T12:07:20.445307Z",
     "iopub.status.busy": "2021-01-30T12:07:20.444483Z",
     "iopub.status.idle": "2021-01-30T12:07:23.616844Z",
     "shell.execute_reply": "2021-01-30T12:07:23.617428Z"
    },
    "papermill": {
     "duration": 3.279739,
     "end_time": "2021-01-30T12:07:23.617592",
     "exception": false,
     "start_time": "2021-01-30T12:07:20.337853",
     "status": "completed"
    },
    "tags": []
   },
   "outputs": [
    {
     "name": "stdout",
     "output_type": "stream",
     "text": [
      "Epoch 1/100\n",
      "13/13 [==============================] - 0s 1ms/step - loss: 0.6674 - accuracy: 0.6908\n",
      "Epoch 2/100\n",
      "13/13 [==============================] - 0s 1ms/step - loss: 0.6487 - accuracy: 0.6957\n",
      "Epoch 3/100\n",
      "13/13 [==============================] - 0s 1ms/step - loss: 0.6281 - accuracy: 0.6957\n",
      "Epoch 4/100\n",
      "13/13 [==============================] - 0s 1ms/step - loss: 0.6072 - accuracy: 0.6957\n",
      "Epoch 5/100\n",
      "13/13 [==============================] - 0s 1ms/step - loss: 0.5898 - accuracy: 0.6957\n",
      "Epoch 6/100\n",
      "13/13 [==============================] - 0s 1ms/step - loss: 0.5748 - accuracy: 0.6957\n",
      "Epoch 7/100\n",
      "13/13 [==============================] - 0s 1ms/step - loss: 0.5622 - accuracy: 0.6957\n",
      "Epoch 8/100\n",
      "13/13 [==============================] - 0s 1ms/step - loss: 0.5517 - accuracy: 0.6957\n",
      "Epoch 9/100\n",
      "13/13 [==============================] - 0s 1ms/step - loss: 0.5423 - accuracy: 0.6957\n",
      "Epoch 10/100\n",
      "13/13 [==============================] - 0s 1ms/step - loss: 0.5337 - accuracy: 0.6957\n",
      "Epoch 11/100\n",
      "13/13 [==============================] - 0s 1ms/step - loss: 0.5255 - accuracy: 0.6957\n",
      "Epoch 12/100\n",
      "13/13 [==============================] - 0s 1ms/step - loss: 0.5173 - accuracy: 0.6957\n",
      "Epoch 13/100\n",
      "13/13 [==============================] - 0s 1ms/step - loss: 0.5082 - accuracy: 0.6957\n",
      "Epoch 14/100\n",
      "13/13 [==============================] - 0s 1ms/step - loss: 0.5011 - accuracy: 0.6957\n",
      "Epoch 15/100\n",
      "13/13 [==============================] - 0s 1ms/step - loss: 0.4954 - accuracy: 0.6957\n",
      "Epoch 16/100\n",
      "13/13 [==============================] - 0s 1ms/step - loss: 0.4893 - accuracy: 0.6957\n",
      "Epoch 17/100\n",
      "13/13 [==============================] - 0s 1ms/step - loss: 0.4831 - accuracy: 0.7005\n",
      "Epoch 18/100\n",
      "13/13 [==============================] - 0s 1ms/step - loss: 0.4782 - accuracy: 0.7440\n",
      "Epoch 19/100\n",
      "13/13 [==============================] - 0s 1ms/step - loss: 0.4721 - accuracy: 0.7874\n",
      "Epoch 20/100\n",
      "13/13 [==============================] - 0s 1ms/step - loss: 0.4670 - accuracy: 0.7826\n",
      "Epoch 21/100\n",
      "13/13 [==============================] - 0s 1ms/step - loss: 0.4618 - accuracy: 0.8019\n",
      "Epoch 22/100\n",
      "13/13 [==============================] - 0s 1ms/step - loss: 0.4557 - accuracy: 0.8164\n",
      "Epoch 23/100\n",
      "13/13 [==============================] - 0s 2ms/step - loss: 0.4498 - accuracy: 0.8164\n",
      "Epoch 24/100\n",
      "13/13 [==============================] - 0s 2ms/step - loss: 0.4443 - accuracy: 0.8116\n",
      "Epoch 25/100\n",
      "13/13 [==============================] - 0s 2ms/step - loss: 0.4380 - accuracy: 0.8261\n",
      "Epoch 26/100\n",
      "13/13 [==============================] - 0s 2ms/step - loss: 0.4319 - accuracy: 0.8261\n",
      "Epoch 27/100\n",
      "13/13 [==============================] - 0s 1ms/step - loss: 0.4261 - accuracy: 0.8309\n",
      "Epoch 28/100\n",
      "13/13 [==============================] - 0s 2ms/step - loss: 0.4189 - accuracy: 0.8309\n",
      "Epoch 29/100\n",
      "13/13 [==============================] - 0s 1ms/step - loss: 0.4131 - accuracy: 0.8309\n",
      "Epoch 30/100\n",
      "13/13 [==============================] - 0s 1ms/step - loss: 0.4073 - accuracy: 0.8406\n",
      "Epoch 31/100\n",
      "13/13 [==============================] - 0s 1ms/step - loss: 0.3991 - accuracy: 0.8357\n",
      "Epoch 32/100\n",
      "13/13 [==============================] - 0s 1ms/step - loss: 0.3942 - accuracy: 0.8357\n",
      "Epoch 33/100\n",
      "13/13 [==============================] - 0s 1ms/step - loss: 0.3882 - accuracy: 0.8357\n",
      "Epoch 34/100\n",
      "13/13 [==============================] - 0s 1ms/step - loss: 0.3823 - accuracy: 0.8454\n",
      "Epoch 35/100\n",
      "13/13 [==============================] - 0s 1ms/step - loss: 0.3763 - accuracy: 0.8406\n",
      "Epoch 36/100\n",
      "13/13 [==============================] - 0s 1ms/step - loss: 0.3717 - accuracy: 0.8406\n",
      "Epoch 37/100\n",
      "13/13 [==============================] - 0s 1ms/step - loss: 0.3663 - accuracy: 0.8406\n",
      "Epoch 38/100\n",
      "13/13 [==============================] - 0s 1ms/step - loss: 0.3616 - accuracy: 0.8406\n",
      "Epoch 39/100\n",
      "13/13 [==============================] - 0s 1ms/step - loss: 0.3576 - accuracy: 0.8406\n",
      "Epoch 40/100\n",
      "13/13 [==============================] - 0s 1ms/step - loss: 0.3536 - accuracy: 0.8454\n",
      "Epoch 41/100\n",
      "13/13 [==============================] - 0s 1ms/step - loss: 0.3499 - accuracy: 0.8502\n",
      "Epoch 42/100\n",
      "13/13 [==============================] - 0s 1ms/step - loss: 0.3477 - accuracy: 0.8502\n",
      "Epoch 43/100\n",
      "13/13 [==============================] - 0s 1ms/step - loss: 0.3424 - accuracy: 0.8502\n",
      "Epoch 44/100\n",
      "13/13 [==============================] - 0s 1ms/step - loss: 0.3403 - accuracy: 0.8502\n",
      "Epoch 45/100\n",
      "13/13 [==============================] - 0s 1ms/step - loss: 0.3383 - accuracy: 0.8551\n",
      "Epoch 46/100\n",
      "13/13 [==============================] - 0s 1ms/step - loss: 0.3354 - accuracy: 0.8454\n",
      "Epoch 47/100\n",
      "13/13 [==============================] - 0s 1ms/step - loss: 0.3332 - accuracy: 0.8502\n",
      "Epoch 48/100\n",
      "13/13 [==============================] - 0s 1ms/step - loss: 0.3312 - accuracy: 0.8454\n",
      "Epoch 49/100\n",
      "13/13 [==============================] - 0s 1ms/step - loss: 0.3285 - accuracy: 0.8454\n",
      "Epoch 50/100\n",
      "13/13 [==============================] - 0s 1ms/step - loss: 0.3263 - accuracy: 0.8502\n",
      "Epoch 51/100\n",
      "13/13 [==============================] - 0s 1ms/step - loss: 0.3245 - accuracy: 0.8502\n",
      "Epoch 52/100\n",
      "13/13 [==============================] - 0s 1ms/step - loss: 0.3236 - accuracy: 0.8551\n",
      "Epoch 53/100\n",
      "13/13 [==============================] - 0s 1ms/step - loss: 0.3210 - accuracy: 0.8647\n",
      "Epoch 54/100\n",
      "13/13 [==============================] - 0s 1ms/step - loss: 0.3195 - accuracy: 0.8599\n",
      "Epoch 55/100\n",
      "13/13 [==============================] - 0s 1ms/step - loss: 0.3191 - accuracy: 0.8744\n",
      "Epoch 56/100\n",
      "13/13 [==============================] - 0s 1ms/step - loss: 0.3168 - accuracy: 0.8744\n",
      "Epoch 57/100\n",
      "13/13 [==============================] - 0s 1ms/step - loss: 0.3162 - accuracy: 0.8792\n",
      "Epoch 58/100\n",
      "13/13 [==============================] - 0s 1ms/step - loss: 0.3144 - accuracy: 0.8792\n",
      "Epoch 59/100\n",
      "13/13 [==============================] - 0s 1ms/step - loss: 0.3148 - accuracy: 0.8841\n",
      "Epoch 60/100\n",
      "13/13 [==============================] - 0s 1ms/step - loss: 0.3123 - accuracy: 0.8792\n",
      "Epoch 61/100\n",
      "13/13 [==============================] - 0s 1ms/step - loss: 0.3123 - accuracy: 0.8792\n",
      "Epoch 62/100\n",
      "13/13 [==============================] - 0s 1ms/step - loss: 0.3108 - accuracy: 0.8841\n",
      "Epoch 63/100\n",
      "13/13 [==============================] - 0s 1ms/step - loss: 0.3096 - accuracy: 0.8841\n",
      "Epoch 64/100\n",
      "13/13 [==============================] - 0s 1ms/step - loss: 0.3089 - accuracy: 0.8841\n",
      "Epoch 65/100\n",
      "13/13 [==============================] - 0s 1ms/step - loss: 0.3071 - accuracy: 0.8841\n",
      "Epoch 66/100\n",
      "13/13 [==============================] - 0s 1ms/step - loss: 0.3071 - accuracy: 0.8889\n",
      "Epoch 67/100\n",
      "13/13 [==============================] - 0s 1ms/step - loss: 0.3069 - accuracy: 0.8889\n",
      "Epoch 68/100\n",
      "13/13 [==============================] - 0s 1ms/step - loss: 0.3054 - accuracy: 0.8889\n",
      "Epoch 69/100\n",
      "13/13 [==============================] - 0s 1ms/step - loss: 0.3061 - accuracy: 0.8792\n",
      "Epoch 70/100\n",
      "13/13 [==============================] - 0s 1ms/step - loss: 0.3036 - accuracy: 0.8889\n",
      "Epoch 71/100\n",
      "13/13 [==============================] - 0s 1ms/step - loss: 0.3051 - accuracy: 0.8841\n",
      "Epoch 72/100\n",
      "13/13 [==============================] - 0s 1ms/step - loss: 0.3027 - accuracy: 0.8841\n",
      "Epoch 73/100\n",
      "13/13 [==============================] - 0s 1ms/step - loss: 0.3012 - accuracy: 0.8889\n",
      "Epoch 74/100\n",
      "13/13 [==============================] - 0s 1ms/step - loss: 0.3010 - accuracy: 0.8937\n",
      "Epoch 75/100\n",
      "13/13 [==============================] - 0s 1ms/step - loss: 0.3010 - accuracy: 0.8889\n",
      "Epoch 76/100\n",
      "13/13 [==============================] - 0s 1ms/step - loss: 0.2998 - accuracy: 0.8841\n",
      "Epoch 77/100\n",
      "13/13 [==============================] - 0s 1ms/step - loss: 0.2985 - accuracy: 0.8841\n",
      "Epoch 78/100\n",
      "13/13 [==============================] - 0s 1ms/step - loss: 0.2982 - accuracy: 0.8841\n",
      "Epoch 79/100\n",
      "13/13 [==============================] - 0s 1ms/step - loss: 0.3003 - accuracy: 0.8889\n",
      "Epoch 80/100\n",
      "13/13 [==============================] - 0s 1ms/step - loss: 0.2969 - accuracy: 0.8889\n",
      "Epoch 81/100\n",
      "13/13 [==============================] - 0s 1ms/step - loss: 0.2980 - accuracy: 0.8841\n",
      "Epoch 82/100\n",
      "13/13 [==============================] - 0s 1ms/step - loss: 0.2970 - accuracy: 0.8841\n",
      "Epoch 83/100\n",
      "13/13 [==============================] - 0s 1ms/step - loss: 0.2959 - accuracy: 0.8889\n",
      "Epoch 84/100\n",
      "13/13 [==============================] - 0s 1ms/step - loss: 0.2955 - accuracy: 0.8792\n",
      "Epoch 85/100\n",
      "13/13 [==============================] - 0s 1ms/step - loss: 0.2951 - accuracy: 0.8889\n",
      "Epoch 86/100\n",
      "13/13 [==============================] - 0s 1ms/step - loss: 0.2951 - accuracy: 0.8937\n",
      "Epoch 87/100\n",
      "13/13 [==============================] - 0s 1ms/step - loss: 0.2933 - accuracy: 0.8937\n",
      "Epoch 88/100\n",
      "13/13 [==============================] - 0s 1ms/step - loss: 0.2942 - accuracy: 0.8889\n",
      "Epoch 89/100\n",
      "13/13 [==============================] - 0s 1ms/step - loss: 0.2949 - accuracy: 0.8841\n",
      "Epoch 90/100\n",
      "13/13 [==============================] - 0s 1ms/step - loss: 0.2923 - accuracy: 0.8841\n",
      "Epoch 91/100\n",
      "13/13 [==============================] - 0s 1ms/step - loss: 0.2933 - accuracy: 0.8937\n",
      "Epoch 92/100\n",
      "13/13 [==============================] - 0s 1ms/step - loss: 0.2914 - accuracy: 0.8889\n",
      "Epoch 93/100\n",
      "13/13 [==============================] - 0s 1ms/step - loss: 0.2917 - accuracy: 0.8889\n",
      "Epoch 94/100\n",
      "13/13 [==============================] - 0s 1ms/step - loss: 0.2919 - accuracy: 0.8889\n",
      "Epoch 95/100\n",
      "13/13 [==============================] - 0s 1ms/step - loss: 0.2905 - accuracy: 0.8937\n",
      "Epoch 96/100\n",
      "13/13 [==============================] - 0s 1ms/step - loss: 0.2895 - accuracy: 0.8889\n",
      "Epoch 97/100\n",
      "13/13 [==============================] - 0s 1ms/step - loss: 0.2897 - accuracy: 0.8889\n",
      "Epoch 98/100\n",
      "13/13 [==============================] - 0s 1ms/step - loss: 0.2895 - accuracy: 0.8937\n",
      "Epoch 99/100\n",
      "13/13 [==============================] - 0s 1ms/step - loss: 0.2893 - accuracy: 0.8937\n",
      "Epoch 100/100\n",
      "13/13 [==============================] - 0s 1ms/step - loss: 0.2880 - accuracy: 0.8986\n"
     ]
    },
    {
     "data": {
      "text/plain": [
       "<tensorflow.python.keras.callbacks.History at 0x7fb78c0b8b10>"
      ]
     },
     "execution_count": 63,
     "metadata": {},
     "output_type": "execute_result"
    }
   ],
   "source": [
    "# Training the ANN on the training set\n",
    "\n",
    "ann.fit(x_train, y_train, batch_size = 16, epochs = 100)"
   ]
  },
  {
   "cell_type": "code",
   "execution_count": 64,
   "metadata": {
    "execution": {
     "iopub.execute_input": "2021-01-30T12:07:23.983014Z",
     "iopub.status.busy": "2021-01-30T12:07:23.980637Z",
     "iopub.status.idle": "2021-01-30T12:07:24.110411Z",
     "shell.execute_reply": "2021-01-30T12:07:24.109361Z"
    },
    "papermill": {
     "duration": 0.313949,
     "end_time": "2021-01-30T12:07:24.110550",
     "exception": false,
     "start_time": "2021-01-30T12:07:23.796601",
     "status": "completed"
    },
    "tags": []
   },
   "outputs": [],
   "source": [
    "# Predicting the test set results\n",
    "\n",
    "y_pred = ann.predict(x_test)\n",
    "y_pred = (y_pred > 0.5)\n",
    "np.set_printoptions()\n"
   ]
  },
  {
   "cell_type": "code",
   "execution_count": 65,
   "metadata": {
    "execution": {
     "iopub.execute_input": "2021-01-30T12:07:24.473609Z",
     "iopub.status.busy": "2021-01-30T12:07:24.472828Z",
     "iopub.status.idle": "2021-01-30T12:07:24.477399Z",
     "shell.execute_reply": "2021-01-30T12:07:24.477911Z"
    },
    "papermill": {
     "duration": 0.191587,
     "end_time": "2021-01-30T12:07:24.478079",
     "exception": false,
     "start_time": "2021-01-30T12:07:24.286492",
     "status": "completed"
    },
    "tags": []
   },
   "outputs": [
    {
     "name": "stdout",
     "output_type": "stream",
     "text": [
      "Confusion Matrix\n",
      "[[49  9]\n",
      " [11 21]]\n",
      "\n",
      "Accuracy\n",
      "0.7777777777777778\n"
     ]
    }
   ],
   "source": [
    "# Making the confusion matrix, calculating accuracy_score \n",
    "\n",
    "from sklearn.metrics import confusion_matrix, accuracy_score\n",
    "\n",
    "# confusion matrix\n",
    "cm = confusion_matrix(y_test,y_pred)\n",
    "print(\"Confusion Matrix\")\n",
    "print(cm)\n",
    "print()\n",
    "\n",
    "# accuracy\n",
    "ac_ann = accuracy_score(y_test,y_pred)\n",
    "print(\"Accuracy\")\n",
    "print(ac_ann)\n",
    "mylist.append(ac_ann)"
   ]
  },
  {
   "cell_type": "markdown",
   "metadata": {
    "papermill": {
     "duration": 0.175445,
     "end_time": "2021-01-30T12:07:24.832694",
     "exception": false,
     "start_time": "2021-01-30T12:07:24.657249",
     "status": "completed"
    },
    "tags": []
   },
   "source": [
    "## xgboost "
   ]
  },
  {
   "cell_type": "code",
   "execution_count": 66,
   "metadata": {
    "execution": {
     "iopub.execute_input": "2021-01-30T12:07:25.195289Z",
     "iopub.status.busy": "2021-01-30T12:07:25.194621Z",
     "iopub.status.idle": "2021-01-30T12:07:25.993098Z",
     "shell.execute_reply": "2021-01-30T12:07:25.992451Z"
    },
    "papermill": {
     "duration": 0.982934,
     "end_time": "2021-01-30T12:07:25.993210",
     "exception": false,
     "start_time": "2021-01-30T12:07:25.010276",
     "status": "completed"
    },
    "tags": []
   },
   "outputs": [
    {
     "data": {
      "image/png": "[encoded data removed]",
      "text/plain": [
       "<Figure size 1080x432 with 1 Axes>"
      ]
     },
     "metadata": {},
     "output_type": "display_data"
    }
   ],
   "source": [
    "from xgboost import XGBClassifier\n",
    "from sklearn.metrics import confusion_matrix, accuracy_score\n",
    "list1 = []\n",
    "for estimators in range(10,30,1):\n",
    "    classifier = XGBClassifier(n_estimators = estimators, max_depth=12, subsample=0.7)\n",
    "    classifier.fit(x_train, y_train)\n",
    "    y_pred = classifier.predict(x_test)\n",
    "    list1.append(accuracy_score(y_test,y_pred))\n",
    "#print(mylist)\n",
    "plt.plot(list(range(10,30,1)), list1)\n",
    "plt.show()"
   ]
  },
  {
   "cell_type": "code",
   "execution_count": 67,
   "metadata": {
    "execution": {
     "iopub.execute_input": "2021-01-30T12:07:26.361579Z",
     "iopub.status.busy": "2021-01-30T12:07:26.354529Z",
     "iopub.status.idle": "2021-01-30T12:07:26.368864Z",
     "shell.execute_reply": "2021-01-30T12:07:26.369538Z"
    },
    "papermill": {
     "duration": 0.198552,
     "end_time": "2021-01-30T12:07:26.369716",
     "exception": false,
     "start_time": "2021-01-30T12:07:26.171164",
     "status": "completed"
    },
    "tags": []
   },
   "outputs": [
    {
     "data": {
      "text/plain": [
       "XGBClassifier(base_score=0.5, booster='gbtree', colsample_bylevel=1,\n",
       "              colsample_bynode=1, colsample_bytree=1, gamma=0, gpu_id=-1,\n",
       "              importance_type='gain', interaction_constraints='',\n",
       "              learning_rate=0.300000012, max_delta_step=0, max_depth=12,\n",
       "              min_child_weight=1, missing=nan, monotone_constraints='()',\n",
       "              n_estimators=10, n_jobs=0, num_parallel_tree=1, random_state=0,\n",
       "              reg_alpha=0, reg_lambda=1, scale_pos_weight=1, subsample=0.7,\n",
       "              tree_method='exact', validate_parameters=1, verbosity=None)"
      ]
     },
     "execution_count": 67,
     "metadata": {},
     "output_type": "execute_result"
    }
   ],
   "source": [
    "from xgboost import XGBClassifier\n",
    "classifier = XGBClassifier(n_estimators = 10, max_depth=12, subsample=0.7)\n",
    "classifier.fit(x_train,y_train)"
   ]
  },
  {
   "cell_type": "code",
   "execution_count": 68,
   "metadata": {
    "execution": {
     "iopub.execute_input": "2021-01-30T12:07:26.781368Z",
     "iopub.status.busy": "2021-01-30T12:07:26.780559Z",
     "iopub.status.idle": "2021-01-30T12:07:26.790753Z",
     "shell.execute_reply": "2021-01-30T12:07:26.789489Z"
    },
    "papermill": {
     "duration": 0.194478,
     "end_time": "2021-01-30T12:07:26.790944",
     "exception": false,
     "start_time": "2021-01-30T12:07:26.596466",
     "status": "completed"
    },
    "tags": []
   },
   "outputs": [
    {
     "name": "stdout",
     "output_type": "stream",
     "text": [
      "[0 1 1 0 0 0 0 0 0 0 1 0 1 1 0 0 0 1 0 0 1 1 1 0 1 0 1 0 0 0 1 0 0 0 0 1 0\n",
      " 0 1 1 0 1 0 0 0 1 0 0 0 0 0 0 0 1 1 0 1 0 0 1 0 0 0 1 1 1 0 0 1 0 1 0 0 1\n",
      " 0 1 0 1 1 1 1 0 0 1 0 0 0 0 0 1]\n"
     ]
    }
   ],
   "source": [
    "y_pred = classifier.predict(x_test)\n",
    "print(y_pred)"
   ]
  },
  {
   "cell_type": "code",
   "execution_count": 69,
   "metadata": {
    "execution": {
     "iopub.execute_input": "2021-01-30T12:07:27.204078Z",
     "iopub.status.busy": "2021-01-30T12:07:27.203408Z",
     "iopub.status.idle": "2021-01-30T12:07:27.209566Z",
     "shell.execute_reply": "2021-01-30T12:07:27.208953Z"
    },
    "papermill": {
     "duration": 0.191616,
     "end_time": "2021-01-30T12:07:27.209719",
     "exception": false,
     "start_time": "2021-01-30T12:07:27.018103",
     "status": "completed"
    },
    "tags": []
   },
   "outputs": [
    {
     "name": "stdout",
     "output_type": "stream",
     "text": [
      "[[48 10]\n",
      " [ 8 24]]\n",
      "0.8\n"
     ]
    }
   ],
   "source": [
    "# Making the confusion matrix and calculating the accuracy score\n",
    "\n",
    "from sklearn.metrics import confusion_matrix, accuracy_score\n",
    "cm = confusion_matrix(y_test, y_pred)\n",
    "ac_xgboost = accuracy_score(y_test, y_pred)\n",
    "mylist.append(ac_xgboost)\n",
    "print(cm)\n",
    "print(ac_xgboost)"
   ]
  },
  {
   "cell_type": "markdown",
   "metadata": {
    "papermill": {
     "duration": 0.179468,
     "end_time": "2021-01-30T12:07:27.571070",
     "exception": false,
     "start_time": "2021-01-30T12:07:27.391602",
     "status": "completed"
    },
    "tags": []
   },
   "source": [
    "## catboost"
   ]
  },
  {
   "cell_type": "code",
   "execution_count": 70,
   "metadata": {
    "execution": {
     "iopub.execute_input": "2021-01-30T12:07:27.938596Z",
     "iopub.status.busy": "2021-01-30T12:07:27.937547Z",
     "iopub.status.idle": "2021-01-30T12:07:29.285161Z",
     "shell.execute_reply": "2021-01-30T12:07:29.284621Z"
    },
    "papermill": {
     "duration": 1.533747,
     "end_time": "2021-01-30T12:07:29.285290",
     "exception": false,
     "start_time": "2021-01-30T12:07:27.751543",
     "status": "completed"
    },
    "tags": []
   },
   "outputs": [
    {
     "name": "stdout",
     "output_type": "stream",
     "text": [
      "Learning rate set to 0.005258\n",
      "0:\tlearn: 0.6888643\ttotal: 52.4ms\tremaining: 52.3s\n",
      "1:\tlearn: 0.6834412\ttotal: 53.2ms\tremaining: 26.5s\n",
      "2:\tlearn: 0.6792048\ttotal: 54.2ms\tremaining: 18s\n",
      "3:\tlearn: 0.6746957\ttotal: 55ms\tremaining: 13.7s\n",
      "4:\tlearn: 0.6699853\ttotal: 55.9ms\tremaining: 11.1s\n",
      "5:\tlearn: 0.6662446\ttotal: 57ms\tremaining: 9.44s\n",
      "6:\tlearn: 0.6629220\ttotal: 57.8ms\tremaining: 8.2s\n",
      "7:\tlearn: 0.6586830\ttotal: 58.7ms\tremaining: 7.28s\n",
      "8:\tlearn: 0.6545501\ttotal: 59.5ms\tremaining: 6.55s\n",
      "9:\tlearn: 0.6510390\ttotal: 60.4ms\tremaining: 5.98s\n",
      "10:\tlearn: 0.6471758\ttotal: 61.4ms\tremaining: 5.52s\n",
      "11:\tlearn: 0.6441808\ttotal: 62ms\tremaining: 5.1s\n",
      "12:\tlearn: 0.6410795\ttotal: 62.6ms\tremaining: 4.75s\n",
      "13:\tlearn: 0.6368372\ttotal: 63.4ms\tremaining: 4.46s\n",
      "14:\tlearn: 0.6329532\ttotal: 64.3ms\tremaining: 4.22s\n",
      "15:\tlearn: 0.6288971\ttotal: 65.2ms\tremaining: 4.01s\n",
      "16:\tlearn: 0.6246328\ttotal: 66.3ms\tremaining: 3.83s\n",
      "17:\tlearn: 0.6204650\ttotal: 67.3ms\tremaining: 3.67s\n",
      "18:\tlearn: 0.6167218\ttotal: 68.2ms\tremaining: 3.52s\n",
      "19:\tlearn: 0.6122697\ttotal: 69ms\tremaining: 3.38s\n",
      "20:\tlearn: 0.6086315\ttotal: 70ms\tremaining: 3.26s\n",
      "21:\tlearn: 0.6053705\ttotal: 70.9ms\tremaining: 3.15s\n",
      "22:\tlearn: 0.6017311\ttotal: 71.9ms\tremaining: 3.05s\n",
      "23:\tlearn: 0.5980915\ttotal: 72.7ms\tremaining: 2.96s\n",
      "24:\tlearn: 0.5950142\ttotal: 73.5ms\tremaining: 2.87s\n",
      "25:\tlearn: 0.5917355\ttotal: 74.4ms\tremaining: 2.79s\n",
      "26:\tlearn: 0.5878850\ttotal: 75.3ms\tremaining: 2.71s\n",
      "27:\tlearn: 0.5844772\ttotal: 76.3ms\tremaining: 2.65s\n",
      "28:\tlearn: 0.5813567\ttotal: 77.3ms\tremaining: 2.59s\n",
      "29:\tlearn: 0.5773122\ttotal: 78ms\tremaining: 2.52s\n",
      "30:\tlearn: 0.5741771\ttotal: 78.9ms\tremaining: 2.46s\n",
      "31:\tlearn: 0.5711466\ttotal: 79.8ms\tremaining: 2.41s\n",
      "32:\tlearn: 0.5677704\ttotal: 80.6ms\tremaining: 2.36s\n",
      "33:\tlearn: 0.5654393\ttotal: 81.4ms\tremaining: 2.31s\n",
      "34:\tlearn: 0.5616573\ttotal: 82.4ms\tremaining: 2.27s\n",
      "35:\tlearn: 0.5581819\ttotal: 83.3ms\tremaining: 2.23s\n",
      "36:\tlearn: 0.5547743\ttotal: 84.3ms\tremaining: 2.19s\n",
      "37:\tlearn: 0.5510218\ttotal: 85.6ms\tremaining: 2.17s\n",
      "38:\tlearn: 0.5477882\ttotal: 86.8ms\tremaining: 2.14s\n",
      "39:\tlearn: 0.5447261\ttotal: 87.9ms\tremaining: 2.11s\n",
      "40:\tlearn: 0.5413166\ttotal: 89ms\tremaining: 2.08s\n",
      "41:\tlearn: 0.5386227\ttotal: 90.3ms\tremaining: 2.06s\n",
      "42:\tlearn: 0.5356228\ttotal: 91.7ms\tremaining: 2.04s\n",
      "43:\tlearn: 0.5335648\ttotal: 92.7ms\tremaining: 2.01s\n",
      "44:\tlearn: 0.5300488\ttotal: 93.6ms\tremaining: 1.99s\n",
      "45:\tlearn: 0.5271521\ttotal: 94.5ms\tremaining: 1.96s\n",
      "46:\tlearn: 0.5240343\ttotal: 95.3ms\tremaining: 1.93s\n",
      "47:\tlearn: 0.5208842\ttotal: 96ms\tremaining: 1.9s\n",
      "48:\tlearn: 0.5174982\ttotal: 96.8ms\tremaining: 1.88s\n",
      "49:\tlearn: 0.5149612\ttotal: 97.5ms\tremaining: 1.85s\n",
      "50:\tlearn: 0.5122342\ttotal: 98.4ms\tremaining: 1.83s\n",
      "51:\tlearn: 0.5097363\ttotal: 99.3ms\tremaining: 1.81s\n",
      "52:\tlearn: 0.5071192\ttotal: 100ms\tremaining: 1.79s\n",
      "53:\tlearn: 0.5049125\ttotal: 101ms\tremaining: 1.77s\n",
      "54:\tlearn: 0.5021334\ttotal: 102ms\tremaining: 1.75s\n",
      "55:\tlearn: 0.4996880\ttotal: 102ms\tremaining: 1.72s\n",
      "56:\tlearn: 0.4975960\ttotal: 103ms\tremaining: 1.71s\n",
      "57:\tlearn: 0.4956162\ttotal: 104ms\tremaining: 1.69s\n",
      "58:\tlearn: 0.4934369\ttotal: 105ms\tremaining: 1.67s\n",
      "59:\tlearn: 0.4907072\ttotal: 106ms\tremaining: 1.65s\n",
      "60:\tlearn: 0.4887743\ttotal: 106ms\tremaining: 1.64s\n",
      "61:\tlearn: 0.4862568\ttotal: 107ms\tremaining: 1.62s\n",
      "62:\tlearn: 0.4834771\ttotal: 108ms\tremaining: 1.6s\n",
      "63:\tlearn: 0.4818000\ttotal: 109ms\tremaining: 1.59s\n",
      "64:\tlearn: 0.4791827\ttotal: 109ms\tremaining: 1.57s\n",
      "65:\tlearn: 0.4775645\ttotal: 110ms\tremaining: 1.56s\n",
      "66:\tlearn: 0.4756222\ttotal: 111ms\tremaining: 1.55s\n",
      "67:\tlearn: 0.4737916\ttotal: 112ms\tremaining: 1.53s\n",
      "68:\tlearn: 0.4716172\ttotal: 113ms\tremaining: 1.52s\n",
      "69:\tlearn: 0.4700152\ttotal: 114ms\tremaining: 1.51s\n",
      "70:\tlearn: 0.4678326\ttotal: 114ms\tremaining: 1.5s\n",
      "71:\tlearn: 0.4656179\ttotal: 115ms\tremaining: 1.49s\n",
      "72:\tlearn: 0.4634343\ttotal: 116ms\tremaining: 1.48s\n",
      "73:\tlearn: 0.4612608\ttotal: 117ms\tremaining: 1.47s\n",
      "74:\tlearn: 0.4591213\ttotal: 118ms\tremaining: 1.46s\n",
      "75:\tlearn: 0.4570625\ttotal: 119ms\tremaining: 1.45s\n",
      "76:\tlearn: 0.4550584\ttotal: 120ms\tremaining: 1.44s\n",
      "77:\tlearn: 0.4531405\ttotal: 121ms\tremaining: 1.43s\n",
      "78:\tlearn: 0.4510372\ttotal: 122ms\tremaining: 1.42s\n",
      "79:\tlearn: 0.4493809\ttotal: 122ms\tremaining: 1.41s\n",
      "80:\tlearn: 0.4476731\ttotal: 123ms\tremaining: 1.4s\n",
      "81:\tlearn: 0.4455467\ttotal: 124ms\tremaining: 1.39s\n",
      "82:\tlearn: 0.4434667\ttotal: 125ms\tremaining: 1.38s\n",
      "83:\tlearn: 0.4417277\ttotal: 126ms\tremaining: 1.37s\n",
      "84:\tlearn: 0.4398395\ttotal: 126ms\tremaining: 1.36s\n",
      "85:\tlearn: 0.4376232\ttotal: 127ms\tremaining: 1.35s\n",
      "86:\tlearn: 0.4358351\ttotal: 128ms\tremaining: 1.34s\n",
      "87:\tlearn: 0.4337208\ttotal: 129ms\tremaining: 1.33s\n",
      "88:\tlearn: 0.4318589\ttotal: 130ms\tremaining: 1.33s\n",
      "89:\tlearn: 0.4301987\ttotal: 130ms\tremaining: 1.32s\n",
      "90:\tlearn: 0.4290636\ttotal: 131ms\tremaining: 1.31s\n",
      "91:\tlearn: 0.4274648\ttotal: 132ms\tremaining: 1.3s\n",
      "92:\tlearn: 0.4254906\ttotal: 133ms\tremaining: 1.29s\n",
      "93:\tlearn: 0.4239791\ttotal: 133ms\tremaining: 1.28s\n",
      "94:\tlearn: 0.4225027\ttotal: 134ms\tremaining: 1.28s\n",
      "95:\tlearn: 0.4203887\ttotal: 135ms\tremaining: 1.27s\n",
      "96:\tlearn: 0.4189487\ttotal: 136ms\tremaining: 1.26s\n",
      "97:\tlearn: 0.4170512\ttotal: 137ms\tremaining: 1.26s\n",
      "98:\tlearn: 0.4159740\ttotal: 138ms\tremaining: 1.25s\n",
      "99:\tlearn: 0.4145807\ttotal: 138ms\tremaining: 1.25s\n",
      "100:\tlearn: 0.4129935\ttotal: 139ms\tremaining: 1.24s\n",
      "101:\tlearn: 0.4115423\ttotal: 140ms\tremaining: 1.23s\n",
      "102:\tlearn: 0.4098999\ttotal: 141ms\tremaining: 1.23s\n",
      "103:\tlearn: 0.4084104\ttotal: 141ms\tremaining: 1.22s\n",
      "104:\tlearn: 0.4072169\ttotal: 142ms\tremaining: 1.21s\n",
      "105:\tlearn: 0.4056067\ttotal: 143ms\tremaining: 1.21s\n",
      "106:\tlearn: 0.4044220\ttotal: 144ms\tremaining: 1.2s\n",
      "107:\tlearn: 0.4031772\ttotal: 145ms\tremaining: 1.19s\n",
      "108:\tlearn: 0.4018953\ttotal: 145ms\tremaining: 1.19s\n",
      "109:\tlearn: 0.4004327\ttotal: 146ms\tremaining: 1.18s\n",
      "110:\tlearn: 0.3987228\ttotal: 147ms\tremaining: 1.18s\n",
      "111:\tlearn: 0.3970117\ttotal: 148ms\tremaining: 1.17s\n",
      "112:\tlearn: 0.3953155\ttotal: 149ms\tremaining: 1.17s\n",
      "113:\tlearn: 0.3940518\ttotal: 149ms\tremaining: 1.16s\n",
      "114:\tlearn: 0.3925659\ttotal: 150ms\tremaining: 1.16s\n",
      "115:\tlearn: 0.3917844\ttotal: 151ms\tremaining: 1.15s\n",
      "116:\tlearn: 0.3909633\ttotal: 151ms\tremaining: 1.14s\n",
      "117:\tlearn: 0.3898755\ttotal: 152ms\tremaining: 1.14s\n",
      "118:\tlearn: 0.3887347\ttotal: 153ms\tremaining: 1.13s\n",
      "119:\tlearn: 0.3874013\ttotal: 154ms\tremaining: 1.13s\n",
      "120:\tlearn: 0.3862394\ttotal: 155ms\tremaining: 1.12s\n",
      "121:\tlearn: 0.3851743\ttotal: 156ms\tremaining: 1.12s\n",
      "122:\tlearn: 0.3842192\ttotal: 157ms\tremaining: 1.12s\n",
      "123:\tlearn: 0.3834075\ttotal: 157ms\tremaining: 1.11s\n",
      "124:\tlearn: 0.3824714\ttotal: 158ms\tremaining: 1.11s\n",
      "125:\tlearn: 0.3811829\ttotal: 159ms\tremaining: 1.1s\n",
      "126:\tlearn: 0.3801924\ttotal: 160ms\tremaining: 1.1s\n",
      "127:\tlearn: 0.3791788\ttotal: 161ms\tremaining: 1.09s\n",
      "128:\tlearn: 0.3779505\ttotal: 161ms\tremaining: 1.09s\n",
      "129:\tlearn: 0.3770670\ttotal: 162ms\tremaining: 1.08s\n",
      "130:\tlearn: 0.3758880\ttotal: 163ms\tremaining: 1.08s\n",
      "131:\tlearn: 0.3745711\ttotal: 164ms\tremaining: 1.08s\n",
      "132:\tlearn: 0.3734645\ttotal: 165ms\tremaining: 1.07s\n",
      "133:\tlearn: 0.3722012\ttotal: 165ms\tremaining: 1.07s\n",
      "134:\tlearn: 0.3712844\ttotal: 166ms\tremaining: 1.06s\n",
      "135:\tlearn: 0.3701291\ttotal: 167ms\tremaining: 1.06s\n",
      "136:\tlearn: 0.3687495\ttotal: 168ms\tremaining: 1.06s\n",
      "137:\tlearn: 0.3673295\ttotal: 169ms\tremaining: 1.05s\n",
      "138:\tlearn: 0.3663114\ttotal: 170ms\tremaining: 1.05s\n",
      "139:\tlearn: 0.3649322\ttotal: 171ms\tremaining: 1.05s\n",
      "140:\tlearn: 0.3641048\ttotal: 171ms\tremaining: 1.04s\n",
      "141:\tlearn: 0.3631067\ttotal: 172ms\tremaining: 1.04s\n",
      "142:\tlearn: 0.3621080\ttotal: 173ms\tremaining: 1.03s\n",
      "143:\tlearn: 0.3609880\ttotal: 174ms\tremaining: 1.03s\n",
      "144:\tlearn: 0.3600718\ttotal: 174ms\tremaining: 1.03s\n",
      "145:\tlearn: 0.3588200\ttotal: 175ms\tremaining: 1.02s\n",
      "146:\tlearn: 0.3579562\ttotal: 176ms\tremaining: 1.02s\n",
      "147:\tlearn: 0.3569210\ttotal: 177ms\tremaining: 1.02s\n",
      "148:\tlearn: 0.3553149\ttotal: 178ms\tremaining: 1.01s\n",
      "149:\tlearn: 0.3543180\ttotal: 178ms\tremaining: 1.01s\n",
      "150:\tlearn: 0.3537490\ttotal: 179ms\tremaining: 1.01s\n",
      "151:\tlearn: 0.3524599\ttotal: 180ms\tremaining: 1s\n",
      "152:\tlearn: 0.3514769\ttotal: 181ms\tremaining: 1000ms\n",
      "153:\tlearn: 0.3503048\ttotal: 185ms\tremaining: 1.01s\n",
      "154:\tlearn: 0.3497206\ttotal: 186ms\tremaining: 1.01s\n",
      "155:\tlearn: 0.3486872\ttotal: 187ms\tremaining: 1.01s\n",
      "156:\tlearn: 0.3478610\ttotal: 188ms\tremaining: 1.01s\n",
      "157:\tlearn: 0.3463351\ttotal: 189ms\tremaining: 1.01s\n",
      "158:\tlearn: 0.3453459\ttotal: 190ms\tremaining: 1s\n",
      "159:\tlearn: 0.3444308\ttotal: 191ms\tremaining: 1s\n",
      "160:\tlearn: 0.3435189\ttotal: 192ms\tremaining: 1s\n",
      "161:\tlearn: 0.3423648\ttotal: 193ms\tremaining: 1s\n",
      "162:\tlearn: 0.3413713\ttotal: 194ms\tremaining: 998ms\n",
      "163:\tlearn: 0.3402551\ttotal: 196ms\tremaining: 997ms\n",
      "164:\tlearn: 0.3390545\ttotal: 196ms\tremaining: 994ms\n",
      "165:\tlearn: 0.3382786\ttotal: 197ms\tremaining: 992ms\n",
      "166:\tlearn: 0.3371546\ttotal: 198ms\tremaining: 990ms\n",
      "167:\tlearn: 0.3363024\ttotal: 199ms\tremaining: 988ms\n",
      "168:\tlearn: 0.3352014\ttotal: 200ms\tremaining: 986ms\n",
      "169:\tlearn: 0.3342716\ttotal: 202ms\tremaining: 984ms\n",
      "170:\tlearn: 0.3333897\ttotal: 203ms\tremaining: 982ms\n",
      "171:\tlearn: 0.3327681\ttotal: 204ms\tremaining: 980ms\n",
      "172:\tlearn: 0.3318938\ttotal: 205ms\tremaining: 978ms\n",
      "173:\tlearn: 0.3311036\ttotal: 206ms\tremaining: 976ms\n",
      "174:\tlearn: 0.3304969\ttotal: 206ms\tremaining: 973ms\n",
      "175:\tlearn: 0.3293125\ttotal: 207ms\tremaining: 971ms\n",
      "176:\tlearn: 0.3288056\ttotal: 208ms\tremaining: 969ms\n",
      "177:\tlearn: 0.3277898\ttotal: 209ms\tremaining: 967ms\n",
      "178:\tlearn: 0.3269011\ttotal: 210ms\tremaining: 965ms\n",
      "179:\tlearn: 0.3262207\ttotal: 211ms\tremaining: 963ms\n",
      "180:\tlearn: 0.3252913\ttotal: 212ms\tremaining: 961ms\n",
      "181:\tlearn: 0.3242806\ttotal: 214ms\tremaining: 961ms\n",
      "182:\tlearn: 0.3236011\ttotal: 215ms\tremaining: 960ms\n",
      "183:\tlearn: 0.3227991\ttotal: 216ms\tremaining: 959ms\n",
      "184:\tlearn: 0.3216561\ttotal: 217ms\tremaining: 957ms\n",
      "185:\tlearn: 0.3207679\ttotal: 218ms\tremaining: 955ms\n",
      "186:\tlearn: 0.3200167\ttotal: 219ms\tremaining: 953ms\n",
      "187:\tlearn: 0.3191080\ttotal: 220ms\tremaining: 952ms\n",
      "188:\tlearn: 0.3181316\ttotal: 222ms\tremaining: 951ms\n",
      "189:\tlearn: 0.3174543\ttotal: 223ms\tremaining: 949ms\n",
      "190:\tlearn: 0.3165912\ttotal: 224ms\tremaining: 947ms\n",
      "191:\tlearn: 0.3156765\ttotal: 225ms\tremaining: 946ms\n",
      "192:\tlearn: 0.3151311\ttotal: 226ms\tremaining: 945ms\n",
      "193:\tlearn: 0.3143388\ttotal: 227ms\tremaining: 943ms\n",
      "194:\tlearn: 0.3136959\ttotal: 228ms\tremaining: 941ms\n",
      "195:\tlearn: 0.3129604\ttotal: 229ms\tremaining: 938ms\n",
      "196:\tlearn: 0.3121344\ttotal: 229ms\tremaining: 935ms\n",
      "197:\tlearn: 0.3114564\ttotal: 230ms\tremaining: 933ms\n",
      "198:\tlearn: 0.3109430\ttotal: 231ms\tremaining: 930ms\n",
      "199:\tlearn: 0.3101078\ttotal: 232ms\tremaining: 928ms\n",
      "200:\tlearn: 0.3094557\ttotal: 233ms\tremaining: 926ms\n",
      "201:\tlearn: 0.3089527\ttotal: 234ms\tremaining: 923ms\n",
      "202:\tlearn: 0.3083728\ttotal: 235ms\tremaining: 921ms\n",
      "203:\tlearn: 0.3077485\ttotal: 235ms\tremaining: 918ms\n",
      "204:\tlearn: 0.3069850\ttotal: 236ms\tremaining: 916ms\n",
      "205:\tlearn: 0.3058779\ttotal: 237ms\tremaining: 914ms\n",
      "206:\tlearn: 0.3053948\ttotal: 239ms\tremaining: 914ms\n",
      "207:\tlearn: 0.3048150\ttotal: 240ms\tremaining: 912ms\n",
      "208:\tlearn: 0.3042857\ttotal: 241ms\tremaining: 911ms\n",
      "209:\tlearn: 0.3038501\ttotal: 242ms\tremaining: 909ms\n",
      "210:\tlearn: 0.3033627\ttotal: 243ms\tremaining: 907ms\n",
      "211:\tlearn: 0.3026183\ttotal: 243ms\tremaining: 905ms\n",
      "212:\tlearn: 0.3016675\ttotal: 244ms\tremaining: 902ms\n",
      "213:\tlearn: 0.3011272\ttotal: 245ms\tremaining: 900ms\n",
      "214:\tlearn: 0.3005426\ttotal: 246ms\tremaining: 899ms\n",
      "215:\tlearn: 0.2995719\ttotal: 247ms\tremaining: 898ms\n",
      "216:\tlearn: 0.2991279\ttotal: 249ms\tremaining: 897ms\n",
      "217:\tlearn: 0.2987315\ttotal: 250ms\tremaining: 896ms\n",
      "218:\tlearn: 0.2980553\ttotal: 251ms\tremaining: 895ms\n",
      "219:\tlearn: 0.2973793\ttotal: 252ms\tremaining: 893ms\n",
      "220:\tlearn: 0.2968909\ttotal: 253ms\tremaining: 891ms\n",
      "221:\tlearn: 0.2960777\ttotal: 254ms\tremaining: 890ms\n",
      "222:\tlearn: 0.2954020\ttotal: 255ms\tremaining: 888ms\n",
      "223:\tlearn: 0.2948495\ttotal: 256ms\tremaining: 886ms\n",
      "224:\tlearn: 0.2944029\ttotal: 257ms\tremaining: 885ms\n",
      "225:\tlearn: 0.2938236\ttotal: 258ms\tremaining: 884ms\n",
      "226:\tlearn: 0.2931690\ttotal: 259ms\tremaining: 883ms\n",
      "227:\tlearn: 0.2925608\ttotal: 260ms\tremaining: 882ms\n",
      "228:\tlearn: 0.2921683\ttotal: 261ms\tremaining: 880ms\n",
      "229:\tlearn: 0.2917298\ttotal: 263ms\tremaining: 879ms\n",
      "230:\tlearn: 0.2910501\ttotal: 264ms\tremaining: 878ms\n",
      "231:\tlearn: 0.2907120\ttotal: 264ms\tremaining: 875ms\n",
      "232:\tlearn: 0.2904221\ttotal: 265ms\tremaining: 874ms\n",
      "233:\tlearn: 0.2898025\ttotal: 266ms\tremaining: 872ms\n",
      "234:\tlearn: 0.2891612\ttotal: 268ms\tremaining: 871ms\n",
      "235:\tlearn: 0.2889142\ttotal: 269ms\tremaining: 869ms\n",
      "236:\tlearn: 0.2882703\ttotal: 270ms\tremaining: 868ms\n",
      "237:\tlearn: 0.2879624\ttotal: 270ms\tremaining: 866ms\n",
      "238:\tlearn: 0.2875418\ttotal: 272ms\tremaining: 865ms\n",
      "239:\tlearn: 0.2869993\ttotal: 273ms\tremaining: 864ms\n",
      "240:\tlearn: 0.2866651\ttotal: 274ms\tremaining: 863ms\n",
      "241:\tlearn: 0.2861055\ttotal: 275ms\tremaining: 861ms\n",
      "242:\tlearn: 0.2855412\ttotal: 276ms\tremaining: 860ms\n",
      "243:\tlearn: 0.2851599\ttotal: 277ms\tremaining: 859ms\n",
      "244:\tlearn: 0.2845532\ttotal: 278ms\tremaining: 858ms\n",
      "245:\tlearn: 0.2838700\ttotal: 279ms\tremaining: 856ms\n",
      "246:\tlearn: 0.2833290\ttotal: 280ms\tremaining: 854ms\n",
      "247:\tlearn: 0.2826359\ttotal: 281ms\tremaining: 852ms\n",
      "248:\tlearn: 0.2821554\ttotal: 282ms\tremaining: 850ms\n",
      "249:\tlearn: 0.2815206\ttotal: 283ms\tremaining: 849ms\n",
      "250:\tlearn: 0.2812433\ttotal: 284ms\tremaining: 847ms\n",
      "251:\tlearn: 0.2807588\ttotal: 285ms\tremaining: 845ms\n",
      "252:\tlearn: 0.2803274\ttotal: 285ms\tremaining: 843ms\n",
      "253:\tlearn: 0.2799464\ttotal: 286ms\tremaining: 841ms\n",
      "254:\tlearn: 0.2794981\ttotal: 287ms\tremaining: 838ms\n",
      "255:\tlearn: 0.2791580\ttotal: 288ms\tremaining: 836ms\n",
      "256:\tlearn: 0.2785559\ttotal: 289ms\tremaining: 835ms\n",
      "257:\tlearn: 0.2779793\ttotal: 290ms\tremaining: 833ms\n",
      "258:\tlearn: 0.2771199\ttotal: 290ms\tremaining: 831ms\n",
      "259:\tlearn: 0.2766756\ttotal: 291ms\tremaining: 829ms\n",
      "260:\tlearn: 0.2761161\ttotal: 292ms\tremaining: 828ms\n",
      "261:\tlearn: 0.2757752\ttotal: 293ms\tremaining: 826ms\n",
      "262:\tlearn: 0.2751309\ttotal: 294ms\tremaining: 825ms\n",
      "263:\tlearn: 0.2744129\ttotal: 295ms\tremaining: 823ms\n",
      "264:\tlearn: 0.2739196\ttotal: 296ms\tremaining: 821ms\n",
      "265:\tlearn: 0.2735151\ttotal: 297ms\tremaining: 819ms\n",
      "266:\tlearn: 0.2728606\ttotal: 298ms\tremaining: 817ms\n",
      "267:\tlearn: 0.2721055\ttotal: 298ms\tremaining: 815ms\n",
      "268:\tlearn: 0.2714933\ttotal: 299ms\tremaining: 813ms\n",
      "269:\tlearn: 0.2711872\ttotal: 300ms\tremaining: 811ms\n",
      "270:\tlearn: 0.2707148\ttotal: 301ms\tremaining: 809ms\n",
      "271:\tlearn: 0.2704455\ttotal: 302ms\tremaining: 807ms\n",
      "272:\tlearn: 0.2702013\ttotal: 303ms\tremaining: 806ms\n",
      "273:\tlearn: 0.2697369\ttotal: 304ms\tremaining: 805ms\n",
      "274:\tlearn: 0.2693363\ttotal: 305ms\tremaining: 804ms\n",
      "275:\tlearn: 0.2687912\ttotal: 306ms\tremaining: 802ms\n",
      "276:\tlearn: 0.2686080\ttotal: 307ms\tremaining: 801ms\n",
      "277:\tlearn: 0.2681127\ttotal: 308ms\tremaining: 800ms\n",
      "278:\tlearn: 0.2676461\ttotal: 309ms\tremaining: 798ms\n",
      "279:\tlearn: 0.2672149\ttotal: 310ms\tremaining: 797ms\n",
      "280:\tlearn: 0.2669500\ttotal: 311ms\tremaining: 796ms\n",
      "281:\tlearn: 0.2663670\ttotal: 312ms\tremaining: 794ms\n",
      "282:\tlearn: 0.2658038\ttotal: 313ms\tremaining: 793ms\n",
      "283:\tlearn: 0.2653420\ttotal: 314ms\tremaining: 792ms\n",
      "284:\tlearn: 0.2648170\ttotal: 315ms\tremaining: 791ms\n",
      "285:\tlearn: 0.2643412\ttotal: 316ms\tremaining: 789ms\n",
      "286:\tlearn: 0.2640181\ttotal: 317ms\tremaining: 788ms\n",
      "287:\tlearn: 0.2637481\ttotal: 318ms\tremaining: 787ms\n",
      "288:\tlearn: 0.2632706\ttotal: 319ms\tremaining: 786ms\n",
      "289:\tlearn: 0.2629466\ttotal: 320ms\tremaining: 784ms\n",
      "290:\tlearn: 0.2626229\ttotal: 321ms\tremaining: 783ms\n",
      "291:\tlearn: 0.2623840\ttotal: 322ms\tremaining: 782ms\n",
      "292:\tlearn: 0.2618472\ttotal: 323ms\tremaining: 780ms\n",
      "293:\tlearn: 0.2613914\ttotal: 324ms\tremaining: 778ms\n",
      "294:\tlearn: 0.2611686\ttotal: 325ms\tremaining: 776ms\n",
      "295:\tlearn: 0.2608830\ttotal: 326ms\tremaining: 775ms\n",
      "296:\tlearn: 0.2603174\ttotal: 327ms\tremaining: 774ms\n",
      "297:\tlearn: 0.2598292\ttotal: 328ms\tremaining: 773ms\n",
      "298:\tlearn: 0.2591601\ttotal: 329ms\tremaining: 771ms\n",
      "299:\tlearn: 0.2584297\ttotal: 330ms\tremaining: 770ms\n",
      "300:\tlearn: 0.2581096\ttotal: 331ms\tremaining: 769ms\n",
      "301:\tlearn: 0.2576142\ttotal: 332ms\tremaining: 768ms\n",
      "302:\tlearn: 0.2573439\ttotal: 333ms\tremaining: 767ms\n",
      "303:\tlearn: 0.2568657\ttotal: 335ms\tremaining: 766ms\n",
      "304:\tlearn: 0.2564011\ttotal: 336ms\tremaining: 765ms\n",
      "305:\tlearn: 0.2562712\ttotal: 337ms\tremaining: 763ms\n",
      "306:\tlearn: 0.2557737\ttotal: 338ms\tremaining: 762ms\n",
      "307:\tlearn: 0.2555336\ttotal: 339ms\tremaining: 761ms\n",
      "308:\tlearn: 0.2549528\ttotal: 340ms\tremaining: 760ms\n",
      "309:\tlearn: 0.2545989\ttotal: 341ms\tremaining: 759ms\n",
      "310:\tlearn: 0.2540361\ttotal: 342ms\tremaining: 758ms\n",
      "311:\tlearn: 0.2536962\ttotal: 343ms\tremaining: 757ms\n",
      "312:\tlearn: 0.2530886\ttotal: 344ms\tremaining: 756ms\n",
      "313:\tlearn: 0.2527387\ttotal: 345ms\tremaining: 755ms\n",
      "314:\tlearn: 0.2522449\ttotal: 347ms\tremaining: 754ms\n",
      "315:\tlearn: 0.2519098\ttotal: 348ms\tremaining: 752ms\n",
      "316:\tlearn: 0.2516631\ttotal: 349ms\tremaining: 751ms\n",
      "317:\tlearn: 0.2511379\ttotal: 350ms\tremaining: 750ms\n",
      "318:\tlearn: 0.2506937\ttotal: 351ms\tremaining: 749ms\n",
      "319:\tlearn: 0.2501454\ttotal: 352ms\tremaining: 748ms\n",
      "320:\tlearn: 0.2500329\ttotal: 353ms\tremaining: 747ms\n",
      "321:\tlearn: 0.2496040\ttotal: 354ms\tremaining: 746ms\n",
      "322:\tlearn: 0.2491799\ttotal: 355ms\tremaining: 745ms\n",
      "323:\tlearn: 0.2489951\ttotal: 356ms\tremaining: 743ms\n",
      "324:\tlearn: 0.2485168\ttotal: 358ms\tremaining: 743ms\n",
      "325:\tlearn: 0.2483702\ttotal: 359ms\tremaining: 742ms\n",
      "326:\tlearn: 0.2480201\ttotal: 360ms\tremaining: 740ms\n",
      "327:\tlearn: 0.2476521\ttotal: 361ms\tremaining: 739ms\n",
      "328:\tlearn: 0.2472668\ttotal: 362ms\tremaining: 738ms\n",
      "329:\tlearn: 0.2470172\ttotal: 363ms\tremaining: 736ms\n",
      "330:\tlearn: 0.2467453\ttotal: 363ms\tremaining: 734ms\n",
      "331:\tlearn: 0.2463346\ttotal: 364ms\tremaining: 733ms\n",
      "332:\tlearn: 0.2458804\ttotal: 365ms\tremaining: 731ms\n",
      "333:\tlearn: 0.2454614\ttotal: 366ms\tremaining: 729ms\n",
      "334:\tlearn: 0.2451179\ttotal: 368ms\tremaining: 730ms\n",
      "335:\tlearn: 0.2448789\ttotal: 369ms\tremaining: 728ms\n",
      "336:\tlearn: 0.2444902\ttotal: 370ms\tremaining: 727ms\n",
      "337:\tlearn: 0.2440563\ttotal: 371ms\tremaining: 727ms\n",
      "338:\tlearn: 0.2437702\ttotal: 373ms\tremaining: 726ms\n",
      "339:\tlearn: 0.2433934\ttotal: 374ms\tremaining: 725ms\n",
      "340:\tlearn: 0.2429783\ttotal: 375ms\tremaining: 724ms\n",
      "341:\tlearn: 0.2426357\ttotal: 376ms\tremaining: 723ms\n",
      "342:\tlearn: 0.2424044\ttotal: 377ms\tremaining: 722ms\n",
      "343:\tlearn: 0.2419409\ttotal: 378ms\tremaining: 721ms\n",
      "344:\tlearn: 0.2417193\ttotal: 379ms\tremaining: 719ms\n",
      "345:\tlearn: 0.2413211\ttotal: 380ms\tremaining: 718ms\n",
      "346:\tlearn: 0.2412018\ttotal: 381ms\tremaining: 717ms\n",
      "347:\tlearn: 0.2408408\ttotal: 382ms\tremaining: 716ms\n",
      "348:\tlearn: 0.2406473\ttotal: 383ms\tremaining: 714ms\n",
      "349:\tlearn: 0.2401426\ttotal: 384ms\tremaining: 713ms\n",
      "350:\tlearn: 0.2398023\ttotal: 385ms\tremaining: 712ms\n",
      "351:\tlearn: 0.2394103\ttotal: 386ms\tremaining: 711ms\n",
      "352:\tlearn: 0.2390293\ttotal: 387ms\tremaining: 710ms\n",
      "353:\tlearn: 0.2389011\ttotal: 388ms\tremaining: 708ms\n",
      "354:\tlearn: 0.2384583\ttotal: 389ms\tremaining: 707ms\n",
      "355:\tlearn: 0.2381977\ttotal: 390ms\tremaining: 706ms\n",
      "356:\tlearn: 0.2378748\ttotal: 391ms\tremaining: 704ms\n",
      "357:\tlearn: 0.2375596\ttotal: 392ms\tremaining: 702ms\n",
      "358:\tlearn: 0.2372150\ttotal: 392ms\tremaining: 701ms\n",
      "359:\tlearn: 0.2370727\ttotal: 393ms\tremaining: 699ms\n",
      "360:\tlearn: 0.2367350\ttotal: 394ms\tremaining: 698ms\n",
      "361:\tlearn: 0.2365255\ttotal: 395ms\tremaining: 697ms\n",
      "362:\tlearn: 0.2363184\ttotal: 396ms\tremaining: 695ms\n",
      "363:\tlearn: 0.2360762\ttotal: 397ms\tremaining: 693ms\n",
      "364:\tlearn: 0.2358017\ttotal: 397ms\tremaining: 691ms\n",
      "365:\tlearn: 0.2354330\ttotal: 398ms\tremaining: 690ms\n",
      "366:\tlearn: 0.2351446\ttotal: 399ms\tremaining: 688ms\n",
      "367:\tlearn: 0.2348056\ttotal: 400ms\tremaining: 687ms\n",
      "368:\tlearn: 0.2345629\ttotal: 401ms\tremaining: 685ms\n",
      "369:\tlearn: 0.2342503\ttotal: 401ms\tremaining: 684ms\n",
      "370:\tlearn: 0.2339018\ttotal: 402ms\tremaining: 682ms\n",
      "371:\tlearn: 0.2336597\ttotal: 403ms\tremaining: 681ms\n",
      "372:\tlearn: 0.2330307\ttotal: 404ms\tremaining: 679ms\n",
      "373:\tlearn: 0.2326826\ttotal: 405ms\tremaining: 678ms\n",
      "374:\tlearn: 0.2324128\ttotal: 406ms\tremaining: 676ms\n",
      "375:\tlearn: 0.2321844\ttotal: 407ms\tremaining: 675ms\n",
      "376:\tlearn: 0.2319605\ttotal: 407ms\tremaining: 673ms\n",
      "377:\tlearn: 0.2317523\ttotal: 408ms\tremaining: 672ms\n",
      "378:\tlearn: 0.2314979\ttotal: 409ms\tremaining: 670ms\n",
      "379:\tlearn: 0.2310642\ttotal: 410ms\tremaining: 669ms\n",
      "380:\tlearn: 0.2308272\ttotal: 411ms\tremaining: 668ms\n",
      "381:\tlearn: 0.2307123\ttotal: 412ms\tremaining: 667ms\n",
      "382:\tlearn: 0.2304513\ttotal: 413ms\tremaining: 665ms\n",
      "383:\tlearn: 0.2301536\ttotal: 414ms\tremaining: 664ms\n",
      "384:\tlearn: 0.2296905\ttotal: 415ms\tremaining: 662ms\n",
      "385:\tlearn: 0.2293070\ttotal: 415ms\tremaining: 661ms\n",
      "386:\tlearn: 0.2290924\ttotal: 416ms\tremaining: 659ms\n",
      "387:\tlearn: 0.2286159\ttotal: 417ms\tremaining: 658ms\n",
      "388:\tlearn: 0.2281791\ttotal: 418ms\tremaining: 656ms\n",
      "389:\tlearn: 0.2278997\ttotal: 419ms\tremaining: 655ms\n",
      "390:\tlearn: 0.2276566\ttotal: 419ms\tremaining: 653ms\n",
      "391:\tlearn: 0.2274787\ttotal: 420ms\tremaining: 651ms\n",
      "392:\tlearn: 0.2272084\ttotal: 421ms\tremaining: 650ms\n",
      "393:\tlearn: 0.2270355\ttotal: 422ms\tremaining: 648ms\n",
      "394:\tlearn: 0.2268011\ttotal: 422ms\tremaining: 647ms\n",
      "395:\tlearn: 0.2266241\ttotal: 423ms\tremaining: 645ms\n",
      "396:\tlearn: 0.2262667\ttotal: 424ms\tremaining: 644ms\n",
      "397:\tlearn: 0.2259209\ttotal: 425ms\tremaining: 642ms\n",
      "398:\tlearn: 0.2255694\ttotal: 425ms\tremaining: 641ms\n",
      "399:\tlearn: 0.2253787\ttotal: 426ms\tremaining: 639ms\n",
      "400:\tlearn: 0.2251061\ttotal: 427ms\tremaining: 638ms\n",
      "401:\tlearn: 0.2247179\ttotal: 428ms\tremaining: 636ms\n",
      "402:\tlearn: 0.2244563\ttotal: 429ms\tremaining: 635ms\n",
      "403:\tlearn: 0.2240847\ttotal: 429ms\tremaining: 634ms\n",
      "404:\tlearn: 0.2237826\ttotal: 430ms\tremaining: 632ms\n",
      "405:\tlearn: 0.2234819\ttotal: 431ms\tremaining: 631ms\n",
      "406:\tlearn: 0.2229822\ttotal: 432ms\tremaining: 630ms\n",
      "407:\tlearn: 0.2226817\ttotal: 433ms\tremaining: 628ms\n",
      "408:\tlearn: 0.2223531\ttotal: 434ms\tremaining: 627ms\n",
      "409:\tlearn: 0.2219687\ttotal: 434ms\tremaining: 625ms\n",
      "410:\tlearn: 0.2216622\ttotal: 435ms\tremaining: 624ms\n",
      "411:\tlearn: 0.2215606\ttotal: 436ms\tremaining: 622ms\n",
      "412:\tlearn: 0.2212103\ttotal: 436ms\tremaining: 620ms\n",
      "413:\tlearn: 0.2210319\ttotal: 437ms\tremaining: 619ms\n",
      "414:\tlearn: 0.2207771\ttotal: 438ms\tremaining: 617ms\n",
      "415:\tlearn: 0.2206797\ttotal: 439ms\tremaining: 616ms\n",
      "416:\tlearn: 0.2205830\ttotal: 439ms\tremaining: 614ms\n",
      "417:\tlearn: 0.2203037\ttotal: 440ms\tremaining: 613ms\n",
      "418:\tlearn: 0.2201802\ttotal: 441ms\tremaining: 611ms\n",
      "419:\tlearn: 0.2199152\ttotal: 441ms\tremaining: 610ms\n",
      "420:\tlearn: 0.2196337\ttotal: 442ms\tremaining: 608ms\n",
      "421:\tlearn: 0.2193715\ttotal: 443ms\tremaining: 607ms\n",
      "422:\tlearn: 0.2191186\ttotal: 444ms\tremaining: 606ms\n",
      "423:\tlearn: 0.2187005\ttotal: 445ms\tremaining: 604ms\n",
      "424:\tlearn: 0.2184206\ttotal: 446ms\tremaining: 603ms\n",
      "425:\tlearn: 0.2180764\ttotal: 447ms\tremaining: 602ms\n",
      "426:\tlearn: 0.2178831\ttotal: 447ms\tremaining: 600ms\n",
      "427:\tlearn: 0.2175730\ttotal: 448ms\tremaining: 599ms\n",
      "428:\tlearn: 0.2173140\ttotal: 449ms\tremaining: 598ms\n",
      "429:\tlearn: 0.2169328\ttotal: 450ms\tremaining: 596ms\n",
      "430:\tlearn: 0.2166589\ttotal: 451ms\tremaining: 595ms\n",
      "431:\tlearn: 0.2163151\ttotal: 451ms\tremaining: 594ms\n",
      "432:\tlearn: 0.2160720\ttotal: 452ms\tremaining: 592ms\n",
      "433:\tlearn: 0.2158158\ttotal: 453ms\tremaining: 591ms\n",
      "434:\tlearn: 0.2155385\ttotal: 454ms\tremaining: 589ms\n",
      "435:\tlearn: 0.2153929\ttotal: 454ms\tremaining: 588ms\n",
      "436:\tlearn: 0.2150412\ttotal: 455ms\tremaining: 586ms\n",
      "437:\tlearn: 0.2149009\ttotal: 456ms\tremaining: 585ms\n",
      "438:\tlearn: 0.2145428\ttotal: 457ms\tremaining: 584ms\n",
      "439:\tlearn: 0.2143643\ttotal: 458ms\tremaining: 582ms\n",
      "440:\tlearn: 0.2140919\ttotal: 458ms\tremaining: 581ms\n",
      "441:\tlearn: 0.2137711\ttotal: 459ms\tremaining: 580ms\n",
      "442:\tlearn: 0.2136677\ttotal: 460ms\tremaining: 578ms\n",
      "443:\tlearn: 0.2135412\ttotal: 461ms\tremaining: 577ms\n",
      "444:\tlearn: 0.2133235\ttotal: 462ms\tremaining: 576ms\n",
      "445:\tlearn: 0.2130971\ttotal: 462ms\tremaining: 574ms\n",
      "446:\tlearn: 0.2129285\ttotal: 463ms\tremaining: 573ms\n",
      "447:\tlearn: 0.2127801\ttotal: 464ms\tremaining: 572ms\n",
      "448:\tlearn: 0.2124937\ttotal: 465ms\tremaining: 570ms\n",
      "449:\tlearn: 0.2122103\ttotal: 466ms\tremaining: 569ms\n",
      "450:\tlearn: 0.2119936\ttotal: 467ms\tremaining: 568ms\n",
      "451:\tlearn: 0.2119409\ttotal: 467ms\tremaining: 567ms\n",
      "452:\tlearn: 0.2118226\ttotal: 468ms\tremaining: 565ms\n",
      "453:\tlearn: 0.2115830\ttotal: 469ms\tremaining: 564ms\n",
      "454:\tlearn: 0.2114297\ttotal: 470ms\tremaining: 563ms\n",
      "455:\tlearn: 0.2111317\ttotal: 471ms\tremaining: 562ms\n",
      "456:\tlearn: 0.2109172\ttotal: 472ms\tremaining: 560ms\n",
      "457:\tlearn: 0.2106769\ttotal: 472ms\tremaining: 559ms\n",
      "458:\tlearn: 0.2103288\ttotal: 473ms\tremaining: 558ms\n",
      "459:\tlearn: 0.2101099\ttotal: 474ms\tremaining: 556ms\n",
      "460:\tlearn: 0.2099610\ttotal: 475ms\tremaining: 555ms\n",
      "461:\tlearn: 0.2096053\ttotal: 475ms\tremaining: 554ms\n",
      "462:\tlearn: 0.2093605\ttotal: 476ms\tremaining: 552ms\n",
      "463:\tlearn: 0.2091136\ttotal: 477ms\tremaining: 551ms\n",
      "464:\tlearn: 0.2086956\ttotal: 478ms\tremaining: 550ms\n",
      "465:\tlearn: 0.2084134\ttotal: 478ms\tremaining: 548ms\n",
      "466:\tlearn: 0.2083401\ttotal: 479ms\tremaining: 547ms\n",
      "467:\tlearn: 0.2082281\ttotal: 480ms\tremaining: 546ms\n",
      "468:\tlearn: 0.2079791\ttotal: 481ms\tremaining: 545ms\n",
      "469:\tlearn: 0.2077509\ttotal: 482ms\tremaining: 544ms\n",
      "470:\tlearn: 0.2074634\ttotal: 483ms\tremaining: 542ms\n",
      "471:\tlearn: 0.2073237\ttotal: 484ms\tremaining: 541ms\n",
      "472:\tlearn: 0.2070678\ttotal: 485ms\tremaining: 540ms\n",
      "473:\tlearn: 0.2069092\ttotal: 485ms\tremaining: 539ms\n",
      "474:\tlearn: 0.2067474\ttotal: 486ms\tremaining: 537ms\n",
      "475:\tlearn: 0.2062563\ttotal: 487ms\tremaining: 536ms\n",
      "476:\tlearn: 0.2060335\ttotal: 488ms\tremaining: 535ms\n",
      "477:\tlearn: 0.2058814\ttotal: 489ms\tremaining: 534ms\n",
      "478:\tlearn: 0.2055291\ttotal: 490ms\tremaining: 533ms\n",
      "479:\tlearn: 0.2051891\ttotal: 491ms\tremaining: 531ms\n",
      "480:\tlearn: 0.2049377\ttotal: 491ms\tremaining: 530ms\n",
      "481:\tlearn: 0.2047647\ttotal: 492ms\tremaining: 529ms\n",
      "482:\tlearn: 0.2046257\ttotal: 493ms\tremaining: 528ms\n",
      "483:\tlearn: 0.2043353\ttotal: 494ms\tremaining: 526ms\n",
      "484:\tlearn: 0.2039330\ttotal: 495ms\tremaining: 525ms\n",
      "485:\tlearn: 0.2039126\ttotal: 495ms\tremaining: 524ms\n",
      "486:\tlearn: 0.2036979\ttotal: 496ms\tremaining: 522ms\n",
      "487:\tlearn: 0.2035448\ttotal: 496ms\tremaining: 521ms\n",
      "488:\tlearn: 0.2033896\ttotal: 497ms\tremaining: 520ms\n",
      "489:\tlearn: 0.2031486\ttotal: 498ms\tremaining: 518ms\n",
      "490:\tlearn: 0.2029824\ttotal: 499ms\tremaining: 517ms\n",
      "491:\tlearn: 0.2027827\ttotal: 499ms\tremaining: 516ms\n",
      "492:\tlearn: 0.2026466\ttotal: 500ms\tremaining: 515ms\n",
      "493:\tlearn: 0.2022771\ttotal: 501ms\tremaining: 513ms\n",
      "494:\tlearn: 0.2019376\ttotal: 502ms\tremaining: 512ms\n",
      "495:\tlearn: 0.2016484\ttotal: 503ms\tremaining: 511ms\n",
      "496:\tlearn: 0.2014300\ttotal: 503ms\tremaining: 510ms\n",
      "497:\tlearn: 0.2013167\ttotal: 504ms\tremaining: 508ms\n",
      "498:\tlearn: 0.2011693\ttotal: 505ms\tremaining: 507ms\n",
      "499:\tlearn: 0.2009956\ttotal: 506ms\tremaining: 506ms\n",
      "500:\tlearn: 0.2007067\ttotal: 506ms\tremaining: 504ms\n",
      "501:\tlearn: 0.2004315\ttotal: 507ms\tremaining: 503ms\n",
      "502:\tlearn: 0.2001874\ttotal: 508ms\tremaining: 502ms\n",
      "503:\tlearn: 0.2000624\ttotal: 509ms\tremaining: 500ms\n",
      "504:\tlearn: 0.1997791\ttotal: 509ms\tremaining: 499ms\n",
      "505:\tlearn: 0.1995169\ttotal: 510ms\tremaining: 498ms\n",
      "506:\tlearn: 0.1992494\ttotal: 511ms\tremaining: 497ms\n",
      "507:\tlearn: 0.1990045\ttotal: 512ms\tremaining: 496ms\n",
      "508:\tlearn: 0.1988501\ttotal: 513ms\tremaining: 494ms\n",
      "509:\tlearn: 0.1987813\ttotal: 513ms\tremaining: 493ms\n",
      "510:\tlearn: 0.1985296\ttotal: 514ms\tremaining: 492ms\n",
      "511:\tlearn: 0.1983495\ttotal: 515ms\tremaining: 491ms\n",
      "512:\tlearn: 0.1981895\ttotal: 516ms\tremaining: 490ms\n",
      "513:\tlearn: 0.1979857\ttotal: 516ms\tremaining: 488ms\n",
      "514:\tlearn: 0.1977475\ttotal: 517ms\tremaining: 487ms\n",
      "515:\tlearn: 0.1975742\ttotal: 518ms\tremaining: 486ms\n",
      "516:\tlearn: 0.1973333\ttotal: 519ms\tremaining: 485ms\n",
      "517:\tlearn: 0.1972504\ttotal: 520ms\tremaining: 483ms\n",
      "518:\tlearn: 0.1969829\ttotal: 520ms\tremaining: 482ms\n",
      "519:\tlearn: 0.1967684\ttotal: 521ms\tremaining: 481ms\n",
      "520:\tlearn: 0.1967095\ttotal: 522ms\tremaining: 480ms\n",
      "521:\tlearn: 0.1966110\ttotal: 523ms\tremaining: 479ms\n",
      "522:\tlearn: 0.1964393\ttotal: 523ms\tremaining: 477ms\n",
      "523:\tlearn: 0.1962632\ttotal: 524ms\tremaining: 476ms\n",
      "524:\tlearn: 0.1959311\ttotal: 525ms\tremaining: 475ms\n",
      "525:\tlearn: 0.1956616\ttotal: 526ms\tremaining: 474ms\n",
      "526:\tlearn: 0.1955869\ttotal: 527ms\tremaining: 473ms\n",
      "527:\tlearn: 0.1955337\ttotal: 528ms\tremaining: 472ms\n",
      "528:\tlearn: 0.1952815\ttotal: 528ms\tremaining: 470ms\n",
      "529:\tlearn: 0.1951918\ttotal: 529ms\tremaining: 469ms\n",
      "530:\tlearn: 0.1949233\ttotal: 530ms\tremaining: 468ms\n",
      "531:\tlearn: 0.1946269\ttotal: 531ms\tremaining: 467ms\n",
      "532:\tlearn: 0.1944680\ttotal: 531ms\tremaining: 466ms\n",
      "533:\tlearn: 0.1943464\ttotal: 532ms\tremaining: 464ms\n",
      "534:\tlearn: 0.1942601\ttotal: 533ms\tremaining: 463ms\n",
      "535:\tlearn: 0.1940400\ttotal: 534ms\tremaining: 462ms\n",
      "536:\tlearn: 0.1937038\ttotal: 535ms\tremaining: 461ms\n",
      "537:\tlearn: 0.1935481\ttotal: 535ms\tremaining: 460ms\n",
      "538:\tlearn: 0.1934314\ttotal: 536ms\tremaining: 459ms\n",
      "539:\tlearn: 0.1932403\ttotal: 537ms\tremaining: 458ms\n",
      "540:\tlearn: 0.1931154\ttotal: 538ms\tremaining: 457ms\n",
      "541:\tlearn: 0.1929018\ttotal: 539ms\tremaining: 455ms\n",
      "542:\tlearn: 0.1927084\ttotal: 540ms\tremaining: 454ms\n",
      "543:\tlearn: 0.1925016\ttotal: 540ms\tremaining: 453ms\n",
      "544:\tlearn: 0.1923243\ttotal: 541ms\tremaining: 452ms\n",
      "545:\tlearn: 0.1920707\ttotal: 542ms\tremaining: 451ms\n",
      "546:\tlearn: 0.1918224\ttotal: 543ms\tremaining: 449ms\n",
      "547:\tlearn: 0.1916355\ttotal: 543ms\tremaining: 448ms\n",
      "548:\tlearn: 0.1914725\ttotal: 544ms\tremaining: 447ms\n",
      "549:\tlearn: 0.1912959\ttotal: 545ms\tremaining: 446ms\n",
      "550:\tlearn: 0.1911217\ttotal: 546ms\tremaining: 445ms\n",
      "551:\tlearn: 0.1909680\ttotal: 546ms\tremaining: 443ms\n",
      "552:\tlearn: 0.1907887\ttotal: 548ms\tremaining: 443ms\n",
      "553:\tlearn: 0.1905255\ttotal: 550ms\tremaining: 442ms\n",
      "554:\tlearn: 0.1902801\ttotal: 550ms\tremaining: 441ms\n",
      "555:\tlearn: 0.1900897\ttotal: 552ms\tremaining: 441ms\n",
      "556:\tlearn: 0.1898426\ttotal: 554ms\tremaining: 440ms\n",
      "557:\tlearn: 0.1897114\ttotal: 555ms\tremaining: 439ms\n",
      "558:\tlearn: 0.1895055\ttotal: 556ms\tremaining: 438ms\n",
      "559:\tlearn: 0.1892492\ttotal: 556ms\tremaining: 437ms\n",
      "560:\tlearn: 0.1889215\ttotal: 557ms\tremaining: 436ms\n",
      "561:\tlearn: 0.1887115\ttotal: 558ms\tremaining: 435ms\n",
      "562:\tlearn: 0.1885780\ttotal: 559ms\tremaining: 434ms\n",
      "563:\tlearn: 0.1882997\ttotal: 560ms\tremaining: 433ms\n",
      "564:\tlearn: 0.1882531\ttotal: 560ms\tremaining: 431ms\n",
      "565:\tlearn: 0.1881664\ttotal: 561ms\tremaining: 430ms\n",
      "566:\tlearn: 0.1879876\ttotal: 562ms\tremaining: 429ms\n",
      "567:\tlearn: 0.1876758\ttotal: 563ms\tremaining: 428ms\n",
      "568:\tlearn: 0.1875827\ttotal: 564ms\tremaining: 427ms\n",
      "569:\tlearn: 0.1875433\ttotal: 565ms\tremaining: 426ms\n",
      "570:\tlearn: 0.1874091\ttotal: 565ms\tremaining: 425ms\n",
      "571:\tlearn: 0.1873259\ttotal: 566ms\tremaining: 424ms\n",
      "572:\tlearn: 0.1871378\ttotal: 567ms\tremaining: 423ms\n",
      "573:\tlearn: 0.1868357\ttotal: 568ms\tremaining: 422ms\n",
      "574:\tlearn: 0.1866855\ttotal: 569ms\tremaining: 421ms\n",
      "575:\tlearn: 0.1864762\ttotal: 571ms\tremaining: 420ms\n",
      "576:\tlearn: 0.1861530\ttotal: 571ms\tremaining: 419ms\n",
      "577:\tlearn: 0.1860423\ttotal: 572ms\tremaining: 418ms\n",
      "578:\tlearn: 0.1859057\ttotal: 573ms\tremaining: 417ms\n",
      "579:\tlearn: 0.1857554\ttotal: 574ms\tremaining: 416ms\n",
      "580:\tlearn: 0.1857193\ttotal: 575ms\tremaining: 415ms\n",
      "581:\tlearn: 0.1855032\ttotal: 576ms\tremaining: 414ms\n",
      "582:\tlearn: 0.1852027\ttotal: 577ms\tremaining: 413ms\n",
      "583:\tlearn: 0.1850635\ttotal: 578ms\tremaining: 412ms\n",
      "584:\tlearn: 0.1848428\ttotal: 579ms\tremaining: 411ms\n",
      "585:\tlearn: 0.1847274\ttotal: 580ms\tremaining: 410ms\n",
      "586:\tlearn: 0.1846331\ttotal: 581ms\tremaining: 409ms\n",
      "587:\tlearn: 0.1845935\ttotal: 582ms\tremaining: 407ms\n",
      "588:\tlearn: 0.1843294\ttotal: 582ms\tremaining: 406ms\n",
      "589:\tlearn: 0.1842194\ttotal: 583ms\tremaining: 405ms\n",
      "590:\tlearn: 0.1841048\ttotal: 584ms\tremaining: 404ms\n",
      "591:\tlearn: 0.1840024\ttotal: 585ms\tremaining: 403ms\n",
      "592:\tlearn: 0.1837981\ttotal: 585ms\tremaining: 402ms\n",
      "593:\tlearn: 0.1836830\ttotal: 586ms\tremaining: 401ms\n",
      "594:\tlearn: 0.1834472\ttotal: 587ms\tremaining: 400ms\n",
      "595:\tlearn: 0.1831483\ttotal: 588ms\tremaining: 399ms\n",
      "596:\tlearn: 0.1830154\ttotal: 589ms\tremaining: 397ms\n",
      "597:\tlearn: 0.1828668\ttotal: 589ms\tremaining: 396ms\n",
      "598:\tlearn: 0.1826120\ttotal: 590ms\tremaining: 395ms\n",
      "599:\tlearn: 0.1824603\ttotal: 591ms\tremaining: 394ms\n",
      "600:\tlearn: 0.1823721\ttotal: 592ms\tremaining: 393ms\n",
      "601:\tlearn: 0.1822033\ttotal: 593ms\tremaining: 392ms\n",
      "602:\tlearn: 0.1820508\ttotal: 594ms\tremaining: 391ms\n",
      "603:\tlearn: 0.1817996\ttotal: 595ms\tremaining: 390ms\n",
      "604:\tlearn: 0.1815919\ttotal: 596ms\tremaining: 389ms\n",
      "605:\tlearn: 0.1814721\ttotal: 597ms\tremaining: 388ms\n",
      "606:\tlearn: 0.1812894\ttotal: 598ms\tremaining: 387ms\n",
      "607:\tlearn: 0.1810779\ttotal: 599ms\tremaining: 386ms\n",
      "608:\tlearn: 0.1807874\ttotal: 600ms\tremaining: 385ms\n",
      "609:\tlearn: 0.1806808\ttotal: 601ms\tremaining: 384ms\n",
      "610:\tlearn: 0.1804800\ttotal: 602ms\tremaining: 383ms\n",
      "611:\tlearn: 0.1802755\ttotal: 603ms\tremaining: 382ms\n",
      "612:\tlearn: 0.1801177\ttotal: 604ms\tremaining: 382ms\n",
      "613:\tlearn: 0.1799324\ttotal: 605ms\tremaining: 380ms\n",
      "614:\tlearn: 0.1797515\ttotal: 606ms\tremaining: 379ms\n",
      "615:\tlearn: 0.1795430\ttotal: 607ms\tremaining: 378ms\n",
      "616:\tlearn: 0.1793940\ttotal: 608ms\tremaining: 378ms\n",
      "617:\tlearn: 0.1793032\ttotal: 609ms\tremaining: 376ms\n",
      "618:\tlearn: 0.1791963\ttotal: 610ms\tremaining: 376ms\n",
      "619:\tlearn: 0.1790692\ttotal: 611ms\tremaining: 375ms\n",
      "620:\tlearn: 0.1788921\ttotal: 612ms\tremaining: 374ms\n",
      "621:\tlearn: 0.1786538\ttotal: 613ms\tremaining: 373ms\n",
      "622:\tlearn: 0.1783600\ttotal: 614ms\tremaining: 372ms\n",
      "623:\tlearn: 0.1781599\ttotal: 615ms\tremaining: 371ms\n",
      "624:\tlearn: 0.1779842\ttotal: 616ms\tremaining: 370ms\n",
      "625:\tlearn: 0.1777490\ttotal: 617ms\tremaining: 369ms\n",
      "626:\tlearn: 0.1776257\ttotal: 618ms\tremaining: 368ms\n",
      "627:\tlearn: 0.1774822\ttotal: 619ms\tremaining: 367ms\n",
      "628:\tlearn: 0.1772832\ttotal: 620ms\tremaining: 366ms\n",
      "629:\tlearn: 0.1771386\ttotal: 621ms\tremaining: 365ms\n",
      "630:\tlearn: 0.1770232\ttotal: 622ms\tremaining: 364ms\n",
      "631:\tlearn: 0.1769456\ttotal: 623ms\tremaining: 363ms\n",
      "632:\tlearn: 0.1768122\ttotal: 624ms\tremaining: 362ms\n",
      "633:\tlearn: 0.1765146\ttotal: 625ms\tremaining: 361ms\n",
      "634:\tlearn: 0.1763158\ttotal: 626ms\tremaining: 360ms\n",
      "635:\tlearn: 0.1759910\ttotal: 627ms\tremaining: 359ms\n",
      "636:\tlearn: 0.1758237\ttotal: 628ms\tremaining: 358ms\n",
      "637:\tlearn: 0.1755973\ttotal: 629ms\tremaining: 357ms\n",
      "638:\tlearn: 0.1752607\ttotal: 630ms\tremaining: 356ms\n",
      "639:\tlearn: 0.1751257\ttotal: 631ms\tremaining: 355ms\n",
      "640:\tlearn: 0.1749544\ttotal: 632ms\tremaining: 354ms\n",
      "641:\tlearn: 0.1748872\ttotal: 633ms\tremaining: 353ms\n",
      "642:\tlearn: 0.1746069\ttotal: 634ms\tremaining: 352ms\n",
      "643:\tlearn: 0.1744275\ttotal: 635ms\tremaining: 351ms\n",
      "644:\tlearn: 0.1743811\ttotal: 636ms\tremaining: 350ms\n",
      "645:\tlearn: 0.1742117\ttotal: 637ms\tremaining: 349ms\n",
      "646:\tlearn: 0.1740254\ttotal: 638ms\tremaining: 348ms\n",
      "647:\tlearn: 0.1739302\ttotal: 639ms\tremaining: 347ms\n",
      "648:\tlearn: 0.1737895\ttotal: 640ms\tremaining: 346ms\n",
      "649:\tlearn: 0.1736479\ttotal: 641ms\tremaining: 345ms\n",
      "650:\tlearn: 0.1735456\ttotal: 642ms\tremaining: 344ms\n",
      "651:\tlearn: 0.1733738\ttotal: 643ms\tremaining: 343ms\n",
      "652:\tlearn: 0.1731924\ttotal: 644ms\tremaining: 342ms\n",
      "653:\tlearn: 0.1729351\ttotal: 645ms\tremaining: 341ms\n",
      "654:\tlearn: 0.1726639\ttotal: 646ms\tremaining: 340ms\n",
      "655:\tlearn: 0.1725831\ttotal: 647ms\tremaining: 339ms\n",
      "656:\tlearn: 0.1724542\ttotal: 648ms\tremaining: 338ms\n",
      "657:\tlearn: 0.1723365\ttotal: 649ms\tremaining: 337ms\n",
      "658:\tlearn: 0.1721439\ttotal: 650ms\tremaining: 336ms\n",
      "659:\tlearn: 0.1719999\ttotal: 651ms\tremaining: 335ms\n",
      "660:\tlearn: 0.1719363\ttotal: 652ms\tremaining: 334ms\n",
      "661:\tlearn: 0.1717995\ttotal: 653ms\tremaining: 333ms\n",
      "662:\tlearn: 0.1716283\ttotal: 654ms\tremaining: 332ms\n",
      "663:\tlearn: 0.1714295\ttotal: 655ms\tremaining: 331ms\n",
      "664:\tlearn: 0.1713783\ttotal: 656ms\tremaining: 331ms\n",
      "665:\tlearn: 0.1710999\ttotal: 657ms\tremaining: 330ms\n",
      "666:\tlearn: 0.1709397\ttotal: 659ms\tremaining: 329ms\n",
      "667:\tlearn: 0.1707899\ttotal: 660ms\tremaining: 328ms\n",
      "668:\tlearn: 0.1706528\ttotal: 661ms\tremaining: 327ms\n",
      "669:\tlearn: 0.1704242\ttotal: 662ms\tremaining: 326ms\n",
      "670:\tlearn: 0.1702759\ttotal: 663ms\tremaining: 325ms\n",
      "671:\tlearn: 0.1701593\ttotal: 664ms\tremaining: 324ms\n",
      "672:\tlearn: 0.1700488\ttotal: 665ms\tremaining: 323ms\n",
      "673:\tlearn: 0.1697919\ttotal: 666ms\tremaining: 322ms\n",
      "674:\tlearn: 0.1695216\ttotal: 667ms\tremaining: 321ms\n",
      "675:\tlearn: 0.1694627\ttotal: 667ms\tremaining: 320ms\n",
      "676:\tlearn: 0.1693934\ttotal: 668ms\tremaining: 319ms\n",
      "677:\tlearn: 0.1691088\ttotal: 669ms\tremaining: 318ms\n",
      "678:\tlearn: 0.1689378\ttotal: 670ms\tremaining: 317ms\n",
      "679:\tlearn: 0.1687614\ttotal: 671ms\tremaining: 316ms\n",
      "680:\tlearn: 0.1686435\ttotal: 673ms\tremaining: 315ms\n",
      "681:\tlearn: 0.1684710\ttotal: 674ms\tremaining: 314ms\n",
      "682:\tlearn: 0.1683037\ttotal: 675ms\tremaining: 313ms\n",
      "683:\tlearn: 0.1681503\ttotal: 676ms\tremaining: 312ms\n",
      "684:\tlearn: 0.1679949\ttotal: 677ms\tremaining: 311ms\n",
      "685:\tlearn: 0.1679348\ttotal: 678ms\tremaining: 310ms\n",
      "686:\tlearn: 0.1677354\ttotal: 679ms\tremaining: 309ms\n",
      "687:\tlearn: 0.1676150\ttotal: 680ms\tremaining: 308ms\n",
      "688:\tlearn: 0.1674095\ttotal: 680ms\tremaining: 307ms\n",
      "689:\tlearn: 0.1671937\ttotal: 681ms\tremaining: 306ms\n",
      "690:\tlearn: 0.1669890\ttotal: 682ms\tremaining: 305ms\n",
      "691:\tlearn: 0.1668442\ttotal: 683ms\tremaining: 304ms\n",
      "692:\tlearn: 0.1667701\ttotal: 684ms\tremaining: 303ms\n",
      "693:\tlearn: 0.1665865\ttotal: 685ms\tremaining: 302ms\n",
      "694:\tlearn: 0.1665043\ttotal: 686ms\tremaining: 301ms\n",
      "695:\tlearn: 0.1663897\ttotal: 687ms\tremaining: 300ms\n",
      "696:\tlearn: 0.1663605\ttotal: 688ms\tremaining: 299ms\n",
      "697:\tlearn: 0.1663301\ttotal: 689ms\tremaining: 298ms\n",
      "698:\tlearn: 0.1660826\ttotal: 690ms\tremaining: 297ms\n",
      "699:\tlearn: 0.1660304\ttotal: 691ms\tremaining: 296ms\n",
      "700:\tlearn: 0.1658272\ttotal: 692ms\tremaining: 295ms\n",
      "701:\tlearn: 0.1656584\ttotal: 693ms\tremaining: 294ms\n",
      "702:\tlearn: 0.1654890\ttotal: 694ms\tremaining: 293ms\n",
      "703:\tlearn: 0.1654836\ttotal: 694ms\tremaining: 292ms\n",
      "704:\tlearn: 0.1652614\ttotal: 695ms\tremaining: 291ms\n",
      "705:\tlearn: 0.1651725\ttotal: 696ms\tremaining: 290ms\n",
      "706:\tlearn: 0.1651093\ttotal: 697ms\tremaining: 289ms\n",
      "707:\tlearn: 0.1649558\ttotal: 698ms\tremaining: 288ms\n",
      "708:\tlearn: 0.1648476\ttotal: 699ms\tremaining: 287ms\n",
      "709:\tlearn: 0.1646978\ttotal: 700ms\tremaining: 286ms\n",
      "710:\tlearn: 0.1645548\ttotal: 701ms\tremaining: 285ms\n",
      "711:\tlearn: 0.1644705\ttotal: 702ms\tremaining: 284ms\n",
      "712:\tlearn: 0.1642481\ttotal: 702ms\tremaining: 283ms\n",
      "713:\tlearn: 0.1641050\ttotal: 703ms\tremaining: 282ms\n",
      "714:\tlearn: 0.1638065\ttotal: 704ms\tremaining: 281ms\n",
      "715:\tlearn: 0.1637011\ttotal: 705ms\tremaining: 280ms\n",
      "716:\tlearn: 0.1635267\ttotal: 706ms\tremaining: 279ms\n",
      "717:\tlearn: 0.1633899\ttotal: 707ms\tremaining: 278ms\n",
      "718:\tlearn: 0.1631637\ttotal: 708ms\tremaining: 277ms\n",
      "719:\tlearn: 0.1630438\ttotal: 709ms\tremaining: 276ms\n",
      "720:\tlearn: 0.1629137\ttotal: 710ms\tremaining: 275ms\n",
      "721:\tlearn: 0.1627963\ttotal: 711ms\tremaining: 274ms\n",
      "722:\tlearn: 0.1626603\ttotal: 712ms\tremaining: 273ms\n",
      "723:\tlearn: 0.1625568\ttotal: 713ms\tremaining: 272ms\n",
      "724:\tlearn: 0.1623981\ttotal: 714ms\tremaining: 271ms\n",
      "725:\tlearn: 0.1622040\ttotal: 715ms\tremaining: 270ms\n",
      "726:\tlearn: 0.1620789\ttotal: 715ms\tremaining: 269ms\n",
      "727:\tlearn: 0.1618941\ttotal: 716ms\tremaining: 268ms\n",
      "728:\tlearn: 0.1617843\ttotal: 717ms\tremaining: 267ms\n",
      "729:\tlearn: 0.1616890\ttotal: 718ms\tremaining: 266ms\n",
      "730:\tlearn: 0.1616201\ttotal: 719ms\tremaining: 264ms\n",
      "731:\tlearn: 0.1615624\ttotal: 720ms\tremaining: 264ms\n",
      "732:\tlearn: 0.1613303\ttotal: 720ms\tremaining: 262ms\n",
      "733:\tlearn: 0.1611320\ttotal: 721ms\tremaining: 261ms\n",
      "734:\tlearn: 0.1610172\ttotal: 722ms\tremaining: 260ms\n",
      "735:\tlearn: 0.1608214\ttotal: 723ms\tremaining: 259ms\n",
      "736:\tlearn: 0.1606898\ttotal: 724ms\tremaining: 258ms\n",
      "737:\tlearn: 0.1604619\ttotal: 725ms\tremaining: 257ms\n",
      "738:\tlearn: 0.1603404\ttotal: 726ms\tremaining: 256ms\n",
      "739:\tlearn: 0.1603290\ttotal: 726ms\tremaining: 255ms\n",
      "740:\tlearn: 0.1601834\ttotal: 727ms\tremaining: 254ms\n",
      "741:\tlearn: 0.1600893\ttotal: 728ms\tremaining: 253ms\n",
      "742:\tlearn: 0.1599532\ttotal: 733ms\tremaining: 253ms\n",
      "743:\tlearn: 0.1597768\ttotal: 734ms\tremaining: 253ms\n",
      "744:\tlearn: 0.1596222\ttotal: 736ms\tremaining: 252ms\n",
      "745:\tlearn: 0.1595221\ttotal: 736ms\tremaining: 251ms\n",
      "746:\tlearn: 0.1594212\ttotal: 737ms\tremaining: 250ms\n",
      "747:\tlearn: 0.1593250\ttotal: 738ms\tremaining: 249ms\n",
      "748:\tlearn: 0.1592687\ttotal: 739ms\tremaining: 248ms\n",
      "749:\tlearn: 0.1592116\ttotal: 740ms\tremaining: 247ms\n",
      "750:\tlearn: 0.1591364\ttotal: 741ms\tremaining: 246ms\n",
      "751:\tlearn: 0.1590685\ttotal: 742ms\tremaining: 245ms\n",
      "752:\tlearn: 0.1589247\ttotal: 743ms\tremaining: 244ms\n",
      "753:\tlearn: 0.1587684\ttotal: 744ms\tremaining: 243ms\n",
      "754:\tlearn: 0.1586541\ttotal: 745ms\tremaining: 242ms\n",
      "755:\tlearn: 0.1585749\ttotal: 745ms\tremaining: 241ms\n",
      "756:\tlearn: 0.1584469\ttotal: 746ms\tremaining: 240ms\n",
      "757:\tlearn: 0.1583893\ttotal: 747ms\tremaining: 239ms\n",
      "758:\tlearn: 0.1582807\ttotal: 748ms\tremaining: 237ms\n",
      "759:\tlearn: 0.1581801\ttotal: 749ms\tremaining: 236ms\n",
      "760:\tlearn: 0.1581274\ttotal: 749ms\tremaining: 235ms\n",
      "761:\tlearn: 0.1579180\ttotal: 750ms\tremaining: 234ms\n",
      "762:\tlearn: 0.1577881\ttotal: 751ms\tremaining: 233ms\n",
      "763:\tlearn: 0.1577293\ttotal: 752ms\tremaining: 232ms\n",
      "764:\tlearn: 0.1574595\ttotal: 753ms\tremaining: 231ms\n",
      "765:\tlearn: 0.1573737\ttotal: 754ms\tremaining: 230ms\n",
      "766:\tlearn: 0.1572505\ttotal: 754ms\tremaining: 229ms\n",
      "767:\tlearn: 0.1570949\ttotal: 755ms\tremaining: 228ms\n",
      "768:\tlearn: 0.1569348\ttotal: 756ms\tremaining: 227ms\n",
      "769:\tlearn: 0.1568426\ttotal: 757ms\tremaining: 226ms\n",
      "770:\tlearn: 0.1565827\ttotal: 758ms\tremaining: 225ms\n",
      "771:\tlearn: 0.1564926\ttotal: 758ms\tremaining: 224ms\n",
      "772:\tlearn: 0.1563242\ttotal: 759ms\tremaining: 223ms\n",
      "773:\tlearn: 0.1561760\ttotal: 760ms\tremaining: 222ms\n",
      "774:\tlearn: 0.1560065\ttotal: 761ms\tremaining: 221ms\n",
      "775:\tlearn: 0.1557353\ttotal: 762ms\tremaining: 220ms\n",
      "776:\tlearn: 0.1556159\ttotal: 763ms\tremaining: 219ms\n",
      "777:\tlearn: 0.1555023\ttotal: 764ms\tremaining: 218ms\n",
      "778:\tlearn: 0.1553509\ttotal: 765ms\tremaining: 217ms\n",
      "779:\tlearn: 0.1552523\ttotal: 765ms\tremaining: 216ms\n",
      "780:\tlearn: 0.1550226\ttotal: 766ms\tremaining: 215ms\n",
      "781:\tlearn: 0.1549480\ttotal: 767ms\tremaining: 214ms\n",
      "782:\tlearn: 0.1548837\ttotal: 768ms\tremaining: 213ms\n",
      "783:\tlearn: 0.1547745\ttotal: 769ms\tremaining: 212ms\n",
      "784:\tlearn: 0.1546291\ttotal: 770ms\tremaining: 211ms\n",
      "785:\tlearn: 0.1544879\ttotal: 770ms\tremaining: 210ms\n",
      "786:\tlearn: 0.1543491\ttotal: 771ms\tremaining: 209ms\n",
      "787:\tlearn: 0.1542726\ttotal: 772ms\tremaining: 208ms\n",
      "788:\tlearn: 0.1540498\ttotal: 773ms\tremaining: 207ms\n",
      "789:\tlearn: 0.1538142\ttotal: 774ms\tremaining: 206ms\n",
      "790:\tlearn: 0.1536310\ttotal: 775ms\tremaining: 205ms\n",
      "791:\tlearn: 0.1534250\ttotal: 776ms\tremaining: 204ms\n",
      "792:\tlearn: 0.1532712\ttotal: 777ms\tremaining: 203ms\n",
      "793:\tlearn: 0.1531600\ttotal: 777ms\tremaining: 202ms\n",
      "794:\tlearn: 0.1530451\ttotal: 778ms\tremaining: 201ms\n",
      "795:\tlearn: 0.1529679\ttotal: 779ms\tremaining: 200ms\n",
      "796:\tlearn: 0.1527094\ttotal: 780ms\tremaining: 199ms\n",
      "797:\tlearn: 0.1526329\ttotal: 781ms\tremaining: 198ms\n",
      "798:\tlearn: 0.1526101\ttotal: 782ms\tremaining: 197ms\n",
      "799:\tlearn: 0.1525381\ttotal: 783ms\tremaining: 196ms\n",
      "800:\tlearn: 0.1524896\ttotal: 784ms\tremaining: 195ms\n",
      "801:\tlearn: 0.1522984\ttotal: 785ms\tremaining: 194ms\n",
      "802:\tlearn: 0.1521401\ttotal: 786ms\tremaining: 193ms\n",
      "803:\tlearn: 0.1518781\ttotal: 787ms\tremaining: 192ms\n",
      "804:\tlearn: 0.1517633\ttotal: 788ms\tremaining: 191ms\n",
      "805:\tlearn: 0.1515668\ttotal: 790ms\tremaining: 190ms\n",
      "806:\tlearn: 0.1513864\ttotal: 791ms\tremaining: 189ms\n",
      "807:\tlearn: 0.1511599\ttotal: 792ms\tremaining: 188ms\n",
      "808:\tlearn: 0.1510086\ttotal: 793ms\tremaining: 187ms\n",
      "809:\tlearn: 0.1509432\ttotal: 794ms\tremaining: 186ms\n",
      "810:\tlearn: 0.1508732\ttotal: 795ms\tremaining: 185ms\n",
      "811:\tlearn: 0.1507405\ttotal: 796ms\tremaining: 184ms\n",
      "812:\tlearn: 0.1505882\ttotal: 797ms\tremaining: 183ms\n",
      "813:\tlearn: 0.1505150\ttotal: 798ms\tremaining: 182ms\n",
      "814:\tlearn: 0.1503578\ttotal: 799ms\tremaining: 181ms\n",
      "815:\tlearn: 0.1502788\ttotal: 799ms\tremaining: 180ms\n",
      "816:\tlearn: 0.1501411\ttotal: 801ms\tremaining: 179ms\n",
      "817:\tlearn: 0.1500040\ttotal: 802ms\tremaining: 178ms\n",
      "818:\tlearn: 0.1498700\ttotal: 803ms\tremaining: 177ms\n",
      "819:\tlearn: 0.1497652\ttotal: 804ms\tremaining: 176ms\n",
      "820:\tlearn: 0.1496790\ttotal: 805ms\tremaining: 175ms\n",
      "821:\tlearn: 0.1495269\ttotal: 806ms\tremaining: 174ms\n",
      "822:\tlearn: 0.1493682\ttotal: 807ms\tremaining: 174ms\n",
      "823:\tlearn: 0.1491771\ttotal: 808ms\tremaining: 173ms\n",
      "824:\tlearn: 0.1490832\ttotal: 809ms\tremaining: 172ms\n",
      "825:\tlearn: 0.1489880\ttotal: 810ms\tremaining: 171ms\n",
      "826:\tlearn: 0.1488868\ttotal: 811ms\tremaining: 170ms\n",
      "827:\tlearn: 0.1488059\ttotal: 813ms\tremaining: 169ms\n",
      "828:\tlearn: 0.1486408\ttotal: 814ms\tremaining: 168ms\n",
      "829:\tlearn: 0.1485187\ttotal: 815ms\tremaining: 167ms\n",
      "830:\tlearn: 0.1483140\ttotal: 816ms\tremaining: 166ms\n",
      "831:\tlearn: 0.1481639\ttotal: 817ms\tremaining: 165ms\n",
      "832:\tlearn: 0.1481367\ttotal: 818ms\tremaining: 164ms\n",
      "833:\tlearn: 0.1479142\ttotal: 819ms\tremaining: 163ms\n",
      "834:\tlearn: 0.1478792\ttotal: 819ms\tremaining: 162ms\n",
      "835:\tlearn: 0.1476607\ttotal: 821ms\tremaining: 161ms\n",
      "836:\tlearn: 0.1475659\ttotal: 822ms\tremaining: 160ms\n",
      "837:\tlearn: 0.1475062\ttotal: 823ms\tremaining: 159ms\n",
      "838:\tlearn: 0.1473213\ttotal: 824ms\tremaining: 158ms\n",
      "839:\tlearn: 0.1472351\ttotal: 825ms\tremaining: 157ms\n",
      "840:\tlearn: 0.1470342\ttotal: 826ms\tremaining: 156ms\n",
      "841:\tlearn: 0.1469549\ttotal: 827ms\tremaining: 155ms\n",
      "842:\tlearn: 0.1468032\ttotal: 828ms\tremaining: 154ms\n",
      "843:\tlearn: 0.1466539\ttotal: 829ms\tremaining: 153ms\n",
      "844:\tlearn: 0.1465898\ttotal: 830ms\tremaining: 152ms\n",
      "845:\tlearn: 0.1463957\ttotal: 831ms\tremaining: 151ms\n",
      "846:\tlearn: 0.1461659\ttotal: 832ms\tremaining: 150ms\n",
      "847:\tlearn: 0.1458696\ttotal: 833ms\tremaining: 149ms\n",
      "848:\tlearn: 0.1458305\ttotal: 833ms\tremaining: 148ms\n",
      "849:\tlearn: 0.1457138\ttotal: 834ms\tremaining: 147ms\n",
      "850:\tlearn: 0.1455595\ttotal: 835ms\tremaining: 146ms\n",
      "851:\tlearn: 0.1454855\ttotal: 836ms\tremaining: 145ms\n",
      "852:\tlearn: 0.1453328\ttotal: 837ms\tremaining: 144ms\n",
      "853:\tlearn: 0.1451412\ttotal: 838ms\tremaining: 143ms\n",
      "854:\tlearn: 0.1450614\ttotal: 838ms\tremaining: 142ms\n",
      "855:\tlearn: 0.1448949\ttotal: 839ms\tremaining: 141ms\n",
      "856:\tlearn: 0.1447312\ttotal: 840ms\tremaining: 140ms\n",
      "857:\tlearn: 0.1446002\ttotal: 841ms\tremaining: 139ms\n",
      "858:\tlearn: 0.1445277\ttotal: 842ms\tremaining: 138ms\n",
      "859:\tlearn: 0.1444491\ttotal: 843ms\tremaining: 137ms\n",
      "860:\tlearn: 0.1443531\ttotal: 844ms\tremaining: 136ms\n",
      "861:\tlearn: 0.1441452\ttotal: 845ms\tremaining: 135ms\n",
      "862:\tlearn: 0.1440840\ttotal: 846ms\tremaining: 134ms\n",
      "863:\tlearn: 0.1439564\ttotal: 847ms\tremaining: 133ms\n",
      "864:\tlearn: 0.1438053\ttotal: 848ms\tremaining: 132ms\n",
      "865:\tlearn: 0.1436884\ttotal: 849ms\tremaining: 131ms\n",
      "866:\tlearn: 0.1435742\ttotal: 850ms\tremaining: 130ms\n",
      "867:\tlearn: 0.1433833\ttotal: 851ms\tremaining: 129ms\n",
      "868:\tlearn: 0.1433225\ttotal: 852ms\tremaining: 128ms\n",
      "869:\tlearn: 0.1431530\ttotal: 852ms\tremaining: 127ms\n",
      "870:\tlearn: 0.1431060\ttotal: 853ms\tremaining: 126ms\n",
      "871:\tlearn: 0.1429503\ttotal: 854ms\tremaining: 125ms\n",
      "872:\tlearn: 0.1428455\ttotal: 855ms\tremaining: 124ms\n",
      "873:\tlearn: 0.1427219\ttotal: 856ms\tremaining: 123ms\n",
      "874:\tlearn: 0.1425908\ttotal: 857ms\tremaining: 122ms\n",
      "875:\tlearn: 0.1425215\ttotal: 858ms\tremaining: 121ms\n",
      "876:\tlearn: 0.1424262\ttotal: 858ms\tremaining: 120ms\n",
      "877:\tlearn: 0.1422970\ttotal: 859ms\tremaining: 119ms\n",
      "878:\tlearn: 0.1422734\ttotal: 860ms\tremaining: 118ms\n",
      "879:\tlearn: 0.1422030\ttotal: 861ms\tremaining: 117ms\n",
      "880:\tlearn: 0.1421074\ttotal: 862ms\tremaining: 116ms\n",
      "881:\tlearn: 0.1420084\ttotal: 863ms\tremaining: 115ms\n",
      "882:\tlearn: 0.1419353\ttotal: 864ms\tremaining: 114ms\n",
      "883:\tlearn: 0.1418724\ttotal: 865ms\tremaining: 113ms\n",
      "884:\tlearn: 0.1417187\ttotal: 865ms\tremaining: 112ms\n",
      "885:\tlearn: 0.1414760\ttotal: 866ms\tremaining: 111ms\n",
      "886:\tlearn: 0.1412446\ttotal: 867ms\tremaining: 110ms\n",
      "887:\tlearn: 0.1411119\ttotal: 868ms\tremaining: 109ms\n",
      "888:\tlearn: 0.1409831\ttotal: 868ms\tremaining: 108ms\n",
      "889:\tlearn: 0.1408287\ttotal: 869ms\tremaining: 107ms\n",
      "890:\tlearn: 0.1407234\ttotal: 870ms\tremaining: 106ms\n",
      "891:\tlearn: 0.1405024\ttotal: 871ms\tremaining: 105ms\n",
      "892:\tlearn: 0.1403025\ttotal: 871ms\tremaining: 104ms\n",
      "893:\tlearn: 0.1401212\ttotal: 873ms\tremaining: 103ms\n",
      "894:\tlearn: 0.1399964\ttotal: 874ms\tremaining: 102ms\n",
      "895:\tlearn: 0.1398735\ttotal: 875ms\tremaining: 102ms\n",
      "896:\tlearn: 0.1397579\ttotal: 876ms\tremaining: 101ms\n",
      "897:\tlearn: 0.1396041\ttotal: 877ms\tremaining: 99.6ms\n",
      "898:\tlearn: 0.1395251\ttotal: 877ms\tremaining: 98.6ms\n",
      "899:\tlearn: 0.1393685\ttotal: 878ms\tremaining: 97.6ms\n",
      "900:\tlearn: 0.1392459\ttotal: 879ms\tremaining: 96.6ms\n",
      "901:\tlearn: 0.1391802\ttotal: 880ms\tremaining: 95.6ms\n",
      "902:\tlearn: 0.1390067\ttotal: 880ms\tremaining: 94.6ms\n",
      "903:\tlearn: 0.1388896\ttotal: 881ms\tremaining: 93.6ms\n",
      "904:\tlearn: 0.1387893\ttotal: 882ms\tremaining: 92.6ms\n",
      "905:\tlearn: 0.1387326\ttotal: 883ms\tremaining: 91.6ms\n",
      "906:\tlearn: 0.1386846\ttotal: 884ms\tremaining: 90.6ms\n",
      "907:\tlearn: 0.1385756\ttotal: 885ms\tremaining: 89.6ms\n",
      "908:\tlearn: 0.1385653\ttotal: 885ms\tremaining: 88.6ms\n",
      "909:\tlearn: 0.1383784\ttotal: 886ms\tremaining: 87.6ms\n",
      "910:\tlearn: 0.1383091\ttotal: 886ms\tremaining: 86.6ms\n",
      "911:\tlearn: 0.1382425\ttotal: 887ms\tremaining: 85.6ms\n",
      "912:\tlearn: 0.1381091\ttotal: 888ms\tremaining: 84.6ms\n",
      "913:\tlearn: 0.1379916\ttotal: 889ms\tremaining: 83.6ms\n",
      "914:\tlearn: 0.1379123\ttotal: 890ms\tremaining: 82.6ms\n",
      "915:\tlearn: 0.1378276\ttotal: 890ms\tremaining: 81.6ms\n",
      "916:\tlearn: 0.1377084\ttotal: 891ms\tremaining: 80.7ms\n",
      "917:\tlearn: 0.1375487\ttotal: 892ms\tremaining: 79.7ms\n",
      "918:\tlearn: 0.1374625\ttotal: 893ms\tremaining: 78.7ms\n",
      "919:\tlearn: 0.1373948\ttotal: 893ms\tremaining: 77.7ms\n",
      "920:\tlearn: 0.1372623\ttotal: 894ms\tremaining: 76.7ms\n",
      "921:\tlearn: 0.1371195\ttotal: 895ms\tremaining: 75.7ms\n",
      "922:\tlearn: 0.1369580\ttotal: 895ms\tremaining: 74.7ms\n",
      "923:\tlearn: 0.1368628\ttotal: 896ms\tremaining: 73.7ms\n",
      "924:\tlearn: 0.1368284\ttotal: 897ms\tremaining: 72.7ms\n",
      "925:\tlearn: 0.1366698\ttotal: 898ms\tremaining: 71.7ms\n",
      "926:\tlearn: 0.1364987\ttotal: 898ms\tremaining: 70.7ms\n",
      "927:\tlearn: 0.1363441\ttotal: 899ms\tremaining: 69.8ms\n",
      "928:\tlearn: 0.1362314\ttotal: 900ms\tremaining: 68.8ms\n",
      "929:\tlearn: 0.1360781\ttotal: 901ms\tremaining: 67.8ms\n",
      "930:\tlearn: 0.1360367\ttotal: 901ms\tremaining: 66.8ms\n",
      "931:\tlearn: 0.1360243\ttotal: 902ms\tremaining: 65.8ms\n",
      "932:\tlearn: 0.1357909\ttotal: 903ms\tremaining: 64.8ms\n",
      "933:\tlearn: 0.1356198\ttotal: 903ms\tremaining: 63.8ms\n",
      "934:\tlearn: 0.1355715\ttotal: 904ms\tremaining: 62.9ms\n",
      "935:\tlearn: 0.1354611\ttotal: 905ms\tremaining: 61.9ms\n",
      "936:\tlearn: 0.1353239\ttotal: 906ms\tremaining: 60.9ms\n",
      "937:\tlearn: 0.1350885\ttotal: 907ms\tremaining: 59.9ms\n",
      "938:\tlearn: 0.1349378\ttotal: 907ms\tremaining: 58.9ms\n",
      "939:\tlearn: 0.1347902\ttotal: 908ms\tremaining: 58ms\n",
      "940:\tlearn: 0.1346014\ttotal: 909ms\tremaining: 57ms\n",
      "941:\tlearn: 0.1344942\ttotal: 910ms\tremaining: 56ms\n",
      "942:\tlearn: 0.1344089\ttotal: 911ms\tremaining: 55.1ms\n",
      "943:\tlearn: 0.1342631\ttotal: 912ms\tremaining: 54.1ms\n",
      "944:\tlearn: 0.1341294\ttotal: 912ms\tremaining: 53.1ms\n",
      "945:\tlearn: 0.1339560\ttotal: 920ms\tremaining: 52.5ms\n",
      "946:\tlearn: 0.1338052\ttotal: 921ms\tremaining: 51.6ms\n",
      "947:\tlearn: 0.1337730\ttotal: 922ms\tremaining: 50.6ms\n",
      "948:\tlearn: 0.1335742\ttotal: 923ms\tremaining: 49.6ms\n",
      "949:\tlearn: 0.1335296\ttotal: 924ms\tremaining: 48.6ms\n",
      "950:\tlearn: 0.1333371\ttotal: 925ms\tremaining: 47.6ms\n",
      "951:\tlearn: 0.1332780\ttotal: 925ms\tremaining: 46.7ms\n",
      "952:\tlearn: 0.1331646\ttotal: 926ms\tremaining: 45.7ms\n",
      "953:\tlearn: 0.1329757\ttotal: 927ms\tremaining: 44.7ms\n",
      "954:\tlearn: 0.1328899\ttotal: 927ms\tremaining: 43.7ms\n",
      "955:\tlearn: 0.1327487\ttotal: 928ms\tremaining: 42.7ms\n",
      "956:\tlearn: 0.1326483\ttotal: 929ms\tremaining: 41.7ms\n",
      "957:\tlearn: 0.1325421\ttotal: 930ms\tremaining: 40.8ms\n",
      "958:\tlearn: 0.1324394\ttotal: 931ms\tremaining: 39.8ms\n",
      "959:\tlearn: 0.1324082\ttotal: 931ms\tremaining: 38.8ms\n",
      "960:\tlearn: 0.1323283\ttotal: 932ms\tremaining: 37.8ms\n",
      "961:\tlearn: 0.1322750\ttotal: 933ms\tremaining: 36.9ms\n",
      "962:\tlearn: 0.1321160\ttotal: 934ms\tremaining: 35.9ms\n",
      "963:\tlearn: 0.1320055\ttotal: 934ms\tremaining: 34.9ms\n",
      "964:\tlearn: 0.1318075\ttotal: 935ms\tremaining: 33.9ms\n",
      "965:\tlearn: 0.1317231\ttotal: 936ms\tremaining: 32.9ms\n",
      "966:\tlearn: 0.1315927\ttotal: 937ms\tremaining: 32ms\n",
      "967:\tlearn: 0.1314773\ttotal: 938ms\tremaining: 31ms\n",
      "968:\tlearn: 0.1314615\ttotal: 938ms\tremaining: 30ms\n",
      "969:\tlearn: 0.1313230\ttotal: 939ms\tremaining: 29ms\n",
      "970:\tlearn: 0.1311955\ttotal: 940ms\tremaining: 28.1ms\n",
      "971:\tlearn: 0.1310160\ttotal: 940ms\tremaining: 27.1ms\n",
      "972:\tlearn: 0.1308137\ttotal: 941ms\tremaining: 26.1ms\n",
      "973:\tlearn: 0.1306421\ttotal: 942ms\tremaining: 25.1ms\n",
      "974:\tlearn: 0.1306111\ttotal: 943ms\tremaining: 24.2ms\n",
      "975:\tlearn: 0.1304995\ttotal: 943ms\tremaining: 23.2ms\n",
      "976:\tlearn: 0.1303860\ttotal: 944ms\tremaining: 22.2ms\n",
      "977:\tlearn: 0.1303471\ttotal: 945ms\tremaining: 21.3ms\n",
      "978:\tlearn: 0.1302730\ttotal: 946ms\tremaining: 20.3ms\n",
      "979:\tlearn: 0.1302108\ttotal: 947ms\tremaining: 19.3ms\n",
      "980:\tlearn: 0.1301276\ttotal: 947ms\tremaining: 18.3ms\n",
      "981:\tlearn: 0.1300191\ttotal: 948ms\tremaining: 17.4ms\n",
      "982:\tlearn: 0.1297890\ttotal: 949ms\tremaining: 16.4ms\n",
      "983:\tlearn: 0.1296956\ttotal: 949ms\tremaining: 15.4ms\n",
      "984:\tlearn: 0.1295471\ttotal: 950ms\tremaining: 14.5ms\n",
      "985:\tlearn: 0.1294373\ttotal: 951ms\tremaining: 13.5ms\n",
      "986:\tlearn: 0.1293116\ttotal: 952ms\tremaining: 12.5ms\n",
      "987:\tlearn: 0.1291443\ttotal: 953ms\tremaining: 11.6ms\n",
      "988:\tlearn: 0.1290561\ttotal: 953ms\tremaining: 10.6ms\n",
      "989:\tlearn: 0.1290014\ttotal: 954ms\tremaining: 9.64ms\n",
      "990:\tlearn: 0.1289036\ttotal: 955ms\tremaining: 8.67ms\n",
      "991:\tlearn: 0.1287987\ttotal: 956ms\tremaining: 7.71ms\n",
      "992:\tlearn: 0.1287066\ttotal: 957ms\tremaining: 6.74ms\n",
      "993:\tlearn: 0.1285005\ttotal: 957ms\tremaining: 5.78ms\n",
      "994:\tlearn: 0.1284370\ttotal: 958ms\tremaining: 4.81ms\n",
      "995:\tlearn: 0.1283355\ttotal: 959ms\tremaining: 3.85ms\n",
      "996:\tlearn: 0.1282857\ttotal: 959ms\tremaining: 2.89ms\n",
      "997:\tlearn: 0.1282048\ttotal: 960ms\tremaining: 1.92ms\n",
      "998:\tlearn: 0.1281260\ttotal: 961ms\tremaining: 961us\n",
      "999:\tlearn: 0.1280169\ttotal: 962ms\tremaining: 0us\n"
     ]
    },
    {
     "data": {
      "text/plain": [
       "<catboost.core.CatBoostClassifier at 0x7fb78c03ad10>"
      ]
     },
     "execution_count": 70,
     "metadata": {},
     "output_type": "execute_result"
    }
   ],
   "source": [
    "from catboost import CatBoostClassifier\n",
    "classifier = CatBoostClassifier()\n",
    "classifier.fit(x_train, y_train)"
   ]
  },
  {
   "cell_type": "code",
   "execution_count": 71,
   "metadata": {
    "execution": {
     "iopub.execute_input": "2021-01-30T12:07:29.708166Z",
     "iopub.status.busy": "2021-01-30T12:07:29.707156Z",
     "iopub.status.idle": "2021-01-30T12:07:29.715352Z",
     "shell.execute_reply": "2021-01-30T12:07:29.714772Z"
    },
    "papermill": {
     "duration": 0.200122,
     "end_time": "2021-01-30T12:07:29.715465",
     "exception": false,
     "start_time": "2021-01-30T12:07:29.515343",
     "status": "completed"
    },
    "tags": []
   },
   "outputs": [
    {
     "name": "stdout",
     "output_type": "stream",
     "text": [
      "[0 1 1 0 0 0 0 0 0 0 1 0 1 1 0 0 0 1 0 0 1 0 0 0 1 0 1 0 0 0 1 0 0 0 0 1 0\n",
      " 0 1 1 0 1 0 0 0 1 0 1 0 0 1 0 0 1 1 0 1 0 0 1 0 0 0 1 0 1 1 0 1 0 1 0 0 1\n",
      " 0 1 0 1 1 0 1 0 0 1 0 0 1 0 1 1]\n"
     ]
    }
   ],
   "source": [
    "y_pred = classifier.predict(x_test)\n",
    "print(y_pred)"
   ]
  },
  {
   "cell_type": "code",
   "execution_count": 72,
   "metadata": {
    "execution": {
     "iopub.execute_input": "2021-01-30T12:07:30.094887Z",
     "iopub.status.busy": "2021-01-30T12:07:30.094099Z",
     "iopub.status.idle": "2021-01-30T12:07:30.099801Z",
     "shell.execute_reply": "2021-01-30T12:07:30.100257Z"
    },
    "papermill": {
     "duration": 0.200033,
     "end_time": "2021-01-30T12:07:30.100425",
     "exception": false,
     "start_time": "2021-01-30T12:07:29.900392",
     "status": "completed"
    },
    "tags": []
   },
   "outputs": [
    {
     "name": "stdout",
     "output_type": "stream",
     "text": [
      "[[50  8]\n",
      " [ 5 27]]\n",
      "0.8555555555555555\n"
     ]
    }
   ],
   "source": [
    "# Making the confusion matrix and calculating the accuracy score\n",
    "\n",
    "from sklearn.metrics import confusion_matrix, accuracy_score\n",
    "cm = confusion_matrix(y_test, y_pred)\n",
    "ac_catboost = accuracy_score(y_test, y_pred)\n",
    "mylist.append(ac_catboost)\n",
    "print(cm)\n",
    "print(ac_catboost)"
   ]
  },
  {
   "cell_type": "code",
   "execution_count": 73,
   "metadata": {
    "execution": {
     "iopub.execute_input": "2021-01-30T12:07:30.484766Z",
     "iopub.status.busy": "2021-01-30T12:07:30.483805Z",
     "iopub.status.idle": "2021-01-30T12:07:30.488987Z",
     "shell.execute_reply": "2021-01-30T12:07:30.488336Z"
    },
    "papermill": {
     "duration": 0.204646,
     "end_time": "2021-01-30T12:07:30.489108",
     "exception": false,
     "start_time": "2021-01-30T12:07:30.284462",
     "status": "completed"
    },
    "tags": []
   },
   "outputs": [
    {
     "data": {
      "text/html": [
       "<div>\n",
       "<style scoped>\n",
       "    .dataframe tbody tr th:only-of-type {\n",
       "        vertical-align: middle;\n",
       "    }\n",
       "\n",
       "    .dataframe tbody tr th {\n",
       "        vertical-align: top;\n",
       "    }\n",
       "\n",
       "    .dataframe thead th {\n",
       "        text-align: right;\n",
       "    }\n",
       "</style>\n",
       "<table border=\"1\" class=\"dataframe\">\n",
       "  <thead>\n",
       "    <tr style=\"text-align: right;\">\n",
       "      <th></th>\n",
       "      <th>Model</th>\n",
       "      <th>Score</th>\n",
       "    </tr>\n",
       "  </thead>\n",
       "  <tbody>\n",
       "    <tr>\n",
       "      <th>7</th>\n",
       "      <td>catboost</td>\n",
       "      <td>0.855556</td>\n",
       "    </tr>\n",
       "    <tr>\n",
       "      <th>3</th>\n",
       "      <td>Random Forest</td>\n",
       "      <td>0.844444</td>\n",
       "    </tr>\n",
       "    <tr>\n",
       "      <th>0</th>\n",
       "      <td>Support Vector Machines</td>\n",
       "      <td>0.800000</td>\n",
       "    </tr>\n",
       "    <tr>\n",
       "      <th>6</th>\n",
       "      <td>xgboost</td>\n",
       "      <td>0.800000</td>\n",
       "    </tr>\n",
       "    <tr>\n",
       "      <th>5</th>\n",
       "      <td>Decision Tree</td>\n",
       "      <td>0.788889</td>\n",
       "    </tr>\n",
       "    <tr>\n",
       "      <th>1</th>\n",
       "      <td>KNN</td>\n",
       "      <td>0.777778</td>\n",
       "    </tr>\n",
       "    <tr>\n",
       "      <th>2</th>\n",
       "      <td>Logistic Regression</td>\n",
       "      <td>0.777778</td>\n",
       "    </tr>\n",
       "    <tr>\n",
       "      <th>4</th>\n",
       "      <td>ANN</td>\n",
       "      <td>0.777778</td>\n",
       "    </tr>\n",
       "  </tbody>\n",
       "</table>\n",
       "</div>"
      ],
      "text/plain": [
       "                     Model     Score\n",
       "7                 catboost  0.855556\n",
       "3            Random Forest  0.844444\n",
       "0  Support Vector Machines  0.800000\n",
       "6                  xgboost  0.800000\n",
       "5            Decision Tree  0.788889\n",
       "1                      KNN  0.777778\n",
       "2      Logistic Regression  0.777778\n",
       "4                      ANN  0.777778"
      ]
     },
     "execution_count": 73,
     "metadata": {},
     "output_type": "execute_result"
    }
   ],
   "source": [
    "models = pd.DataFrame({\n",
    "    'Model': ['Support Vector Machines', 'KNN', 'Logistic Regression', \n",
    "              'Random Forest', 'ANN',   \n",
    "              'Decision Tree','xgboost','catboost'],\n",
    "    'Score': [acc_svc, acc_knn, acc_logreg, \n",
    "              acc_randomforest, ac_ann, acc_decisiontree,ac_xgboost,ac_catboost\n",
    "              ]})\n",
    "models.sort_values(by='Score', ascending=False)"
   ]
  },
  {
   "cell_type": "code",
   "execution_count": 74,
   "metadata": {
    "execution": {
     "iopub.execute_input": "2021-01-30T12:07:30.871523Z",
     "iopub.status.busy": "2021-01-30T12:07:30.870816Z",
     "iopub.status.idle": "2021-01-30T12:07:31.159370Z",
     "shell.execute_reply": "2021-01-30T12:07:31.158800Z"
    },
    "papermill": {
     "duration": 0.483902,
     "end_time": "2021-01-30T12:07:31.159487",
     "exception": false,
     "start_time": "2021-01-30T12:07:30.675585",
     "status": "completed"
    },
    "tags": []
   },
   "outputs": [
    {
     "data": {
      "image/png": "[encoded data removed]",
      "text/plain": [
       "<Figure size 1080x432 with 1 Axes>"
      ]
     },
     "metadata": {},
     "output_type": "display_data"
    }
   ],
   "source": [
    "plt.rcParams['figure.figsize']=15,6 \n",
    "sns.set_style(\"darkgrid\")\n",
    "ax = sns.barplot(x=models.Model, y=models.Score, palette = \"rocket\", saturation =1.5)\n",
    "plt.xlabel(\"Classifier Models\", fontsize = 20 )\n",
    "plt.ylabel(\"% of Accuracy\", fontsize = 20)\n",
    "plt.title(\"Accuracy of different Classifier Models\", fontsize = 20)\n",
    "plt.xticks(fontsize = 12, horizontalalignment = 'center', rotation = 8)\n",
    "plt.yticks(fontsize = 13)\n",
    "for p in ax.patches:\n",
    "    width, height = p.get_width(), p.get_height()\n",
    "    x, y = p.get_xy() \n",
    "    ax.annotate(f'{height:.2%}', (x + width/2, y + height*1.02), ha='center', fontsize = 'x-large')\n",
    "plt.show()"
   ]
  },
  {
   "cell_type": "code",
   "execution_count": null,
   "metadata": {
    "papermill": {
     "duration": 0.187215,
     "end_time": "2021-01-30T12:07:31.537652",
     "exception": false,
     "start_time": "2021-01-30T12:07:31.350437",
     "status": "completed"
    },
    "tags": []
   },
   "outputs": [],
   "source": []
  }
 ],
 "metadata": {
  "kernelspec": {
   "display_name": "Python 3",
   "language": "python",
   "name": "python3"
  },
  "language_info": {
   "codemirror_mode": {
    "name": "ipython",
    "version": 3
   },
   "file_extension": ".py",
   "mimetype": "text/x-python",
   "name": "python",
   "nbconvert_exporter": "python",
   "pygments_lexer": "ipython3",
   "version": "3.7.6"
  },
  "papermill": {
   "duration": 51.400719,
   "end_time": "2021-01-30T12:07:31.838403",
   "environment_variables": {},
   "exception": null,
   "input_path": "__notebook__.ipynb",
   "output_path": "__notebook__.ipynb",
   "parameters": {},
   "start_time": "2021-01-30T12:06:40.437684",
   "version": "2.1.0"
  }
 },
 "nbformat": 4,
 "nbformat_minor": 4
}
